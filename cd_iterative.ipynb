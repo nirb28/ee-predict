{
 "cells": [
  {
   "cell_type": "code",
   "execution_count": 2,
   "outputs": [],
   "source": [
    "import pandas as pd\n",
    "from sklearn.neighbors import NearestNeighbors\n",
    "import pandas as pd\n",
    "import numpy as np\n",
    "from sklearn.model_selection import train_test_split\n",
    "from sklearn.linear_model import LinearRegression\n",
    "from sklearn.metrics import mean_squared_error, mean_absolute_error"
   ],
   "metadata": {
    "collapsed": false,
    "ExecuteTime": {
     "end_time": "2023-10-11T23:39:29.075246Z",
     "start_time": "2023-10-11T23:39:16.276322Z"
    }
   },
   "id": "99544fe10ed83e1b"
  },
  {
   "cell_type": "code",
   "execution_count": 3,
   "outputs": [],
   "source": [
    "# read dataset and set variables\n",
    "df = pd.read_csv('reduced_dim_space_ddG.csv')\n",
    "# We have lot of rows that have Enantiomeric Excess == 0. These ones we will exclude from the dataset.\n",
    "df_cleaned = df[df['ddG (% ee)'] != 0]\n",
    "X = df_cleaned[['x', 'y', 'z']]\n",
    "y = df_cleaned['ddG (% ee)']"
   ],
   "metadata": {
    "collapsed": false,
    "ExecuteTime": {
     "end_time": "2023-10-11T23:39:29.135821300Z",
     "start_time": "2023-10-11T23:39:29.082250700Z"
    }
   },
   "id": "83bb9d932f2c05ec"
  },
  {
   "cell_type": "code",
   "execution_count": 4,
   "outputs": [
    {
     "data": {
      "text/plain": "NearestNeighbors(n_neighbors=1)",
      "text/html": "<style>#sk-container-id-1 {color: black;}#sk-container-id-1 pre{padding: 0;}#sk-container-id-1 div.sk-toggleable {background-color: white;}#sk-container-id-1 label.sk-toggleable__label {cursor: pointer;display: block;width: 100%;margin-bottom: 0;padding: 0.3em;box-sizing: border-box;text-align: center;}#sk-container-id-1 label.sk-toggleable__label-arrow:before {content: \"▸\";float: left;margin-right: 0.25em;color: #696969;}#sk-container-id-1 label.sk-toggleable__label-arrow:hover:before {color: black;}#sk-container-id-1 div.sk-estimator:hover label.sk-toggleable__label-arrow:before {color: black;}#sk-container-id-1 div.sk-toggleable__content {max-height: 0;max-width: 0;overflow: hidden;text-align: left;background-color: #f0f8ff;}#sk-container-id-1 div.sk-toggleable__content pre {margin: 0.2em;color: black;border-radius: 0.25em;background-color: #f0f8ff;}#sk-container-id-1 input.sk-toggleable__control:checked~div.sk-toggleable__content {max-height: 200px;max-width: 100%;overflow: auto;}#sk-container-id-1 input.sk-toggleable__control:checked~label.sk-toggleable__label-arrow:before {content: \"▾\";}#sk-container-id-1 div.sk-estimator input.sk-toggleable__control:checked~label.sk-toggleable__label {background-color: #d4ebff;}#sk-container-id-1 div.sk-label input.sk-toggleable__control:checked~label.sk-toggleable__label {background-color: #d4ebff;}#sk-container-id-1 input.sk-hidden--visually {border: 0;clip: rect(1px 1px 1px 1px);clip: rect(1px, 1px, 1px, 1px);height: 1px;margin: -1px;overflow: hidden;padding: 0;position: absolute;width: 1px;}#sk-container-id-1 div.sk-estimator {font-family: monospace;background-color: #f0f8ff;border: 1px dotted black;border-radius: 0.25em;box-sizing: border-box;margin-bottom: 0.5em;}#sk-container-id-1 div.sk-estimator:hover {background-color: #d4ebff;}#sk-container-id-1 div.sk-parallel-item::after {content: \"\";width: 100%;border-bottom: 1px solid gray;flex-grow: 1;}#sk-container-id-1 div.sk-label:hover label.sk-toggleable__label {background-color: #d4ebff;}#sk-container-id-1 div.sk-serial::before {content: \"\";position: absolute;border-left: 1px solid gray;box-sizing: border-box;top: 0;bottom: 0;left: 50%;z-index: 0;}#sk-container-id-1 div.sk-serial {display: flex;flex-direction: column;align-items: center;background-color: white;padding-right: 0.2em;padding-left: 0.2em;position: relative;}#sk-container-id-1 div.sk-item {position: relative;z-index: 1;}#sk-container-id-1 div.sk-parallel {display: flex;align-items: stretch;justify-content: center;background-color: white;position: relative;}#sk-container-id-1 div.sk-item::before, #sk-container-id-1 div.sk-parallel-item::before {content: \"\";position: absolute;border-left: 1px solid gray;box-sizing: border-box;top: 0;bottom: 0;left: 50%;z-index: -1;}#sk-container-id-1 div.sk-parallel-item {display: flex;flex-direction: column;z-index: 1;position: relative;background-color: white;}#sk-container-id-1 div.sk-parallel-item:first-child::after {align-self: flex-end;width: 50%;}#sk-container-id-1 div.sk-parallel-item:last-child::after {align-self: flex-start;width: 50%;}#sk-container-id-1 div.sk-parallel-item:only-child::after {width: 0;}#sk-container-id-1 div.sk-dashed-wrapped {border: 1px dashed gray;margin: 0 0.4em 0.5em 0.4em;box-sizing: border-box;padding-bottom: 0.4em;background-color: white;}#sk-container-id-1 div.sk-label label {font-family: monospace;font-weight: bold;display: inline-block;line-height: 1.2em;}#sk-container-id-1 div.sk-label-container {text-align: center;}#sk-container-id-1 div.sk-container {/* jupyter's `normalize.less` sets `[hidden] { display: none; }` but bootstrap.min.css set `[hidden] { display: none !important; }` so we also need the `!important` here to be able to override the default hidden behavior on the sphinx rendered scikit-learn.org. See: https://github.com/scikit-learn/scikit-learn/issues/21755 */display: inline-block !important;position: relative;}#sk-container-id-1 div.sk-text-repr-fallback {display: none;}</style><div id=\"sk-container-id-1\" class=\"sk-top-container\"><div class=\"sk-text-repr-fallback\"><pre>NearestNeighbors(n_neighbors=1)</pre><b>In a Jupyter environment, please rerun this cell to show the HTML representation or trust the notebook. <br />On GitHub, the HTML representation is unable to render, please try loading this page with nbviewer.org.</b></div><div class=\"sk-container\" hidden><div class=\"sk-item\"><div class=\"sk-estimator sk-toggleable\"><input class=\"sk-toggleable__control sk-hidden--visually\" id=\"sk-estimator-id-1\" type=\"checkbox\" checked><label for=\"sk-estimator-id-1\" class=\"sk-toggleable__label sk-toggleable__label-arrow\">NearestNeighbors</label><div class=\"sk-toggleable__content\"><pre>NearestNeighbors(n_neighbors=1)</pre></div></div></div></div></div>"
     },
     "execution_count": 4,
     "metadata": {},
     "output_type": "execute_result"
    }
   ],
   "source": [
    "# Set KNN with the entire dataset\n",
    "knn_train_dataset = X\n",
    "# Perform k-nearest neighbors analysis\n",
    "num_neighbors = 1  # Number of neighbors to consider\n",
    "knn = NearestNeighbors(n_neighbors=num_neighbors)\n",
    "knn.fit(knn_train_dataset)  # Using the remaining 150 catalysts for validation\n"
   ],
   "metadata": {
    "collapsed": false,
    "ExecuteTime": {
     "end_time": "2023-10-11T23:39:29.197973800Z",
     "start_time": "2023-10-11T23:39:29.146822300Z"
    }
   },
   "id": "initial_id"
  },
  {
   "cell_type": "code",
   "execution_count": 7,
   "outputs": [],
   "source": [
    "from sklearn.cross_decomposition import PLSRegression\n",
    "model = PLSRegression(n_components=2)\n",
    "X_train = pd.DataFrame()\n",
    "y_train = pd.DataFrame()\n",
    "def add_data_remodel(X, y):\n",
    "    global X_train\n",
    "    X_train = pd.concat([X_train, X])\n",
    "    global y_train\n",
    "    y_train = pd.concat([y_train, y])\n",
    "    # fitting the model (refresh of PLS with new rows included\n",
    "    model.fit(X_train, y_train)\n",
    "    print(\"We refreshed the PLS model with {0} rows\".format(len(X_train)))\n"
   ],
   "metadata": {
    "collapsed": false,
    "ExecuteTime": {
     "end_time": "2023-10-11T23:40:26.147681100Z",
     "start_time": "2023-10-11T23:40:26.116834800Z"
    }
   },
   "id": "c48d2599512d896"
  },
  {
   "cell_type": "code",
   "execution_count": 8,
   "outputs": [
    {
     "name": "stdout",
     "output_type": "stream",
     "text": [
      "We refreshed the PLS model with 3 rows\n",
      "We refreshed the PLS model with 6 rows\n",
      "We refreshed the PLS model with 9 rows\n",
      "We refreshed the PLS model with 12 rows\n",
      "We refreshed the PLS model with 15 rows\n",
      "We refreshed the PLS model with 18 rows\n",
      "We refreshed the PLS model with 21 rows\n",
      "We refreshed the PLS model with 24 rows\n",
      "We refreshed the PLS model with 27 rows\n",
      "We refreshed the PLS model with 30 rows\n",
      "We refreshed the PLS model with 33 rows\n",
      "We refreshed the PLS model with 36 rows\n",
      "We refreshed the PLS model with 39 rows\n",
      "We refreshed the PLS model with 42 rows\n",
      "We refreshed the PLS model with 45 rows\n",
      "We refreshed the PLS model with 48 rows\n",
      "We refreshed the PLS model with 51 rows\n",
      "We refreshed the PLS model with 54 rows\n",
      "We refreshed the PLS model with 57 rows\n",
      "We refreshed the PLS model with 60 rows\n",
      "We refreshed the PLS model with 63 rows\n",
      "We refreshed the PLS model with 66 rows\n",
      "We refreshed the PLS model with 69 rows\n",
      "We refreshed the PLS model with 72 rows\n",
      "We refreshed the PLS model with 75 rows\n",
      "We refreshed the PLS model with 78 rows\n",
      "We refreshed the PLS model with 81 rows\n",
      "We refreshed the PLS model with 84 rows\n",
      "We refreshed the PLS model with 87 rows\n",
      "We refreshed the PLS model with 90 rows\n",
      "We refreshed the PLS model with 93 rows\n",
      "We refreshed the PLS model with 96 rows\n",
      "We refreshed the PLS model with 99 rows\n",
      "We refreshed the PLS model with 102 rows\n",
      "We refreshed the PLS model with 105 rows\n",
      "We refreshed the PLS model with 108 rows\n",
      "We refreshed the PLS model with 111 rows\n",
      "We refreshed the PLS model with 114 rows\n",
      "We refreshed the PLS model with 117 rows\n",
      "We refreshed the PLS model with 120 rows\n",
      "We refreshed the PLS model with 123 rows\n",
      "We refreshed the PLS model with 126 rows\n",
      "We refreshed the PLS model with 129 rows\n",
      "We refreshed the PLS model with 132 rows\n",
      "We refreshed the PLS model with 135 rows\n",
      "We refreshed the PLS model with 138 rows\n",
      "We refreshed the PLS model with 141 rows\n",
      "We refreshed the PLS model with 144 rows\n",
      "We refreshed the PLS model with 147 rows\n",
      "We refreshed the PLS model with 150 rows\n",
      "We refreshed the PLS model with 153 rows\n",
      "We refreshed the PLS model with 156 rows\n",
      "We refreshed the PLS model with 159 rows\n",
      "We refreshed the PLS model with 162 rows\n",
      "We refreshed the PLS model with 165 rows\n",
      "We refreshed the PLS model with 168 rows\n",
      "We refreshed the PLS model with 171 rows\n",
      "We refreshed the PLS model with 174 rows\n",
      "We refreshed the PLS model with 177 rows\n",
      "We refreshed the PLS model with 180 rows\n",
      "We refreshed the PLS model with 183 rows\n",
      "We refreshed the PLS model with 186 rows\n",
      "We refreshed the PLS model with 189 rows\n",
      "We refreshed the PLS model with 192 rows\n",
      "We refreshed the PLS model with 195 rows\n",
      "We refreshed the PLS model with 198 rows\n",
      "We refreshed the PLS model with 201 rows\n",
      "We refreshed the PLS model with 204 rows\n",
      "We refreshed the PLS model with 207 rows\n",
      "We refreshed the PLS model with 210 rows\n",
      "We refreshed the PLS model with 213 rows\n",
      "We refreshed the PLS model with 216 rows\n",
      "We refreshed the PLS model with 219 rows\n",
      "We refreshed the PLS model with 222 rows\n",
      "We refreshed the PLS model with 225 rows\n",
      "We refreshed the PLS model with 228 rows\n",
      "We refreshed the PLS model with 231 rows\n",
      "We refreshed the PLS model with 234 rows\n",
      "We refreshed the PLS model with 237 rows\n",
      "We refreshed the PLS model with 240 rows\n",
      "We refreshed the PLS model with 243 rows\n",
      "We refreshed the PLS model with 246 rows\n",
      "We refreshed the PLS model with 249 rows\n",
      "We refreshed the PLS model with 252 rows\n",
      "We refreshed the PLS model with 255 rows\n",
      "We refreshed the PLS model with 258 rows\n",
      "We refreshed the PLS model with 261 rows\n",
      "We refreshed the PLS model with 264 rows\n",
      "We refreshed the PLS model with 267 rows\n",
      "We refreshed the PLS model with 270 rows\n",
      "We refreshed the PLS model with 273 rows\n",
      "We refreshed the PLS model with 276 rows\n",
      "We refreshed the PLS model with 279 rows\n",
      "We refreshed the PLS model with 282 rows\n",
      "We refreshed the PLS model with 285 rows\n",
      "We refreshed the PLS model with 288 rows\n",
      "We refreshed the PLS model with 291 rows\n",
      "We refreshed the PLS model with 294 rows\n",
      "We refreshed the PLS model with 297 rows\n",
      "We refreshed the PLS model with 300 rows\n",
      "We refreshed the PLS model with 303 rows\n",
      "We refreshed the PLS model with 306 rows\n",
      "We refreshed the PLS model with 309 rows\n",
      "We refreshed the PLS model with 312 rows\n",
      "We refreshed the PLS model with 315 rows\n",
      "We refreshed the PLS model with 318 rows\n"
     ]
    }
   ],
   "source": [
    "# start with N rows\n",
    "chunk_size = 3\n",
    "\n",
    "# Iterate over the DataFrame in chunks of size 'chunk_size'\n",
    "for i in range(0, len(X), chunk_size):\n",
    "    X_chunk = X.iloc[i:i + chunk_size]\n",
    "    y_chunk = y.iloc[i:i + chunk_size]\n",
    "    \n",
    "    add_data_remodel(X_chunk, y_chunk)    "
   ],
   "metadata": {
    "collapsed": false,
    "ExecuteTime": {
     "end_time": "2023-10-11T23:40:28.864745600Z",
     "start_time": "2023-10-11T23:40:28.375343900Z"
    }
   },
   "id": "c6b650263f9fcff"
  },
  {
   "cell_type": "code",
   "execution_count": null,
   "outputs": [],
   "source": [],
   "metadata": {
    "collapsed": false
   },
   "id": "ce363d4381fca64"
  }
 ],
 "metadata": {
  "kernelspec": {
   "display_name": "Python 3",
   "language": "python",
   "name": "python3"
  },
  "language_info": {
   "codemirror_mode": {
    "name": "ipython",
    "version": 2
   },
   "file_extension": ".py",
   "mimetype": "text/x-python",
   "name": "python",
   "nbconvert_exporter": "python",
   "pygments_lexer": "ipython2",
   "version": "2.7.6"
  }
 },
 "nbformat": 4,
 "nbformat_minor": 5
}
