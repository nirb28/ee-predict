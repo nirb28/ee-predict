{
 "cells": [
  {
   "cell_type": "code",
   "execution_count": 1,
   "id": "initial_id",
   "metadata": {
    "collapsed": true,
    "ExecuteTime": {
     "end_time": "2024-05-24T16:04:24.656261300Z",
     "start_time": "2024-05-24T16:04:18.706222Z"
    }
   },
   "outputs": [],
   "source": [
    "from sklearn.neighbors import NearestNeighbors\n",
    "import pandas as pd\n",
    "import numpy as np\n",
    "import warnings\n",
    "warnings.filterwarnings('ignore')"
   ]
  },
  {
   "cell_type": "code",
   "execution_count": 2,
   "outputs": [],
   "source": [
    "df = pd.read_csv('data/reduced_dim_space_ddG.csv')\n",
    "df = df[df['ddG (% ee)'] != 0]\n",
    "df.set_index('Catalyst', inplace=True)\n",
    "# start with a few randomly selected catalyst\n",
    "START_SAMPLE_SIZE = 3\n",
    "random_catalyst_df = df.sample(START_SAMPLE_SIZE)"
   ],
   "metadata": {
    "collapsed": false,
    "ExecuteTime": {
     "end_time": "2024-05-24T16:04:24.678847500Z",
     "start_time": "2024-05-24T16:04:24.657261500Z"
    }
   },
   "id": "840f26aaf0a91b45"
  },
  {
   "cell_type": "code",
   "execution_count": 3,
   "outputs": [
    {
     "data": {
      "text/plain": "                  x          y          z  ddG (% ee)\nCatalyst                                             \n10_1_2    41.007284  -0.974831 -87.973747    0.638112\n12_7_1   -43.760461 -27.829366  23.015997    0.446440\n28_3_2     2.142702  22.092128 -44.495000    0.003554",
      "text/html": "<div>\n<style scoped>\n    .dataframe tbody tr th:only-of-type {\n        vertical-align: middle;\n    }\n\n    .dataframe tbody tr th {\n        vertical-align: top;\n    }\n\n    .dataframe thead th {\n        text-align: right;\n    }\n</style>\n<table border=\"1\" class=\"dataframe\">\n  <thead>\n    <tr style=\"text-align: right;\">\n      <th></th>\n      <th>x</th>\n      <th>y</th>\n      <th>z</th>\n      <th>ddG (% ee)</th>\n    </tr>\n    <tr>\n      <th>Catalyst</th>\n      <th></th>\n      <th></th>\n      <th></th>\n      <th></th>\n    </tr>\n  </thead>\n  <tbody>\n    <tr>\n      <th>10_1_2</th>\n      <td>41.007284</td>\n      <td>-0.974831</td>\n      <td>-87.973747</td>\n      <td>0.638112</td>\n    </tr>\n    <tr>\n      <th>12_7_1</th>\n      <td>-43.760461</td>\n      <td>-27.829366</td>\n      <td>23.015997</td>\n      <td>0.446440</td>\n    </tr>\n    <tr>\n      <th>28_3_2</th>\n      <td>2.142702</td>\n      <td>22.092128</td>\n      <td>-44.495000</td>\n      <td>0.003554</td>\n    </tr>\n  </tbody>\n</table>\n</div>"
     },
     "execution_count": 3,
     "metadata": {},
     "output_type": "execute_result"
    }
   ],
   "source": [
    "random_catalyst_df"
   ],
   "metadata": {
    "collapsed": false,
    "ExecuteTime": {
     "end_time": "2024-05-24T16:04:24.731579900Z",
     "start_time": "2024-05-24T16:04:24.680847200Z"
    }
   },
   "id": "b8cd7e1ea1cfc7ce"
  },
  {
   "cell_type": "code",
   "execution_count": 4,
   "outputs": [
    {
     "data": {
      "text/plain": "                  x          y          z  ddG (% ee)\nCatalyst                                             \n1_1_1      5.100125 -27.742489 -17.922393    1.226289\n1_1_2      5.153813 -27.571266 -17.950507    0.719002\n1_11_1    24.913739  -0.494436  -8.842801    0.631877\n1_2_1     12.039033 -10.467777  -6.094131    0.216792\n1_2_2     11.859191 -10.604692  -6.049362    0.111677\n...             ...        ...        ...         ...\n9_3_4     36.077375  -7.875347 -14.939623    0.128432\n9_4_1     25.574518 -17.376362   4.663637    0.912247\n9_7_1     22.777582 -19.792283   2.750864    0.056902\n9_7_4     22.721846 -19.736566   2.713267    0.408758\n9_9_1     25.400782 -23.623595   6.083554    0.476662\n\n[318 rows x 4 columns]",
      "text/html": "<div>\n<style scoped>\n    .dataframe tbody tr th:only-of-type {\n        vertical-align: middle;\n    }\n\n    .dataframe tbody tr th {\n        vertical-align: top;\n    }\n\n    .dataframe thead th {\n        text-align: right;\n    }\n</style>\n<table border=\"1\" class=\"dataframe\">\n  <thead>\n    <tr style=\"text-align: right;\">\n      <th></th>\n      <th>x</th>\n      <th>y</th>\n      <th>z</th>\n      <th>ddG (% ee)</th>\n    </tr>\n    <tr>\n      <th>Catalyst</th>\n      <th></th>\n      <th></th>\n      <th></th>\n      <th></th>\n    </tr>\n  </thead>\n  <tbody>\n    <tr>\n      <th>1_1_1</th>\n      <td>5.100125</td>\n      <td>-27.742489</td>\n      <td>-17.922393</td>\n      <td>1.226289</td>\n    </tr>\n    <tr>\n      <th>1_1_2</th>\n      <td>5.153813</td>\n      <td>-27.571266</td>\n      <td>-17.950507</td>\n      <td>0.719002</td>\n    </tr>\n    <tr>\n      <th>1_11_1</th>\n      <td>24.913739</td>\n      <td>-0.494436</td>\n      <td>-8.842801</td>\n      <td>0.631877</td>\n    </tr>\n    <tr>\n      <th>1_2_1</th>\n      <td>12.039033</td>\n      <td>-10.467777</td>\n      <td>-6.094131</td>\n      <td>0.216792</td>\n    </tr>\n    <tr>\n      <th>1_2_2</th>\n      <td>11.859191</td>\n      <td>-10.604692</td>\n      <td>-6.049362</td>\n      <td>0.111677</td>\n    </tr>\n    <tr>\n      <th>...</th>\n      <td>...</td>\n      <td>...</td>\n      <td>...</td>\n      <td>...</td>\n    </tr>\n    <tr>\n      <th>9_3_4</th>\n      <td>36.077375</td>\n      <td>-7.875347</td>\n      <td>-14.939623</td>\n      <td>0.128432</td>\n    </tr>\n    <tr>\n      <th>9_4_1</th>\n      <td>25.574518</td>\n      <td>-17.376362</td>\n      <td>4.663637</td>\n      <td>0.912247</td>\n    </tr>\n    <tr>\n      <th>9_7_1</th>\n      <td>22.777582</td>\n      <td>-19.792283</td>\n      <td>2.750864</td>\n      <td>0.056902</td>\n    </tr>\n    <tr>\n      <th>9_7_4</th>\n      <td>22.721846</td>\n      <td>-19.736566</td>\n      <td>2.713267</td>\n      <td>0.408758</td>\n    </tr>\n    <tr>\n      <th>9_9_1</th>\n      <td>25.400782</td>\n      <td>-23.623595</td>\n      <td>6.083554</td>\n      <td>0.476662</td>\n    </tr>\n  </tbody>\n</table>\n<p>318 rows × 4 columns</p>\n</div>"
     },
     "execution_count": 4,
     "metadata": {},
     "output_type": "execute_result"
    }
   ],
   "source": [
    "df"
   ],
   "metadata": {
    "collapsed": false,
    "ExecuteTime": {
     "end_time": "2024-05-24T16:04:24.734580100Z",
     "start_time": "2024-05-24T16:04:24.709821100Z"
    }
   },
   "id": "f4e75ab71e9987a"
  },
  {
   "cell_type": "code",
   "execution_count": 5,
   "outputs": [],
   "source": [
    "# method to make a regression model from the provided catalysts\n",
    "from sklearn.cross_decomposition import PLSRegression\n",
    "def make_pls_model(df_catalysts):   \n",
    "    X = df_catalysts[['x','y','z']]\n",
    "    y = df_catalysts['ddG (% ee)']\n",
    "    model = PLSRegression(n_components=2)\n",
    "    # fitting the model\n",
    "    model.fit(X, y)\n",
    "    return model"
   ],
   "metadata": {
    "collapsed": false,
    "ExecuteTime": {
     "end_time": "2024-05-24T16:04:24.734580100Z",
     "start_time": "2024-05-24T16:04:24.721108700Z"
    }
   },
   "id": "164770e72ca8a958"
  },
  {
   "cell_type": "code",
   "execution_count": 22,
   "outputs": [
    {
     "name": "stdout",
     "output_type": "stream",
     "text": [
      "Creating a new model. # data items: 6\n"
     ]
    }
   ],
   "source": [
    "def pls_predict_ee(pls_model, properties):\n",
    "    return pls_model.predict(properties.reshape(1,-1))\n",
    "\n",
    "# Function to optimize catalyst properties using coordinate descent\n",
    "def optimize_catalysts(catalysts, pls_model=None, iterations=100, cd_iterations=10, step_size=0.01):\n",
    "    if pls_model == None:\n",
    "        print(\"Creating a new model. # data items: \" + str(len(catalysts)))\n",
    "        pls_model = make_pls_model(random_catalyst_df)\n",
    "    optimized_catalysts = np.copy(catalysts)\n",
    "    for _ in range(iterations):\n",
    "        for i in range(len(optimized_catalysts)):\n",
    "            original_ee = df.iloc[df.index.get_loc(catalysts[i:i+1].index[0])]['ddG (% ee)']\n",
    "            for x in range(len(optimized_catalysts[i])):\n",
    "                for cd in range(cd_iterations):\n",
    "                    old_value = optimized_catalysts[i, x]\n",
    "                    optimized_catalysts[i, x] = old_value + step_size\n",
    "                    new_ee = pls_predict_ee(pls_model, optimized_catalysts[i])\n",
    "                    if new_ee < original_ee:\n",
    "                        optimized_catalysts[i, x] = old_value - step_size\n",
    "                        new_ee = pls_predict_ee(pls_model, optimized_catalysts[i])\n",
    "                    if new_ee < original_ee:\n",
    "                        optimized_catalysts[i, x] = old_value\n",
    "                        break\n",
    "    return optimized_catalysts\n",
    "\n",
    "new_optimized_catalysts = optimize_catalysts(random_catalyst_df[['x', 'y', 'z']])"
   ],
   "metadata": {
    "collapsed": false,
    "ExecuteTime": {
     "end_time": "2024-05-24T16:11:49.755341800Z",
     "start_time": "2024-05-24T16:11:47.967903600Z"
    }
   },
   "id": "3ccce164af24176d"
  },
  {
   "cell_type": "code",
   "execution_count": 7,
   "outputs": [
    {
     "data": {
      "text/plain": "                  x          y          z  ddG (% ee)\nCatalyst                                             \n10_1_2    41.007284  -0.974831 -87.973747    0.638112\n12_7_1   -43.760461 -27.829366  23.015997    0.446440\n28_3_2     2.142702  22.092128 -44.495000    0.003554",
      "text/html": "<div>\n<style scoped>\n    .dataframe tbody tr th:only-of-type {\n        vertical-align: middle;\n    }\n\n    .dataframe tbody tr th {\n        vertical-align: top;\n    }\n\n    .dataframe thead th {\n        text-align: right;\n    }\n</style>\n<table border=\"1\" class=\"dataframe\">\n  <thead>\n    <tr style=\"text-align: right;\">\n      <th></th>\n      <th>x</th>\n      <th>y</th>\n      <th>z</th>\n      <th>ddG (% ee)</th>\n    </tr>\n    <tr>\n      <th>Catalyst</th>\n      <th></th>\n      <th></th>\n      <th></th>\n      <th></th>\n    </tr>\n  </thead>\n  <tbody>\n    <tr>\n      <th>10_1_2</th>\n      <td>41.007284</td>\n      <td>-0.974831</td>\n      <td>-87.973747</td>\n      <td>0.638112</td>\n    </tr>\n    <tr>\n      <th>12_7_1</th>\n      <td>-43.760461</td>\n      <td>-27.829366</td>\n      <td>23.015997</td>\n      <td>0.446440</td>\n    </tr>\n    <tr>\n      <th>28_3_2</th>\n      <td>2.142702</td>\n      <td>22.092128</td>\n      <td>-44.495000</td>\n      <td>0.003554</td>\n    </tr>\n  </tbody>\n</table>\n</div>"
     },
     "execution_count": 7,
     "metadata": {},
     "output_type": "execute_result"
    }
   ],
   "source": [
    "random_catalyst_df"
   ],
   "metadata": {
    "collapsed": false,
    "ExecuteTime": {
     "end_time": "2024-05-24T16:04:26.461170600Z",
     "start_time": "2024-05-24T16:04:26.423424200Z"
    }
   },
   "id": "8a62056b5336b480"
  },
  {
   "cell_type": "code",
   "execution_count": 8,
   "outputs": [
    {
     "data": {
      "text/plain": "array([[ 51.0072841 ,   1.02516941, -83.59374707],\n       [-33.76046092, -25.82936563,  27.39599713],\n       [ 12.14270188,  24.09212846, -40.11499953]])"
     },
     "execution_count": 8,
     "metadata": {},
     "output_type": "execute_result"
    }
   ],
   "source": [
    "new_optimized_catalysts"
   ],
   "metadata": {
    "collapsed": false,
    "ExecuteTime": {
     "end_time": "2024-05-24T16:04:26.501039300Z",
     "start_time": "2024-05-24T16:04:26.435137300Z"
    }
   },
   "id": "108551632d59a046"
  },
  {
   "cell_type": "code",
   "execution_count": 9,
   "outputs": [
    {
     "data": {
      "text/plain": "NearestNeighbors(n_neighbors=1)",
      "text/html": "<style>#sk-container-id-1 {\n  /* Definition of color scheme common for light and dark mode */\n  --sklearn-color-text: black;\n  --sklearn-color-line: gray;\n  /* Definition of color scheme for unfitted estimators */\n  --sklearn-color-unfitted-level-0: #fff5e6;\n  --sklearn-color-unfitted-level-1: #f6e4d2;\n  --sklearn-color-unfitted-level-2: #ffe0b3;\n  --sklearn-color-unfitted-level-3: chocolate;\n  /* Definition of color scheme for fitted estimators */\n  --sklearn-color-fitted-level-0: #f0f8ff;\n  --sklearn-color-fitted-level-1: #d4ebff;\n  --sklearn-color-fitted-level-2: #b3dbfd;\n  --sklearn-color-fitted-level-3: cornflowerblue;\n\n  /* Specific color for light theme */\n  --sklearn-color-text-on-default-background: var(--sg-text-color, var(--theme-code-foreground, var(--jp-content-font-color1, black)));\n  --sklearn-color-background: var(--sg-background-color, var(--theme-background, var(--jp-layout-color0, white)));\n  --sklearn-color-border-box: var(--sg-text-color, var(--theme-code-foreground, var(--jp-content-font-color1, black)));\n  --sklearn-color-icon: #696969;\n\n  @media (prefers-color-scheme: dark) {\n    /* Redefinition of color scheme for dark theme */\n    --sklearn-color-text-on-default-background: var(--sg-text-color, var(--theme-code-foreground, var(--jp-content-font-color1, white)));\n    --sklearn-color-background: var(--sg-background-color, var(--theme-background, var(--jp-layout-color0, #111)));\n    --sklearn-color-border-box: var(--sg-text-color, var(--theme-code-foreground, var(--jp-content-font-color1, white)));\n    --sklearn-color-icon: #878787;\n  }\n}\n\n#sk-container-id-1 {\n  color: var(--sklearn-color-text);\n}\n\n#sk-container-id-1 pre {\n  padding: 0;\n}\n\n#sk-container-id-1 input.sk-hidden--visually {\n  border: 0;\n  clip: rect(1px 1px 1px 1px);\n  clip: rect(1px, 1px, 1px, 1px);\n  height: 1px;\n  margin: -1px;\n  overflow: hidden;\n  padding: 0;\n  position: absolute;\n  width: 1px;\n}\n\n#sk-container-id-1 div.sk-dashed-wrapped {\n  border: 1px dashed var(--sklearn-color-line);\n  margin: 0 0.4em 0.5em 0.4em;\n  box-sizing: border-box;\n  padding-bottom: 0.4em;\n  background-color: var(--sklearn-color-background);\n}\n\n#sk-container-id-1 div.sk-container {\n  /* jupyter's `normalize.less` sets `[hidden] { display: none; }`\n     but bootstrap.min.css set `[hidden] { display: none !important; }`\n     so we also need the `!important` here to be able to override the\n     default hidden behavior on the sphinx rendered scikit-learn.org.\n     See: https://github.com/scikit-learn/scikit-learn/issues/21755 */\n  display: inline-block !important;\n  position: relative;\n}\n\n#sk-container-id-1 div.sk-text-repr-fallback {\n  display: none;\n}\n\ndiv.sk-parallel-item,\ndiv.sk-serial,\ndiv.sk-item {\n  /* draw centered vertical line to link estimators */\n  background-image: linear-gradient(var(--sklearn-color-text-on-default-background), var(--sklearn-color-text-on-default-background));\n  background-size: 2px 100%;\n  background-repeat: no-repeat;\n  background-position: center center;\n}\n\n/* Parallel-specific style estimator block */\n\n#sk-container-id-1 div.sk-parallel-item::after {\n  content: \"\";\n  width: 100%;\n  border-bottom: 2px solid var(--sklearn-color-text-on-default-background);\n  flex-grow: 1;\n}\n\n#sk-container-id-1 div.sk-parallel {\n  display: flex;\n  align-items: stretch;\n  justify-content: center;\n  background-color: var(--sklearn-color-background);\n  position: relative;\n}\n\n#sk-container-id-1 div.sk-parallel-item {\n  display: flex;\n  flex-direction: column;\n}\n\n#sk-container-id-1 div.sk-parallel-item:first-child::after {\n  align-self: flex-end;\n  width: 50%;\n}\n\n#sk-container-id-1 div.sk-parallel-item:last-child::after {\n  align-self: flex-start;\n  width: 50%;\n}\n\n#sk-container-id-1 div.sk-parallel-item:only-child::after {\n  width: 0;\n}\n\n/* Serial-specific style estimator block */\n\n#sk-container-id-1 div.sk-serial {\n  display: flex;\n  flex-direction: column;\n  align-items: center;\n  background-color: var(--sklearn-color-background);\n  padding-right: 1em;\n  padding-left: 1em;\n}\n\n\n/* Toggleable style: style used for estimator/Pipeline/ColumnTransformer box that is\nclickable and can be expanded/collapsed.\n- Pipeline and ColumnTransformer use this feature and define the default style\n- Estimators will overwrite some part of the style using the `sk-estimator` class\n*/\n\n/* Pipeline and ColumnTransformer style (default) */\n\n#sk-container-id-1 div.sk-toggleable {\n  /* Default theme specific background. It is overwritten whether we have a\n  specific estimator or a Pipeline/ColumnTransformer */\n  background-color: var(--sklearn-color-background);\n}\n\n/* Toggleable label */\n#sk-container-id-1 label.sk-toggleable__label {\n  cursor: pointer;\n  display: block;\n  width: 100%;\n  margin-bottom: 0;\n  padding: 0.5em;\n  box-sizing: border-box;\n  text-align: center;\n}\n\n#sk-container-id-1 label.sk-toggleable__label-arrow:before {\n  /* Arrow on the left of the label */\n  content: \"▸\";\n  float: left;\n  margin-right: 0.25em;\n  color: var(--sklearn-color-icon);\n}\n\n#sk-container-id-1 label.sk-toggleable__label-arrow:hover:before {\n  color: var(--sklearn-color-text);\n}\n\n/* Toggleable content - dropdown */\n\n#sk-container-id-1 div.sk-toggleable__content {\n  max-height: 0;\n  max-width: 0;\n  overflow: hidden;\n  text-align: left;\n  /* unfitted */\n  background-color: var(--sklearn-color-unfitted-level-0);\n}\n\n#sk-container-id-1 div.sk-toggleable__content.fitted {\n  /* fitted */\n  background-color: var(--sklearn-color-fitted-level-0);\n}\n\n#sk-container-id-1 div.sk-toggleable__content pre {\n  margin: 0.2em;\n  border-radius: 0.25em;\n  color: var(--sklearn-color-text);\n  /* unfitted */\n  background-color: var(--sklearn-color-unfitted-level-0);\n}\n\n#sk-container-id-1 div.sk-toggleable__content.fitted pre {\n  /* unfitted */\n  background-color: var(--sklearn-color-fitted-level-0);\n}\n\n#sk-container-id-1 input.sk-toggleable__control:checked~div.sk-toggleable__content {\n  /* Expand drop-down */\n  max-height: 200px;\n  max-width: 100%;\n  overflow: auto;\n}\n\n#sk-container-id-1 input.sk-toggleable__control:checked~label.sk-toggleable__label-arrow:before {\n  content: \"▾\";\n}\n\n/* Pipeline/ColumnTransformer-specific style */\n\n#sk-container-id-1 div.sk-label input.sk-toggleable__control:checked~label.sk-toggleable__label {\n  color: var(--sklearn-color-text);\n  background-color: var(--sklearn-color-unfitted-level-2);\n}\n\n#sk-container-id-1 div.sk-label.fitted input.sk-toggleable__control:checked~label.sk-toggleable__label {\n  background-color: var(--sklearn-color-fitted-level-2);\n}\n\n/* Estimator-specific style */\n\n/* Colorize estimator box */\n#sk-container-id-1 div.sk-estimator input.sk-toggleable__control:checked~label.sk-toggleable__label {\n  /* unfitted */\n  background-color: var(--sklearn-color-unfitted-level-2);\n}\n\n#sk-container-id-1 div.sk-estimator.fitted input.sk-toggleable__control:checked~label.sk-toggleable__label {\n  /* fitted */\n  background-color: var(--sklearn-color-fitted-level-2);\n}\n\n#sk-container-id-1 div.sk-label label.sk-toggleable__label,\n#sk-container-id-1 div.sk-label label {\n  /* The background is the default theme color */\n  color: var(--sklearn-color-text-on-default-background);\n}\n\n/* On hover, darken the color of the background */\n#sk-container-id-1 div.sk-label:hover label.sk-toggleable__label {\n  color: var(--sklearn-color-text);\n  background-color: var(--sklearn-color-unfitted-level-2);\n}\n\n/* Label box, darken color on hover, fitted */\n#sk-container-id-1 div.sk-label.fitted:hover label.sk-toggleable__label.fitted {\n  color: var(--sklearn-color-text);\n  background-color: var(--sklearn-color-fitted-level-2);\n}\n\n/* Estimator label */\n\n#sk-container-id-1 div.sk-label label {\n  font-family: monospace;\n  font-weight: bold;\n  display: inline-block;\n  line-height: 1.2em;\n}\n\n#sk-container-id-1 div.sk-label-container {\n  text-align: center;\n}\n\n/* Estimator-specific */\n#sk-container-id-1 div.sk-estimator {\n  font-family: monospace;\n  border: 1px dotted var(--sklearn-color-border-box);\n  border-radius: 0.25em;\n  box-sizing: border-box;\n  margin-bottom: 0.5em;\n  /* unfitted */\n  background-color: var(--sklearn-color-unfitted-level-0);\n}\n\n#sk-container-id-1 div.sk-estimator.fitted {\n  /* fitted */\n  background-color: var(--sklearn-color-fitted-level-0);\n}\n\n/* on hover */\n#sk-container-id-1 div.sk-estimator:hover {\n  /* unfitted */\n  background-color: var(--sklearn-color-unfitted-level-2);\n}\n\n#sk-container-id-1 div.sk-estimator.fitted:hover {\n  /* fitted */\n  background-color: var(--sklearn-color-fitted-level-2);\n}\n\n/* Specification for estimator info (e.g. \"i\" and \"?\") */\n\n/* Common style for \"i\" and \"?\" */\n\n.sk-estimator-doc-link,\na:link.sk-estimator-doc-link,\na:visited.sk-estimator-doc-link {\n  float: right;\n  font-size: smaller;\n  line-height: 1em;\n  font-family: monospace;\n  background-color: var(--sklearn-color-background);\n  border-radius: 1em;\n  height: 1em;\n  width: 1em;\n  text-decoration: none !important;\n  margin-left: 1ex;\n  /* unfitted */\n  border: var(--sklearn-color-unfitted-level-1) 1pt solid;\n  color: var(--sklearn-color-unfitted-level-1);\n}\n\n.sk-estimator-doc-link.fitted,\na:link.sk-estimator-doc-link.fitted,\na:visited.sk-estimator-doc-link.fitted {\n  /* fitted */\n  border: var(--sklearn-color-fitted-level-1) 1pt solid;\n  color: var(--sklearn-color-fitted-level-1);\n}\n\n/* On hover */\ndiv.sk-estimator:hover .sk-estimator-doc-link:hover,\n.sk-estimator-doc-link:hover,\ndiv.sk-label-container:hover .sk-estimator-doc-link:hover,\n.sk-estimator-doc-link:hover {\n  /* unfitted */\n  background-color: var(--sklearn-color-unfitted-level-3);\n  color: var(--sklearn-color-background);\n  text-decoration: none;\n}\n\ndiv.sk-estimator.fitted:hover .sk-estimator-doc-link.fitted:hover,\n.sk-estimator-doc-link.fitted:hover,\ndiv.sk-label-container:hover .sk-estimator-doc-link.fitted:hover,\n.sk-estimator-doc-link.fitted:hover {\n  /* fitted */\n  background-color: var(--sklearn-color-fitted-level-3);\n  color: var(--sklearn-color-background);\n  text-decoration: none;\n}\n\n/* Span, style for the box shown on hovering the info icon */\n.sk-estimator-doc-link span {\n  display: none;\n  z-index: 9999;\n  position: relative;\n  font-weight: normal;\n  right: .2ex;\n  padding: .5ex;\n  margin: .5ex;\n  width: min-content;\n  min-width: 20ex;\n  max-width: 50ex;\n  color: var(--sklearn-color-text);\n  box-shadow: 2pt 2pt 4pt #999;\n  /* unfitted */\n  background: var(--sklearn-color-unfitted-level-0);\n  border: .5pt solid var(--sklearn-color-unfitted-level-3);\n}\n\n.sk-estimator-doc-link.fitted span {\n  /* fitted */\n  background: var(--sklearn-color-fitted-level-0);\n  border: var(--sklearn-color-fitted-level-3);\n}\n\n.sk-estimator-doc-link:hover span {\n  display: block;\n}\n\n/* \"?\"-specific style due to the `<a>` HTML tag */\n\n#sk-container-id-1 a.estimator_doc_link {\n  float: right;\n  font-size: 1rem;\n  line-height: 1em;\n  font-family: monospace;\n  background-color: var(--sklearn-color-background);\n  border-radius: 1rem;\n  height: 1rem;\n  width: 1rem;\n  text-decoration: none;\n  /* unfitted */\n  color: var(--sklearn-color-unfitted-level-1);\n  border: var(--sklearn-color-unfitted-level-1) 1pt solid;\n}\n\n#sk-container-id-1 a.estimator_doc_link.fitted {\n  /* fitted */\n  border: var(--sklearn-color-fitted-level-1) 1pt solid;\n  color: var(--sklearn-color-fitted-level-1);\n}\n\n/* On hover */\n#sk-container-id-1 a.estimator_doc_link:hover {\n  /* unfitted */\n  background-color: var(--sklearn-color-unfitted-level-3);\n  color: var(--sklearn-color-background);\n  text-decoration: none;\n}\n\n#sk-container-id-1 a.estimator_doc_link.fitted:hover {\n  /* fitted */\n  background-color: var(--sklearn-color-fitted-level-3);\n}\n</style><div id=\"sk-container-id-1\" class=\"sk-top-container\"><div class=\"sk-text-repr-fallback\"><pre>NearestNeighbors(n_neighbors=1)</pre><b>In a Jupyter environment, please rerun this cell to show the HTML representation or trust the notebook. <br />On GitHub, the HTML representation is unable to render, please try loading this page with nbviewer.org.</b></div><div class=\"sk-container\" hidden><div class=\"sk-item\"><div class=\"sk-estimator fitted sk-toggleable\"><input class=\"sk-toggleable__control sk-hidden--visually\" id=\"sk-estimator-id-1\" type=\"checkbox\" checked><label for=\"sk-estimator-id-1\" class=\"sk-toggleable__label fitted sk-toggleable__label-arrow fitted\">&nbsp;&nbsp;NearestNeighbors<a class=\"sk-estimator-doc-link fitted\" rel=\"noreferrer\" target=\"_blank\" href=\"https://scikit-learn.org/1.4/modules/generated/sklearn.neighbors.NearestNeighbors.html\">?<span>Documentation for NearestNeighbors</span></a><span class=\"sk-estimator-doc-link fitted\">i<span>Fitted</span></span></label><div class=\"sk-toggleable__content fitted\"><pre>NearestNeighbors(n_neighbors=1)</pre></div> </div></div></div></div>"
     },
     "execution_count": 9,
     "metadata": {},
     "output_type": "execute_result"
    }
   ],
   "source": [
    "# Perform k-nearest neighbors analysis\n",
    "num_neighbors = 1  # Number of neighbors to consider\n",
    "knn = NearestNeighbors(n_neighbors=num_neighbors)\n",
    "knn.fit(df[['x', 'y', 'z']])  # Using all the catalysts "
   ],
   "metadata": {
    "collapsed": false,
    "ExecuteTime": {
     "end_time": "2024-05-24T16:04:26.504036500Z",
     "start_time": "2024-05-24T16:04:26.447427800Z"
    }
   },
   "id": "5148feb1e89070b9"
  },
  {
   "cell_type": "code",
   "execution_count": 10,
   "outputs": [
    {
     "data": {
      "text/plain": "[22, 55, 211]"
     },
     "execution_count": 10,
     "metadata": {},
     "output_type": "execute_result"
    }
   ],
   "source": [
    "original_ee = df['ddG (% ee)']\n",
    "def get_neighbors(knn, for_points):\n",
    "    knn_indices = []\n",
    "    for i in range(len(for_points)):\n",
    "        distances, indices = knn.kneighbors([for_points[i]])\n",
    "        knn_indices.append(indices[0][0])\n",
    "    return knn_indices\n",
    "\n",
    "knn_indices = get_neighbors(knn, new_optimized_catalysts)\n",
    "knn_indices"
   ],
   "metadata": {
    "collapsed": false,
    "ExecuteTime": {
     "end_time": "2024-05-24T16:04:26.532950100Z",
     "start_time": "2024-05-24T16:04:26.464169200Z"
    }
   },
   "id": "10bebdf2fff05fa4"
  },
  {
   "cell_type": "code",
   "execution_count": 11,
   "outputs": [],
   "source": [
    "found_neighbors = df.iloc[knn_indices]"
   ],
   "metadata": {
    "collapsed": false,
    "ExecuteTime": {
     "end_time": "2024-05-24T16:04:26.598244400Z",
     "start_time": "2024-05-24T16:04:26.479080500Z"
    }
   },
   "id": "ea01e42b2cda22dd"
  },
  {
   "cell_type": "code",
   "execution_count": 12,
   "outputs": [],
   "source": [
    "random_catalyst_df = pd.concat([random_catalyst_df, found_neighbors], ignore_index=False, sort=True)"
   ],
   "metadata": {
    "collapsed": false,
    "ExecuteTime": {
     "end_time": "2024-05-24T16:04:26.637561800Z",
     "start_time": "2024-05-24T16:04:26.488842700Z"
    }
   },
   "id": "e5269f69cb783b5c"
  },
  {
   "cell_type": "code",
   "execution_count": 13,
   "outputs": [
    {
     "data": {
      "text/plain": "          ddG (% ee)          x          y          z\nCatalyst                                             \n10_1_2      0.638112  41.007284  -0.974831 -87.973747\n12_7_1      0.446440 -43.760461 -27.829366  23.015997\n28_3_2      0.003554   2.142702  22.092128 -44.495000\n10_3_4      0.061652  60.067650   1.412118 -82.584672\n12_7_2      1.241325 -43.602601 -27.703566  23.293155\n26_3_2      0.001185   9.529914  18.422417 -31.093718",
      "text/html": "<div>\n<style scoped>\n    .dataframe tbody tr th:only-of-type {\n        vertical-align: middle;\n    }\n\n    .dataframe tbody tr th {\n        vertical-align: top;\n    }\n\n    .dataframe thead th {\n        text-align: right;\n    }\n</style>\n<table border=\"1\" class=\"dataframe\">\n  <thead>\n    <tr style=\"text-align: right;\">\n      <th></th>\n      <th>ddG (% ee)</th>\n      <th>x</th>\n      <th>y</th>\n      <th>z</th>\n    </tr>\n    <tr>\n      <th>Catalyst</th>\n      <th></th>\n      <th></th>\n      <th></th>\n      <th></th>\n    </tr>\n  </thead>\n  <tbody>\n    <tr>\n      <th>10_1_2</th>\n      <td>0.638112</td>\n      <td>41.007284</td>\n      <td>-0.974831</td>\n      <td>-87.973747</td>\n    </tr>\n    <tr>\n      <th>12_7_1</th>\n      <td>0.446440</td>\n      <td>-43.760461</td>\n      <td>-27.829366</td>\n      <td>23.015997</td>\n    </tr>\n    <tr>\n      <th>28_3_2</th>\n      <td>0.003554</td>\n      <td>2.142702</td>\n      <td>22.092128</td>\n      <td>-44.495000</td>\n    </tr>\n    <tr>\n      <th>10_3_4</th>\n      <td>0.061652</td>\n      <td>60.067650</td>\n      <td>1.412118</td>\n      <td>-82.584672</td>\n    </tr>\n    <tr>\n      <th>12_7_2</th>\n      <td>1.241325</td>\n      <td>-43.602601</td>\n      <td>-27.703566</td>\n      <td>23.293155</td>\n    </tr>\n    <tr>\n      <th>26_3_2</th>\n      <td>0.001185</td>\n      <td>9.529914</td>\n      <td>18.422417</td>\n      <td>-31.093718</td>\n    </tr>\n  </tbody>\n</table>\n</div>"
     },
     "execution_count": 13,
     "metadata": {},
     "output_type": "execute_result"
    }
   ],
   "source": [
    "random_catalyst_df"
   ],
   "metadata": {
    "collapsed": false,
    "ExecuteTime": {
     "end_time": "2024-05-24T16:04:26.640563600Z",
     "start_time": "2024-05-24T16:04:26.504036500Z"
    }
   },
   "id": "c2588b0e5968438b"
  },
  {
   "cell_type": "code",
   "execution_count": 14,
   "outputs": [],
   "source": [
    "random_catalyst_df = random_catalyst_df[~random_catalyst_df.index.duplicated(keep='first')]"
   ],
   "metadata": {
    "collapsed": false,
    "ExecuteTime": {
     "end_time": "2024-05-24T16:04:26.641570Z",
     "start_time": "2024-05-24T16:04:26.514020900Z"
    }
   },
   "id": "2443520b982251f8"
  },
  {
   "cell_type": "code",
   "execution_count": 15,
   "outputs": [
    {
     "data": {
      "text/plain": "          ddG (% ee)          x          y          z\nCatalyst                                             \n10_1_2      0.638112  41.007284  -0.974831 -87.973747\n12_7_1      0.446440 -43.760461 -27.829366  23.015997\n28_3_2      0.003554   2.142702  22.092128 -44.495000\n10_3_4      0.061652  60.067650   1.412118 -82.584672\n12_7_2      1.241325 -43.602601 -27.703566  23.293155\n26_3_2      0.001185   9.529914  18.422417 -31.093718",
      "text/html": "<div>\n<style scoped>\n    .dataframe tbody tr th:only-of-type {\n        vertical-align: middle;\n    }\n\n    .dataframe tbody tr th {\n        vertical-align: top;\n    }\n\n    .dataframe thead th {\n        text-align: right;\n    }\n</style>\n<table border=\"1\" class=\"dataframe\">\n  <thead>\n    <tr style=\"text-align: right;\">\n      <th></th>\n      <th>ddG (% ee)</th>\n      <th>x</th>\n      <th>y</th>\n      <th>z</th>\n    </tr>\n    <tr>\n      <th>Catalyst</th>\n      <th></th>\n      <th></th>\n      <th></th>\n      <th></th>\n    </tr>\n  </thead>\n  <tbody>\n    <tr>\n      <th>10_1_2</th>\n      <td>0.638112</td>\n      <td>41.007284</td>\n      <td>-0.974831</td>\n      <td>-87.973747</td>\n    </tr>\n    <tr>\n      <th>12_7_1</th>\n      <td>0.446440</td>\n      <td>-43.760461</td>\n      <td>-27.829366</td>\n      <td>23.015997</td>\n    </tr>\n    <tr>\n      <th>28_3_2</th>\n      <td>0.003554</td>\n      <td>2.142702</td>\n      <td>22.092128</td>\n      <td>-44.495000</td>\n    </tr>\n    <tr>\n      <th>10_3_4</th>\n      <td>0.061652</td>\n      <td>60.067650</td>\n      <td>1.412118</td>\n      <td>-82.584672</td>\n    </tr>\n    <tr>\n      <th>12_7_2</th>\n      <td>1.241325</td>\n      <td>-43.602601</td>\n      <td>-27.703566</td>\n      <td>23.293155</td>\n    </tr>\n    <tr>\n      <th>26_3_2</th>\n      <td>0.001185</td>\n      <td>9.529914</td>\n      <td>18.422417</td>\n      <td>-31.093718</td>\n    </tr>\n  </tbody>\n</table>\n</div>"
     },
     "execution_count": 15,
     "metadata": {},
     "output_type": "execute_result"
    }
   ],
   "source": [
    "random_catalyst_df"
   ],
   "metadata": {
    "collapsed": false,
    "ExecuteTime": {
     "end_time": "2024-05-24T16:04:26.665561900Z",
     "start_time": "2024-05-24T16:04:26.529201400Z"
    }
   },
   "id": "7ce2640aad60a2fb"
  },
  {
   "cell_type": "code",
   "execution_count": 16,
   "outputs": [],
   "source": [
    "def optimize_find_catalysts(catalysts_X):\n",
    "    new_optimized_catalysts = optimize_catalysts(catalysts_X)\n",
    "    knn_indices = get_neighbors(knn, new_optimized_catalysts)\n",
    "    found_neighbors = df.iloc[knn_indices]\n",
    "    return new_optimized_catalysts, found_neighbors"
   ],
   "metadata": {
    "collapsed": false,
    "ExecuteTime": {
     "end_time": "2024-05-24T16:04:26.758394100Z",
     "start_time": "2024-05-24T16:04:26.538953Z"
    }
   },
   "id": "c6f734a85f7f7e9f"
  },
  {
   "cell_type": "code",
   "execution_count": 24,
   "outputs": [
    {
     "name": "stdout",
     "output_type": "stream",
     "text": [
      "Creating a new model. # data items: 3\n",
      "6\n",
      "Creating a new model. # data items: 6\n",
      "8\n",
      "Creating a new model. # data items: 8\n",
      "9\n",
      "Creating a new model. # data items: 9\n",
      "The processing has blocked and no new catalysts are being added. Exiting.\n"
     ]
    }
   ],
   "source": [
    "# We will now do all this in a single loop\n",
    "random_catalyst_df = df.sample(START_SAMPLE_SIZE)\n",
    "prev_loop_len = len(random_catalyst_df)\n",
    "while(len(random_catalyst_df) < len(df)):\n",
    "    new_optimized_catalysts, found_neighbors = optimize_find_catalysts(random_catalyst_df[['x', 'y', 'z']])\n",
    "    random_catalyst_df = pd.concat([random_catalyst_df, found_neighbors], ignore_index=False, sort=True)\n",
    "    random_catalyst_df = random_catalyst_df[~random_catalyst_df.index.duplicated(keep='first')]\n",
    "    if(len(random_catalyst_df) == prev_loop_len):\n",
    "        print(\"The processing has blocked and no new catalysts are being added. Exiting.\")\n",
    "        break\n",
    "    prev_loop_len = len(random_catalyst_df)\n",
    "    print(prev_loop_len)"
   ],
   "metadata": {
    "collapsed": false,
    "ExecuteTime": {
     "end_time": "2024-05-24T16:12:28.670817900Z",
     "start_time": "2024-05-24T16:12:22.601945400Z"
    }
   },
   "id": "67bcc19eae370159"
  },
  {
   "cell_type": "code",
   "execution_count": 25,
   "outputs": [
    {
     "data": {
      "text/plain": "          ddG (% ee)          x          y          z\nCatalyst                                             \n3_3_4       0.264932  26.224531   7.308104 -19.972957\n22_3_4      0.054528   2.863381  11.112635 -41.215495\n1_3_4       0.222921  23.530906  -7.777752 -30.037466\n3_3_1       0.221694  26.302667   7.368519 -19.941451\n26_3_2      0.001185   9.529914  18.422417 -31.093718\n6_3_1       0.210674  29.790008  -5.312876 -19.886050\n24_3_4      0.007107   9.935389  29.086411 -27.455809\n2_11_1      0.732504  29.115667   1.301971  -3.767900\n17_3_4      0.003554  12.312513  41.899813 -26.265284",
      "text/html": "<div>\n<style scoped>\n    .dataframe tbody tr th:only-of-type {\n        vertical-align: middle;\n    }\n\n    .dataframe tbody tr th {\n        vertical-align: top;\n    }\n\n    .dataframe thead th {\n        text-align: right;\n    }\n</style>\n<table border=\"1\" class=\"dataframe\">\n  <thead>\n    <tr style=\"text-align: right;\">\n      <th></th>\n      <th>ddG (% ee)</th>\n      <th>x</th>\n      <th>y</th>\n      <th>z</th>\n    </tr>\n    <tr>\n      <th>Catalyst</th>\n      <th></th>\n      <th></th>\n      <th></th>\n      <th></th>\n    </tr>\n  </thead>\n  <tbody>\n    <tr>\n      <th>3_3_4</th>\n      <td>0.264932</td>\n      <td>26.224531</td>\n      <td>7.308104</td>\n      <td>-19.972957</td>\n    </tr>\n    <tr>\n      <th>22_3_4</th>\n      <td>0.054528</td>\n      <td>2.863381</td>\n      <td>11.112635</td>\n      <td>-41.215495</td>\n    </tr>\n    <tr>\n      <th>1_3_4</th>\n      <td>0.222921</td>\n      <td>23.530906</td>\n      <td>-7.777752</td>\n      <td>-30.037466</td>\n    </tr>\n    <tr>\n      <th>3_3_1</th>\n      <td>0.221694</td>\n      <td>26.302667</td>\n      <td>7.368519</td>\n      <td>-19.941451</td>\n    </tr>\n    <tr>\n      <th>26_3_2</th>\n      <td>0.001185</td>\n      <td>9.529914</td>\n      <td>18.422417</td>\n      <td>-31.093718</td>\n    </tr>\n    <tr>\n      <th>6_3_1</th>\n      <td>0.210674</td>\n      <td>29.790008</td>\n      <td>-5.312876</td>\n      <td>-19.886050</td>\n    </tr>\n    <tr>\n      <th>24_3_4</th>\n      <td>0.007107</td>\n      <td>9.935389</td>\n      <td>29.086411</td>\n      <td>-27.455809</td>\n    </tr>\n    <tr>\n      <th>2_11_1</th>\n      <td>0.732504</td>\n      <td>29.115667</td>\n      <td>1.301971</td>\n      <td>-3.767900</td>\n    </tr>\n    <tr>\n      <th>17_3_4</th>\n      <td>0.003554</td>\n      <td>12.312513</td>\n      <td>41.899813</td>\n      <td>-26.265284</td>\n    </tr>\n  </tbody>\n</table>\n</div>"
     },
     "execution_count": 25,
     "metadata": {},
     "output_type": "execute_result"
    }
   ],
   "source": [
    "random_catalyst_df"
   ],
   "metadata": {
    "collapsed": false,
    "ExecuteTime": {
     "end_time": "2024-05-24T16:13:08.933782200Z",
     "start_time": "2024-05-24T16:13:08.917859700Z"
    }
   },
   "id": "8826d4e35f5dad7a"
  },
  {
   "cell_type": "code",
   "execution_count": 18,
   "outputs": [],
   "source": [],
   "metadata": {
    "collapsed": false,
    "ExecuteTime": {
     "end_time": "2024-05-24T16:04:33.730075200Z",
     "start_time": "2024-05-24T16:04:33.698554800Z"
    }
   },
   "id": "466dca7e52bd8593"
  }
 ],
 "metadata": {
  "kernelspec": {
   "display_name": "Python 3",
   "language": "python",
   "name": "python3"
  },
  "language_info": {
   "codemirror_mode": {
    "name": "ipython",
    "version": 2
   },
   "file_extension": ".py",
   "mimetype": "text/x-python",
   "name": "python",
   "nbconvert_exporter": "python",
   "pygments_lexer": "ipython2",
   "version": "2.7.6"
  }
 },
 "nbformat": 4,
 "nbformat_minor": 5
}
