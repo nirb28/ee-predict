{
  "cells": [
    {
      "cell_type": "markdown",
      "metadata": {
        "id": "view-in-github",
        "colab_type": "text"
      },
      "source": [
        "<a href=\"https://colab.research.google.com/github/nirb28/ee-predict/blob/main/cd_v2.ipynb\" target=\"_parent\"><img src=\"https://colab.research.google.com/assets/colab-badge.svg\" alt=\"Open In Colab\"/></a>"
      ]
    },
    {
      "cell_type": "markdown",
      "metadata": {
        "id": "6c17f8c425251738"
      },
      "source": [
        "<a href=\"https://colab.research.google.com/github/nirb28/ee-predict/blob/main/cd_v2.ipynb\" target=\"_parent\"><img src=\"https://colab.research.google.com/assets/colab-badge.svg\" alt=\"Open In Colab\"/></a>"
      ],
      "id": "6c17f8c425251738"
    },
    {
      "cell_type": "code",
      "source": [
        "def resolve_path_gdrive(relativePath):\n",
        "    if os.path.exists('/content/drive'):\n",
        "        return '/content/drive/MyDrive/work/gdrive-workspaces/git/ee-predict/' + relativePath\n",
        "    else:\n",
        "        return relativePath\n",
        "from google.colab import drive\n",
        "drive.mount('/content/drive', force_remount=False)"
      ],
      "metadata": {
        "id": "sqVMg9hstUzl",
        "is_executing": true,
        "outputId": "5aecf66d-7a00-4c2c-85e1-b0571a2e04c6",
        "colab": {
          "base_uri": "https://localhost:8080/"
        }
      },
      "id": "sqVMg9hstUzl",
      "execution_count": 51,
      "outputs": [
        {
          "output_type": "stream",
          "name": "stdout",
          "text": [
            "Drive already mounted at /content/drive; to attempt to forcibly remount, call drive.mount(\"/content/drive\", force_remount=True).\n"
          ]
        }
      ]
    },
    {
      "cell_type": "code",
      "execution_count": 52,
      "id": "initial_id",
      "metadata": {
        "collapsed": true,
        "id": "initial_id",
        "ExecuteTime": {
          "end_time": "2024-05-27T19:35:14.730964600Z",
          "start_time": "2024-05-27T19:35:14.716958100Z"
        }
      },
      "outputs": [],
      "source": [
        "from sklearn.neighbors import NearestNeighbors\n",
        "import pandas as pd\n",
        "import numpy as np, os\n",
        "import warnings\n",
        "warnings.filterwarnings('ignore')"
      ]
    },
    {
      "cell_type": "code",
      "execution_count": 53,
      "outputs": [],
      "source": [
        "#DATAFILE_NAME = \"reduced_dim_space_ddG.csv\"\n",
        "DATASET = \"LARGE\" # \"LARGE\" or \"REDUCED\"\n",
        "if DATASET == \"REDUCED\":\n",
        "  DATAFILE_NAME = \"reduced_dim_space_ddG.csv\"\n",
        "  X_COLS = ['x', 'y', 'z']\n",
        "else:\n",
        "  DATAFILE_NAME = \"large_cat_desc_col_names.csv\"\n",
        "  X_COLS = ['3954', '3955', '3957', '3958', '3959', '3960', '3961', '3962', '3963',\n",
        "       '3964', '3965', '3966', '3967', '3968', '3969', '3970', '3971', '3972',\n",
        "       '3973']\n",
        "\n",
        "df = pd.read_csv(resolve_path_gdrive('data/' + DATAFILE_NAME))"
      ],
      "metadata": {
        "id": "840f26aaf0a91b45",
        "ExecuteTime": {
          "end_time": "2024-05-27T19:35:17.465071600Z",
          "start_time": "2024-05-27T19:35:16.164993900Z"
        }
      },
      "id": "840f26aaf0a91b45"
    },
    {
      "cell_type": "code",
      "source": [
        "df = df[df['ddG'] != 0]\n",
        "df.set_index('Catalyst', inplace=True)\n",
        "# start with a few randomly selected catalyst\n",
        "START_SAMPLE_SIZE = 3\n",
        "random_catalyst_df = df.sample(START_SAMPLE_SIZE)"
      ],
      "metadata": {
        "id": "_hwUnCcWv9dF",
        "ExecuteTime": {
          "end_time": "2024-05-27T19:35:18.227250800Z",
          "start_time": "2024-05-27T19:35:18.197305600Z"
        }
      },
      "id": "_hwUnCcWv9dF",
      "execution_count": 54,
      "outputs": []
    },
    {
      "cell_type": "code",
      "execution_count": 55,
      "outputs": [],
      "source": [
        "original_ee = df['ddG']\n",
        "def pls_predict_ee(pls_model, properties):\n",
        "    return pls_model.predict(properties.reshape(1,-1))\n",
        "\n",
        "# Function to optimize catalyst properties using coordinate descent\n",
        "def optimize_catalysts(catalysts, pls_model=None, iterations=100, cd_iterations=10, step_size=0.001):\n",
        "    if pls_model == None:\n",
        "        print(\"Creating a new model. # data items: \" + str(len(catalysts)))\n",
        "        pls_model = make_pls_model(random_catalyst_df)\n",
        "    optimized_catalysts = np.copy(catalysts)\n",
        "    for _ in range(iterations):\n",
        "        for i in range(len(optimized_catalysts)):\n",
        "            ## we have few options for the original_ee. We can use from the dataset or get the prediction\n",
        "            ## from the model. The prediction makes sense as we want to traverse in the direction where\n",
        "            ## ee improves according to the model\n",
        "\n",
        "            ## when using ddG from dataset\n",
        "            #original_ee = df.iloc[df.index.get_loc(catalysts[i:i+1].index[0])]['ddG']\n",
        "            ## when using the model\n",
        "            original_ee = pls_predict_ee(pls_model, optimized_catalysts[i])\n",
        "            for x in range(len(optimized_catalysts[i])):\n",
        "                for cd in range(cd_iterations):\n",
        "                    old_value = optimized_catalysts[i, x]\n",
        "                    optimized_catalysts[i, x] = old_value + step_size\n",
        "                    new_ee = pls_predict_ee(pls_model, optimized_catalysts[i])\n",
        "                    if new_ee < original_ee:\n",
        "                        optimized_catalysts[i, x] = old_value - step_size\n",
        "                        new_ee = pls_predict_ee(pls_model, optimized_catalysts[i])\n",
        "                    if new_ee < original_ee:\n",
        "                        optimized_catalysts[i, x] = old_value\n",
        "                        break\n",
        "                    #print('Found a direction for higher ddG')\n",
        "    return optimized_catalysts\n",
        "\n",
        "new_optimized_catalysts = optimize_catalysts(random_catalyst_df[X_COLS], pls_large_saved_model)"
      ],
      "metadata": {
        "id": "3ccce164af24176d",
        "ExecuteTime": {
          "end_time": "2024-05-27T19:35:28.984868700Z",
          "start_time": "2024-05-27T19:35:23.244966Z"
        }
      },
      "id": "3ccce164af24176d"
    },
    {
      "cell_type": "code",
      "execution_count": 56,
      "outputs": [
        {
          "output_type": "execute_result",
          "data": {
            "text/plain": [
              "PLSRegression(n_components=3)"
            ],
            "text/html": [
              "<style>#sk-container-id-5 {color: black;background-color: white;}#sk-container-id-5 pre{padding: 0;}#sk-container-id-5 div.sk-toggleable {background-color: white;}#sk-container-id-5 label.sk-toggleable__label {cursor: pointer;display: block;width: 100%;margin-bottom: 0;padding: 0.3em;box-sizing: border-box;text-align: center;}#sk-container-id-5 label.sk-toggleable__label-arrow:before {content: \"▸\";float: left;margin-right: 0.25em;color: #696969;}#sk-container-id-5 label.sk-toggleable__label-arrow:hover:before {color: black;}#sk-container-id-5 div.sk-estimator:hover label.sk-toggleable__label-arrow:before {color: black;}#sk-container-id-5 div.sk-toggleable__content {max-height: 0;max-width: 0;overflow: hidden;text-align: left;background-color: #f0f8ff;}#sk-container-id-5 div.sk-toggleable__content pre {margin: 0.2em;color: black;border-radius: 0.25em;background-color: #f0f8ff;}#sk-container-id-5 input.sk-toggleable__control:checked~div.sk-toggleable__content {max-height: 200px;max-width: 100%;overflow: auto;}#sk-container-id-5 input.sk-toggleable__control:checked~label.sk-toggleable__label-arrow:before {content: \"▾\";}#sk-container-id-5 div.sk-estimator input.sk-toggleable__control:checked~label.sk-toggleable__label {background-color: #d4ebff;}#sk-container-id-5 div.sk-label input.sk-toggleable__control:checked~label.sk-toggleable__label {background-color: #d4ebff;}#sk-container-id-5 input.sk-hidden--visually {border: 0;clip: rect(1px 1px 1px 1px);clip: rect(1px, 1px, 1px, 1px);height: 1px;margin: -1px;overflow: hidden;padding: 0;position: absolute;width: 1px;}#sk-container-id-5 div.sk-estimator {font-family: monospace;background-color: #f0f8ff;border: 1px dotted black;border-radius: 0.25em;box-sizing: border-box;margin-bottom: 0.5em;}#sk-container-id-5 div.sk-estimator:hover {background-color: #d4ebff;}#sk-container-id-5 div.sk-parallel-item::after {content: \"\";width: 100%;border-bottom: 1px solid gray;flex-grow: 1;}#sk-container-id-5 div.sk-label:hover label.sk-toggleable__label {background-color: #d4ebff;}#sk-container-id-5 div.sk-serial::before {content: \"\";position: absolute;border-left: 1px solid gray;box-sizing: border-box;top: 0;bottom: 0;left: 50%;z-index: 0;}#sk-container-id-5 div.sk-serial {display: flex;flex-direction: column;align-items: center;background-color: white;padding-right: 0.2em;padding-left: 0.2em;position: relative;}#sk-container-id-5 div.sk-item {position: relative;z-index: 1;}#sk-container-id-5 div.sk-parallel {display: flex;align-items: stretch;justify-content: center;background-color: white;position: relative;}#sk-container-id-5 div.sk-item::before, #sk-container-id-5 div.sk-parallel-item::before {content: \"\";position: absolute;border-left: 1px solid gray;box-sizing: border-box;top: 0;bottom: 0;left: 50%;z-index: -1;}#sk-container-id-5 div.sk-parallel-item {display: flex;flex-direction: column;z-index: 1;position: relative;background-color: white;}#sk-container-id-5 div.sk-parallel-item:first-child::after {align-self: flex-end;width: 50%;}#sk-container-id-5 div.sk-parallel-item:last-child::after {align-self: flex-start;width: 50%;}#sk-container-id-5 div.sk-parallel-item:only-child::after {width: 0;}#sk-container-id-5 div.sk-dashed-wrapped {border: 1px dashed gray;margin: 0 0.4em 0.5em 0.4em;box-sizing: border-box;padding-bottom: 0.4em;background-color: white;}#sk-container-id-5 div.sk-label label {font-family: monospace;font-weight: bold;display: inline-block;line-height: 1.2em;}#sk-container-id-5 div.sk-label-container {text-align: center;}#sk-container-id-5 div.sk-container {/* jupyter's `normalize.less` sets `[hidden] { display: none; }` but bootstrap.min.css set `[hidden] { display: none !important; }` so we also need the `!important` here to be able to override the default hidden behavior on the sphinx rendered scikit-learn.org. See: https://github.com/scikit-learn/scikit-learn/issues/21755 */display: inline-block !important;position: relative;}#sk-container-id-5 div.sk-text-repr-fallback {display: none;}</style><div id=\"sk-container-id-5\" class=\"sk-top-container\"><div class=\"sk-text-repr-fallback\"><pre>PLSRegression(n_components=3)</pre><b>In a Jupyter environment, please rerun this cell to show the HTML representation or trust the notebook. <br />On GitHub, the HTML representation is unable to render, please try loading this page with nbviewer.org.</b></div><div class=\"sk-container\" hidden><div class=\"sk-item\"><div class=\"sk-estimator sk-toggleable\"><input class=\"sk-toggleable__control sk-hidden--visually\" id=\"sk-estimator-id-5\" type=\"checkbox\" checked><label for=\"sk-estimator-id-5\" class=\"sk-toggleable__label sk-toggleable__label-arrow\">PLSRegression</label><div class=\"sk-toggleable__content\"><pre>PLSRegression(n_components=3)</pre></div></div></div></div></div>"
            ]
          },
          "metadata": {},
          "execution_count": 56
        }
      ],
      "source": [
        "# method to make a regression model from the provided catalysts\n",
        "from sklearn.cross_decomposition import PLSRegression\n",
        "def make_pls_model(df_catalysts):\n",
        "    X = df_catalysts[X_COLS]\n",
        "    y = df_catalysts['ddG']\n",
        "    model = PLSRegression(n_components=2)\n",
        "    # fitting the model\n",
        "    model.fit(X, y)\n",
        "    return model\n",
        "\n",
        "from joblib import dump, load\n",
        "def load_model(path):\n",
        "  return load(path)\n",
        "\n",
        "pls_large_saved_model = load_model(resolve_path_gdrive('models/pls_large.joblib'))\n",
        "pls_large_saved_model"
      ],
      "metadata": {
        "ExecuteTime": {
          "start_time": "2024-05-27T19:35:19.365464500Z"
        },
        "id": "164770e72ca8a958",
        "outputId": "f3c3a16a-0971-4b86-c365-d8e81b323192",
        "colab": {
          "base_uri": "https://localhost:8080/",
          "height": 75
        }
      },
      "id": "164770e72ca8a958"
    },
    {
      "cell_type": "code",
      "execution_count": 57,
      "outputs": [
        {
          "output_type": "execute_result",
          "data": {
            "text/plain": [
              "              3954      3955      3957      3958      3959      3960  \\\n",
              "Catalyst                                                               \n",
              "10_1_1    1.192046  0.575046  1.190427  1.005503 -0.429561 -0.819943   \n",
              "21_9_2   -0.900772 -1.204402 -1.106008 -1.172227 -0.263889  0.546659   \n",
              "8_7_4     0.758129  0.677277  0.686929  0.574038 -0.399013 -0.833174   \n",
              "\n",
              "              3961      3962      3963      3964      3965      3966  \\\n",
              "Catalyst                                                               \n",
              "10_1_1   -1.060149 -0.944026 -0.177977 -0.893660 -0.833714 -0.605952   \n",
              "21_9_2    0.579985  0.564909 -0.159928 -0.875422 -0.880495 -0.602624   \n",
              "8_7_4    -0.693664 -0.764237 -0.187753 -0.896976 -0.938972 -0.643031   \n",
              "\n",
              "              3967      3968      3969      3970      3971      3972      3973  \n",
              "Catalyst                                                                        \n",
              "10_1_1   -0.471700 -0.768480 -0.178536 -0.298590 -0.238640 -0.277510 -0.230633  \n",
              "21_9_2   -0.471616 -0.798242 -0.277709 -0.280445 -0.279338 -0.246094 -1.153164  \n",
              "8_7_4    -0.505083 -0.825677 -0.297732 -0.236059 -0.267225  0.028798 -0.691898  "
            ],
            "text/html": [
              "\n",
              "  <div id=\"df-ea9473cb-adc1-4955-b64e-a53904b54ce8\" class=\"colab-df-container\">\n",
              "    <div>\n",
              "<style scoped>\n",
              "    .dataframe tbody tr th:only-of-type {\n",
              "        vertical-align: middle;\n",
              "    }\n",
              "\n",
              "    .dataframe tbody tr th {\n",
              "        vertical-align: top;\n",
              "    }\n",
              "\n",
              "    .dataframe thead th {\n",
              "        text-align: right;\n",
              "    }\n",
              "</style>\n",
              "<table border=\"1\" class=\"dataframe\">\n",
              "  <thead>\n",
              "    <tr style=\"text-align: right;\">\n",
              "      <th></th>\n",
              "      <th>3954</th>\n",
              "      <th>3955</th>\n",
              "      <th>3957</th>\n",
              "      <th>3958</th>\n",
              "      <th>3959</th>\n",
              "      <th>3960</th>\n",
              "      <th>3961</th>\n",
              "      <th>3962</th>\n",
              "      <th>3963</th>\n",
              "      <th>3964</th>\n",
              "      <th>3965</th>\n",
              "      <th>3966</th>\n",
              "      <th>3967</th>\n",
              "      <th>3968</th>\n",
              "      <th>3969</th>\n",
              "      <th>3970</th>\n",
              "      <th>3971</th>\n",
              "      <th>3972</th>\n",
              "      <th>3973</th>\n",
              "    </tr>\n",
              "    <tr>\n",
              "      <th>Catalyst</th>\n",
              "      <th></th>\n",
              "      <th></th>\n",
              "      <th></th>\n",
              "      <th></th>\n",
              "      <th></th>\n",
              "      <th></th>\n",
              "      <th></th>\n",
              "      <th></th>\n",
              "      <th></th>\n",
              "      <th></th>\n",
              "      <th></th>\n",
              "      <th></th>\n",
              "      <th></th>\n",
              "      <th></th>\n",
              "      <th></th>\n",
              "      <th></th>\n",
              "      <th></th>\n",
              "      <th></th>\n",
              "      <th></th>\n",
              "    </tr>\n",
              "  </thead>\n",
              "  <tbody>\n",
              "    <tr>\n",
              "      <th>10_1_1</th>\n",
              "      <td>1.192046</td>\n",
              "      <td>0.575046</td>\n",
              "      <td>1.190427</td>\n",
              "      <td>1.005503</td>\n",
              "      <td>-0.429561</td>\n",
              "      <td>-0.819943</td>\n",
              "      <td>-1.060149</td>\n",
              "      <td>-0.944026</td>\n",
              "      <td>-0.177977</td>\n",
              "      <td>-0.893660</td>\n",
              "      <td>-0.833714</td>\n",
              "      <td>-0.605952</td>\n",
              "      <td>-0.471700</td>\n",
              "      <td>-0.768480</td>\n",
              "      <td>-0.178536</td>\n",
              "      <td>-0.298590</td>\n",
              "      <td>-0.238640</td>\n",
              "      <td>-0.277510</td>\n",
              "      <td>-0.230633</td>\n",
              "    </tr>\n",
              "    <tr>\n",
              "      <th>21_9_2</th>\n",
              "      <td>-0.900772</td>\n",
              "      <td>-1.204402</td>\n",
              "      <td>-1.106008</td>\n",
              "      <td>-1.172227</td>\n",
              "      <td>-0.263889</td>\n",
              "      <td>0.546659</td>\n",
              "      <td>0.579985</td>\n",
              "      <td>0.564909</td>\n",
              "      <td>-0.159928</td>\n",
              "      <td>-0.875422</td>\n",
              "      <td>-0.880495</td>\n",
              "      <td>-0.602624</td>\n",
              "      <td>-0.471616</td>\n",
              "      <td>-0.798242</td>\n",
              "      <td>-0.277709</td>\n",
              "      <td>-0.280445</td>\n",
              "      <td>-0.279338</td>\n",
              "      <td>-0.246094</td>\n",
              "      <td>-1.153164</td>\n",
              "    </tr>\n",
              "    <tr>\n",
              "      <th>8_7_4</th>\n",
              "      <td>0.758129</td>\n",
              "      <td>0.677277</td>\n",
              "      <td>0.686929</td>\n",
              "      <td>0.574038</td>\n",
              "      <td>-0.399013</td>\n",
              "      <td>-0.833174</td>\n",
              "      <td>-0.693664</td>\n",
              "      <td>-0.764237</td>\n",
              "      <td>-0.187753</td>\n",
              "      <td>-0.896976</td>\n",
              "      <td>-0.938972</td>\n",
              "      <td>-0.643031</td>\n",
              "      <td>-0.505083</td>\n",
              "      <td>-0.825677</td>\n",
              "      <td>-0.297732</td>\n",
              "      <td>-0.236059</td>\n",
              "      <td>-0.267225</td>\n",
              "      <td>0.028798</td>\n",
              "      <td>-0.691898</td>\n",
              "    </tr>\n",
              "  </tbody>\n",
              "</table>\n",
              "</div>\n",
              "    <div class=\"colab-df-buttons\">\n",
              "\n",
              "  <div class=\"colab-df-container\">\n",
              "    <button class=\"colab-df-convert\" onclick=\"convertToInteractive('df-ea9473cb-adc1-4955-b64e-a53904b54ce8')\"\n",
              "            title=\"Convert this dataframe to an interactive table.\"\n",
              "            style=\"display:none;\">\n",
              "\n",
              "  <svg xmlns=\"http://www.w3.org/2000/svg\" height=\"24px\" viewBox=\"0 -960 960 960\">\n",
              "    <path d=\"M120-120v-720h720v720H120Zm60-500h600v-160H180v160Zm220 220h160v-160H400v160Zm0 220h160v-160H400v160ZM180-400h160v-160H180v160Zm440 0h160v-160H620v160ZM180-180h160v-160H180v160Zm440 0h160v-160H620v160Z\"/>\n",
              "  </svg>\n",
              "    </button>\n",
              "\n",
              "  <style>\n",
              "    .colab-df-container {\n",
              "      display:flex;\n",
              "      gap: 12px;\n",
              "    }\n",
              "\n",
              "    .colab-df-convert {\n",
              "      background-color: #E8F0FE;\n",
              "      border: none;\n",
              "      border-radius: 50%;\n",
              "      cursor: pointer;\n",
              "      display: none;\n",
              "      fill: #1967D2;\n",
              "      height: 32px;\n",
              "      padding: 0 0 0 0;\n",
              "      width: 32px;\n",
              "    }\n",
              "\n",
              "    .colab-df-convert:hover {\n",
              "      background-color: #E2EBFA;\n",
              "      box-shadow: 0px 1px 2px rgba(60, 64, 67, 0.3), 0px 1px 3px 1px rgba(60, 64, 67, 0.15);\n",
              "      fill: #174EA6;\n",
              "    }\n",
              "\n",
              "    .colab-df-buttons div {\n",
              "      margin-bottom: 4px;\n",
              "    }\n",
              "\n",
              "    [theme=dark] .colab-df-convert {\n",
              "      background-color: #3B4455;\n",
              "      fill: #D2E3FC;\n",
              "    }\n",
              "\n",
              "    [theme=dark] .colab-df-convert:hover {\n",
              "      background-color: #434B5C;\n",
              "      box-shadow: 0px 1px 3px 1px rgba(0, 0, 0, 0.15);\n",
              "      filter: drop-shadow(0px 1px 2px rgba(0, 0, 0, 0.3));\n",
              "      fill: #FFFFFF;\n",
              "    }\n",
              "  </style>\n",
              "\n",
              "    <script>\n",
              "      const buttonEl =\n",
              "        document.querySelector('#df-ea9473cb-adc1-4955-b64e-a53904b54ce8 button.colab-df-convert');\n",
              "      buttonEl.style.display =\n",
              "        google.colab.kernel.accessAllowed ? 'block' : 'none';\n",
              "\n",
              "      async function convertToInteractive(key) {\n",
              "        const element = document.querySelector('#df-ea9473cb-adc1-4955-b64e-a53904b54ce8');\n",
              "        const dataTable =\n",
              "          await google.colab.kernel.invokeFunction('convertToInteractive',\n",
              "                                                    [key], {});\n",
              "        if (!dataTable) return;\n",
              "\n",
              "        const docLinkHtml = 'Like what you see? Visit the ' +\n",
              "          '<a target=\"_blank\" href=https://colab.research.google.com/notebooks/data_table.ipynb>data table notebook</a>'\n",
              "          + ' to learn more about interactive tables.';\n",
              "        element.innerHTML = '';\n",
              "        dataTable['output_type'] = 'display_data';\n",
              "        await google.colab.output.renderOutput(dataTable, element);\n",
              "        const docLink = document.createElement('div');\n",
              "        docLink.innerHTML = docLinkHtml;\n",
              "        element.appendChild(docLink);\n",
              "      }\n",
              "    </script>\n",
              "  </div>\n",
              "\n",
              "\n",
              "<div id=\"df-ddacc1c8-2b8e-4b80-8202-9520b6162686\">\n",
              "  <button class=\"colab-df-quickchart\" onclick=\"quickchart('df-ddacc1c8-2b8e-4b80-8202-9520b6162686')\"\n",
              "            title=\"Suggest charts\"\n",
              "            style=\"display:none;\">\n",
              "\n",
              "<svg xmlns=\"http://www.w3.org/2000/svg\" height=\"24px\"viewBox=\"0 0 24 24\"\n",
              "     width=\"24px\">\n",
              "    <g>\n",
              "        <path d=\"M19 3H5c-1.1 0-2 .9-2 2v14c0 1.1.9 2 2 2h14c1.1 0 2-.9 2-2V5c0-1.1-.9-2-2-2zM9 17H7v-7h2v7zm4 0h-2V7h2v10zm4 0h-2v-4h2v4z\"/>\n",
              "    </g>\n",
              "</svg>\n",
              "  </button>\n",
              "\n",
              "<style>\n",
              "  .colab-df-quickchart {\n",
              "      --bg-color: #E8F0FE;\n",
              "      --fill-color: #1967D2;\n",
              "      --hover-bg-color: #E2EBFA;\n",
              "      --hover-fill-color: #174EA6;\n",
              "      --disabled-fill-color: #AAA;\n",
              "      --disabled-bg-color: #DDD;\n",
              "  }\n",
              "\n",
              "  [theme=dark] .colab-df-quickchart {\n",
              "      --bg-color: #3B4455;\n",
              "      --fill-color: #D2E3FC;\n",
              "      --hover-bg-color: #434B5C;\n",
              "      --hover-fill-color: #FFFFFF;\n",
              "      --disabled-bg-color: #3B4455;\n",
              "      --disabled-fill-color: #666;\n",
              "  }\n",
              "\n",
              "  .colab-df-quickchart {\n",
              "    background-color: var(--bg-color);\n",
              "    border: none;\n",
              "    border-radius: 50%;\n",
              "    cursor: pointer;\n",
              "    display: none;\n",
              "    fill: var(--fill-color);\n",
              "    height: 32px;\n",
              "    padding: 0;\n",
              "    width: 32px;\n",
              "  }\n",
              "\n",
              "  .colab-df-quickchart:hover {\n",
              "    background-color: var(--hover-bg-color);\n",
              "    box-shadow: 0 1px 2px rgba(60, 64, 67, 0.3), 0 1px 3px 1px rgba(60, 64, 67, 0.15);\n",
              "    fill: var(--button-hover-fill-color);\n",
              "  }\n",
              "\n",
              "  .colab-df-quickchart-complete:disabled,\n",
              "  .colab-df-quickchart-complete:disabled:hover {\n",
              "    background-color: var(--disabled-bg-color);\n",
              "    fill: var(--disabled-fill-color);\n",
              "    box-shadow: none;\n",
              "  }\n",
              "\n",
              "  .colab-df-spinner {\n",
              "    border: 2px solid var(--fill-color);\n",
              "    border-color: transparent;\n",
              "    border-bottom-color: var(--fill-color);\n",
              "    animation:\n",
              "      spin 1s steps(1) infinite;\n",
              "  }\n",
              "\n",
              "  @keyframes spin {\n",
              "    0% {\n",
              "      border-color: transparent;\n",
              "      border-bottom-color: var(--fill-color);\n",
              "      border-left-color: var(--fill-color);\n",
              "    }\n",
              "    20% {\n",
              "      border-color: transparent;\n",
              "      border-left-color: var(--fill-color);\n",
              "      border-top-color: var(--fill-color);\n",
              "    }\n",
              "    30% {\n",
              "      border-color: transparent;\n",
              "      border-left-color: var(--fill-color);\n",
              "      border-top-color: var(--fill-color);\n",
              "      border-right-color: var(--fill-color);\n",
              "    }\n",
              "    40% {\n",
              "      border-color: transparent;\n",
              "      border-right-color: var(--fill-color);\n",
              "      border-top-color: var(--fill-color);\n",
              "    }\n",
              "    60% {\n",
              "      border-color: transparent;\n",
              "      border-right-color: var(--fill-color);\n",
              "    }\n",
              "    80% {\n",
              "      border-color: transparent;\n",
              "      border-right-color: var(--fill-color);\n",
              "      border-bottom-color: var(--fill-color);\n",
              "    }\n",
              "    90% {\n",
              "      border-color: transparent;\n",
              "      border-bottom-color: var(--fill-color);\n",
              "    }\n",
              "  }\n",
              "</style>\n",
              "\n",
              "  <script>\n",
              "    async function quickchart(key) {\n",
              "      const quickchartButtonEl =\n",
              "        document.querySelector('#' + key + ' button');\n",
              "      quickchartButtonEl.disabled = true;  // To prevent multiple clicks.\n",
              "      quickchartButtonEl.classList.add('colab-df-spinner');\n",
              "      try {\n",
              "        const charts = await google.colab.kernel.invokeFunction(\n",
              "            'suggestCharts', [key], {});\n",
              "      } catch (error) {\n",
              "        console.error('Error during call to suggestCharts:', error);\n",
              "      }\n",
              "      quickchartButtonEl.classList.remove('colab-df-spinner');\n",
              "      quickchartButtonEl.classList.add('colab-df-quickchart-complete');\n",
              "    }\n",
              "    (() => {\n",
              "      let quickchartButtonEl =\n",
              "        document.querySelector('#df-ddacc1c8-2b8e-4b80-8202-9520b6162686 button');\n",
              "      quickchartButtonEl.style.display =\n",
              "        google.colab.kernel.accessAllowed ? 'block' : 'none';\n",
              "    })();\n",
              "  </script>\n",
              "</div>\n",
              "\n",
              "    </div>\n",
              "  </div>\n"
            ],
            "application/vnd.google.colaboratory.intrinsic+json": {
              "type": "dataframe",
              "summary": "{\n  \"name\": \"random_catalyst_df[X_COLS]\",\n  \"rows\": 3,\n  \"fields\": [\n    {\n      \"column\": \"Catalyst\",\n      \"properties\": {\n        \"dtype\": \"string\",\n        \"num_unique_values\": 3,\n        \"samples\": [\n          \"10_1_1\",\n          \"21_9_2\",\n          \"8_7_4\"\n        ],\n        \"semantic_type\": \"\",\n        \"description\": \"\"\n      }\n    },\n    {\n      \"column\": \"3954\",\n      \"properties\": {\n        \"dtype\": \"number\",\n        \"std\": 1.1045456262310391,\n        \"min\": -0.90077207,\n        \"max\": 1.192046206,\n        \"num_unique_values\": 3,\n        \"samples\": [\n          1.192046206,\n          -0.90077207,\n          0.75812941\n        ],\n        \"semantic_type\": \"\",\n        \"description\": \"\"\n      }\n    },\n    {\n      \"column\": \"3955\",\n      \"properties\": {\n        \"dtype\": \"number\",\n        \"std\": 1.058111680776171,\n        \"min\": -1.204402157,\n        \"max\": 0.677276544,\n        \"num_unique_values\": 3,\n        \"samples\": [\n          0.575046123,\n          -1.204402157,\n          0.677276544\n        ],\n        \"semantic_type\": \"\",\n        \"description\": \"\"\n      }\n    },\n    {\n      \"column\": \"3957\",\n      \"properties\": {\n        \"dtype\": \"number\",\n        \"std\": 1.207045022749362,\n        \"min\": -1.106007713,\n        \"max\": 1.190427248,\n        \"num_unique_values\": 3,\n        \"samples\": [\n          1.190427248,\n          -1.106007713,\n          0.686929019\n        ],\n        \"semantic_type\": \"\",\n        \"description\": \"\"\n      }\n    },\n    {\n      \"column\": \"3958\",\n      \"properties\": {\n        \"dtype\": \"number\",\n        \"std\": 1.1531198467535102,\n        \"min\": -1.172226816,\n        \"max\": 1.00550337,\n        \"num_unique_values\": 3,\n        \"samples\": [\n          1.00550337,\n          -1.172226816,\n          0.574038133\n        ],\n        \"semantic_type\": \"\",\n        \"description\": \"\"\n      }\n    },\n    {\n      \"column\": \"3959\",\n      \"properties\": {\n        \"dtype\": \"number\",\n        \"std\": 0.088165669489478,\n        \"min\": -0.429561107,\n        \"max\": -0.263888637,\n        \"num_unique_values\": 3,\n        \"samples\": [\n          -0.429561107,\n          -0.263888637,\n          -0.399012828\n        ],\n        \"semantic_type\": \"\",\n        \"description\": \"\"\n      }\n    },\n    {\n      \"column\": \"3960\",\n      \"properties\": {\n        \"dtype\": \"number\",\n        \"std\": 0.7928547191106938,\n        \"min\": -0.83317389,\n        \"max\": 0.546658557,\n        \"num_unique_values\": 3,\n        \"samples\": [\n          -0.819942697,\n          0.546658557,\n          -0.83317389\n        ],\n        \"semantic_type\": \"\",\n        \"description\": \"\"\n      }\n    },\n    {\n      \"column\": \"3961\",\n      \"properties\": {\n        \"dtype\": \"number\",\n        \"std\": 0.8608653210844374,\n        \"min\": -1.060149299,\n        \"max\": 0.579985037,\n        \"num_unique_values\": 3,\n        \"samples\": [\n          -1.060149299,\n          0.579985037,\n          -0.693664343\n        ],\n        \"semantic_type\": \"\",\n        \"description\": \"\"\n      }\n    },\n    {\n      \"column\": \"3962\",\n      \"properties\": {\n        \"dtype\": \"number\",\n        \"std\": 0.8242001859597249,\n        \"min\": -0.944025691,\n        \"max\": 0.564908629,\n        \"num_unique_values\": 3,\n        \"samples\": [\n          -0.944025691,\n          0.564908629,\n          -0.764237357\n        ],\n        \"semantic_type\": \"\",\n        \"description\": \"\"\n      }\n    },\n    {\n      \"column\": \"3963\",\n      \"properties\": {\n        \"dtype\": \"number\",\n        \"std\": 0.014115721708773255,\n        \"min\": -0.187752955,\n        \"max\": -0.159928418,\n        \"num_unique_values\": 3,\n        \"samples\": [\n          -0.177976766,\n          -0.159928418,\n          -0.187752955\n        ],\n        \"semantic_type\": \"\",\n        \"description\": \"\"\n      }\n    },\n    {\n      \"column\": \"3964\",\n      \"properties\": {\n        \"dtype\": \"number\",\n        \"std\": 0.01160597785714288,\n        \"min\": -0.896976283,\n        \"max\": -0.875422324,\n        \"num_unique_values\": 3,\n        \"samples\": [\n          -0.893660289,\n          -0.875422324,\n          -0.896976283\n        ],\n        \"semantic_type\": \"\",\n        \"description\": \"\"\n      }\n    },\n    {\n      \"column\": \"3965\",\n      \"properties\": {\n        \"dtype\": \"number\",\n        \"std\": 0.0527373963967719,\n        \"min\": -0.938972065,\n        \"max\": -0.833713631,\n        \"num_unique_values\": 3,\n        \"samples\": [\n          -0.833713631,\n          -0.880495157,\n          -0.938972065\n        ],\n        \"semantic_type\": \"\",\n        \"description\": \"\"\n      }\n    },\n    {\n      \"column\": \"3966\",\n      \"properties\": {\n        \"dtype\": \"number\",\n        \"std\": 0.022430371191606808,\n        \"min\": -0.643031362,\n        \"max\": -0.602624019,\n        \"num_unique_values\": 3,\n        \"samples\": [\n          -0.605951683,\n          -0.602624019,\n          -0.643031362\n        ],\n        \"semantic_type\": \"\",\n        \"description\": \"\"\n      }\n    },\n    {\n      \"column\": \"3967\",\n      \"properties\": {\n        \"dtype\": \"number\",\n        \"std\": 0.019297894379975172,\n        \"min\": -0.505082989,\n        \"max\": -0.471615902,\n        \"num_unique_values\": 3,\n        \"samples\": [\n          -0.471700369,\n          -0.471615902,\n          -0.505082989\n        ],\n        \"semantic_type\": \"\",\n        \"description\": \"\"\n      }\n    },\n    {\n      \"column\": \"3968\",\n      \"properties\": {\n        \"dtype\": \"number\",\n        \"std\": 0.028606199532927416,\n        \"min\": -0.825676584,\n        \"max\": -0.76847997,\n        \"num_unique_values\": 3,\n        \"samples\": [\n          -0.76847997,\n          -0.798242092,\n          -0.825676584\n        ],\n        \"semantic_type\": \"\",\n        \"description\": \"\"\n      }\n    },\n    {\n      \"column\": \"3969\",\n      \"properties\": {\n        \"dtype\": \"number\",\n        \"std\": 0.0638276298733788,\n        \"min\": -0.297732166,\n        \"max\": -0.178536292,\n        \"num_unique_values\": 3,\n        \"samples\": [\n          -0.178536292,\n          -0.277708927,\n          -0.297732166\n        ],\n        \"semantic_type\": \"\",\n        \"description\": \"\"\n      }\n    },\n    {\n      \"column\": \"3970\",\n      \"properties\": {\n        \"dtype\": \"number\",\n        \"std\": 0.03216986607368386,\n        \"min\": -0.298589948,\n        \"max\": -0.236059322,\n        \"num_unique_values\": 3,\n        \"samples\": [\n          -0.298589948,\n          -0.280444904,\n          -0.236059322\n        ],\n        \"semantic_type\": \"\",\n        \"description\": \"\"\n      }\n    },\n    {\n      \"column\": \"3971\",\n      \"properties\": {\n        \"dtype\": \"number\",\n        \"std\": 0.020897086201694837,\n        \"min\": -0.279337553,\n        \"max\": -0.238639794,\n        \"num_unique_values\": 3,\n        \"samples\": [\n          -0.238639794,\n          -0.279337553,\n          -0.26722481\n        ],\n        \"semantic_type\": \"\",\n        \"description\": \"\"\n      }\n    },\n    {\n      \"column\": \"3972\",\n      \"properties\": {\n        \"dtype\": \"number\",\n        \"std\": 0.1685118379221709,\n        \"min\": -0.277510113,\n        \"max\": 0.028798219,\n        \"num_unique_values\": 3,\n        \"samples\": [\n          -0.277510113,\n          -0.246093874,\n          0.028798219\n        ],\n        \"semantic_type\": \"\",\n        \"description\": \"\"\n      }\n    },\n    {\n      \"column\": \"3973\",\n      \"properties\": {\n        \"dtype\": \"number\",\n        \"std\": 0.461265604,\n        \"min\": -1.15316401,\n        \"max\": -0.230632802,\n        \"num_unique_values\": 3,\n        \"samples\": [\n          -0.230632802,\n          -1.15316401,\n          -0.691898406\n        ],\n        \"semantic_type\": \"\",\n        \"description\": \"\"\n      }\n    }\n  ]\n}"
            }
          },
          "metadata": {},
          "execution_count": 57
        }
      ],
      "source": [
        "random_catalyst_df[X_COLS]"
      ],
      "metadata": {
        "id": "8a62056b5336b480",
        "outputId": "d724a6a3-8049-4c67-ebb9-4d9a20a3097b",
        "colab": {
          "base_uri": "https://localhost:8080/",
          "height": 195
        },
        "ExecuteTime": {
          "end_time": "2024-05-27T19:35:30.040696100Z",
          "start_time": "2024-05-27T19:35:30.006547400Z"
        }
      },
      "id": "8a62056b5336b480"
    },
    {
      "cell_type": "code",
      "execution_count": 58,
      "outputs": [
        {
          "output_type": "execute_result",
          "data": {
            "text/plain": [
              "array([[ 2.19204621,  1.57504612,  2.19042725,  2.00550337,  0.57043889,\n",
              "         0.1800573 , -0.0601493 ,  0.05597431,  0.82202323,  0.10633971,\n",
              "         0.16628637,  0.39404832,  0.52829963,  0.23152003,  0.82146371,\n",
              "         0.70141005,  0.76136021,  0.72248989,  0.7693672 ],\n",
              "       [ 0.09922793, -0.20440216, -0.10600771, -0.17222682,  0.73611136,\n",
              "         1.54665856,  1.57998504,  1.56490863,  0.84007158,  0.12457768,\n",
              "         0.11950484,  0.39737598,  0.5283841 ,  0.20175791,  0.72229107,\n",
              "         0.7195551 ,  0.72066245,  0.75390613, -0.15316401],\n",
              "       [ 1.75812941,  1.67727654,  1.68692902,  1.57403813,  0.60098717,\n",
              "         0.16682611,  0.30633566,  0.23576264,  0.81224705,  0.10302372,\n",
              "         0.06102794,  0.35696864,  0.49491701,  0.17432342,  0.70226783,\n",
              "         0.76394068,  0.73277519,  1.02879822,  0.30810159]])"
            ]
          },
          "metadata": {},
          "execution_count": 58
        }
      ],
      "source": [
        "new_optimized_catalysts"
      ],
      "metadata": {
        "id": "108551632d59a046",
        "outputId": "228d897b-a189-434f-d1b3-522f251953a6",
        "colab": {
          "base_uri": "https://localhost:8080/"
        },
        "ExecuteTime": {
          "end_time": "2024-05-27T19:35:32.168334600Z",
          "start_time": "2024-05-27T19:35:32.130053Z"
        }
      },
      "id": "108551632d59a046"
    },
    {
      "cell_type": "code",
      "execution_count": 59,
      "outputs": [
        {
          "output_type": "execute_result",
          "data": {
            "text/plain": [
              "NearestNeighbors(n_neighbors=1)"
            ],
            "text/html": [
              "<style>#sk-container-id-6 {color: black;background-color: white;}#sk-container-id-6 pre{padding: 0;}#sk-container-id-6 div.sk-toggleable {background-color: white;}#sk-container-id-6 label.sk-toggleable__label {cursor: pointer;display: block;width: 100%;margin-bottom: 0;padding: 0.3em;box-sizing: border-box;text-align: center;}#sk-container-id-6 label.sk-toggleable__label-arrow:before {content: \"▸\";float: left;margin-right: 0.25em;color: #696969;}#sk-container-id-6 label.sk-toggleable__label-arrow:hover:before {color: black;}#sk-container-id-6 div.sk-estimator:hover label.sk-toggleable__label-arrow:before {color: black;}#sk-container-id-6 div.sk-toggleable__content {max-height: 0;max-width: 0;overflow: hidden;text-align: left;background-color: #f0f8ff;}#sk-container-id-6 div.sk-toggleable__content pre {margin: 0.2em;color: black;border-radius: 0.25em;background-color: #f0f8ff;}#sk-container-id-6 input.sk-toggleable__control:checked~div.sk-toggleable__content {max-height: 200px;max-width: 100%;overflow: auto;}#sk-container-id-6 input.sk-toggleable__control:checked~label.sk-toggleable__label-arrow:before {content: \"▾\";}#sk-container-id-6 div.sk-estimator input.sk-toggleable__control:checked~label.sk-toggleable__label {background-color: #d4ebff;}#sk-container-id-6 div.sk-label input.sk-toggleable__control:checked~label.sk-toggleable__label {background-color: #d4ebff;}#sk-container-id-6 input.sk-hidden--visually {border: 0;clip: rect(1px 1px 1px 1px);clip: rect(1px, 1px, 1px, 1px);height: 1px;margin: -1px;overflow: hidden;padding: 0;position: absolute;width: 1px;}#sk-container-id-6 div.sk-estimator {font-family: monospace;background-color: #f0f8ff;border: 1px dotted black;border-radius: 0.25em;box-sizing: border-box;margin-bottom: 0.5em;}#sk-container-id-6 div.sk-estimator:hover {background-color: #d4ebff;}#sk-container-id-6 div.sk-parallel-item::after {content: \"\";width: 100%;border-bottom: 1px solid gray;flex-grow: 1;}#sk-container-id-6 div.sk-label:hover label.sk-toggleable__label {background-color: #d4ebff;}#sk-container-id-6 div.sk-serial::before {content: \"\";position: absolute;border-left: 1px solid gray;box-sizing: border-box;top: 0;bottom: 0;left: 50%;z-index: 0;}#sk-container-id-6 div.sk-serial {display: flex;flex-direction: column;align-items: center;background-color: white;padding-right: 0.2em;padding-left: 0.2em;position: relative;}#sk-container-id-6 div.sk-item {position: relative;z-index: 1;}#sk-container-id-6 div.sk-parallel {display: flex;align-items: stretch;justify-content: center;background-color: white;position: relative;}#sk-container-id-6 div.sk-item::before, #sk-container-id-6 div.sk-parallel-item::before {content: \"\";position: absolute;border-left: 1px solid gray;box-sizing: border-box;top: 0;bottom: 0;left: 50%;z-index: -1;}#sk-container-id-6 div.sk-parallel-item {display: flex;flex-direction: column;z-index: 1;position: relative;background-color: white;}#sk-container-id-6 div.sk-parallel-item:first-child::after {align-self: flex-end;width: 50%;}#sk-container-id-6 div.sk-parallel-item:last-child::after {align-self: flex-start;width: 50%;}#sk-container-id-6 div.sk-parallel-item:only-child::after {width: 0;}#sk-container-id-6 div.sk-dashed-wrapped {border: 1px dashed gray;margin: 0 0.4em 0.5em 0.4em;box-sizing: border-box;padding-bottom: 0.4em;background-color: white;}#sk-container-id-6 div.sk-label label {font-family: monospace;font-weight: bold;display: inline-block;line-height: 1.2em;}#sk-container-id-6 div.sk-label-container {text-align: center;}#sk-container-id-6 div.sk-container {/* jupyter's `normalize.less` sets `[hidden] { display: none; }` but bootstrap.min.css set `[hidden] { display: none !important; }` so we also need the `!important` here to be able to override the default hidden behavior on the sphinx rendered scikit-learn.org. See: https://github.com/scikit-learn/scikit-learn/issues/21755 */display: inline-block !important;position: relative;}#sk-container-id-6 div.sk-text-repr-fallback {display: none;}</style><div id=\"sk-container-id-6\" class=\"sk-top-container\"><div class=\"sk-text-repr-fallback\"><pre>NearestNeighbors(n_neighbors=1)</pre><b>In a Jupyter environment, please rerun this cell to show the HTML representation or trust the notebook. <br />On GitHub, the HTML representation is unable to render, please try loading this page with nbviewer.org.</b></div><div class=\"sk-container\" hidden><div class=\"sk-item\"><div class=\"sk-estimator sk-toggleable\"><input class=\"sk-toggleable__control sk-hidden--visually\" id=\"sk-estimator-id-6\" type=\"checkbox\" checked><label for=\"sk-estimator-id-6\" class=\"sk-toggleable__label sk-toggleable__label-arrow\">NearestNeighbors</label><div class=\"sk-toggleable__content\"><pre>NearestNeighbors(n_neighbors=1)</pre></div></div></div></div></div>"
            ]
          },
          "metadata": {},
          "execution_count": 59
        }
      ],
      "source": [
        "# Perform k-nearest neighbors analysis\n",
        "num_neighbors = 1  # Number of neighbors to consider\n",
        "knn = NearestNeighbors(n_neighbors=num_neighbors)\n",
        "knn.fit(df[X_COLS])  # Using all the catalysts"
      ],
      "metadata": {
        "id": "5148feb1e89070b9",
        "outputId": "f275324d-beda-4d3c-ccf5-85a969b1c8cc",
        "colab": {
          "base_uri": "https://localhost:8080/",
          "height": 75
        },
        "ExecuteTime": {
          "end_time": "2024-05-27T19:35:34.744354400Z",
          "start_time": "2024-05-27T19:35:34.704753900Z"
        }
      },
      "id": "5148feb1e89070b9"
    },
    {
      "cell_type": "code",
      "execution_count": 60,
      "outputs": [
        {
          "output_type": "execute_result",
          "data": {
            "text/plain": [
              "              3954      3955      3957      3958      3959      3960  \\\n",
              "Catalyst                                                               \n",
              "10_1_1    1.192046  0.575046  1.190427  1.005503 -0.429561 -0.819943   \n",
              "21_9_2   -0.900772 -1.204402 -1.106008 -1.172227 -0.263889  0.546659   \n",
              "8_7_4     0.758129  0.677277  0.686929  0.574038 -0.399013 -0.833174   \n",
              "1_1_1     1.192046  0.575046  1.190427  1.005503 -0.429561 -0.819943   \n",
              "9_9_5    -0.963382  0.742768 -0.317384  0.281218  2.028871  1.651922   \n",
              "1_10_1    1.192046  0.575046  1.190427  1.005503 -0.429561 -0.819943   \n",
              "\n",
              "              3961      3962      3963      3964      3965      3966  \\\n",
              "Catalyst                                                               \n",
              "10_1_1   -1.060149 -0.944026 -0.177977 -0.893660 -0.833714 -0.605952   \n",
              "21_9_2    0.579985  0.564909 -0.159928 -0.875422 -0.880495 -0.602624   \n",
              "8_7_4    -0.693664 -0.764237 -0.187753 -0.896976 -0.938972 -0.643031   \n",
              "1_1_1    -1.060149 -0.944026 -0.177977 -0.893660 -0.833714 -0.605952   \n",
              "9_9_5     1.575386  1.616959 -0.028326  1.054486  1.112732  0.601039   \n",
              "1_10_1   -1.060149 -0.944026 -0.177977 -0.893660 -0.833714 -0.605952   \n",
              "\n",
              "              3967      3968      3969      3970      3971      3972      3973  \n",
              "Catalyst                                                                        \n",
              "10_1_1   -0.471700 -0.768480 -0.178536 -0.298590 -0.238640 -0.277510 -0.230633  \n",
              "21_9_2   -0.471616 -0.798242 -0.277709 -0.280445 -0.279338 -0.246094 -1.153164  \n",
              "8_7_4    -0.505083 -0.825677 -0.297732 -0.236059 -0.267225  0.028798 -0.691898  \n",
              "1_1_1    -0.471700 -0.768480 -0.178536 -0.298590 -0.238640 -0.277510 -0.230633  \n",
              "9_9_5     0.691527  1.360684  0.614598  0.524781  0.570340 -1.518452 -0.230633  \n",
              "1_10_1   -0.471700 -0.768480 -0.178536 -0.298590 -0.238640 -0.277510 -0.230633  "
            ],
            "text/html": [
              "\n",
              "  <div id=\"df-748eca12-a8d7-43ce-a1e6-7b1f3b5a0f36\" class=\"colab-df-container\">\n",
              "    <div>\n",
              "<style scoped>\n",
              "    .dataframe tbody tr th:only-of-type {\n",
              "        vertical-align: middle;\n",
              "    }\n",
              "\n",
              "    .dataframe tbody tr th {\n",
              "        vertical-align: top;\n",
              "    }\n",
              "\n",
              "    .dataframe thead th {\n",
              "        text-align: right;\n",
              "    }\n",
              "</style>\n",
              "<table border=\"1\" class=\"dataframe\">\n",
              "  <thead>\n",
              "    <tr style=\"text-align: right;\">\n",
              "      <th></th>\n",
              "      <th>3954</th>\n",
              "      <th>3955</th>\n",
              "      <th>3957</th>\n",
              "      <th>3958</th>\n",
              "      <th>3959</th>\n",
              "      <th>3960</th>\n",
              "      <th>3961</th>\n",
              "      <th>3962</th>\n",
              "      <th>3963</th>\n",
              "      <th>3964</th>\n",
              "      <th>3965</th>\n",
              "      <th>3966</th>\n",
              "      <th>3967</th>\n",
              "      <th>3968</th>\n",
              "      <th>3969</th>\n",
              "      <th>3970</th>\n",
              "      <th>3971</th>\n",
              "      <th>3972</th>\n",
              "      <th>3973</th>\n",
              "    </tr>\n",
              "    <tr>\n",
              "      <th>Catalyst</th>\n",
              "      <th></th>\n",
              "      <th></th>\n",
              "      <th></th>\n",
              "      <th></th>\n",
              "      <th></th>\n",
              "      <th></th>\n",
              "      <th></th>\n",
              "      <th></th>\n",
              "      <th></th>\n",
              "      <th></th>\n",
              "      <th></th>\n",
              "      <th></th>\n",
              "      <th></th>\n",
              "      <th></th>\n",
              "      <th></th>\n",
              "      <th></th>\n",
              "      <th></th>\n",
              "      <th></th>\n",
              "      <th></th>\n",
              "    </tr>\n",
              "  </thead>\n",
              "  <tbody>\n",
              "    <tr>\n",
              "      <th>10_1_1</th>\n",
              "      <td>1.192046</td>\n",
              "      <td>0.575046</td>\n",
              "      <td>1.190427</td>\n",
              "      <td>1.005503</td>\n",
              "      <td>-0.429561</td>\n",
              "      <td>-0.819943</td>\n",
              "      <td>-1.060149</td>\n",
              "      <td>-0.944026</td>\n",
              "      <td>-0.177977</td>\n",
              "      <td>-0.893660</td>\n",
              "      <td>-0.833714</td>\n",
              "      <td>-0.605952</td>\n",
              "      <td>-0.471700</td>\n",
              "      <td>-0.768480</td>\n",
              "      <td>-0.178536</td>\n",
              "      <td>-0.298590</td>\n",
              "      <td>-0.238640</td>\n",
              "      <td>-0.277510</td>\n",
              "      <td>-0.230633</td>\n",
              "    </tr>\n",
              "    <tr>\n",
              "      <th>21_9_2</th>\n",
              "      <td>-0.900772</td>\n",
              "      <td>-1.204402</td>\n",
              "      <td>-1.106008</td>\n",
              "      <td>-1.172227</td>\n",
              "      <td>-0.263889</td>\n",
              "      <td>0.546659</td>\n",
              "      <td>0.579985</td>\n",
              "      <td>0.564909</td>\n",
              "      <td>-0.159928</td>\n",
              "      <td>-0.875422</td>\n",
              "      <td>-0.880495</td>\n",
              "      <td>-0.602624</td>\n",
              "      <td>-0.471616</td>\n",
              "      <td>-0.798242</td>\n",
              "      <td>-0.277709</td>\n",
              "      <td>-0.280445</td>\n",
              "      <td>-0.279338</td>\n",
              "      <td>-0.246094</td>\n",
              "      <td>-1.153164</td>\n",
              "    </tr>\n",
              "    <tr>\n",
              "      <th>8_7_4</th>\n",
              "      <td>0.758129</td>\n",
              "      <td>0.677277</td>\n",
              "      <td>0.686929</td>\n",
              "      <td>0.574038</td>\n",
              "      <td>-0.399013</td>\n",
              "      <td>-0.833174</td>\n",
              "      <td>-0.693664</td>\n",
              "      <td>-0.764237</td>\n",
              "      <td>-0.187753</td>\n",
              "      <td>-0.896976</td>\n",
              "      <td>-0.938972</td>\n",
              "      <td>-0.643031</td>\n",
              "      <td>-0.505083</td>\n",
              "      <td>-0.825677</td>\n",
              "      <td>-0.297732</td>\n",
              "      <td>-0.236059</td>\n",
              "      <td>-0.267225</td>\n",
              "      <td>0.028798</td>\n",
              "      <td>-0.691898</td>\n",
              "    </tr>\n",
              "    <tr>\n",
              "      <th>1_1_1</th>\n",
              "      <td>1.192046</td>\n",
              "      <td>0.575046</td>\n",
              "      <td>1.190427</td>\n",
              "      <td>1.005503</td>\n",
              "      <td>-0.429561</td>\n",
              "      <td>-0.819943</td>\n",
              "      <td>-1.060149</td>\n",
              "      <td>-0.944026</td>\n",
              "      <td>-0.177977</td>\n",
              "      <td>-0.893660</td>\n",
              "      <td>-0.833714</td>\n",
              "      <td>-0.605952</td>\n",
              "      <td>-0.471700</td>\n",
              "      <td>-0.768480</td>\n",
              "      <td>-0.178536</td>\n",
              "      <td>-0.298590</td>\n",
              "      <td>-0.238640</td>\n",
              "      <td>-0.277510</td>\n",
              "      <td>-0.230633</td>\n",
              "    </tr>\n",
              "    <tr>\n",
              "      <th>9_9_5</th>\n",
              "      <td>-0.963382</td>\n",
              "      <td>0.742768</td>\n",
              "      <td>-0.317384</td>\n",
              "      <td>0.281218</td>\n",
              "      <td>2.028871</td>\n",
              "      <td>1.651922</td>\n",
              "      <td>1.575386</td>\n",
              "      <td>1.616959</td>\n",
              "      <td>-0.028326</td>\n",
              "      <td>1.054486</td>\n",
              "      <td>1.112732</td>\n",
              "      <td>0.601039</td>\n",
              "      <td>0.691527</td>\n",
              "      <td>1.360684</td>\n",
              "      <td>0.614598</td>\n",
              "      <td>0.524781</td>\n",
              "      <td>0.570340</td>\n",
              "      <td>-1.518452</td>\n",
              "      <td>-0.230633</td>\n",
              "    </tr>\n",
              "    <tr>\n",
              "      <th>1_10_1</th>\n",
              "      <td>1.192046</td>\n",
              "      <td>0.575046</td>\n",
              "      <td>1.190427</td>\n",
              "      <td>1.005503</td>\n",
              "      <td>-0.429561</td>\n",
              "      <td>-0.819943</td>\n",
              "      <td>-1.060149</td>\n",
              "      <td>-0.944026</td>\n",
              "      <td>-0.177977</td>\n",
              "      <td>-0.893660</td>\n",
              "      <td>-0.833714</td>\n",
              "      <td>-0.605952</td>\n",
              "      <td>-0.471700</td>\n",
              "      <td>-0.768480</td>\n",
              "      <td>-0.178536</td>\n",
              "      <td>-0.298590</td>\n",
              "      <td>-0.238640</td>\n",
              "      <td>-0.277510</td>\n",
              "      <td>-0.230633</td>\n",
              "    </tr>\n",
              "  </tbody>\n",
              "</table>\n",
              "</div>\n",
              "    <div class=\"colab-df-buttons\">\n",
              "\n",
              "  <div class=\"colab-df-container\">\n",
              "    <button class=\"colab-df-convert\" onclick=\"convertToInteractive('df-748eca12-a8d7-43ce-a1e6-7b1f3b5a0f36')\"\n",
              "            title=\"Convert this dataframe to an interactive table.\"\n",
              "            style=\"display:none;\">\n",
              "\n",
              "  <svg xmlns=\"http://www.w3.org/2000/svg\" height=\"24px\" viewBox=\"0 -960 960 960\">\n",
              "    <path d=\"M120-120v-720h720v720H120Zm60-500h600v-160H180v160Zm220 220h160v-160H400v160Zm0 220h160v-160H400v160ZM180-400h160v-160H180v160Zm440 0h160v-160H620v160ZM180-180h160v-160H180v160Zm440 0h160v-160H620v160Z\"/>\n",
              "  </svg>\n",
              "    </button>\n",
              "\n",
              "  <style>\n",
              "    .colab-df-container {\n",
              "      display:flex;\n",
              "      gap: 12px;\n",
              "    }\n",
              "\n",
              "    .colab-df-convert {\n",
              "      background-color: #E8F0FE;\n",
              "      border: none;\n",
              "      border-radius: 50%;\n",
              "      cursor: pointer;\n",
              "      display: none;\n",
              "      fill: #1967D2;\n",
              "      height: 32px;\n",
              "      padding: 0 0 0 0;\n",
              "      width: 32px;\n",
              "    }\n",
              "\n",
              "    .colab-df-convert:hover {\n",
              "      background-color: #E2EBFA;\n",
              "      box-shadow: 0px 1px 2px rgba(60, 64, 67, 0.3), 0px 1px 3px 1px rgba(60, 64, 67, 0.15);\n",
              "      fill: #174EA6;\n",
              "    }\n",
              "\n",
              "    .colab-df-buttons div {\n",
              "      margin-bottom: 4px;\n",
              "    }\n",
              "\n",
              "    [theme=dark] .colab-df-convert {\n",
              "      background-color: #3B4455;\n",
              "      fill: #D2E3FC;\n",
              "    }\n",
              "\n",
              "    [theme=dark] .colab-df-convert:hover {\n",
              "      background-color: #434B5C;\n",
              "      box-shadow: 0px 1px 3px 1px rgba(0, 0, 0, 0.15);\n",
              "      filter: drop-shadow(0px 1px 2px rgba(0, 0, 0, 0.3));\n",
              "      fill: #FFFFFF;\n",
              "    }\n",
              "  </style>\n",
              "\n",
              "    <script>\n",
              "      const buttonEl =\n",
              "        document.querySelector('#df-748eca12-a8d7-43ce-a1e6-7b1f3b5a0f36 button.colab-df-convert');\n",
              "      buttonEl.style.display =\n",
              "        google.colab.kernel.accessAllowed ? 'block' : 'none';\n",
              "\n",
              "      async function convertToInteractive(key) {\n",
              "        const element = document.querySelector('#df-748eca12-a8d7-43ce-a1e6-7b1f3b5a0f36');\n",
              "        const dataTable =\n",
              "          await google.colab.kernel.invokeFunction('convertToInteractive',\n",
              "                                                    [key], {});\n",
              "        if (!dataTable) return;\n",
              "\n",
              "        const docLinkHtml = 'Like what you see? Visit the ' +\n",
              "          '<a target=\"_blank\" href=https://colab.research.google.com/notebooks/data_table.ipynb>data table notebook</a>'\n",
              "          + ' to learn more about interactive tables.';\n",
              "        element.innerHTML = '';\n",
              "        dataTable['output_type'] = 'display_data';\n",
              "        await google.colab.output.renderOutput(dataTable, element);\n",
              "        const docLink = document.createElement('div');\n",
              "        docLink.innerHTML = docLinkHtml;\n",
              "        element.appendChild(docLink);\n",
              "      }\n",
              "    </script>\n",
              "  </div>\n",
              "\n",
              "\n",
              "<div id=\"df-f4752f86-a61e-45a6-8637-a045768cb7f8\">\n",
              "  <button class=\"colab-df-quickchart\" onclick=\"quickchart('df-f4752f86-a61e-45a6-8637-a045768cb7f8')\"\n",
              "            title=\"Suggest charts\"\n",
              "            style=\"display:none;\">\n",
              "\n",
              "<svg xmlns=\"http://www.w3.org/2000/svg\" height=\"24px\"viewBox=\"0 0 24 24\"\n",
              "     width=\"24px\">\n",
              "    <g>\n",
              "        <path d=\"M19 3H5c-1.1 0-2 .9-2 2v14c0 1.1.9 2 2 2h14c1.1 0 2-.9 2-2V5c0-1.1-.9-2-2-2zM9 17H7v-7h2v7zm4 0h-2V7h2v10zm4 0h-2v-4h2v4z\"/>\n",
              "    </g>\n",
              "</svg>\n",
              "  </button>\n",
              "\n",
              "<style>\n",
              "  .colab-df-quickchart {\n",
              "      --bg-color: #E8F0FE;\n",
              "      --fill-color: #1967D2;\n",
              "      --hover-bg-color: #E2EBFA;\n",
              "      --hover-fill-color: #174EA6;\n",
              "      --disabled-fill-color: #AAA;\n",
              "      --disabled-bg-color: #DDD;\n",
              "  }\n",
              "\n",
              "  [theme=dark] .colab-df-quickchart {\n",
              "      --bg-color: #3B4455;\n",
              "      --fill-color: #D2E3FC;\n",
              "      --hover-bg-color: #434B5C;\n",
              "      --hover-fill-color: #FFFFFF;\n",
              "      --disabled-bg-color: #3B4455;\n",
              "      --disabled-fill-color: #666;\n",
              "  }\n",
              "\n",
              "  .colab-df-quickchart {\n",
              "    background-color: var(--bg-color);\n",
              "    border: none;\n",
              "    border-radius: 50%;\n",
              "    cursor: pointer;\n",
              "    display: none;\n",
              "    fill: var(--fill-color);\n",
              "    height: 32px;\n",
              "    padding: 0;\n",
              "    width: 32px;\n",
              "  }\n",
              "\n",
              "  .colab-df-quickchart:hover {\n",
              "    background-color: var(--hover-bg-color);\n",
              "    box-shadow: 0 1px 2px rgba(60, 64, 67, 0.3), 0 1px 3px 1px rgba(60, 64, 67, 0.15);\n",
              "    fill: var(--button-hover-fill-color);\n",
              "  }\n",
              "\n",
              "  .colab-df-quickchart-complete:disabled,\n",
              "  .colab-df-quickchart-complete:disabled:hover {\n",
              "    background-color: var(--disabled-bg-color);\n",
              "    fill: var(--disabled-fill-color);\n",
              "    box-shadow: none;\n",
              "  }\n",
              "\n",
              "  .colab-df-spinner {\n",
              "    border: 2px solid var(--fill-color);\n",
              "    border-color: transparent;\n",
              "    border-bottom-color: var(--fill-color);\n",
              "    animation:\n",
              "      spin 1s steps(1) infinite;\n",
              "  }\n",
              "\n",
              "  @keyframes spin {\n",
              "    0% {\n",
              "      border-color: transparent;\n",
              "      border-bottom-color: var(--fill-color);\n",
              "      border-left-color: var(--fill-color);\n",
              "    }\n",
              "    20% {\n",
              "      border-color: transparent;\n",
              "      border-left-color: var(--fill-color);\n",
              "      border-top-color: var(--fill-color);\n",
              "    }\n",
              "    30% {\n",
              "      border-color: transparent;\n",
              "      border-left-color: var(--fill-color);\n",
              "      border-top-color: var(--fill-color);\n",
              "      border-right-color: var(--fill-color);\n",
              "    }\n",
              "    40% {\n",
              "      border-color: transparent;\n",
              "      border-right-color: var(--fill-color);\n",
              "      border-top-color: var(--fill-color);\n",
              "    }\n",
              "    60% {\n",
              "      border-color: transparent;\n",
              "      border-right-color: var(--fill-color);\n",
              "    }\n",
              "    80% {\n",
              "      border-color: transparent;\n",
              "      border-right-color: var(--fill-color);\n",
              "      border-bottom-color: var(--fill-color);\n",
              "    }\n",
              "    90% {\n",
              "      border-color: transparent;\n",
              "      border-bottom-color: var(--fill-color);\n",
              "    }\n",
              "  }\n",
              "</style>\n",
              "\n",
              "  <script>\n",
              "    async function quickchart(key) {\n",
              "      const quickchartButtonEl =\n",
              "        document.querySelector('#' + key + ' button');\n",
              "      quickchartButtonEl.disabled = true;  // To prevent multiple clicks.\n",
              "      quickchartButtonEl.classList.add('colab-df-spinner');\n",
              "      try {\n",
              "        const charts = await google.colab.kernel.invokeFunction(\n",
              "            'suggestCharts', [key], {});\n",
              "      } catch (error) {\n",
              "        console.error('Error during call to suggestCharts:', error);\n",
              "      }\n",
              "      quickchartButtonEl.classList.remove('colab-df-spinner');\n",
              "      quickchartButtonEl.classList.add('colab-df-quickchart-complete');\n",
              "    }\n",
              "    (() => {\n",
              "      let quickchartButtonEl =\n",
              "        document.querySelector('#df-f4752f86-a61e-45a6-8637-a045768cb7f8 button');\n",
              "      quickchartButtonEl.style.display =\n",
              "        google.colab.kernel.accessAllowed ? 'block' : 'none';\n",
              "    })();\n",
              "  </script>\n",
              "</div>\n",
              "\n",
              "    </div>\n",
              "  </div>\n"
            ],
            "application/vnd.google.colaboratory.intrinsic+json": {
              "type": "dataframe",
              "summary": "{\n  \"name\": \"random_catalyst_df[X_COLS]\",\n  \"rows\": 6,\n  \"fields\": [\n    {\n      \"column\": \"Catalyst\",\n      \"properties\": {\n        \"dtype\": \"string\",\n        \"num_unique_values\": 6,\n        \"samples\": [\n          \"10_1_1\",\n          \"21_9_2\",\n          \"1_10_1\"\n        ],\n        \"semantic_type\": \"\",\n        \"description\": \"\"\n      }\n    },\n    {\n      \"column\": \"3954\",\n      \"properties\": {\n        \"dtype\": \"number\",\n        \"std\": 1.054539565601317,\n        \"min\": -0.963382399,\n        \"max\": 1.192046206,\n        \"num_unique_values\": 4,\n        \"samples\": [\n          -0.90077207,\n          -0.963382399,\n          1.192046206\n        ],\n        \"semantic_type\": \"\",\n        \"description\": \"\"\n      }\n    },\n    {\n      \"column\": \"3955\",\n      \"properties\": {\n        \"dtype\": \"number\",\n        \"std\": 0.7516987123973913,\n        \"min\": -1.204402157,\n        \"max\": 0.742767908,\n        \"num_unique_values\": 4,\n        \"samples\": [\n          -1.204402157,\n          0.742767908,\n          0.575046123\n        ],\n        \"semantic_type\": \"\",\n        \"description\": \"\"\n      }\n    },\n    {\n      \"column\": \"3957\",\n      \"properties\": {\n        \"dtype\": \"number\",\n        \"std\": 0.9703444318775658,\n        \"min\": -1.106007713,\n        \"max\": 1.190427248,\n        \"num_unique_values\": 4,\n        \"samples\": [\n          -1.106007713,\n          -0.317383905,\n          1.190427248\n        ],\n        \"semantic_type\": \"\",\n        \"description\": \"\"\n      }\n    },\n    {\n      \"column\": \"3958\",\n      \"properties\": {\n        \"dtype\": \"number\",\n        \"std\": 0.8486748127131093,\n        \"min\": -1.172226816,\n        \"max\": 1.00550337,\n        \"num_unique_values\": 4,\n        \"samples\": [\n          -1.172226816,\n          0.281217771,\n          1.00550337\n        ],\n        \"semantic_type\": \"\",\n        \"description\": \"\"\n      }\n    },\n    {\n      \"column\": \"3959\",\n      \"properties\": {\n        \"dtype\": \"number\",\n        \"std\": 0.9897208410536207,\n        \"min\": -0.429561107,\n        \"max\": 2.02887051,\n        \"num_unique_values\": 4,\n        \"samples\": [\n          -0.263888637,\n          2.02887051,\n          -0.429561107\n        ],\n        \"semantic_type\": \"\",\n        \"description\": \"\"\n      }\n    },\n    {\n      \"column\": \"3960\",\n      \"properties\": {\n        \"dtype\": \"number\",\n        \"std\": 1.0525353430691393,\n        \"min\": -0.83317389,\n        \"max\": 1.651922255,\n        \"num_unique_values\": 4,\n        \"samples\": [\n          0.546658557,\n          1.651922255,\n          -0.819942697\n        ],\n        \"semantic_type\": \"\",\n        \"description\": \"\"\n      }\n    },\n    {\n      \"column\": \"3961\",\n      \"properties\": {\n        \"dtype\": \"number\",\n        \"std\": 1.111647383816903,\n        \"min\": -1.060149299,\n        \"max\": 1.57538633,\n        \"num_unique_values\": 4,\n        \"samples\": [\n          0.579985037,\n          1.57538633,\n          -1.060149299\n        ],\n        \"semantic_type\": \"\",\n        \"description\": \"\"\n      }\n    },\n    {\n      \"column\": \"3962\",\n      \"properties\": {\n        \"dtype\": \"number\",\n        \"std\": 1.0823906061015218,\n        \"min\": -0.944025691,\n        \"max\": 1.616958998,\n        \"num_unique_values\": 4,\n        \"samples\": [\n          0.564908629,\n          1.616958998,\n          -0.944025691\n        ],\n        \"semantic_type\": \"\",\n        \"description\": \"\"\n      }\n    },\n    {\n      \"column\": \"3963\",\n      \"properties\": {\n        \"dtype\": \"number\",\n        \"std\": 0.06109024427375043,\n        \"min\": -0.187752955,\n        \"max\": -0.02832588,\n        \"num_unique_values\": 4,\n        \"samples\": [\n          -0.159928418,\n          -0.02832588,\n          -0.177976766\n        ],\n        \"semantic_type\": \"\",\n        \"description\": \"\"\n      }\n    },\n    {\n      \"column\": \"3964\",\n      \"properties\": {\n        \"dtype\": \"number\",\n        \"std\": 0.7941466726864321,\n        \"min\": -0.896976283,\n        \"max\": 1.054485981,\n        \"num_unique_values\": 4,\n        \"samples\": [\n          -0.875422324,\n          1.054485981,\n          -0.893660289\n        ],\n        \"semantic_type\": \"\",\n        \"description\": \"\"\n      }\n    },\n    {\n      \"column\": \"3965\",\n      \"properties\": {\n        \"dtype\": \"number\",\n        \"std\": 0.8081175521854441,\n        \"min\": -0.938972065,\n        \"max\": 1.11273202,\n        \"num_unique_values\": 4,\n        \"samples\": [\n          -0.880495157,\n          1.11273202,\n          -0.833713631\n        ],\n        \"semantic_type\": \"\",\n        \"description\": \"\"\n      }\n    },\n    {\n      \"column\": \"3966\",\n      \"properties\": {\n        \"dtype\": \"number\",\n        \"std\": 0.4957415656689906,\n        \"min\": -0.643031362,\n        \"max\": 0.601039417,\n        \"num_unique_values\": 4,\n        \"samples\": [\n          -0.602624019,\n          0.601039417,\n          -0.605951683\n        ],\n        \"semantic_type\": \"\",\n        \"description\": \"\"\n      }\n    },\n    {\n      \"column\": \"3967\",\n      \"properties\": {\n        \"dtype\": \"number\",\n        \"std\": 0.4777910700275742,\n        \"min\": -0.505082989,\n        \"max\": 0.6915266,\n        \"num_unique_values\": 4,\n        \"samples\": [\n          -0.471615902,\n          0.6915266,\n          -0.471700369\n        ],\n        \"semantic_type\": \"\",\n        \"description\": \"\"\n      }\n    },\n    {\n      \"column\": \"3968\",\n      \"properties\": {\n        \"dtype\": \"number\",\n        \"std\": 0.8766294316985969,\n        \"min\": -0.825676584,\n        \"max\": 1.360683923,\n        \"num_unique_values\": 4,\n        \"samples\": [\n          -0.798242092,\n          1.360683923,\n          -0.76847997\n        ],\n        \"semantic_type\": \"\",\n        \"description\": \"\"\n      }\n    },\n    {\n      \"column\": \"3969\",\n      \"properties\": {\n        \"dtype\": \"number\",\n        \"std\": 0.3458453650321624,\n        \"min\": -0.297732166,\n        \"max\": 0.614597637,\n        \"num_unique_values\": 4,\n        \"samples\": [\n          -0.277708927,\n          0.614597637,\n          -0.178536292\n        ],\n        \"semantic_type\": \"\",\n        \"description\": \"\"\n      }\n    },\n    {\n      \"column\": \"3970\",\n      \"properties\": {\n        \"dtype\": \"number\",\n        \"std\": 0.3304428981028375,\n        \"min\": -0.298589948,\n        \"max\": 0.524781163,\n        \"num_unique_values\": 4,\n        \"samples\": [\n          -0.280444904,\n          0.524781163,\n          -0.298589948\n        ],\n        \"semantic_type\": \"\",\n        \"description\": \"\"\n      }\n    },\n    {\n      \"column\": \"3971\",\n      \"properties\": {\n        \"dtype\": \"number\",\n        \"std\": 0.33637169868438405,\n        \"min\": -0.279337553,\n        \"max\": 0.570339874,\n        \"num_unique_values\": 4,\n        \"samples\": [\n          -0.279337553,\n          0.570339874,\n          -0.238639794\n        ],\n        \"semantic_type\": \"\",\n        \"description\": \"\"\n      }\n    },\n    {\n      \"column\": \"3972\",\n      \"properties\": {\n        \"dtype\": \"number\",\n        \"std\": 0.547499893741581,\n        \"min\": -1.518451563,\n        \"max\": 0.028798219,\n        \"num_unique_values\": 4,\n        \"samples\": [\n          -0.246093874,\n          -1.518451563,\n          -0.277510113\n        ],\n        \"semantic_type\": \"\",\n        \"description\": \"\"\n      }\n    },\n    {\n      \"column\": \"3973\",\n      \"properties\": {\n        \"dtype\": \"number\",\n        \"std\": 0.3859224924818964,\n        \"min\": -1.15316401,\n        \"max\": -0.230632802,\n        \"num_unique_values\": 3,\n        \"samples\": [\n          -0.230632802,\n          -1.15316401,\n          -0.691898406\n        ],\n        \"semantic_type\": \"\",\n        \"description\": \"\"\n      }\n    }\n  ]\n}"
            }
          },
          "metadata": {},
          "execution_count": 60
        }
      ],
      "source": [
        "## Recursive Loop\n",
        "def find_unique_neighbors_add(knn, point, addToDf, neighbor_number=1):\n",
        "    distances, indices = knn.kneighbors([point], neighbor_number)\n",
        "    neighbor_catalyst = df.iloc[[indices[0][neighbor_number-1]]]\n",
        "    if neighbor_catalyst.index[0] in addToDf.index:\n",
        "        #get next neighbor\n",
        "        neighbor_catalyst = find_unique_neighbors_add(knn, point, addToDf, neighbor_number+1)\n",
        "    return neighbor_catalyst\n",
        "\n",
        "def process_neighbors(knn, for_points, addToDf):\n",
        "    for i in range(len(for_points)):\n",
        "        neighbor_catalyst = find_unique_neighbors_add(knn, for_points[i], addToDf)\n",
        "        if len(neighbor_catalyst) > 0:\n",
        "            addToDf = pd.concat([addToDf, neighbor_catalyst], ignore_index=False, sort=True)\n",
        "    return addToDf\n",
        "\n",
        "random_catalyst_df = process_neighbors(knn, new_optimized_catalysts, random_catalyst_df)\n",
        "random_catalyst_df[X_COLS]"
      ],
      "metadata": {
        "id": "10bebdf2fff05fa4",
        "outputId": "8f9d0eeb-e388-4721-fdc9-13f72a59b6b1",
        "colab": {
          "base_uri": "https://localhost:8080/",
          "height": 289
        },
        "ExecuteTime": {
          "end_time": "2024-05-27T19:50:24.719248900Z",
          "start_time": "2024-05-27T19:50:21.794201100Z"
        }
      },
      "id": "10bebdf2fff05fa4"
    },
    {
      "cell_type": "code",
      "execution_count": 61,
      "outputs": [
        {
          "output_type": "execute_result",
          "data": {
            "text/plain": [
              "array([[-0.78896142]])"
            ]
          },
          "metadata": {},
          "execution_count": 61
        }
      ],
      "source": [
        "# sample prediction with model\n",
        "properties1 = (np.array([ 0.75813041,  0.67727654,  0.68692902,  0.57403813, -0.39901283,\n",
        "       -0.83317389, -0.69366434, -0.76423736, -0.18775295, -0.89697628,\n",
        "       -0.93897206, -0.64303136, -0.50508299, -0.82567658, -0.29773217,\n",
        "       -0.23605932, -0.26722481,  0.02879822, -0.69189841]))\n",
        "pls_predict_ee(pls_large_saved_model, properties1)"
      ],
      "metadata": {
        "ExecuteTime": {
          "end_time": "2024-05-27T19:35:44.886986300Z",
          "start_time": "2024-05-27T19:35:44.870652400Z"
        },
        "id": "d0a69f10c8d70c9a",
        "outputId": "138a0d3d-e50c-4981-a50c-89595a60c41d",
        "colab": {
          "base_uri": "https://localhost:8080/"
        }
      },
      "id": "d0a69f10c8d70c9a"
    },
    {
      "cell_type": "code",
      "execution_count": 62,
      "outputs": [],
      "source": [
        "random_catalyst_df = random_catalyst_df[~random_catalyst_df.index.duplicated(keep='first')]"
      ],
      "metadata": {
        "id": "2443520b982251f8",
        "ExecuteTime": {
          "end_time": "2024-05-27T19:35:45.007897800Z",
          "start_time": "2024-05-27T19:35:44.974882900Z"
        }
      },
      "id": "2443520b982251f8"
    },
    {
      "cell_type": "code",
      "execution_count": 66,
      "outputs": [
        {
          "output_type": "stream",
          "name": "stdout",
          "text": [
            "Found the highest ddG. Exiting.\n"
          ]
        }
      ],
      "source": [
        "# We will now do all this in a single loop\n",
        "highest_ddg_index = df.index[df['ddG'] == df['ddG'].max()]\n",
        "not_highest_index=[i for i in df.index if i not in highest_ddg_index]\n",
        "random_catalyst_df = df.loc[not_highest_index].sample(START_SAMPLE_SIZE)\n",
        "prev_loop_len = len(random_catalyst_df)\n",
        "while(len(random_catalyst_df) < len(df)):\n",
        "    new_optimized_catalysts = optimize_catalysts(random_catalyst_df[X_COLS], pls_large_saved_model)\n",
        "    random_catalyst_df = process_neighbors(knn, new_optimized_catalysts, random_catalyst_df)\n",
        "    ## Should not happen because of unique neighbours\n",
        "    if(len(random_catalyst_df) == prev_loop_len):\n",
        "        print(\"The processing has blocked and no new catalysts are being added. Exiting.\")\n",
        "        break\n",
        "    if len(pd.concat([highest_ddg_index.to_series(), random_catalyst_df.index.to_series()], axis=1, join='inner')) > 0:\n",
        "        print(\"Found the highest ddG. Exiting.\")\n",
        "        break\n",
        "    prev_loop_len = len(random_catalyst_df)\n",
        "    print(prev_loop_len)"
      ],
      "metadata": {
        "id": "67bcc19eae370159",
        "outputId": "ec8acd83-8869-4398-a57a-b791fa4fa846",
        "colab": {
          "base_uri": "https://localhost:8080/"
        },
        "is_executing": true,
        "ExecuteTime": {
          "start_time": "2024-05-27T20:13:33.645466400Z"
        }
      },
      "id": "67bcc19eae370159"
    },
    {
      "cell_type": "code",
      "execution_count": 67,
      "outputs": [
        {
          "output_type": "execute_result",
          "data": {
            "text/plain": [
              "Index(['8_8_3', '11_8_2', '16_10_2', '1_1_3', '9_9_5', '1_10_5'], dtype='object', name='Catalyst')"
            ]
          },
          "metadata": {},
          "execution_count": 67
        }
      ],
      "source": [
        "random_catalyst_df.index"
      ],
      "metadata": {
        "id": "8826d4e35f5dad7a",
        "outputId": "e549eb18-f906-4c42-f585-16af3a914428",
        "colab": {
          "base_uri": "https://localhost:8080/"
        },
        "ExecuteTime": {
          "end_time": "2024-05-27T20:01:07.436968400Z",
          "start_time": "2024-05-27T20:01:07.393864600Z"
        }
      },
      "id": "8826d4e35f5dad7a"
    },
    {
      "cell_type": "code",
      "execution_count": 68,
      "outputs": [
        {
          "output_type": "execute_result",
          "data": {
            "text/plain": [
              "Index(['1_1_5', '1_10_5', '1_11_5', '1_2_5', '1_3_5', '1_4_5', '1_5_5',\n",
              "       '1_6_5', '1_7_5', '1_8_5',\n",
              "       ...\n",
              "       '9_10_5', '9_11_5', '9_2_5', '9_3_5', '9_4_5', '9_5_5', '9_6_5',\n",
              "       '9_7_5', '9_8_5', '9_9_5'],\n",
              "      dtype='object', name='Catalyst', length=319)"
            ]
          },
          "metadata": {},
          "execution_count": 68
        }
      ],
      "source": [
        "highest_ddg_index"
      ],
      "metadata": {
        "id": "466dca7e52bd8593",
        "ExecuteTime": {
          "end_time": "2024-05-27T20:05:50.161567400Z",
          "start_time": "2024-05-27T20:05:50.141393600Z"
        },
        "outputId": "24b26e5e-dc9c-435f-8393-f82ba045032e",
        "colab": {
          "base_uri": "https://localhost:8080/"
        }
      },
      "id": "466dca7e52bd8593"
    },
    {
      "cell_type": "code",
      "execution_count": 69,
      "outputs": [
        {
          "output_type": "execute_result",
          "data": {
            "text/plain": [
              "pandas.core.indexes.base.Index"
            ]
          },
          "metadata": {},
          "execution_count": 69
        }
      ],
      "source": [
        "type(highest_ddg_index)"
      ],
      "metadata": {
        "ExecuteTime": {
          "end_time": "2024-05-27T20:02:52.123821300Z",
          "start_time": "2024-05-27T20:02:52.100136400Z"
        },
        "id": "8c379573d47b9211",
        "outputId": "d35b210c-0ac1-4561-a419-da34ed5594fa",
        "colab": {
          "base_uri": "https://localhost:8080/"
        }
      },
      "id": "8c379573d47b9211"
    },
    {
      "cell_type": "code",
      "execution_count": null,
      "outputs": [
        {
          "data": {
            "text/plain": "16"
          },
          "execution_count": 75,
          "metadata": {},
          "output_type": "execute_result"
        }
      ],
      "source": [
        "len(pd.concat([highest_ddg_index.to_series(), random_catalyst_df.index.to_series()], axis=1, join='inner'))"
      ],
      "metadata": {
        "ExecuteTime": {
          "end_time": "2024-05-27T20:07:01.127453600Z",
          "start_time": "2024-05-27T20:07:01.107889100Z"
        },
        "id": "c25e8599b1df23b9",
        "outputId": "0e7ca6a8-fcc9-4179-d147-adcc962f1b77"
      },
      "id": "c25e8599b1df23b9"
    },
    {
      "cell_type": "code",
      "execution_count": null,
      "outputs": [
        {
          "data": {
            "text/plain": "Index(['1_1_1', '1_1_2', '1_1_3', '1_1_4', '1_1_6', '1_10_1', '1_10_2',\n       '1_10_3', '1_10_4', '1_10_6',\n       ...\n       '9_8_1', '9_8_2', '9_8_3', '9_8_4', '9_8_6', '9_9_1', '9_9_2', '9_9_3',\n       '9_9_4', '9_9_6'],\n      dtype='object', name='Catalyst', length=1584)"
          },
          "execution_count": 83,
          "metadata": {},
          "output_type": "execute_result"
        }
      ],
      "source": [
        "not_highest_index=[i for i in df.index if i not in highest_ddg_index]\n",
        "df.loc[not_highest_index].index"
      ],
      "metadata": {
        "ExecuteTime": {
          "end_time": "2024-05-27T20:11:46.308822800Z",
          "start_time": "2024-05-27T20:11:46.281890Z"
        },
        "id": "db0238d6d5ca88dd",
        "outputId": "7dd0ad35-0a01-41f5-820b-ccb3dd6a303c"
      },
      "id": "db0238d6d5ca88dd"
    },
    {
      "cell_type": "code",
      "execution_count": null,
      "outputs": [],
      "source": [],
      "metadata": {
        "id": "76087d0c889f129a"
      },
      "id": "76087d0c889f129a"
    }
  ],
  "metadata": {
    "kernelspec": {
      "display_name": "Python 3",
      "language": "python",
      "name": "python3"
    },
    "language_info": {
      "codemirror_mode": {
        "name": "ipython",
        "version": 2
      },
      "file_extension": ".py",
      "mimetype": "text/x-python",
      "name": "python",
      "nbconvert_exporter": "python",
      "pygments_lexer": "ipython2",
      "version": "2.7.6"
    },
    "colab": {
      "provenance": [],
      "include_colab_link": true
    }
  },
  "nbformat": 4,
  "nbformat_minor": 5
}