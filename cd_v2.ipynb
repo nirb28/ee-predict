{
 "cells": [
  {
   "cell_type": "code",
   "execution_count": 20,
   "id": "initial_id",
   "metadata": {
    "collapsed": true,
    "ExecuteTime": {
     "end_time": "2024-05-23T17:46:33.549003300Z",
     "start_time": "2024-05-23T17:46:33.302964700Z"
    }
   },
   "outputs": [],
   "source": [
    "from sklearn.neighbors import NearestNeighbors\n",
    "import pandas as pd\n",
    "import numpy as np\n",
    "import warnings\n",
    "warnings.filterwarnings('ignore')"
   ]
  },
  {
   "cell_type": "code",
   "execution_count": 21,
   "outputs": [],
   "source": [
    "df = pd.read_csv('data/reduced_dim_space_ddG.csv')\n",
    "df = df[df['ddG (% ee)'] != 0]\n",
    "df.set_index('Catalyst', inplace=True)\n",
    "# start with a few randomly selected catalyst\n",
    "START_SAMPLE_SIZE = 3\n",
    "random_catalyst_df = df.sample(START_SAMPLE_SIZE)"
   ],
   "metadata": {
    "collapsed": false,
    "ExecuteTime": {
     "end_time": "2024-05-23T17:46:33.549003300Z",
     "start_time": "2024-05-23T17:46:33.310971900Z"
    }
   },
   "id": "840f26aaf0a91b45"
  },
  {
   "cell_type": "code",
   "execution_count": 22,
   "outputs": [
    {
     "data": {
      "text/plain": "                  x          y          z  ddG (% ee)\nCatalyst                                             \n8_1_2     19.436941 -26.275921 -13.752350    0.660195\n21_2_4   -16.355725  -1.058726   8.262735    0.563795\n3_2_1     15.386325  -1.180619   3.423324    0.033176",
      "text/html": "<div>\n<style scoped>\n    .dataframe tbody tr th:only-of-type {\n        vertical-align: middle;\n    }\n\n    .dataframe tbody tr th {\n        vertical-align: top;\n    }\n\n    .dataframe thead th {\n        text-align: right;\n    }\n</style>\n<table border=\"1\" class=\"dataframe\">\n  <thead>\n    <tr style=\"text-align: right;\">\n      <th></th>\n      <th>x</th>\n      <th>y</th>\n      <th>z</th>\n      <th>ddG (% ee)</th>\n    </tr>\n    <tr>\n      <th>Catalyst</th>\n      <th></th>\n      <th></th>\n      <th></th>\n      <th></th>\n    </tr>\n  </thead>\n  <tbody>\n    <tr>\n      <th>8_1_2</th>\n      <td>19.436941</td>\n      <td>-26.275921</td>\n      <td>-13.752350</td>\n      <td>0.660195</td>\n    </tr>\n    <tr>\n      <th>21_2_4</th>\n      <td>-16.355725</td>\n      <td>-1.058726</td>\n      <td>8.262735</td>\n      <td>0.563795</td>\n    </tr>\n    <tr>\n      <th>3_2_1</th>\n      <td>15.386325</td>\n      <td>-1.180619</td>\n      <td>3.423324</td>\n      <td>0.033176</td>\n    </tr>\n  </tbody>\n</table>\n</div>"
     },
     "execution_count": 22,
     "metadata": {},
     "output_type": "execute_result"
    }
   ],
   "source": [
    "random_catalyst_df"
   ],
   "metadata": {
    "collapsed": false,
    "ExecuteTime": {
     "end_time": "2024-05-23T17:46:33.700003200Z",
     "start_time": "2024-05-23T17:46:33.321879Z"
    }
   },
   "id": "b8cd7e1ea1cfc7ce"
  },
  {
   "cell_type": "code",
   "execution_count": 23,
   "outputs": [
    {
     "data": {
      "text/plain": "                  x          y          z  ddG (% ee)\nCatalyst                                             \n1_1_1      5.100125 -27.742489 -17.922393    1.226289\n1_1_2      5.153813 -27.571266 -17.950507    0.719002\n1_11_1    24.913739  -0.494436  -8.842801    0.631877\n1_2_1     12.039033 -10.467777  -6.094131    0.216792\n1_2_2     11.859191 -10.604692  -6.049362    0.111677\n...             ...        ...        ...         ...\n9_3_4     36.077375  -7.875347 -14.939623    0.128432\n9_4_1     25.574518 -17.376362   4.663637    0.912247\n9_7_1     22.777582 -19.792283   2.750864    0.056902\n9_7_4     22.721846 -19.736566   2.713267    0.408758\n9_9_1     25.400782 -23.623595   6.083554    0.476662\n\n[318 rows x 4 columns]",
      "text/html": "<div>\n<style scoped>\n    .dataframe tbody tr th:only-of-type {\n        vertical-align: middle;\n    }\n\n    .dataframe tbody tr th {\n        vertical-align: top;\n    }\n\n    .dataframe thead th {\n        text-align: right;\n    }\n</style>\n<table border=\"1\" class=\"dataframe\">\n  <thead>\n    <tr style=\"text-align: right;\">\n      <th></th>\n      <th>x</th>\n      <th>y</th>\n      <th>z</th>\n      <th>ddG (% ee)</th>\n    </tr>\n    <tr>\n      <th>Catalyst</th>\n      <th></th>\n      <th></th>\n      <th></th>\n      <th></th>\n    </tr>\n  </thead>\n  <tbody>\n    <tr>\n      <th>1_1_1</th>\n      <td>5.100125</td>\n      <td>-27.742489</td>\n      <td>-17.922393</td>\n      <td>1.226289</td>\n    </tr>\n    <tr>\n      <th>1_1_2</th>\n      <td>5.153813</td>\n      <td>-27.571266</td>\n      <td>-17.950507</td>\n      <td>0.719002</td>\n    </tr>\n    <tr>\n      <th>1_11_1</th>\n      <td>24.913739</td>\n      <td>-0.494436</td>\n      <td>-8.842801</td>\n      <td>0.631877</td>\n    </tr>\n    <tr>\n      <th>1_2_1</th>\n      <td>12.039033</td>\n      <td>-10.467777</td>\n      <td>-6.094131</td>\n      <td>0.216792</td>\n    </tr>\n    <tr>\n      <th>1_2_2</th>\n      <td>11.859191</td>\n      <td>-10.604692</td>\n      <td>-6.049362</td>\n      <td>0.111677</td>\n    </tr>\n    <tr>\n      <th>...</th>\n      <td>...</td>\n      <td>...</td>\n      <td>...</td>\n      <td>...</td>\n    </tr>\n    <tr>\n      <th>9_3_4</th>\n      <td>36.077375</td>\n      <td>-7.875347</td>\n      <td>-14.939623</td>\n      <td>0.128432</td>\n    </tr>\n    <tr>\n      <th>9_4_1</th>\n      <td>25.574518</td>\n      <td>-17.376362</td>\n      <td>4.663637</td>\n      <td>0.912247</td>\n    </tr>\n    <tr>\n      <th>9_7_1</th>\n      <td>22.777582</td>\n      <td>-19.792283</td>\n      <td>2.750864</td>\n      <td>0.056902</td>\n    </tr>\n    <tr>\n      <th>9_7_4</th>\n      <td>22.721846</td>\n      <td>-19.736566</td>\n      <td>2.713267</td>\n      <td>0.408758</td>\n    </tr>\n    <tr>\n      <th>9_9_1</th>\n      <td>25.400782</td>\n      <td>-23.623595</td>\n      <td>6.083554</td>\n      <td>0.476662</td>\n    </tr>\n  </tbody>\n</table>\n<p>318 rows × 4 columns</p>\n</div>"
     },
     "execution_count": 23,
     "metadata": {},
     "output_type": "execute_result"
    }
   ],
   "source": [
    "df"
   ],
   "metadata": {
    "collapsed": false,
    "ExecuteTime": {
     "end_time": "2024-05-23T17:46:33.701005600Z",
     "start_time": "2024-05-23T17:46:33.340644300Z"
    }
   },
   "id": "f4e75ab71e9987a"
  },
  {
   "cell_type": "code",
   "execution_count": 24,
   "outputs": [],
   "source": [
    "# method to make a regression model from the provided catalysts\n",
    "from sklearn.cross_decomposition import PLSRegression\n",
    "def make_pls_model(df_catalysts):   \n",
    "    X = df_catalysts[['x','y','z']]\n",
    "    y = df_catalysts['ddG (% ee)']\n",
    "    model = PLSRegression(n_components=2)\n",
    "    # fitting the model\n",
    "    model.fit(X, y)\n",
    "    return model"
   ],
   "metadata": {
    "collapsed": false,
    "ExecuteTime": {
     "end_time": "2024-05-23T17:46:33.703008300Z",
     "start_time": "2024-05-23T17:46:33.350541100Z"
    }
   },
   "id": "164770e72ca8a958"
  },
  {
   "cell_type": "code",
   "execution_count": 25,
   "outputs": [],
   "source": [
    "pls_model = make_pls_model(random_catalyst_df)"
   ],
   "metadata": {
    "collapsed": false,
    "ExecuteTime": {
     "end_time": "2024-05-23T17:46:33.703008300Z",
     "start_time": "2024-05-23T17:46:33.362481300Z"
    }
   },
   "id": "d8610890e64596ea"
  },
  {
   "cell_type": "code",
   "execution_count": null,
   "outputs": [],
   "source": [
    "def pls_predict_ee(properties):\n",
    "    return pls_model.predict(properties.reshape(1,-1))\n",
    "\n",
    "# Function to optimize catalyst properties using coordinate descent\n",
    "def optimize_catalysts(catalysts, iterations=100, cd_iterations=10, step_size=0.01, ):\n",
    "    optimized_catalysts = np.copy(catalysts)\n",
    "    for _ in range(iterations):\n",
    "        for i in range(len(optimized_catalysts)):\n",
    "            original_ee = df.iloc[df.index.get_loc(catalysts[i:i+1].index[0])]['ddG (% ee)']\n",
    "            for x in range(len(optimized_catalysts[i])):\n",
    "                for cd in range(cd_iterations):\n",
    "                    old_value = optimized_catalysts[i, x]\n",
    "                    optimized_catalysts[i, x] = old_value + step_size\n",
    "                    new_ee = pls_predict_ee(optimized_catalysts[i])\n",
    "                    if new_ee < original_ee:\n",
    "                        optimized_catalysts[i, x] = old_value - step_size\n",
    "                        new_ee = pls_predict_ee(optimized_catalysts[i])\n",
    "                    if new_ee < original_ee:\n",
    "                        optimized_catalysts[i, x] = old_value\n",
    "                        break\n",
    "    return optimized_catalysts\n",
    "\n",
    "new_optimized_catalysts = optimize_catalysts(random_catalyst_df[['x', 'y', 'z']])"
   ],
   "metadata": {
    "collapsed": false,
    "is_executing": true,
    "ExecuteTime": {
     "start_time": "2024-05-23T18:10:25.972952300Z"
    }
   },
   "id": "3ccce164af24176d"
  },
  {
   "cell_type": "code",
   "execution_count": 46,
   "outputs": [
    {
     "data": {
      "text/plain": "          ddG (% ee)          x          y          z\nCatalyst                                             \n9_11_1      0.826636  33.390888  -7.294826  -1.650258\n5_1_2       1.097592  -4.069721 -28.597117 -27.746540\n2_4_3       0.734203  11.051511  -9.860034  -0.614863\n3_1_2       1.067805   6.336480 -21.554710 -22.309178",
      "text/html": "<div>\n<style scoped>\n    .dataframe tbody tr th:only-of-type {\n        vertical-align: middle;\n    }\n\n    .dataframe tbody tr th {\n        vertical-align: top;\n    }\n\n    .dataframe thead th {\n        text-align: right;\n    }\n</style>\n<table border=\"1\" class=\"dataframe\">\n  <thead>\n    <tr style=\"text-align: right;\">\n      <th></th>\n      <th>ddG (% ee)</th>\n      <th>x</th>\n      <th>y</th>\n      <th>z</th>\n    </tr>\n    <tr>\n      <th>Catalyst</th>\n      <th></th>\n      <th></th>\n      <th></th>\n      <th></th>\n    </tr>\n  </thead>\n  <tbody>\n    <tr>\n      <th>9_11_1</th>\n      <td>0.826636</td>\n      <td>33.390888</td>\n      <td>-7.294826</td>\n      <td>-1.650258</td>\n    </tr>\n    <tr>\n      <th>5_1_2</th>\n      <td>1.097592</td>\n      <td>-4.069721</td>\n      <td>-28.597117</td>\n      <td>-27.746540</td>\n    </tr>\n    <tr>\n      <th>2_4_3</th>\n      <td>0.734203</td>\n      <td>11.051511</td>\n      <td>-9.860034</td>\n      <td>-0.614863</td>\n    </tr>\n    <tr>\n      <th>3_1_2</th>\n      <td>1.067805</td>\n      <td>6.336480</td>\n      <td>-21.554710</td>\n      <td>-22.309178</td>\n    </tr>\n  </tbody>\n</table>\n</div>"
     },
     "execution_count": 46,
     "metadata": {},
     "output_type": "execute_result"
    }
   ],
   "source": [
    "random_catalyst_df"
   ],
   "metadata": {
    "collapsed": false,
    "ExecuteTime": {
     "end_time": "2024-05-23T18:05:16.849685400Z",
     "start_time": "2024-05-23T18:05:16.825680100Z"
    }
   },
   "id": "8a62056b5336b480"
  },
  {
   "cell_type": "code",
   "execution_count": 47,
   "outputs": [
    {
     "data": {
      "text/plain": "array([[ 33.39088794,  -7.29482568,  -1.65025781],\n       [  0.33027921, -24.29711677, -23.44654025],\n       [ 11.05151076,  -9.8600342 ,  -0.61486284],\n       [  6.33648013, -21.55470973, -22.30917789]])"
     },
     "execution_count": 47,
     "metadata": {},
     "output_type": "execute_result"
    }
   ],
   "source": [
    "new_optimized_catalysts"
   ],
   "metadata": {
    "collapsed": false,
    "ExecuteTime": {
     "end_time": "2024-05-23T18:05:18.271355100Z",
     "start_time": "2024-05-23T18:05:18.237278100Z"
    }
   },
   "id": "108551632d59a046"
  },
  {
   "cell_type": "code",
   "execution_count": 29,
   "outputs": [
    {
     "data": {
      "text/plain": "NearestNeighbors(n_neighbors=1)",
      "text/html": "<style>#sk-container-id-2 {\n  /* Definition of color scheme common for light and dark mode */\n  --sklearn-color-text: black;\n  --sklearn-color-line: gray;\n  /* Definition of color scheme for unfitted estimators */\n  --sklearn-color-unfitted-level-0: #fff5e6;\n  --sklearn-color-unfitted-level-1: #f6e4d2;\n  --sklearn-color-unfitted-level-2: #ffe0b3;\n  --sklearn-color-unfitted-level-3: chocolate;\n  /* Definition of color scheme for fitted estimators */\n  --sklearn-color-fitted-level-0: #f0f8ff;\n  --sklearn-color-fitted-level-1: #d4ebff;\n  --sklearn-color-fitted-level-2: #b3dbfd;\n  --sklearn-color-fitted-level-3: cornflowerblue;\n\n  /* Specific color for light theme */\n  --sklearn-color-text-on-default-background: var(--sg-text-color, var(--theme-code-foreground, var(--jp-content-font-color1, black)));\n  --sklearn-color-background: var(--sg-background-color, var(--theme-background, var(--jp-layout-color0, white)));\n  --sklearn-color-border-box: var(--sg-text-color, var(--theme-code-foreground, var(--jp-content-font-color1, black)));\n  --sklearn-color-icon: #696969;\n\n  @media (prefers-color-scheme: dark) {\n    /* Redefinition of color scheme for dark theme */\n    --sklearn-color-text-on-default-background: var(--sg-text-color, var(--theme-code-foreground, var(--jp-content-font-color1, white)));\n    --sklearn-color-background: var(--sg-background-color, var(--theme-background, var(--jp-layout-color0, #111)));\n    --sklearn-color-border-box: var(--sg-text-color, var(--theme-code-foreground, var(--jp-content-font-color1, white)));\n    --sklearn-color-icon: #878787;\n  }\n}\n\n#sk-container-id-2 {\n  color: var(--sklearn-color-text);\n}\n\n#sk-container-id-2 pre {\n  padding: 0;\n}\n\n#sk-container-id-2 input.sk-hidden--visually {\n  border: 0;\n  clip: rect(1px 1px 1px 1px);\n  clip: rect(1px, 1px, 1px, 1px);\n  height: 1px;\n  margin: -1px;\n  overflow: hidden;\n  padding: 0;\n  position: absolute;\n  width: 1px;\n}\n\n#sk-container-id-2 div.sk-dashed-wrapped {\n  border: 1px dashed var(--sklearn-color-line);\n  margin: 0 0.4em 0.5em 0.4em;\n  box-sizing: border-box;\n  padding-bottom: 0.4em;\n  background-color: var(--sklearn-color-background);\n}\n\n#sk-container-id-2 div.sk-container {\n  /* jupyter's `normalize.less` sets `[hidden] { display: none; }`\n     but bootstrap.min.css set `[hidden] { display: none !important; }`\n     so we also need the `!important` here to be able to override the\n     default hidden behavior on the sphinx rendered scikit-learn.org.\n     See: https://github.com/scikit-learn/scikit-learn/issues/21755 */\n  display: inline-block !important;\n  position: relative;\n}\n\n#sk-container-id-2 div.sk-text-repr-fallback {\n  display: none;\n}\n\ndiv.sk-parallel-item,\ndiv.sk-serial,\ndiv.sk-item {\n  /* draw centered vertical line to link estimators */\n  background-image: linear-gradient(var(--sklearn-color-text-on-default-background), var(--sklearn-color-text-on-default-background));\n  background-size: 2px 100%;\n  background-repeat: no-repeat;\n  background-position: center center;\n}\n\n/* Parallel-specific style estimator block */\n\n#sk-container-id-2 div.sk-parallel-item::after {\n  content: \"\";\n  width: 100%;\n  border-bottom: 2px solid var(--sklearn-color-text-on-default-background);\n  flex-grow: 1;\n}\n\n#sk-container-id-2 div.sk-parallel {\n  display: flex;\n  align-items: stretch;\n  justify-content: center;\n  background-color: var(--sklearn-color-background);\n  position: relative;\n}\n\n#sk-container-id-2 div.sk-parallel-item {\n  display: flex;\n  flex-direction: column;\n}\n\n#sk-container-id-2 div.sk-parallel-item:first-child::after {\n  align-self: flex-end;\n  width: 50%;\n}\n\n#sk-container-id-2 div.sk-parallel-item:last-child::after {\n  align-self: flex-start;\n  width: 50%;\n}\n\n#sk-container-id-2 div.sk-parallel-item:only-child::after {\n  width: 0;\n}\n\n/* Serial-specific style estimator block */\n\n#sk-container-id-2 div.sk-serial {\n  display: flex;\n  flex-direction: column;\n  align-items: center;\n  background-color: var(--sklearn-color-background);\n  padding-right: 1em;\n  padding-left: 1em;\n}\n\n\n/* Toggleable style: style used for estimator/Pipeline/ColumnTransformer box that is\nclickable and can be expanded/collapsed.\n- Pipeline and ColumnTransformer use this feature and define the default style\n- Estimators will overwrite some part of the style using the `sk-estimator` class\n*/\n\n/* Pipeline and ColumnTransformer style (default) */\n\n#sk-container-id-2 div.sk-toggleable {\n  /* Default theme specific background. It is overwritten whether we have a\n  specific estimator or a Pipeline/ColumnTransformer */\n  background-color: var(--sklearn-color-background);\n}\n\n/* Toggleable label */\n#sk-container-id-2 label.sk-toggleable__label {\n  cursor: pointer;\n  display: block;\n  width: 100%;\n  margin-bottom: 0;\n  padding: 0.5em;\n  box-sizing: border-box;\n  text-align: center;\n}\n\n#sk-container-id-2 label.sk-toggleable__label-arrow:before {\n  /* Arrow on the left of the label */\n  content: \"▸\";\n  float: left;\n  margin-right: 0.25em;\n  color: var(--sklearn-color-icon);\n}\n\n#sk-container-id-2 label.sk-toggleable__label-arrow:hover:before {\n  color: var(--sklearn-color-text);\n}\n\n/* Toggleable content - dropdown */\n\n#sk-container-id-2 div.sk-toggleable__content {\n  max-height: 0;\n  max-width: 0;\n  overflow: hidden;\n  text-align: left;\n  /* unfitted */\n  background-color: var(--sklearn-color-unfitted-level-0);\n}\n\n#sk-container-id-2 div.sk-toggleable__content.fitted {\n  /* fitted */\n  background-color: var(--sklearn-color-fitted-level-0);\n}\n\n#sk-container-id-2 div.sk-toggleable__content pre {\n  margin: 0.2em;\n  border-radius: 0.25em;\n  color: var(--sklearn-color-text);\n  /* unfitted */\n  background-color: var(--sklearn-color-unfitted-level-0);\n}\n\n#sk-container-id-2 div.sk-toggleable__content.fitted pre {\n  /* unfitted */\n  background-color: var(--sklearn-color-fitted-level-0);\n}\n\n#sk-container-id-2 input.sk-toggleable__control:checked~div.sk-toggleable__content {\n  /* Expand drop-down */\n  max-height: 200px;\n  max-width: 100%;\n  overflow: auto;\n}\n\n#sk-container-id-2 input.sk-toggleable__control:checked~label.sk-toggleable__label-arrow:before {\n  content: \"▾\";\n}\n\n/* Pipeline/ColumnTransformer-specific style */\n\n#sk-container-id-2 div.sk-label input.sk-toggleable__control:checked~label.sk-toggleable__label {\n  color: var(--sklearn-color-text);\n  background-color: var(--sklearn-color-unfitted-level-2);\n}\n\n#sk-container-id-2 div.sk-label.fitted input.sk-toggleable__control:checked~label.sk-toggleable__label {\n  background-color: var(--sklearn-color-fitted-level-2);\n}\n\n/* Estimator-specific style */\n\n/* Colorize estimator box */\n#sk-container-id-2 div.sk-estimator input.sk-toggleable__control:checked~label.sk-toggleable__label {\n  /* unfitted */\n  background-color: var(--sklearn-color-unfitted-level-2);\n}\n\n#sk-container-id-2 div.sk-estimator.fitted input.sk-toggleable__control:checked~label.sk-toggleable__label {\n  /* fitted */\n  background-color: var(--sklearn-color-fitted-level-2);\n}\n\n#sk-container-id-2 div.sk-label label.sk-toggleable__label,\n#sk-container-id-2 div.sk-label label {\n  /* The background is the default theme color */\n  color: var(--sklearn-color-text-on-default-background);\n}\n\n/* On hover, darken the color of the background */\n#sk-container-id-2 div.sk-label:hover label.sk-toggleable__label {\n  color: var(--sklearn-color-text);\n  background-color: var(--sklearn-color-unfitted-level-2);\n}\n\n/* Label box, darken color on hover, fitted */\n#sk-container-id-2 div.sk-label.fitted:hover label.sk-toggleable__label.fitted {\n  color: var(--sklearn-color-text);\n  background-color: var(--sklearn-color-fitted-level-2);\n}\n\n/* Estimator label */\n\n#sk-container-id-2 div.sk-label label {\n  font-family: monospace;\n  font-weight: bold;\n  display: inline-block;\n  line-height: 1.2em;\n}\n\n#sk-container-id-2 div.sk-label-container {\n  text-align: center;\n}\n\n/* Estimator-specific */\n#sk-container-id-2 div.sk-estimator {\n  font-family: monospace;\n  border: 1px dotted var(--sklearn-color-border-box);\n  border-radius: 0.25em;\n  box-sizing: border-box;\n  margin-bottom: 0.5em;\n  /* unfitted */\n  background-color: var(--sklearn-color-unfitted-level-0);\n}\n\n#sk-container-id-2 div.sk-estimator.fitted {\n  /* fitted */\n  background-color: var(--sklearn-color-fitted-level-0);\n}\n\n/* on hover */\n#sk-container-id-2 div.sk-estimator:hover {\n  /* unfitted */\n  background-color: var(--sklearn-color-unfitted-level-2);\n}\n\n#sk-container-id-2 div.sk-estimator.fitted:hover {\n  /* fitted */\n  background-color: var(--sklearn-color-fitted-level-2);\n}\n\n/* Specification for estimator info (e.g. \"i\" and \"?\") */\n\n/* Common style for \"i\" and \"?\" */\n\n.sk-estimator-doc-link,\na:link.sk-estimator-doc-link,\na:visited.sk-estimator-doc-link {\n  float: right;\n  font-size: smaller;\n  line-height: 1em;\n  font-family: monospace;\n  background-color: var(--sklearn-color-background);\n  border-radius: 1em;\n  height: 1em;\n  width: 1em;\n  text-decoration: none !important;\n  margin-left: 1ex;\n  /* unfitted */\n  border: var(--sklearn-color-unfitted-level-1) 1pt solid;\n  color: var(--sklearn-color-unfitted-level-1);\n}\n\n.sk-estimator-doc-link.fitted,\na:link.sk-estimator-doc-link.fitted,\na:visited.sk-estimator-doc-link.fitted {\n  /* fitted */\n  border: var(--sklearn-color-fitted-level-1) 1pt solid;\n  color: var(--sklearn-color-fitted-level-1);\n}\n\n/* On hover */\ndiv.sk-estimator:hover .sk-estimator-doc-link:hover,\n.sk-estimator-doc-link:hover,\ndiv.sk-label-container:hover .sk-estimator-doc-link:hover,\n.sk-estimator-doc-link:hover {\n  /* unfitted */\n  background-color: var(--sklearn-color-unfitted-level-3);\n  color: var(--sklearn-color-background);\n  text-decoration: none;\n}\n\ndiv.sk-estimator.fitted:hover .sk-estimator-doc-link.fitted:hover,\n.sk-estimator-doc-link.fitted:hover,\ndiv.sk-label-container:hover .sk-estimator-doc-link.fitted:hover,\n.sk-estimator-doc-link.fitted:hover {\n  /* fitted */\n  background-color: var(--sklearn-color-fitted-level-3);\n  color: var(--sklearn-color-background);\n  text-decoration: none;\n}\n\n/* Span, style for the box shown on hovering the info icon */\n.sk-estimator-doc-link span {\n  display: none;\n  z-index: 9999;\n  position: relative;\n  font-weight: normal;\n  right: .2ex;\n  padding: .5ex;\n  margin: .5ex;\n  width: min-content;\n  min-width: 20ex;\n  max-width: 50ex;\n  color: var(--sklearn-color-text);\n  box-shadow: 2pt 2pt 4pt #999;\n  /* unfitted */\n  background: var(--sklearn-color-unfitted-level-0);\n  border: .5pt solid var(--sklearn-color-unfitted-level-3);\n}\n\n.sk-estimator-doc-link.fitted span {\n  /* fitted */\n  background: var(--sklearn-color-fitted-level-0);\n  border: var(--sklearn-color-fitted-level-3);\n}\n\n.sk-estimator-doc-link:hover span {\n  display: block;\n}\n\n/* \"?\"-specific style due to the `<a>` HTML tag */\n\n#sk-container-id-2 a.estimator_doc_link {\n  float: right;\n  font-size: 1rem;\n  line-height: 1em;\n  font-family: monospace;\n  background-color: var(--sklearn-color-background);\n  border-radius: 1rem;\n  height: 1rem;\n  width: 1rem;\n  text-decoration: none;\n  /* unfitted */\n  color: var(--sklearn-color-unfitted-level-1);\n  border: var(--sklearn-color-unfitted-level-1) 1pt solid;\n}\n\n#sk-container-id-2 a.estimator_doc_link.fitted {\n  /* fitted */\n  border: var(--sklearn-color-fitted-level-1) 1pt solid;\n  color: var(--sklearn-color-fitted-level-1);\n}\n\n/* On hover */\n#sk-container-id-2 a.estimator_doc_link:hover {\n  /* unfitted */\n  background-color: var(--sklearn-color-unfitted-level-3);\n  color: var(--sklearn-color-background);\n  text-decoration: none;\n}\n\n#sk-container-id-2 a.estimator_doc_link.fitted:hover {\n  /* fitted */\n  background-color: var(--sklearn-color-fitted-level-3);\n}\n</style><div id=\"sk-container-id-2\" class=\"sk-top-container\"><div class=\"sk-text-repr-fallback\"><pre>NearestNeighbors(n_neighbors=1)</pre><b>In a Jupyter environment, please rerun this cell to show the HTML representation or trust the notebook. <br />On GitHub, the HTML representation is unable to render, please try loading this page with nbviewer.org.</b></div><div class=\"sk-container\" hidden><div class=\"sk-item\"><div class=\"sk-estimator fitted sk-toggleable\"><input class=\"sk-toggleable__control sk-hidden--visually\" id=\"sk-estimator-id-2\" type=\"checkbox\" checked><label for=\"sk-estimator-id-2\" class=\"sk-toggleable__label fitted sk-toggleable__label-arrow fitted\">&nbsp;&nbsp;NearestNeighbors<a class=\"sk-estimator-doc-link fitted\" rel=\"noreferrer\" target=\"_blank\" href=\"https://scikit-learn.org/1.4/modules/generated/sklearn.neighbors.NearestNeighbors.html\">?<span>Documentation for NearestNeighbors</span></a><span class=\"sk-estimator-doc-link fitted\">i<span>Fitted</span></span></label><div class=\"sk-toggleable__content fitted\"><pre>NearestNeighbors(n_neighbors=1)</pre></div> </div></div></div></div>"
     },
     "execution_count": 29,
     "metadata": {},
     "output_type": "execute_result"
    }
   ],
   "source": [
    "# Perform k-nearest neighbors analysis\n",
    "num_neighbors = 1  # Number of neighbors to consider\n",
    "knn = NearestNeighbors(n_neighbors=num_neighbors)\n",
    "knn.fit(df[['x', 'y', 'z']])  # Using all the catalysts "
   ],
   "metadata": {
    "collapsed": false,
    "ExecuteTime": {
     "end_time": "2024-05-23T17:46:36.167941700Z",
     "start_time": "2024-05-23T17:46:36.080713700Z"
    }
   },
   "id": "5148feb1e89070b9"
  },
  {
   "cell_type": "code",
   "execution_count": 30,
   "outputs": [
    {
     "data": {
      "text/plain": "[293, 169, 235]"
     },
     "execution_count": 30,
     "metadata": {},
     "output_type": "execute_result"
    }
   ],
   "source": [
    "original_ee = df['ddG (% ee)']\n",
    "def get_neighbors(knn, for_points):\n",
    "    knn_indices = []\n",
    "    for i in range(len(for_points)):\n",
    "        distances, indices = knn.kneighbors([for_points[i]])\n",
    "        knn_indices.append(indices[0][0])\n",
    "    return knn_indices\n",
    "\n",
    "knn_indices = get_neighbors(knn, new_optimized_catalysts)\n",
    "knn_indices"
   ],
   "metadata": {
    "collapsed": false,
    "ExecuteTime": {
     "end_time": "2024-05-23T17:46:36.258511700Z",
     "start_time": "2024-05-23T17:46:36.095073600Z"
    }
   },
   "id": "10bebdf2fff05fa4"
  },
  {
   "cell_type": "code",
   "execution_count": 31,
   "outputs": [],
   "source": [
    "found_neighbors = df.iloc[knn_indices]"
   ],
   "metadata": {
    "collapsed": false,
    "ExecuteTime": {
     "end_time": "2024-05-23T17:46:36.259511500Z",
     "start_time": "2024-05-23T17:46:36.108638400Z"
    }
   },
   "id": "ea01e42b2cda22dd"
  },
  {
   "cell_type": "code",
   "execution_count": 32,
   "outputs": [],
   "source": [
    "random_catalyst_df = pd.concat([random_catalyst_df, found_neighbors], ignore_index=False, sort=True)"
   ],
   "metadata": {
    "collapsed": false,
    "ExecuteTime": {
     "end_time": "2024-05-23T17:46:36.259511500Z",
     "start_time": "2024-05-23T17:46:36.124518700Z"
    }
   },
   "id": "e5269f69cb783b5c"
  },
  {
   "cell_type": "code",
   "execution_count": 33,
   "outputs": [
    {
     "data": {
      "text/plain": "          ddG (% ee)          x          y          z\nCatalyst                                             \n8_1_2       0.660195  19.436941 -26.275921 -13.752350\n21_2_4      0.563795 -16.355725  -1.058726   8.262735\n3_2_1       0.033176  15.386325  -1.180619   3.423324\n8_1_2       0.660195  19.436941 -26.275921 -13.752350\n21_2_4      0.563795 -16.355725  -1.058726   8.262735\n3_2_1       0.033176  15.386325  -1.180619   3.423324",
      "text/html": "<div>\n<style scoped>\n    .dataframe tbody tr th:only-of-type {\n        vertical-align: middle;\n    }\n\n    .dataframe tbody tr th {\n        vertical-align: top;\n    }\n\n    .dataframe thead th {\n        text-align: right;\n    }\n</style>\n<table border=\"1\" class=\"dataframe\">\n  <thead>\n    <tr style=\"text-align: right;\">\n      <th></th>\n      <th>ddG (% ee)</th>\n      <th>x</th>\n      <th>y</th>\n      <th>z</th>\n    </tr>\n    <tr>\n      <th>Catalyst</th>\n      <th></th>\n      <th></th>\n      <th></th>\n      <th></th>\n    </tr>\n  </thead>\n  <tbody>\n    <tr>\n      <th>8_1_2</th>\n      <td>0.660195</td>\n      <td>19.436941</td>\n      <td>-26.275921</td>\n      <td>-13.752350</td>\n    </tr>\n    <tr>\n      <th>21_2_4</th>\n      <td>0.563795</td>\n      <td>-16.355725</td>\n      <td>-1.058726</td>\n      <td>8.262735</td>\n    </tr>\n    <tr>\n      <th>3_2_1</th>\n      <td>0.033176</td>\n      <td>15.386325</td>\n      <td>-1.180619</td>\n      <td>3.423324</td>\n    </tr>\n    <tr>\n      <th>8_1_2</th>\n      <td>0.660195</td>\n      <td>19.436941</td>\n      <td>-26.275921</td>\n      <td>-13.752350</td>\n    </tr>\n    <tr>\n      <th>21_2_4</th>\n      <td>0.563795</td>\n      <td>-16.355725</td>\n      <td>-1.058726</td>\n      <td>8.262735</td>\n    </tr>\n    <tr>\n      <th>3_2_1</th>\n      <td>0.033176</td>\n      <td>15.386325</td>\n      <td>-1.180619</td>\n      <td>3.423324</td>\n    </tr>\n  </tbody>\n</table>\n</div>"
     },
     "execution_count": 33,
     "metadata": {},
     "output_type": "execute_result"
    }
   ],
   "source": [
    "random_catalyst_df"
   ],
   "metadata": {
    "collapsed": false,
    "ExecuteTime": {
     "end_time": "2024-05-23T17:46:36.259511500Z",
     "start_time": "2024-05-23T17:46:36.140516Z"
    }
   },
   "id": "c2588b0e5968438b"
  },
  {
   "cell_type": "code",
   "execution_count": 34,
   "outputs": [],
   "source": [
    "random_catalyst_df = random_catalyst_df[~random_catalyst_df.index.duplicated(keep='first')]"
   ],
   "metadata": {
    "collapsed": false,
    "ExecuteTime": {
     "end_time": "2024-05-23T17:46:36.260513100Z",
     "start_time": "2024-05-23T17:46:36.150623Z"
    }
   },
   "id": "2443520b982251f8"
  },
  {
   "cell_type": "code",
   "execution_count": 35,
   "outputs": [
    {
     "data": {
      "text/plain": "          ddG (% ee)          x          y          z\nCatalyst                                             \n8_1_2       0.660195  19.436941 -26.275921 -13.752350\n21_2_4      0.563795 -16.355725  -1.058726   8.262735\n3_2_1       0.033176  15.386325  -1.180619   3.423324",
      "text/html": "<div>\n<style scoped>\n    .dataframe tbody tr th:only-of-type {\n        vertical-align: middle;\n    }\n\n    .dataframe tbody tr th {\n        vertical-align: top;\n    }\n\n    .dataframe thead th {\n        text-align: right;\n    }\n</style>\n<table border=\"1\" class=\"dataframe\">\n  <thead>\n    <tr style=\"text-align: right;\">\n      <th></th>\n      <th>ddG (% ee)</th>\n      <th>x</th>\n      <th>y</th>\n      <th>z</th>\n    </tr>\n    <tr>\n      <th>Catalyst</th>\n      <th></th>\n      <th></th>\n      <th></th>\n      <th></th>\n    </tr>\n  </thead>\n  <tbody>\n    <tr>\n      <th>8_1_2</th>\n      <td>0.660195</td>\n      <td>19.436941</td>\n      <td>-26.275921</td>\n      <td>-13.752350</td>\n    </tr>\n    <tr>\n      <th>21_2_4</th>\n      <td>0.563795</td>\n      <td>-16.355725</td>\n      <td>-1.058726</td>\n      <td>8.262735</td>\n    </tr>\n    <tr>\n      <th>3_2_1</th>\n      <td>0.033176</td>\n      <td>15.386325</td>\n      <td>-1.180619</td>\n      <td>3.423324</td>\n    </tr>\n  </tbody>\n</table>\n</div>"
     },
     "execution_count": 35,
     "metadata": {},
     "output_type": "execute_result"
    }
   ],
   "source": [
    "random_catalyst_df"
   ],
   "metadata": {
    "collapsed": false,
    "ExecuteTime": {
     "end_time": "2024-05-23T17:46:36.263509500Z",
     "start_time": "2024-05-23T17:46:36.164635100Z"
    }
   },
   "id": "7ce2640aad60a2fb"
  },
  {
   "cell_type": "code",
   "execution_count": 36,
   "outputs": [],
   "source": [
    "def optimize_find_catalysts(catalysts_X):\n",
    "    new_optimized_catalysts = optimize_catalysts(catalysts_X)\n",
    "    knn_indices = get_neighbors(knn, new_optimized_catalysts)\n",
    "    found_neighbors = df.iloc[knn_indices]\n",
    "    return new_optimized_catalysts, found_neighbors"
   ],
   "metadata": {
    "collapsed": false,
    "ExecuteTime": {
     "end_time": "2024-05-23T17:46:36.264511100Z",
     "start_time": "2024-05-23T17:46:36.176939Z"
    }
   },
   "id": "c6f734a85f7f7e9f"
  },
  {
   "cell_type": "code",
   "execution_count": 43,
   "outputs": [
    {
     "name": "stdout",
     "output_type": "stream",
     "text": [
      "4\n",
      "The processing has blocked and no new catalysts are being added. Exiting.\n"
     ]
    }
   ],
   "source": [
    "# We will now do all this in a single loop\n",
    "random_catalyst_df = df.sample(START_SAMPLE_SIZE)\n",
    "prev_loop_len = len(random_catalyst_df)\n",
    "while(len(random_catalyst_df) < len(df)):\n",
    "    new_optimized_catalysts, found_neighbors = optimize_find_catalysts(random_catalyst_df[['x', 'y', 'z']])\n",
    "    random_catalyst_df = pd.concat([random_catalyst_df, found_neighbors], ignore_index=False, sort=True)\n",
    "    random_catalyst_df = random_catalyst_df[~random_catalyst_df.index.duplicated(keep='first')]\n",
    "    if(len(random_catalyst_df) == prev_loop_len):\n",
    "        print(\"The processing has blocked and no new catalysts are being added. Exiting.\")\n",
    "        break\n",
    "    prev_loop_len = len(random_catalyst_df)\n",
    "    print(prev_loop_len)"
   ],
   "metadata": {
    "collapsed": false,
    "ExecuteTime": {
     "end_time": "2024-05-23T18:04:12.644439900Z",
     "start_time": "2024-05-23T18:00:22.452371900Z"
    }
   },
   "id": "67bcc19eae370159"
  },
  {
   "cell_type": "code",
   "execution_count": 44,
   "outputs": [
    {
     "data": {
      "text/plain": "          ddG (% ee)          x          y          z\nCatalyst                                             \n9_11_1      0.826636  33.390888  -7.294826  -1.650258\n5_1_2       1.097592  -4.069721 -28.597117 -27.746540\n2_4_3       0.734203  11.051511  -9.860034  -0.614863\n3_1_2       1.067805   6.336480 -21.554710 -22.309178",
      "text/html": "<div>\n<style scoped>\n    .dataframe tbody tr th:only-of-type {\n        vertical-align: middle;\n    }\n\n    .dataframe tbody tr th {\n        vertical-align: top;\n    }\n\n    .dataframe thead th {\n        text-align: right;\n    }\n</style>\n<table border=\"1\" class=\"dataframe\">\n  <thead>\n    <tr style=\"text-align: right;\">\n      <th></th>\n      <th>ddG (% ee)</th>\n      <th>x</th>\n      <th>y</th>\n      <th>z</th>\n    </tr>\n    <tr>\n      <th>Catalyst</th>\n      <th></th>\n      <th></th>\n      <th></th>\n      <th></th>\n    </tr>\n  </thead>\n  <tbody>\n    <tr>\n      <th>9_11_1</th>\n      <td>0.826636</td>\n      <td>33.390888</td>\n      <td>-7.294826</td>\n      <td>-1.650258</td>\n    </tr>\n    <tr>\n      <th>5_1_2</th>\n      <td>1.097592</td>\n      <td>-4.069721</td>\n      <td>-28.597117</td>\n      <td>-27.746540</td>\n    </tr>\n    <tr>\n      <th>2_4_3</th>\n      <td>0.734203</td>\n      <td>11.051511</td>\n      <td>-9.860034</td>\n      <td>-0.614863</td>\n    </tr>\n    <tr>\n      <th>3_1_2</th>\n      <td>1.067805</td>\n      <td>6.336480</td>\n      <td>-21.554710</td>\n      <td>-22.309178</td>\n    </tr>\n  </tbody>\n</table>\n</div>"
     },
     "execution_count": 44,
     "metadata": {},
     "output_type": "execute_result"
    }
   ],
   "source": [
    "random_catalyst_df"
   ],
   "metadata": {
    "collapsed": false,
    "ExecuteTime": {
     "end_time": "2024-05-23T18:04:46.128137200Z",
     "start_time": "2024-05-23T18:04:46.111609500Z"
    }
   },
   "id": "8826d4e35f5dad7a"
  },
  {
   "cell_type": "code",
   "execution_count": null,
   "outputs": [],
   "source": [],
   "metadata": {
    "collapsed": false,
    "ExecuteTime": {
     "start_time": "2024-05-23T17:48:06.094871400Z"
    }
   },
   "id": "466dca7e52bd8593"
  }
 ],
 "metadata": {
  "kernelspec": {
   "display_name": "Python 3",
   "language": "python",
   "name": "python3"
  },
  "language_info": {
   "codemirror_mode": {
    "name": "ipython",
    "version": 2
   },
   "file_extension": ".py",
   "mimetype": "text/x-python",
   "name": "python",
   "nbconvert_exporter": "python",
   "pygments_lexer": "ipython2",
   "version": "2.7.6"
  }
 },
 "nbformat": 4,
 "nbformat_minor": 5
}
