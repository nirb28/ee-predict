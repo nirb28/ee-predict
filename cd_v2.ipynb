{
  "cells": [
    {
      "cell_type": "markdown",
      "metadata": {
        "id": "view-in-github",
        "colab_type": "text"
      },
      "source": [
        "<a href=\"https://colab.research.google.com/github/nirb28/ee-predict/blob/main/cd_v2.ipynb\" target=\"_parent\"><img src=\"https://colab.research.google.com/assets/colab-badge.svg\" alt=\"Open In Colab\"/></a>"
      ]
    },
    {
      "cell_type": "markdown",
      "metadata": {
        "id": "6c17f8c425251738"
      },
      "source": [
        "<a href=\"https://colab.research.google.com/github/nirb28/ee-predict/blob/main/cd_v2.ipynb\" target=\"_parent\"><img src=\"https://colab.research.google.com/assets/colab-badge.svg\" alt=\"Open In Colab\"/></a>"
      ],
      "id": "6c17f8c425251738"
    },
    {
      "cell_type": "code",
      "source": [
        "def resolve_path_gdrive(relativePath):\n",
        "    if os.path.exists('/content/drive'):\n",
        "        return '/content/drive/MyDrive/work/gdrive-workspaces/git/ee-predict/' + relativePath\n",
        "    else:\n",
        "        return relativePath\n",
        "from google.colab import drive\n",
        "drive.mount('/content/drive', force_remount=False)"
      ],
      "metadata": {
        "id": "sqVMg9hstUzl",
        "is_executing": true
      },
      "id": "sqVMg9hstUzl",
      "execution_count": null,
      "outputs": []
    },
    {
      "cell_type": "code",
      "execution_count": null,
      "id": "initial_id",
      "metadata": {
        "collapsed": true,
        "id": "initial_id",
        "ExecuteTime": {
          "end_time": "2024-05-27T19:35:14.730964600Z",
          "start_time": "2024-05-27T19:35:14.716958100Z"
        }
      },
      "outputs": [],
      "source": [
        "from sklearn.neighbors import NearestNeighbors\n",
        "import pandas as pd\n",
        "import numpy as np, os\n",
        "import warnings\n",
        "warnings.filterwarnings('ignore')"
      ]
    },
    {
      "cell_type": "code",
      "execution_count": null,
      "outputs": [],
      "source": [
        "#DATAFILE_NAME = \"reduced_dim_space_ddG.csv\"\n",
        "DATASET = \"LARGE\" # \"LARGE\" or \"REDUCED\"\n",
        "if DATASET == \"REDUCED\":\n",
        "  DATAFILE_NAME = \"reduced_dim_space_ddG.csv\"\n",
        "  X_COLS = ['x', 'y', 'z']\n",
        "else:\n",
        "  DATAFILE_NAME = \"large_cat_desc_col_names.csv\"\n",
        "  X_COLS = ['3954', '3955', '3957', '3958', '3959', '3960', '3961', '3962', '3963',\n",
        "       '3964', '3965', '3966', '3967', '3968', '3969', '3970', '3971', '3972',\n",
        "       '3973']\n",
        "\n",
        "df = pd.read_csv(resolve_path_gdrive('data/' + DATAFILE_NAME))"
      ],
      "metadata": {
        "id": "840f26aaf0a91b45",
        "ExecuteTime": {
          "end_time": "2024-05-27T19:35:17.465071600Z",
          "start_time": "2024-05-27T19:35:16.164993900Z"
        }
      },
      "id": "840f26aaf0a91b45"
    },
    {
      "cell_type": "code",
      "source": [
        "df = df[df['ddG'] != 0]\n",
        "df.set_index('Catalyst', inplace=True)\n",
        "# start with a few randomly selected catalyst\n",
        "START_SAMPLE_SIZE = 3\n",
        "random_catalyst_df = df.sample(START_SAMPLE_SIZE)"
      ],
      "metadata": {
        "id": "_hwUnCcWv9dF",
        "ExecuteTime": {
          "end_time": "2024-05-27T19:35:18.227250800Z",
          "start_time": "2024-05-27T19:35:18.197305600Z"
        }
      },
      "id": "_hwUnCcWv9dF",
      "execution_count": null,
      "outputs": []
    },
    {
      "cell_type": "code",
      "execution_count": null,
      "outputs": [],
      "source": [
        "original_ee = df['ddG']\n",
        "def pls_predict_ee(pls_model, properties):\n",
        "    return pls_model.predict(properties.reshape(1,-1))\n",
        "\n",
        "# Function to optimize catalyst properties using coordinate descent\n",
        "def optimize_catalysts(catalysts, pls_model=None, iterations=100, cd_iterations=10, step_size=0.001):\n",
        "    if pls_model == None:\n",
        "        print(\"Creating a new model. # data items: \" + str(len(catalysts)))\n",
        "        pls_model = make_pls_model(random_catalyst_df)\n",
        "    optimized_catalysts = np.copy(catalysts)\n",
        "    for _ in range(iterations):\n",
        "        for i in range(len(optimized_catalysts)):\n",
        "            ## we have few options for the original_ee. We can use from the dataset or get the prediction\n",
        "            ## from the model. The prediction makes sense as we want to traverse in the direction where\n",
        "            ## ee improves according to the model\n",
        "\n",
        "            ## when using ddG from dataset\n",
        "            #original_ee = df.iloc[df.index.get_loc(catalysts[i:i+1].index[0])]['ddG']\n",
        "            ## when using the model\n",
        "            original_ee = pls_predict_ee(pls_model, optimized_catalysts[i])\n",
        "            for x in range(len(optimized_catalysts[i])):\n",
        "                for cd in range(cd_iterations):\n",
        "                    old_value = optimized_catalysts[i, x]\n",
        "                    optimized_catalysts[i, x] = old_value + step_size\n",
        "                    new_ee = pls_predict_ee(pls_model, optimized_catalysts[i])\n",
        "                    if new_ee < original_ee:\n",
        "                        optimized_catalysts[i, x] = old_value - step_size\n",
        "                        new_ee = pls_predict_ee(pls_model, optimized_catalysts[i])\n",
        "                    if new_ee < original_ee:\n",
        "                        optimized_catalysts[i, x] = old_value\n",
        "                        break\n",
        "                    #print('Found a direction for higher ddG')\n",
        "    return optimized_catalysts\n",
        "\n",
        "new_optimized_catalysts = optimize_catalysts(random_catalyst_df[X_COLS], pls_large_saved_model)"
      ],
      "metadata": {
        "id": "3ccce164af24176d",
        "ExecuteTime": {
          "end_time": "2024-05-27T19:35:28.984868700Z",
          "start_time": "2024-05-27T19:35:23.244966Z"
        }
      },
      "id": "3ccce164af24176d"
    },
    {
      "cell_type": "code",
      "execution_count": null,
      "outputs": [
        {
          "data": {
            "text/plain": "PLSRegression(n_components=3)",
            "text/html": "<style>#sk-container-id-3 {\n  /* Definition of color scheme common for light and dark mode */\n  --sklearn-color-text: black;\n  --sklearn-color-line: gray;\n  /* Definition of color scheme for unfitted estimators */\n  --sklearn-color-unfitted-level-0: #fff5e6;\n  --sklearn-color-unfitted-level-1: #f6e4d2;\n  --sklearn-color-unfitted-level-2: #ffe0b3;\n  --sklearn-color-unfitted-level-3: chocolate;\n  /* Definition of color scheme for fitted estimators */\n  --sklearn-color-fitted-level-0: #f0f8ff;\n  --sklearn-color-fitted-level-1: #d4ebff;\n  --sklearn-color-fitted-level-2: #b3dbfd;\n  --sklearn-color-fitted-level-3: cornflowerblue;\n\n  /* Specific color for light theme */\n  --sklearn-color-text-on-default-background: var(--sg-text-color, var(--theme-code-foreground, var(--jp-content-font-color1, black)));\n  --sklearn-color-background: var(--sg-background-color, var(--theme-background, var(--jp-layout-color0, white)));\n  --sklearn-color-border-box: var(--sg-text-color, var(--theme-code-foreground, var(--jp-content-font-color1, black)));\n  --sklearn-color-icon: #696969;\n\n  @media (prefers-color-scheme: dark) {\n    /* Redefinition of color scheme for dark theme */\n    --sklearn-color-text-on-default-background: var(--sg-text-color, var(--theme-code-foreground, var(--jp-content-font-color1, white)));\n    --sklearn-color-background: var(--sg-background-color, var(--theme-background, var(--jp-layout-color0, #111)));\n    --sklearn-color-border-box: var(--sg-text-color, var(--theme-code-foreground, var(--jp-content-font-color1, white)));\n    --sklearn-color-icon: #878787;\n  }\n}\n\n#sk-container-id-3 {\n  color: var(--sklearn-color-text);\n}\n\n#sk-container-id-3 pre {\n  padding: 0;\n}\n\n#sk-container-id-3 input.sk-hidden--visually {\n  border: 0;\n  clip: rect(1px 1px 1px 1px);\n  clip: rect(1px, 1px, 1px, 1px);\n  height: 1px;\n  margin: -1px;\n  overflow: hidden;\n  padding: 0;\n  position: absolute;\n  width: 1px;\n}\n\n#sk-container-id-3 div.sk-dashed-wrapped {\n  border: 1px dashed var(--sklearn-color-line);\n  margin: 0 0.4em 0.5em 0.4em;\n  box-sizing: border-box;\n  padding-bottom: 0.4em;\n  background-color: var(--sklearn-color-background);\n}\n\n#sk-container-id-3 div.sk-container {\n  /* jupyter's `normalize.less` sets `[hidden] { display: none; }`\n     but bootstrap.min.css set `[hidden] { display: none !important; }`\n     so we also need the `!important` here to be able to override the\n     default hidden behavior on the sphinx rendered scikit-learn.org.\n     See: https://github.com/scikit-learn/scikit-learn/issues/21755 */\n  display: inline-block !important;\n  position: relative;\n}\n\n#sk-container-id-3 div.sk-text-repr-fallback {\n  display: none;\n}\n\ndiv.sk-parallel-item,\ndiv.sk-serial,\ndiv.sk-item {\n  /* draw centered vertical line to link estimators */\n  background-image: linear-gradient(var(--sklearn-color-text-on-default-background), var(--sklearn-color-text-on-default-background));\n  background-size: 2px 100%;\n  background-repeat: no-repeat;\n  background-position: center center;\n}\n\n/* Parallel-specific style estimator block */\n\n#sk-container-id-3 div.sk-parallel-item::after {\n  content: \"\";\n  width: 100%;\n  border-bottom: 2px solid var(--sklearn-color-text-on-default-background);\n  flex-grow: 1;\n}\n\n#sk-container-id-3 div.sk-parallel {\n  display: flex;\n  align-items: stretch;\n  justify-content: center;\n  background-color: var(--sklearn-color-background);\n  position: relative;\n}\n\n#sk-container-id-3 div.sk-parallel-item {\n  display: flex;\n  flex-direction: column;\n}\n\n#sk-container-id-3 div.sk-parallel-item:first-child::after {\n  align-self: flex-end;\n  width: 50%;\n}\n\n#sk-container-id-3 div.sk-parallel-item:last-child::after {\n  align-self: flex-start;\n  width: 50%;\n}\n\n#sk-container-id-3 div.sk-parallel-item:only-child::after {\n  width: 0;\n}\n\n/* Serial-specific style estimator block */\n\n#sk-container-id-3 div.sk-serial {\n  display: flex;\n  flex-direction: column;\n  align-items: center;\n  background-color: var(--sklearn-color-background);\n  padding-right: 1em;\n  padding-left: 1em;\n}\n\n\n/* Toggleable style: style used for estimator/Pipeline/ColumnTransformer box that is\nclickable and can be expanded/collapsed.\n- Pipeline and ColumnTransformer use this feature and define the default style\n- Estimators will overwrite some part of the style using the `sk-estimator` class\n*/\n\n/* Pipeline and ColumnTransformer style (default) */\n\n#sk-container-id-3 div.sk-toggleable {\n  /* Default theme specific background. It is overwritten whether we have a\n  specific estimator or a Pipeline/ColumnTransformer */\n  background-color: var(--sklearn-color-background);\n}\n\n/* Toggleable label */\n#sk-container-id-3 label.sk-toggleable__label {\n  cursor: pointer;\n  display: block;\n  width: 100%;\n  margin-bottom: 0;\n  padding: 0.5em;\n  box-sizing: border-box;\n  text-align: center;\n}\n\n#sk-container-id-3 label.sk-toggleable__label-arrow:before {\n  /* Arrow on the left of the label */\n  content: \"▸\";\n  float: left;\n  margin-right: 0.25em;\n  color: var(--sklearn-color-icon);\n}\n\n#sk-container-id-3 label.sk-toggleable__label-arrow:hover:before {\n  color: var(--sklearn-color-text);\n}\n\n/* Toggleable content - dropdown */\n\n#sk-container-id-3 div.sk-toggleable__content {\n  max-height: 0;\n  max-width: 0;\n  overflow: hidden;\n  text-align: left;\n  /* unfitted */\n  background-color: var(--sklearn-color-unfitted-level-0);\n}\n\n#sk-container-id-3 div.sk-toggleable__content.fitted {\n  /* fitted */\n  background-color: var(--sklearn-color-fitted-level-0);\n}\n\n#sk-container-id-3 div.sk-toggleable__content pre {\n  margin: 0.2em;\n  border-radius: 0.25em;\n  color: var(--sklearn-color-text);\n  /* unfitted */\n  background-color: var(--sklearn-color-unfitted-level-0);\n}\n\n#sk-container-id-3 div.sk-toggleable__content.fitted pre {\n  /* unfitted */\n  background-color: var(--sklearn-color-fitted-level-0);\n}\n\n#sk-container-id-3 input.sk-toggleable__control:checked~div.sk-toggleable__content {\n  /* Expand drop-down */\n  max-height: 200px;\n  max-width: 100%;\n  overflow: auto;\n}\n\n#sk-container-id-3 input.sk-toggleable__control:checked~label.sk-toggleable__label-arrow:before {\n  content: \"▾\";\n}\n\n/* Pipeline/ColumnTransformer-specific style */\n\n#sk-container-id-3 div.sk-label input.sk-toggleable__control:checked~label.sk-toggleable__label {\n  color: var(--sklearn-color-text);\n  background-color: var(--sklearn-color-unfitted-level-2);\n}\n\n#sk-container-id-3 div.sk-label.fitted input.sk-toggleable__control:checked~label.sk-toggleable__label {\n  background-color: var(--sklearn-color-fitted-level-2);\n}\n\n/* Estimator-specific style */\n\n/* Colorize estimator box */\n#sk-container-id-3 div.sk-estimator input.sk-toggleable__control:checked~label.sk-toggleable__label {\n  /* unfitted */\n  background-color: var(--sklearn-color-unfitted-level-2);\n}\n\n#sk-container-id-3 div.sk-estimator.fitted input.sk-toggleable__control:checked~label.sk-toggleable__label {\n  /* fitted */\n  background-color: var(--sklearn-color-fitted-level-2);\n}\n\n#sk-container-id-3 div.sk-label label.sk-toggleable__label,\n#sk-container-id-3 div.sk-label label {\n  /* The background is the default theme color */\n  color: var(--sklearn-color-text-on-default-background);\n}\n\n/* On hover, darken the color of the background */\n#sk-container-id-3 div.sk-label:hover label.sk-toggleable__label {\n  color: var(--sklearn-color-text);\n  background-color: var(--sklearn-color-unfitted-level-2);\n}\n\n/* Label box, darken color on hover, fitted */\n#sk-container-id-3 div.sk-label.fitted:hover label.sk-toggleable__label.fitted {\n  color: var(--sklearn-color-text);\n  background-color: var(--sklearn-color-fitted-level-2);\n}\n\n/* Estimator label */\n\n#sk-container-id-3 div.sk-label label {\n  font-family: monospace;\n  font-weight: bold;\n  display: inline-block;\n  line-height: 1.2em;\n}\n\n#sk-container-id-3 div.sk-label-container {\n  text-align: center;\n}\n\n/* Estimator-specific */\n#sk-container-id-3 div.sk-estimator {\n  font-family: monospace;\n  border: 1px dotted var(--sklearn-color-border-box);\n  border-radius: 0.25em;\n  box-sizing: border-box;\n  margin-bottom: 0.5em;\n  /* unfitted */\n  background-color: var(--sklearn-color-unfitted-level-0);\n}\n\n#sk-container-id-3 div.sk-estimator.fitted {\n  /* fitted */\n  background-color: var(--sklearn-color-fitted-level-0);\n}\n\n/* on hover */\n#sk-container-id-3 div.sk-estimator:hover {\n  /* unfitted */\n  background-color: var(--sklearn-color-unfitted-level-2);\n}\n\n#sk-container-id-3 div.sk-estimator.fitted:hover {\n  /* fitted */\n  background-color: var(--sklearn-color-fitted-level-2);\n}\n\n/* Specification for estimator info (e.g. \"i\" and \"?\") */\n\n/* Common style for \"i\" and \"?\" */\n\n.sk-estimator-doc-link,\na:link.sk-estimator-doc-link,\na:visited.sk-estimator-doc-link {\n  float: right;\n  font-size: smaller;\n  line-height: 1em;\n  font-family: monospace;\n  background-color: var(--sklearn-color-background);\n  border-radius: 1em;\n  height: 1em;\n  width: 1em;\n  text-decoration: none !important;\n  margin-left: 1ex;\n  /* unfitted */\n  border: var(--sklearn-color-unfitted-level-1) 1pt solid;\n  color: var(--sklearn-color-unfitted-level-1);\n}\n\n.sk-estimator-doc-link.fitted,\na:link.sk-estimator-doc-link.fitted,\na:visited.sk-estimator-doc-link.fitted {\n  /* fitted */\n  border: var(--sklearn-color-fitted-level-1) 1pt solid;\n  color: var(--sklearn-color-fitted-level-1);\n}\n\n/* On hover */\ndiv.sk-estimator:hover .sk-estimator-doc-link:hover,\n.sk-estimator-doc-link:hover,\ndiv.sk-label-container:hover .sk-estimator-doc-link:hover,\n.sk-estimator-doc-link:hover {\n  /* unfitted */\n  background-color: var(--sklearn-color-unfitted-level-3);\n  color: var(--sklearn-color-background);\n  text-decoration: none;\n}\n\ndiv.sk-estimator.fitted:hover .sk-estimator-doc-link.fitted:hover,\n.sk-estimator-doc-link.fitted:hover,\ndiv.sk-label-container:hover .sk-estimator-doc-link.fitted:hover,\n.sk-estimator-doc-link.fitted:hover {\n  /* fitted */\n  background-color: var(--sklearn-color-fitted-level-3);\n  color: var(--sklearn-color-background);\n  text-decoration: none;\n}\n\n/* Span, style for the box shown on hovering the info icon */\n.sk-estimator-doc-link span {\n  display: none;\n  z-index: 9999;\n  position: relative;\n  font-weight: normal;\n  right: .2ex;\n  padding: .5ex;\n  margin: .5ex;\n  width: min-content;\n  min-width: 20ex;\n  max-width: 50ex;\n  color: var(--sklearn-color-text);\n  box-shadow: 2pt 2pt 4pt #999;\n  /* unfitted */\n  background: var(--sklearn-color-unfitted-level-0);\n  border: .5pt solid var(--sklearn-color-unfitted-level-3);\n}\n\n.sk-estimator-doc-link.fitted span {\n  /* fitted */\n  background: var(--sklearn-color-fitted-level-0);\n  border: var(--sklearn-color-fitted-level-3);\n}\n\n.sk-estimator-doc-link:hover span {\n  display: block;\n}\n\n/* \"?\"-specific style due to the `<a>` HTML tag */\n\n#sk-container-id-3 a.estimator_doc_link {\n  float: right;\n  font-size: 1rem;\n  line-height: 1em;\n  font-family: monospace;\n  background-color: var(--sklearn-color-background);\n  border-radius: 1rem;\n  height: 1rem;\n  width: 1rem;\n  text-decoration: none;\n  /* unfitted */\n  color: var(--sklearn-color-unfitted-level-1);\n  border: var(--sklearn-color-unfitted-level-1) 1pt solid;\n}\n\n#sk-container-id-3 a.estimator_doc_link.fitted {\n  /* fitted */\n  border: var(--sklearn-color-fitted-level-1) 1pt solid;\n  color: var(--sklearn-color-fitted-level-1);\n}\n\n/* On hover */\n#sk-container-id-3 a.estimator_doc_link:hover {\n  /* unfitted */\n  background-color: var(--sklearn-color-unfitted-level-3);\n  color: var(--sklearn-color-background);\n  text-decoration: none;\n}\n\n#sk-container-id-3 a.estimator_doc_link.fitted:hover {\n  /* fitted */\n  background-color: var(--sklearn-color-fitted-level-3);\n}\n</style><div id=\"sk-container-id-3\" class=\"sk-top-container\"><div class=\"sk-text-repr-fallback\"><pre>PLSRegression(n_components=3)</pre><b>In a Jupyter environment, please rerun this cell to show the HTML representation or trust the notebook. <br />On GitHub, the HTML representation is unable to render, please try loading this page with nbviewer.org.</b></div><div class=\"sk-container\" hidden><div class=\"sk-item\"><div class=\"sk-estimator fitted sk-toggleable\"><input class=\"sk-toggleable__control sk-hidden--visually\" id=\"sk-estimator-id-3\" type=\"checkbox\" checked><label for=\"sk-estimator-id-3\" class=\"sk-toggleable__label fitted sk-toggleable__label-arrow fitted\">&nbsp;&nbsp;PLSRegression<a class=\"sk-estimator-doc-link fitted\" rel=\"noreferrer\" target=\"_blank\" href=\"https://scikit-learn.org/1.4/modules/generated/sklearn.cross_decomposition.PLSRegression.html\">?<span>Documentation for PLSRegression</span></a><span class=\"sk-estimator-doc-link fitted\">i<span>Fitted</span></span></label><div class=\"sk-toggleable__content fitted\"><pre>PLSRegression(n_components=3)</pre></div> </div></div></div></div>"
          },
          "execution_count": 41,
          "metadata": {},
          "output_type": "execute_result"
        }
      ],
      "source": [
        "# method to make a regression model from the provided catalysts\n",
        "from sklearn.cross_decomposition import PLSRegression\n",
        "def make_pls_model(df_catalysts):\n",
        "    X = df_catalysts[X_COLS]\n",
        "    y = df_catalysts['ddG']\n",
        "    model = PLSRegression(n_components=2)\n",
        "    # fitting the model\n",
        "    model.fit(X, y)\n",
        "    return model\n",
        "\n",
        "from joblib import dump, load\n",
        "def load_model(path):\n",
        "  return load(path)\n",
        "\n",
        "pls_large_saved_model = load_model(resolve_path_gdrive('models/pls_large.joblib'))\n",
        "pls_large_saved_model"
      ],
      "metadata": {
        "ExecuteTime": {
          "start_time": "2024-05-27T19:35:19.365464500Z"
        },
        "id": "164770e72ca8a958",
        "outputId": "be1dd486-12b5-4dce-b127-6df2b3fe1eb0"
      },
      "id": "164770e72ca8a958"
    },
    {
      "cell_type": "code",
      "execution_count": null,
      "outputs": [
        {
          "data": {
            "text/plain": "              3954      3955      3957      3958      3959      3960  \\\nCatalyst                                                               \n18_6_3    0.751052  0.578241  0.690619  0.648005 -0.341944 -0.750784   \n14_6_2   -0.900772 -1.204402 -1.106008 -1.172227 -0.263889  0.546659   \n25_2_6   -0.837073 -1.368929 -1.144584 -1.336538 -0.594464  0.205320   \n\n              3961      3962      3963      3964      3965      3966  \\\nCatalyst                                                               \n18_6_3   -0.698807 -0.726153  1.818622  1.137386  1.104378  1.789966   \n14_6_2    0.579985  0.564909 -0.159928 -0.875422 -0.880495 -0.602624   \n25_2_6    0.297249  0.252548 -1.264638  0.474187  0.436071 -0.539398   \n\n              3967      3968      3969      3970      3971      3972      3973  \nCatalyst                                                                        \n18_6_3    1.707972 -0.078629 -1.416062 -1.347984 -1.383415  0.492188  0.691898  \n14_6_2   -0.471616 -0.798242 -0.277709 -0.280445 -0.279338 -0.246094 -1.153164  \n25_2_6   -0.951100  1.110344  1.555441  1.638297  1.598277  1.521070  1.614430  ",
            "text/html": "<div>\n<style scoped>\n    .dataframe tbody tr th:only-of-type {\n        vertical-align: middle;\n    }\n\n    .dataframe tbody tr th {\n        vertical-align: top;\n    }\n\n    .dataframe thead th {\n        text-align: right;\n    }\n</style>\n<table border=\"1\" class=\"dataframe\">\n  <thead>\n    <tr style=\"text-align: right;\">\n      <th></th>\n      <th>3954</th>\n      <th>3955</th>\n      <th>3957</th>\n      <th>3958</th>\n      <th>3959</th>\n      <th>3960</th>\n      <th>3961</th>\n      <th>3962</th>\n      <th>3963</th>\n      <th>3964</th>\n      <th>3965</th>\n      <th>3966</th>\n      <th>3967</th>\n      <th>3968</th>\n      <th>3969</th>\n      <th>3970</th>\n      <th>3971</th>\n      <th>3972</th>\n      <th>3973</th>\n    </tr>\n    <tr>\n      <th>Catalyst</th>\n      <th></th>\n      <th></th>\n      <th></th>\n      <th></th>\n      <th></th>\n      <th></th>\n      <th></th>\n      <th></th>\n      <th></th>\n      <th></th>\n      <th></th>\n      <th></th>\n      <th></th>\n      <th></th>\n      <th></th>\n      <th></th>\n      <th></th>\n      <th></th>\n      <th></th>\n    </tr>\n  </thead>\n  <tbody>\n    <tr>\n      <th>18_6_3</th>\n      <td>0.751052</td>\n      <td>0.578241</td>\n      <td>0.690619</td>\n      <td>0.648005</td>\n      <td>-0.341944</td>\n      <td>-0.750784</td>\n      <td>-0.698807</td>\n      <td>-0.726153</td>\n      <td>1.818622</td>\n      <td>1.137386</td>\n      <td>1.104378</td>\n      <td>1.789966</td>\n      <td>1.707972</td>\n      <td>-0.078629</td>\n      <td>-1.416062</td>\n      <td>-1.347984</td>\n      <td>-1.383415</td>\n      <td>0.492188</td>\n      <td>0.691898</td>\n    </tr>\n    <tr>\n      <th>14_6_2</th>\n      <td>-0.900772</td>\n      <td>-1.204402</td>\n      <td>-1.106008</td>\n      <td>-1.172227</td>\n      <td>-0.263889</td>\n      <td>0.546659</td>\n      <td>0.579985</td>\n      <td>0.564909</td>\n      <td>-0.159928</td>\n      <td>-0.875422</td>\n      <td>-0.880495</td>\n      <td>-0.602624</td>\n      <td>-0.471616</td>\n      <td>-0.798242</td>\n      <td>-0.277709</td>\n      <td>-0.280445</td>\n      <td>-0.279338</td>\n      <td>-0.246094</td>\n      <td>-1.153164</td>\n    </tr>\n    <tr>\n      <th>25_2_6</th>\n      <td>-0.837073</td>\n      <td>-1.368929</td>\n      <td>-1.144584</td>\n      <td>-1.336538</td>\n      <td>-0.594464</td>\n      <td>0.205320</td>\n      <td>0.297249</td>\n      <td>0.252548</td>\n      <td>-1.264638</td>\n      <td>0.474187</td>\n      <td>0.436071</td>\n      <td>-0.539398</td>\n      <td>-0.951100</td>\n      <td>1.110344</td>\n      <td>1.555441</td>\n      <td>1.638297</td>\n      <td>1.598277</td>\n      <td>1.521070</td>\n      <td>1.614430</td>\n    </tr>\n  </tbody>\n</table>\n</div>"
          },
          "execution_count": 43,
          "metadata": {},
          "output_type": "execute_result"
        }
      ],
      "source": [
        "random_catalyst_df[X_COLS]"
      ],
      "metadata": {
        "id": "8a62056b5336b480",
        "outputId": "2884aa9e-a2b9-43f3-8ff6-da6fd09aa69b",
        "colab": {
          "base_uri": "https://localhost:8080/",
          "height": 204
        },
        "ExecuteTime": {
          "end_time": "2024-05-27T19:35:30.040696100Z",
          "start_time": "2024-05-27T19:35:30.006547400Z"
        }
      },
      "id": "8a62056b5336b480"
    },
    {
      "cell_type": "code",
      "execution_count": null,
      "outputs": [
        {
          "data": {
            "text/plain": "array([[ 1.75105172,  1.57824082,  1.69061888,  1.6480053 ,  0.65805637,\n         0.24921616,  0.30119292,  0.27384715,  2.81862175,  2.13738582,\n         2.10437818,  2.78996606,  2.70797219,  0.92137107, -0.41606153,\n        -0.34798358, -0.38341459,  1.49218775,  1.69189841],\n       [ 0.09922793, -0.20440216, -0.10600771, -0.17222682,  0.73611136,\n         1.54665856,  1.57998504,  1.56490863,  0.84007158,  0.12457768,\n         0.11950484,  0.39737598,  0.5283841 ,  0.20175791,  0.72229107,\n         0.7195551 ,  0.72066245,  0.75390613, -0.15316401],\n       [ 0.16292713, -0.36892924, -0.14458353, -0.33653776,  0.40553569,\n         1.20531962,  1.29724935,  1.25254827, -0.26463773,  1.47418709,\n         1.43607066,  0.46060159,  0.04890047,  2.11034365,  2.55544128,\n         2.63829659,  2.59827688,  2.52106958,  2.61442961]])"
          },
          "execution_count": 44,
          "metadata": {},
          "output_type": "execute_result"
        }
      ],
      "source": [
        "new_optimized_catalysts"
      ],
      "metadata": {
        "id": "108551632d59a046",
        "outputId": "b13f07ec-46e5-4adb-95eb-2bc07bab1b51",
        "colab": {
          "base_uri": "https://localhost:8080/"
        },
        "ExecuteTime": {
          "end_time": "2024-05-27T19:35:32.168334600Z",
          "start_time": "2024-05-27T19:35:32.130053Z"
        }
      },
      "id": "108551632d59a046"
    },
    {
      "cell_type": "code",
      "execution_count": null,
      "outputs": [
        {
          "data": {
            "text/plain": "NearestNeighbors(n_neighbors=1)",
            "text/html": "<style>#sk-container-id-4 {\n  /* Definition of color scheme common for light and dark mode */\n  --sklearn-color-text: black;\n  --sklearn-color-line: gray;\n  /* Definition of color scheme for unfitted estimators */\n  --sklearn-color-unfitted-level-0: #fff5e6;\n  --sklearn-color-unfitted-level-1: #f6e4d2;\n  --sklearn-color-unfitted-level-2: #ffe0b3;\n  --sklearn-color-unfitted-level-3: chocolate;\n  /* Definition of color scheme for fitted estimators */\n  --sklearn-color-fitted-level-0: #f0f8ff;\n  --sklearn-color-fitted-level-1: #d4ebff;\n  --sklearn-color-fitted-level-2: #b3dbfd;\n  --sklearn-color-fitted-level-3: cornflowerblue;\n\n  /* Specific color for light theme */\n  --sklearn-color-text-on-default-background: var(--sg-text-color, var(--theme-code-foreground, var(--jp-content-font-color1, black)));\n  --sklearn-color-background: var(--sg-background-color, var(--theme-background, var(--jp-layout-color0, white)));\n  --sklearn-color-border-box: var(--sg-text-color, var(--theme-code-foreground, var(--jp-content-font-color1, black)));\n  --sklearn-color-icon: #696969;\n\n  @media (prefers-color-scheme: dark) {\n    /* Redefinition of color scheme for dark theme */\n    --sklearn-color-text-on-default-background: var(--sg-text-color, var(--theme-code-foreground, var(--jp-content-font-color1, white)));\n    --sklearn-color-background: var(--sg-background-color, var(--theme-background, var(--jp-layout-color0, #111)));\n    --sklearn-color-border-box: var(--sg-text-color, var(--theme-code-foreground, var(--jp-content-font-color1, white)));\n    --sklearn-color-icon: #878787;\n  }\n}\n\n#sk-container-id-4 {\n  color: var(--sklearn-color-text);\n}\n\n#sk-container-id-4 pre {\n  padding: 0;\n}\n\n#sk-container-id-4 input.sk-hidden--visually {\n  border: 0;\n  clip: rect(1px 1px 1px 1px);\n  clip: rect(1px, 1px, 1px, 1px);\n  height: 1px;\n  margin: -1px;\n  overflow: hidden;\n  padding: 0;\n  position: absolute;\n  width: 1px;\n}\n\n#sk-container-id-4 div.sk-dashed-wrapped {\n  border: 1px dashed var(--sklearn-color-line);\n  margin: 0 0.4em 0.5em 0.4em;\n  box-sizing: border-box;\n  padding-bottom: 0.4em;\n  background-color: var(--sklearn-color-background);\n}\n\n#sk-container-id-4 div.sk-container {\n  /* jupyter's `normalize.less` sets `[hidden] { display: none; }`\n     but bootstrap.min.css set `[hidden] { display: none !important; }`\n     so we also need the `!important` here to be able to override the\n     default hidden behavior on the sphinx rendered scikit-learn.org.\n     See: https://github.com/scikit-learn/scikit-learn/issues/21755 */\n  display: inline-block !important;\n  position: relative;\n}\n\n#sk-container-id-4 div.sk-text-repr-fallback {\n  display: none;\n}\n\ndiv.sk-parallel-item,\ndiv.sk-serial,\ndiv.sk-item {\n  /* draw centered vertical line to link estimators */\n  background-image: linear-gradient(var(--sklearn-color-text-on-default-background), var(--sklearn-color-text-on-default-background));\n  background-size: 2px 100%;\n  background-repeat: no-repeat;\n  background-position: center center;\n}\n\n/* Parallel-specific style estimator block */\n\n#sk-container-id-4 div.sk-parallel-item::after {\n  content: \"\";\n  width: 100%;\n  border-bottom: 2px solid var(--sklearn-color-text-on-default-background);\n  flex-grow: 1;\n}\n\n#sk-container-id-4 div.sk-parallel {\n  display: flex;\n  align-items: stretch;\n  justify-content: center;\n  background-color: var(--sklearn-color-background);\n  position: relative;\n}\n\n#sk-container-id-4 div.sk-parallel-item {\n  display: flex;\n  flex-direction: column;\n}\n\n#sk-container-id-4 div.sk-parallel-item:first-child::after {\n  align-self: flex-end;\n  width: 50%;\n}\n\n#sk-container-id-4 div.sk-parallel-item:last-child::after {\n  align-self: flex-start;\n  width: 50%;\n}\n\n#sk-container-id-4 div.sk-parallel-item:only-child::after {\n  width: 0;\n}\n\n/* Serial-specific style estimator block */\n\n#sk-container-id-4 div.sk-serial {\n  display: flex;\n  flex-direction: column;\n  align-items: center;\n  background-color: var(--sklearn-color-background);\n  padding-right: 1em;\n  padding-left: 1em;\n}\n\n\n/* Toggleable style: style used for estimator/Pipeline/ColumnTransformer box that is\nclickable and can be expanded/collapsed.\n- Pipeline and ColumnTransformer use this feature and define the default style\n- Estimators will overwrite some part of the style using the `sk-estimator` class\n*/\n\n/* Pipeline and ColumnTransformer style (default) */\n\n#sk-container-id-4 div.sk-toggleable {\n  /* Default theme specific background. It is overwritten whether we have a\n  specific estimator or a Pipeline/ColumnTransformer */\n  background-color: var(--sklearn-color-background);\n}\n\n/* Toggleable label */\n#sk-container-id-4 label.sk-toggleable__label {\n  cursor: pointer;\n  display: block;\n  width: 100%;\n  margin-bottom: 0;\n  padding: 0.5em;\n  box-sizing: border-box;\n  text-align: center;\n}\n\n#sk-container-id-4 label.sk-toggleable__label-arrow:before {\n  /* Arrow on the left of the label */\n  content: \"▸\";\n  float: left;\n  margin-right: 0.25em;\n  color: var(--sklearn-color-icon);\n}\n\n#sk-container-id-4 label.sk-toggleable__label-arrow:hover:before {\n  color: var(--sklearn-color-text);\n}\n\n/* Toggleable content - dropdown */\n\n#sk-container-id-4 div.sk-toggleable__content {\n  max-height: 0;\n  max-width: 0;\n  overflow: hidden;\n  text-align: left;\n  /* unfitted */\n  background-color: var(--sklearn-color-unfitted-level-0);\n}\n\n#sk-container-id-4 div.sk-toggleable__content.fitted {\n  /* fitted */\n  background-color: var(--sklearn-color-fitted-level-0);\n}\n\n#sk-container-id-4 div.sk-toggleable__content pre {\n  margin: 0.2em;\n  border-radius: 0.25em;\n  color: var(--sklearn-color-text);\n  /* unfitted */\n  background-color: var(--sklearn-color-unfitted-level-0);\n}\n\n#sk-container-id-4 div.sk-toggleable__content.fitted pre {\n  /* unfitted */\n  background-color: var(--sklearn-color-fitted-level-0);\n}\n\n#sk-container-id-4 input.sk-toggleable__control:checked~div.sk-toggleable__content {\n  /* Expand drop-down */\n  max-height: 200px;\n  max-width: 100%;\n  overflow: auto;\n}\n\n#sk-container-id-4 input.sk-toggleable__control:checked~label.sk-toggleable__label-arrow:before {\n  content: \"▾\";\n}\n\n/* Pipeline/ColumnTransformer-specific style */\n\n#sk-container-id-4 div.sk-label input.sk-toggleable__control:checked~label.sk-toggleable__label {\n  color: var(--sklearn-color-text);\n  background-color: var(--sklearn-color-unfitted-level-2);\n}\n\n#sk-container-id-4 div.sk-label.fitted input.sk-toggleable__control:checked~label.sk-toggleable__label {\n  background-color: var(--sklearn-color-fitted-level-2);\n}\n\n/* Estimator-specific style */\n\n/* Colorize estimator box */\n#sk-container-id-4 div.sk-estimator input.sk-toggleable__control:checked~label.sk-toggleable__label {\n  /* unfitted */\n  background-color: var(--sklearn-color-unfitted-level-2);\n}\n\n#sk-container-id-4 div.sk-estimator.fitted input.sk-toggleable__control:checked~label.sk-toggleable__label {\n  /* fitted */\n  background-color: var(--sklearn-color-fitted-level-2);\n}\n\n#sk-container-id-4 div.sk-label label.sk-toggleable__label,\n#sk-container-id-4 div.sk-label label {\n  /* The background is the default theme color */\n  color: var(--sklearn-color-text-on-default-background);\n}\n\n/* On hover, darken the color of the background */\n#sk-container-id-4 div.sk-label:hover label.sk-toggleable__label {\n  color: var(--sklearn-color-text);\n  background-color: var(--sklearn-color-unfitted-level-2);\n}\n\n/* Label box, darken color on hover, fitted */\n#sk-container-id-4 div.sk-label.fitted:hover label.sk-toggleable__label.fitted {\n  color: var(--sklearn-color-text);\n  background-color: var(--sklearn-color-fitted-level-2);\n}\n\n/* Estimator label */\n\n#sk-container-id-4 div.sk-label label {\n  font-family: monospace;\n  font-weight: bold;\n  display: inline-block;\n  line-height: 1.2em;\n}\n\n#sk-container-id-4 div.sk-label-container {\n  text-align: center;\n}\n\n/* Estimator-specific */\n#sk-container-id-4 div.sk-estimator {\n  font-family: monospace;\n  border: 1px dotted var(--sklearn-color-border-box);\n  border-radius: 0.25em;\n  box-sizing: border-box;\n  margin-bottom: 0.5em;\n  /* unfitted */\n  background-color: var(--sklearn-color-unfitted-level-0);\n}\n\n#sk-container-id-4 div.sk-estimator.fitted {\n  /* fitted */\n  background-color: var(--sklearn-color-fitted-level-0);\n}\n\n/* on hover */\n#sk-container-id-4 div.sk-estimator:hover {\n  /* unfitted */\n  background-color: var(--sklearn-color-unfitted-level-2);\n}\n\n#sk-container-id-4 div.sk-estimator.fitted:hover {\n  /* fitted */\n  background-color: var(--sklearn-color-fitted-level-2);\n}\n\n/* Specification for estimator info (e.g. \"i\" and \"?\") */\n\n/* Common style for \"i\" and \"?\" */\n\n.sk-estimator-doc-link,\na:link.sk-estimator-doc-link,\na:visited.sk-estimator-doc-link {\n  float: right;\n  font-size: smaller;\n  line-height: 1em;\n  font-family: monospace;\n  background-color: var(--sklearn-color-background);\n  border-radius: 1em;\n  height: 1em;\n  width: 1em;\n  text-decoration: none !important;\n  margin-left: 1ex;\n  /* unfitted */\n  border: var(--sklearn-color-unfitted-level-1) 1pt solid;\n  color: var(--sklearn-color-unfitted-level-1);\n}\n\n.sk-estimator-doc-link.fitted,\na:link.sk-estimator-doc-link.fitted,\na:visited.sk-estimator-doc-link.fitted {\n  /* fitted */\n  border: var(--sklearn-color-fitted-level-1) 1pt solid;\n  color: var(--sklearn-color-fitted-level-1);\n}\n\n/* On hover */\ndiv.sk-estimator:hover .sk-estimator-doc-link:hover,\n.sk-estimator-doc-link:hover,\ndiv.sk-label-container:hover .sk-estimator-doc-link:hover,\n.sk-estimator-doc-link:hover {\n  /* unfitted */\n  background-color: var(--sklearn-color-unfitted-level-3);\n  color: var(--sklearn-color-background);\n  text-decoration: none;\n}\n\ndiv.sk-estimator.fitted:hover .sk-estimator-doc-link.fitted:hover,\n.sk-estimator-doc-link.fitted:hover,\ndiv.sk-label-container:hover .sk-estimator-doc-link.fitted:hover,\n.sk-estimator-doc-link.fitted:hover {\n  /* fitted */\n  background-color: var(--sklearn-color-fitted-level-3);\n  color: var(--sklearn-color-background);\n  text-decoration: none;\n}\n\n/* Span, style for the box shown on hovering the info icon */\n.sk-estimator-doc-link span {\n  display: none;\n  z-index: 9999;\n  position: relative;\n  font-weight: normal;\n  right: .2ex;\n  padding: .5ex;\n  margin: .5ex;\n  width: min-content;\n  min-width: 20ex;\n  max-width: 50ex;\n  color: var(--sklearn-color-text);\n  box-shadow: 2pt 2pt 4pt #999;\n  /* unfitted */\n  background: var(--sklearn-color-unfitted-level-0);\n  border: .5pt solid var(--sklearn-color-unfitted-level-3);\n}\n\n.sk-estimator-doc-link.fitted span {\n  /* fitted */\n  background: var(--sklearn-color-fitted-level-0);\n  border: var(--sklearn-color-fitted-level-3);\n}\n\n.sk-estimator-doc-link:hover span {\n  display: block;\n}\n\n/* \"?\"-specific style due to the `<a>` HTML tag */\n\n#sk-container-id-4 a.estimator_doc_link {\n  float: right;\n  font-size: 1rem;\n  line-height: 1em;\n  font-family: monospace;\n  background-color: var(--sklearn-color-background);\n  border-radius: 1rem;\n  height: 1rem;\n  width: 1rem;\n  text-decoration: none;\n  /* unfitted */\n  color: var(--sklearn-color-unfitted-level-1);\n  border: var(--sklearn-color-unfitted-level-1) 1pt solid;\n}\n\n#sk-container-id-4 a.estimator_doc_link.fitted {\n  /* fitted */\n  border: var(--sklearn-color-fitted-level-1) 1pt solid;\n  color: var(--sklearn-color-fitted-level-1);\n}\n\n/* On hover */\n#sk-container-id-4 a.estimator_doc_link:hover {\n  /* unfitted */\n  background-color: var(--sklearn-color-unfitted-level-3);\n  color: var(--sklearn-color-background);\n  text-decoration: none;\n}\n\n#sk-container-id-4 a.estimator_doc_link.fitted:hover {\n  /* fitted */\n  background-color: var(--sklearn-color-fitted-level-3);\n}\n</style><div id=\"sk-container-id-4\" class=\"sk-top-container\"><div class=\"sk-text-repr-fallback\"><pre>NearestNeighbors(n_neighbors=1)</pre><b>In a Jupyter environment, please rerun this cell to show the HTML representation or trust the notebook. <br />On GitHub, the HTML representation is unable to render, please try loading this page with nbviewer.org.</b></div><div class=\"sk-container\" hidden><div class=\"sk-item\"><div class=\"sk-estimator fitted sk-toggleable\"><input class=\"sk-toggleable__control sk-hidden--visually\" id=\"sk-estimator-id-4\" type=\"checkbox\" checked><label for=\"sk-estimator-id-4\" class=\"sk-toggleable__label fitted sk-toggleable__label-arrow fitted\">&nbsp;&nbsp;NearestNeighbors<a class=\"sk-estimator-doc-link fitted\" rel=\"noreferrer\" target=\"_blank\" href=\"https://scikit-learn.org/1.4/modules/generated/sklearn.neighbors.NearestNeighbors.html\">?<span>Documentation for NearestNeighbors</span></a><span class=\"sk-estimator-doc-link fitted\">i<span>Fitted</span></span></label><div class=\"sk-toggleable__content fitted\"><pre>NearestNeighbors(n_neighbors=1)</pre></div> </div></div></div></div>"
          },
          "execution_count": 45,
          "metadata": {},
          "output_type": "execute_result"
        }
      ],
      "source": [
        "# Perform k-nearest neighbors analysis\n",
        "num_neighbors = 1  # Number of neighbors to consider\n",
        "knn = NearestNeighbors(n_neighbors=num_neighbors)\n",
        "knn.fit(df[X_COLS])  # Using all the catalysts"
      ],
      "metadata": {
        "id": "5148feb1e89070b9",
        "outputId": "608de1ed-e3ff-4b6d-84db-36e1a6fed2b4",
        "colab": {
          "base_uri": "https://localhost:8080/",
          "height": 75
        },
        "ExecuteTime": {
          "end_time": "2024-05-27T19:35:34.744354400Z",
          "start_time": "2024-05-27T19:35:34.704753900Z"
        }
      },
      "id": "5148feb1e89070b9"
    },
    {
      "cell_type": "code",
      "execution_count": null,
      "outputs": [
        {
          "data": {
            "text/plain": "              3954      3955      3957      3958      3959      3960  \\\nCatalyst                                                               \n18_11_4   0.758129  0.677277  0.686929  0.574038 -0.399013 -0.833174   \n27_5_2   -0.900772 -1.204402 -1.106008 -1.172227 -0.263889  0.546659   \n20_2_3    0.751052  0.578241  0.690619  0.648005 -0.341944 -0.750784   \n1_1_1     1.192046  0.575046  1.190427  1.005503 -0.429561 -0.819943   \n1_1_5    -0.963382  0.742768 -0.317384  0.281218  2.028871  1.651922   \n1_1_3     0.751052  0.578241  0.690619  0.648005 -0.341944 -0.750784   \n1_10_1    1.192046  0.575046  1.190427  1.005503 -0.429561 -0.819943   \n1_10_5   -0.963382  0.742768 -0.317384  0.281218  2.028871  1.651922   \n1_10_3    0.751052  0.578241  0.690619  0.648005 -0.341944 -0.750784   \n1_2_1     1.192046  0.575046  1.190427  1.005503 -0.429561 -0.819943   \n1_2_5    -0.963382  0.742768 -0.317384  0.281218  2.028871  1.651922   \n1_2_3     0.751052  0.578241  0.690619  0.648005 -0.341944 -0.750784   \n1_5_1     1.192046  0.575046  1.190427  1.005503 -0.429561 -0.819943   \n1_5_5    -0.963382  0.742768 -0.317384  0.281218  2.028871  1.651922   \n1_5_3     0.751052  0.578241  0.690619  0.648005 -0.341944 -0.750784   \n1_9_1     1.192046  0.575046  1.190427  1.005503 -0.429561 -0.819943   \n1_11_5   -0.963382  0.742768 -0.317384  0.281218  2.028871  1.651922   \n1_9_3     0.751052  0.578241  0.690619  0.648005 -0.341944 -0.750784   \n\n              3961      3962      3963      3964      3965      3966  \\\nCatalyst                                                               \n18_11_4  -0.693664 -0.764237 -0.187753 -0.896976 -0.938972 -0.643031   \n27_5_2    0.579985  0.564909 -0.159928 -0.875422 -0.880495 -0.602624   \n20_2_3   -0.698807 -0.726153  1.818622  1.137386  1.104378  1.789966   \n1_1_1    -1.060149 -0.944026 -0.177977 -0.893660 -0.833714 -0.605952   \n1_1_5     1.575386  1.616959 -0.028326  1.054486  1.112732  0.601039   \n1_1_3    -0.698807 -0.726153  1.818622  1.137386  1.104378  1.789966   \n1_10_1   -1.060149 -0.944026 -0.177977 -0.893660 -0.833714 -0.605952   \n1_10_5    1.575386  1.616959 -0.028326  1.054486  1.112732  0.601039   \n1_10_3   -0.698807 -0.726153  1.818622  1.137386  1.104378  1.789966   \n1_2_1    -1.060149 -0.944026 -0.177977 -0.893660 -0.833714 -0.605952   \n1_2_5     1.575386  1.616959 -0.028326  1.054486  1.112732  0.601039   \n1_2_3    -0.698807 -0.726153  1.818622  1.137386  1.104378  1.789966   \n1_5_1    -1.060149 -0.944026 -0.177977 -0.893660 -0.833714 -0.605952   \n1_5_5     1.575386  1.616959 -0.028326  1.054486  1.112732  0.601039   \n1_5_3    -0.698807 -0.726153  1.818622  1.137386  1.104378  1.789966   \n1_9_1    -1.060149 -0.944026 -0.177977 -0.893660 -0.833714 -0.605952   \n1_11_5    1.575386  1.616959 -0.028326  1.054486  1.112732  0.601039   \n1_9_3    -0.698807 -0.726153  1.818622  1.137386  1.104378  1.789966   \n\n              3967      3968      3969      3970      3971      3972      3973  \nCatalyst                                                                        \n18_11_4  -0.505083 -0.825677 -0.297732 -0.236059 -0.267225  0.028798 -0.691898  \n27_5_2   -0.471616 -0.798242 -0.277709 -0.280445 -0.279338 -0.246094 -1.153164  \n20_2_3    1.707972 -0.078629 -1.416062 -1.347984 -1.383415  0.492188  0.691898  \n1_1_1    -0.471700 -0.768480 -0.178536 -0.298590 -0.238640 -0.277510 -0.230633  \n1_1_5     0.691527  1.360684  0.614598  0.524781  0.570340 -1.518452 -0.230633  \n1_1_3     1.707972 -0.078629 -1.416062 -1.347984 -1.383415  0.492188  0.691898  \n1_10_1   -0.471700 -0.768480 -0.178536 -0.298590 -0.238640 -0.277510 -0.230633  \n1_10_5    0.691527  1.360684  0.614598  0.524781  0.570340 -1.518452 -0.230633  \n1_10_3    1.707972 -0.078629 -1.416062 -1.347984 -1.383415  0.492188  0.691898  \n1_2_1    -0.471700 -0.768480 -0.178536 -0.298590 -0.238640 -0.277510 -0.230633  \n1_2_5     0.691527  1.360684  0.614598  0.524781  0.570340 -1.518452 -0.230633  \n1_2_3     1.707972 -0.078629 -1.416062 -1.347984 -1.383415  0.492188  0.691898  \n1_5_1    -0.471700 -0.768480 -0.178536 -0.298590 -0.238640 -0.277510 -0.230633  \n1_5_5     0.691527  1.360684  0.614598  0.524781  0.570340 -1.518452 -0.230633  \n1_5_3     1.707972 -0.078629 -1.416062 -1.347984 -1.383415  0.492188  0.691898  \n1_9_1    -0.471700 -0.768480 -0.178536 -0.298590 -0.238640 -0.277510 -0.230633  \n1_11_5    0.691527  1.360684  0.614598  0.524781  0.570340 -1.518452 -0.230633  \n1_9_3     1.707972 -0.078629 -1.416062 -1.347984 -1.383415  0.492188  0.691898  ",
            "text/html": "<div>\n<style scoped>\n    .dataframe tbody tr th:only-of-type {\n        vertical-align: middle;\n    }\n\n    .dataframe tbody tr th {\n        vertical-align: top;\n    }\n\n    .dataframe thead th {\n        text-align: right;\n    }\n</style>\n<table border=\"1\" class=\"dataframe\">\n  <thead>\n    <tr style=\"text-align: right;\">\n      <th></th>\n      <th>3954</th>\n      <th>3955</th>\n      <th>3957</th>\n      <th>3958</th>\n      <th>3959</th>\n      <th>3960</th>\n      <th>3961</th>\n      <th>3962</th>\n      <th>3963</th>\n      <th>3964</th>\n      <th>3965</th>\n      <th>3966</th>\n      <th>3967</th>\n      <th>3968</th>\n      <th>3969</th>\n      <th>3970</th>\n      <th>3971</th>\n      <th>3972</th>\n      <th>3973</th>\n    </tr>\n    <tr>\n      <th>Catalyst</th>\n      <th></th>\n      <th></th>\n      <th></th>\n      <th></th>\n      <th></th>\n      <th></th>\n      <th></th>\n      <th></th>\n      <th></th>\n      <th></th>\n      <th></th>\n      <th></th>\n      <th></th>\n      <th></th>\n      <th></th>\n      <th></th>\n      <th></th>\n      <th></th>\n      <th></th>\n    </tr>\n  </thead>\n  <tbody>\n    <tr>\n      <th>18_11_4</th>\n      <td>0.758129</td>\n      <td>0.677277</td>\n      <td>0.686929</td>\n      <td>0.574038</td>\n      <td>-0.399013</td>\n      <td>-0.833174</td>\n      <td>-0.693664</td>\n      <td>-0.764237</td>\n      <td>-0.187753</td>\n      <td>-0.896976</td>\n      <td>-0.938972</td>\n      <td>-0.643031</td>\n      <td>-0.505083</td>\n      <td>-0.825677</td>\n      <td>-0.297732</td>\n      <td>-0.236059</td>\n      <td>-0.267225</td>\n      <td>0.028798</td>\n      <td>-0.691898</td>\n    </tr>\n    <tr>\n      <th>27_5_2</th>\n      <td>-0.900772</td>\n      <td>-1.204402</td>\n      <td>-1.106008</td>\n      <td>-1.172227</td>\n      <td>-0.263889</td>\n      <td>0.546659</td>\n      <td>0.579985</td>\n      <td>0.564909</td>\n      <td>-0.159928</td>\n      <td>-0.875422</td>\n      <td>-0.880495</td>\n      <td>-0.602624</td>\n      <td>-0.471616</td>\n      <td>-0.798242</td>\n      <td>-0.277709</td>\n      <td>-0.280445</td>\n      <td>-0.279338</td>\n      <td>-0.246094</td>\n      <td>-1.153164</td>\n    </tr>\n    <tr>\n      <th>20_2_3</th>\n      <td>0.751052</td>\n      <td>0.578241</td>\n      <td>0.690619</td>\n      <td>0.648005</td>\n      <td>-0.341944</td>\n      <td>-0.750784</td>\n      <td>-0.698807</td>\n      <td>-0.726153</td>\n      <td>1.818622</td>\n      <td>1.137386</td>\n      <td>1.104378</td>\n      <td>1.789966</td>\n      <td>1.707972</td>\n      <td>-0.078629</td>\n      <td>-1.416062</td>\n      <td>-1.347984</td>\n      <td>-1.383415</td>\n      <td>0.492188</td>\n      <td>0.691898</td>\n    </tr>\n    <tr>\n      <th>1_1_1</th>\n      <td>1.192046</td>\n      <td>0.575046</td>\n      <td>1.190427</td>\n      <td>1.005503</td>\n      <td>-0.429561</td>\n      <td>-0.819943</td>\n      <td>-1.060149</td>\n      <td>-0.944026</td>\n      <td>-0.177977</td>\n      <td>-0.893660</td>\n      <td>-0.833714</td>\n      <td>-0.605952</td>\n      <td>-0.471700</td>\n      <td>-0.768480</td>\n      <td>-0.178536</td>\n      <td>-0.298590</td>\n      <td>-0.238640</td>\n      <td>-0.277510</td>\n      <td>-0.230633</td>\n    </tr>\n    <tr>\n      <th>1_1_5</th>\n      <td>-0.963382</td>\n      <td>0.742768</td>\n      <td>-0.317384</td>\n      <td>0.281218</td>\n      <td>2.028871</td>\n      <td>1.651922</td>\n      <td>1.575386</td>\n      <td>1.616959</td>\n      <td>-0.028326</td>\n      <td>1.054486</td>\n      <td>1.112732</td>\n      <td>0.601039</td>\n      <td>0.691527</td>\n      <td>1.360684</td>\n      <td>0.614598</td>\n      <td>0.524781</td>\n      <td>0.570340</td>\n      <td>-1.518452</td>\n      <td>-0.230633</td>\n    </tr>\n    <tr>\n      <th>1_1_3</th>\n      <td>0.751052</td>\n      <td>0.578241</td>\n      <td>0.690619</td>\n      <td>0.648005</td>\n      <td>-0.341944</td>\n      <td>-0.750784</td>\n      <td>-0.698807</td>\n      <td>-0.726153</td>\n      <td>1.818622</td>\n      <td>1.137386</td>\n      <td>1.104378</td>\n      <td>1.789966</td>\n      <td>1.707972</td>\n      <td>-0.078629</td>\n      <td>-1.416062</td>\n      <td>-1.347984</td>\n      <td>-1.383415</td>\n      <td>0.492188</td>\n      <td>0.691898</td>\n    </tr>\n    <tr>\n      <th>1_10_1</th>\n      <td>1.192046</td>\n      <td>0.575046</td>\n      <td>1.190427</td>\n      <td>1.005503</td>\n      <td>-0.429561</td>\n      <td>-0.819943</td>\n      <td>-1.060149</td>\n      <td>-0.944026</td>\n      <td>-0.177977</td>\n      <td>-0.893660</td>\n      <td>-0.833714</td>\n      <td>-0.605952</td>\n      <td>-0.471700</td>\n      <td>-0.768480</td>\n      <td>-0.178536</td>\n      <td>-0.298590</td>\n      <td>-0.238640</td>\n      <td>-0.277510</td>\n      <td>-0.230633</td>\n    </tr>\n    <tr>\n      <th>1_10_5</th>\n      <td>-0.963382</td>\n      <td>0.742768</td>\n      <td>-0.317384</td>\n      <td>0.281218</td>\n      <td>2.028871</td>\n      <td>1.651922</td>\n      <td>1.575386</td>\n      <td>1.616959</td>\n      <td>-0.028326</td>\n      <td>1.054486</td>\n      <td>1.112732</td>\n      <td>0.601039</td>\n      <td>0.691527</td>\n      <td>1.360684</td>\n      <td>0.614598</td>\n      <td>0.524781</td>\n      <td>0.570340</td>\n      <td>-1.518452</td>\n      <td>-0.230633</td>\n    </tr>\n    <tr>\n      <th>1_10_3</th>\n      <td>0.751052</td>\n      <td>0.578241</td>\n      <td>0.690619</td>\n      <td>0.648005</td>\n      <td>-0.341944</td>\n      <td>-0.750784</td>\n      <td>-0.698807</td>\n      <td>-0.726153</td>\n      <td>1.818622</td>\n      <td>1.137386</td>\n      <td>1.104378</td>\n      <td>1.789966</td>\n      <td>1.707972</td>\n      <td>-0.078629</td>\n      <td>-1.416062</td>\n      <td>-1.347984</td>\n      <td>-1.383415</td>\n      <td>0.492188</td>\n      <td>0.691898</td>\n    </tr>\n    <tr>\n      <th>1_2_1</th>\n      <td>1.192046</td>\n      <td>0.575046</td>\n      <td>1.190427</td>\n      <td>1.005503</td>\n      <td>-0.429561</td>\n      <td>-0.819943</td>\n      <td>-1.060149</td>\n      <td>-0.944026</td>\n      <td>-0.177977</td>\n      <td>-0.893660</td>\n      <td>-0.833714</td>\n      <td>-0.605952</td>\n      <td>-0.471700</td>\n      <td>-0.768480</td>\n      <td>-0.178536</td>\n      <td>-0.298590</td>\n      <td>-0.238640</td>\n      <td>-0.277510</td>\n      <td>-0.230633</td>\n    </tr>\n    <tr>\n      <th>1_2_5</th>\n      <td>-0.963382</td>\n      <td>0.742768</td>\n      <td>-0.317384</td>\n      <td>0.281218</td>\n      <td>2.028871</td>\n      <td>1.651922</td>\n      <td>1.575386</td>\n      <td>1.616959</td>\n      <td>-0.028326</td>\n      <td>1.054486</td>\n      <td>1.112732</td>\n      <td>0.601039</td>\n      <td>0.691527</td>\n      <td>1.360684</td>\n      <td>0.614598</td>\n      <td>0.524781</td>\n      <td>0.570340</td>\n      <td>-1.518452</td>\n      <td>-0.230633</td>\n    </tr>\n    <tr>\n      <th>1_2_3</th>\n      <td>0.751052</td>\n      <td>0.578241</td>\n      <td>0.690619</td>\n      <td>0.648005</td>\n      <td>-0.341944</td>\n      <td>-0.750784</td>\n      <td>-0.698807</td>\n      <td>-0.726153</td>\n      <td>1.818622</td>\n      <td>1.137386</td>\n      <td>1.104378</td>\n      <td>1.789966</td>\n      <td>1.707972</td>\n      <td>-0.078629</td>\n      <td>-1.416062</td>\n      <td>-1.347984</td>\n      <td>-1.383415</td>\n      <td>0.492188</td>\n      <td>0.691898</td>\n    </tr>\n    <tr>\n      <th>1_5_1</th>\n      <td>1.192046</td>\n      <td>0.575046</td>\n      <td>1.190427</td>\n      <td>1.005503</td>\n      <td>-0.429561</td>\n      <td>-0.819943</td>\n      <td>-1.060149</td>\n      <td>-0.944026</td>\n      <td>-0.177977</td>\n      <td>-0.893660</td>\n      <td>-0.833714</td>\n      <td>-0.605952</td>\n      <td>-0.471700</td>\n      <td>-0.768480</td>\n      <td>-0.178536</td>\n      <td>-0.298590</td>\n      <td>-0.238640</td>\n      <td>-0.277510</td>\n      <td>-0.230633</td>\n    </tr>\n    <tr>\n      <th>1_5_5</th>\n      <td>-0.963382</td>\n      <td>0.742768</td>\n      <td>-0.317384</td>\n      <td>0.281218</td>\n      <td>2.028871</td>\n      <td>1.651922</td>\n      <td>1.575386</td>\n      <td>1.616959</td>\n      <td>-0.028326</td>\n      <td>1.054486</td>\n      <td>1.112732</td>\n      <td>0.601039</td>\n      <td>0.691527</td>\n      <td>1.360684</td>\n      <td>0.614598</td>\n      <td>0.524781</td>\n      <td>0.570340</td>\n      <td>-1.518452</td>\n      <td>-0.230633</td>\n    </tr>\n    <tr>\n      <th>1_5_3</th>\n      <td>0.751052</td>\n      <td>0.578241</td>\n      <td>0.690619</td>\n      <td>0.648005</td>\n      <td>-0.341944</td>\n      <td>-0.750784</td>\n      <td>-0.698807</td>\n      <td>-0.726153</td>\n      <td>1.818622</td>\n      <td>1.137386</td>\n      <td>1.104378</td>\n      <td>1.789966</td>\n      <td>1.707972</td>\n      <td>-0.078629</td>\n      <td>-1.416062</td>\n      <td>-1.347984</td>\n      <td>-1.383415</td>\n      <td>0.492188</td>\n      <td>0.691898</td>\n    </tr>\n    <tr>\n      <th>1_9_1</th>\n      <td>1.192046</td>\n      <td>0.575046</td>\n      <td>1.190427</td>\n      <td>1.005503</td>\n      <td>-0.429561</td>\n      <td>-0.819943</td>\n      <td>-1.060149</td>\n      <td>-0.944026</td>\n      <td>-0.177977</td>\n      <td>-0.893660</td>\n      <td>-0.833714</td>\n      <td>-0.605952</td>\n      <td>-0.471700</td>\n      <td>-0.768480</td>\n      <td>-0.178536</td>\n      <td>-0.298590</td>\n      <td>-0.238640</td>\n      <td>-0.277510</td>\n      <td>-0.230633</td>\n    </tr>\n    <tr>\n      <th>1_11_5</th>\n      <td>-0.963382</td>\n      <td>0.742768</td>\n      <td>-0.317384</td>\n      <td>0.281218</td>\n      <td>2.028871</td>\n      <td>1.651922</td>\n      <td>1.575386</td>\n      <td>1.616959</td>\n      <td>-0.028326</td>\n      <td>1.054486</td>\n      <td>1.112732</td>\n      <td>0.601039</td>\n      <td>0.691527</td>\n      <td>1.360684</td>\n      <td>0.614598</td>\n      <td>0.524781</td>\n      <td>0.570340</td>\n      <td>-1.518452</td>\n      <td>-0.230633</td>\n    </tr>\n    <tr>\n      <th>1_9_3</th>\n      <td>0.751052</td>\n      <td>0.578241</td>\n      <td>0.690619</td>\n      <td>0.648005</td>\n      <td>-0.341944</td>\n      <td>-0.750784</td>\n      <td>-0.698807</td>\n      <td>-0.726153</td>\n      <td>1.818622</td>\n      <td>1.137386</td>\n      <td>1.104378</td>\n      <td>1.789966</td>\n      <td>1.707972</td>\n      <td>-0.078629</td>\n      <td>-1.416062</td>\n      <td>-1.347984</td>\n      <td>-1.383415</td>\n      <td>0.492188</td>\n      <td>0.691898</td>\n    </tr>\n  </tbody>\n</table>\n</div>"
          },
          "execution_count": 64,
          "metadata": {},
          "output_type": "execute_result"
        }
      ],
      "source": [
        "def find_unique_neighbors_add(knn, point, addToDf, neighbor_number=1):\n",
        "    distances, indices = knn.kneighbors([point], neighbor_number)\n",
        "    neighbor_catalyst = df.iloc[[indices[0][neighbor_number-1]]]\n",
        "    if neighbor_catalyst.index[0] in addToDf.index:\n",
        "        #get next neighbor\n",
        "        neighbor_catalyst = find_unique_neighbors_add(knn, point, addToDf, neighbor_number+1)\n",
        "    return neighbor_catalyst\n",
        "\n",
        "def process_neighbors(knn, for_points, addToDf):\n",
        "    for i in range(len(for_points)):\n",
        "        neighbor_catalyst = find_unique_neighbors_add(knn, for_points[i], addToDf)\n",
        "        if len(neighbor_catalyst) > 0:\n",
        "            addToDf = pd.concat([addToDf, neighbor_catalyst], ignore_index=False, sort=True)\n",
        "    return addToDf\n",
        "\n",
        "random_catalyst_df = process_neighbors(knn, new_optimized_catalysts, random_catalyst_df)\n",
        "random_catalyst_df[X_COLS]"
      ],
      "metadata": {
        "id": "10bebdf2fff05fa4",
        "outputId": "9fdb558b-7f59-48b0-e87d-eeaa4d0e2a51",
        "colab": {
          "base_uri": "https://localhost:8080/",
          "height": 373
        },
        "ExecuteTime": {
          "end_time": "2024-05-27T19:50:24.719248900Z",
          "start_time": "2024-05-27T19:50:21.794201100Z"
        }
      },
      "id": "10bebdf2fff05fa4"
    },
    {
      "cell_type": "code",
      "execution_count": null,
      "outputs": [
        {
          "data": {
            "text/plain": "array([-0.78970154])"
          },
          "execution_count": 47,
          "metadata": {},
          "output_type": "execute_result"
        }
      ],
      "source": [
        "# sample prediction with model\n",
        "properties1 = (np.array([ 0.75813041,  0.67727654,  0.68692902,  0.57403813, -0.39901283,\n",
        "       -0.83317389, -0.69366434, -0.76423736, -0.18775295, -0.89697628,\n",
        "       -0.93897206, -0.64303136, -0.50508299, -0.82567658, -0.29773217,\n",
        "       -0.23605932, -0.26722481,  0.02879822, -0.69189841]))\n",
        "pls_predict_ee(pls_large_saved_model, properties1)"
      ],
      "metadata": {
        "ExecuteTime": {
          "end_time": "2024-05-27T19:35:44.886986300Z",
          "start_time": "2024-05-27T19:35:44.870652400Z"
        },
        "id": "d0a69f10c8d70c9a",
        "outputId": "3e9ea0ba-d09f-4d62-f946-d40d07f4d144"
      },
      "id": "d0a69f10c8d70c9a"
    },
    {
      "cell_type": "code",
      "execution_count": null,
      "outputs": [],
      "source": [
        "random_catalyst_df = random_catalyst_df[~random_catalyst_df.index.duplicated(keep='first')]"
      ],
      "metadata": {
        "id": "2443520b982251f8",
        "ExecuteTime": {
          "end_time": "2024-05-27T19:35:45.007897800Z",
          "start_time": "2024-05-27T19:35:44.974882900Z"
        }
      },
      "id": "2443520b982251f8"
    },
    {
      "cell_type": "code",
      "execution_count": null,
      "outputs": [
        {
          "name": "stdout",
          "output_type": "stream",
          "text": [
            "6\n",
            "12\n",
            "24\n",
            "48\n",
            "96\n",
            "192\n"
          ]
        }
      ],
      "source": [
        "# We will now do all this in a single loop\n",
        "highest_ddg_index = df.index[df['ddG'] == df['ddG'].max()]\n",
        "not_highest_index=[i for i in df.index if i not in highest_ddg_index]\n",
        "random_catalyst_df = df.loc[not_highest_index].sample(START_SAMPLE_SIZE)\n",
        "prev_loop_len = len(random_catalyst_df)\n",
        "while(len(random_catalyst_df) < len(df)):\n",
        "    new_optimized_catalysts = optimize_catalysts(random_catalyst_df[X_COLS], pls_large_saved_model)\n",
        "    random_catalyst_df = process_neighbors(knn, new_optimized_catalysts, random_catalyst_df)\n",
        "    if(len(random_catalyst_df) == prev_loop_len):\n",
        "        print(\"The processing has blocked and no new catalysts are being added. Exiting.\")\n",
        "        break\n",
        "    if len(pd.concat([highest_ddg_index.to_series(), random_catalyst_df.index.to_series()], axis=1, join='inner')) > 0:\n",
        "        print(\"Found the highest ddG. Exiting.\")\n",
        "        break\n",
        "    prev_loop_len = len(random_catalyst_df)\n",
        "    print(prev_loop_len)"
      ],
      "metadata": {
        "id": "67bcc19eae370159",
        "outputId": "18bf35dc-10ac-4eee-e921-2e7e943e8e44",
        "colab": {
          "base_uri": "https://localhost:8080/"
        },
        "is_executing": true,
        "ExecuteTime": {
          "start_time": "2024-05-27T20:13:33.645466400Z"
        }
      },
      "id": "67bcc19eae370159"
    },
    {
      "cell_type": "code",
      "execution_count": null,
      "outputs": [
        {
          "data": {
            "text/plain": "Index(['3_4_5', '3_6_1', '19_9_1', '1_1_5', '1_1_1', '1_10_1', '1_10_5',\n       '1_2_1', '1_5_1', '1_2_5', '1_9_1', '1_7_1', '1_5_5', '1_8_1', '1_4_1',\n       '1_11_5', '10_6_1', '10_3_1', '1_9_5', '10_10_1', '10_4_1', '1_3_5',\n       '10_11_1', '1_11_1', '1_6_5', '1_3_1', '12_10_1', '10_6_5', '11_3_1',\n       '11_1_1', '10_4_5', '11_6_1', '10_8_1', '10_10_5', '11_10_1', '11_5_1',\n       '10_3_5', '10_7_1', '12_11_1', '1_8_5', '10_9_1', '11_2_1', '10_1_5',\n       '11_4_1', '14_1_1', '12_10_5', '14_10_1', '14_2_1'],\n      dtype='object', name='Catalyst')"
          },
          "execution_count": 68,
          "metadata": {},
          "output_type": "execute_result"
        }
      ],
      "source": [
        "random_catalyst_df.index"
      ],
      "metadata": {
        "id": "8826d4e35f5dad7a",
        "outputId": "89876af1-fd41-43c1-f61f-20dce2af8487",
        "colab": {
          "base_uri": "https://localhost:8080/",
          "height": 241
        },
        "ExecuteTime": {
          "end_time": "2024-05-27T20:01:07.436968400Z",
          "start_time": "2024-05-27T20:01:07.393864600Z"
        }
      },
      "id": "8826d4e35f5dad7a"
    },
    {
      "cell_type": "code",
      "execution_count": null,
      "outputs": [
        {
          "data": {
            "text/plain": "Index(['1_1_5', '1_10_5', '1_11_5', '1_2_5', '1_3_5', '1_4_5', '1_5_5',\n       '1_6_5', '1_7_5', '1_8_5',\n       ...\n       '9_10_5', '9_11_5', '9_2_5', '9_3_5', '9_4_5', '9_5_5', '9_6_5',\n       '9_7_5', '9_8_5', '9_9_5'],\n      dtype='object', name='Catalyst', length=319)"
          },
          "execution_count": 74,
          "metadata": {},
          "output_type": "execute_result"
        }
      ],
      "source": [
        "highest_ddg_index = df.index[df['ddG'] ==df['ddG'].max()]\n",
        "highest_ddg_index"
      ],
      "metadata": {
        "id": "466dca7e52bd8593",
        "ExecuteTime": {
          "end_time": "2024-05-27T20:05:50.161567400Z",
          "start_time": "2024-05-27T20:05:50.141393600Z"
        },
        "outputId": "ada5470f-f317-4411-9229-c14e9d8e6db2"
      },
      "id": "466dca7e52bd8593"
    },
    {
      "cell_type": "code",
      "execution_count": null,
      "outputs": [
        {
          "data": {
            "text/plain": "pandas.core.indexes.base.Index"
          },
          "execution_count": 70,
          "metadata": {},
          "output_type": "execute_result"
        }
      ],
      "source": [
        "type(highest_ddg_index)"
      ],
      "metadata": {
        "ExecuteTime": {
          "end_time": "2024-05-27T20:02:52.123821300Z",
          "start_time": "2024-05-27T20:02:52.100136400Z"
        },
        "id": "8c379573d47b9211",
        "outputId": "bd84524d-73fc-4d4f-8e0c-770543ca3c4c"
      },
      "id": "8c379573d47b9211"
    },
    {
      "cell_type": "code",
      "execution_count": null,
      "outputs": [
        {
          "data": {
            "text/plain": "16"
          },
          "execution_count": 75,
          "metadata": {},
          "output_type": "execute_result"
        }
      ],
      "source": [
        "len(pd.concat([highest_ddg_index.to_series(), random_catalyst_df.index.to_series()], axis=1, join='inner'))"
      ],
      "metadata": {
        "ExecuteTime": {
          "end_time": "2024-05-27T20:07:01.127453600Z",
          "start_time": "2024-05-27T20:07:01.107889100Z"
        },
        "id": "c25e8599b1df23b9",
        "outputId": "0e7ca6a8-fcc9-4179-d147-adcc962f1b77"
      },
      "id": "c25e8599b1df23b9"
    },
    {
      "cell_type": "code",
      "execution_count": null,
      "outputs": [
        {
          "data": {
            "text/plain": "Index(['1_1_1', '1_1_2', '1_1_3', '1_1_4', '1_1_6', '1_10_1', '1_10_2',\n       '1_10_3', '1_10_4', '1_10_6',\n       ...\n       '9_8_1', '9_8_2', '9_8_3', '9_8_4', '9_8_6', '9_9_1', '9_9_2', '9_9_3',\n       '9_9_4', '9_9_6'],\n      dtype='object', name='Catalyst', length=1584)"
          },
          "execution_count": 83,
          "metadata": {},
          "output_type": "execute_result"
        }
      ],
      "source": [
        "not_highest_index=[i for i in df.index if i not in highest_ddg_index]\n",
        "df.loc[not_highest_index].index"
      ],
      "metadata": {
        "ExecuteTime": {
          "end_time": "2024-05-27T20:11:46.308822800Z",
          "start_time": "2024-05-27T20:11:46.281890Z"
        },
        "id": "db0238d6d5ca88dd",
        "outputId": "7dd0ad35-0a01-41f5-820b-ccb3dd6a303c"
      },
      "id": "db0238d6d5ca88dd"
    },
    {
      "cell_type": "code",
      "execution_count": null,
      "outputs": [],
      "source": [],
      "metadata": {
        "id": "76087d0c889f129a"
      },
      "id": "76087d0c889f129a"
    }
  ],
  "metadata": {
    "kernelspec": {
      "display_name": "Python 3",
      "language": "python",
      "name": "python3"
    },
    "language_info": {
      "codemirror_mode": {
        "name": "ipython",
        "version": 2
      },
      "file_extension": ".py",
      "mimetype": "text/x-python",
      "name": "python",
      "nbconvert_exporter": "python",
      "pygments_lexer": "ipython2",
      "version": "2.7.6"
    },
    "colab": {
      "provenance": [],
      "include_colab_link": true
    }
  },
  "nbformat": 4,
  "nbformat_minor": 5
}