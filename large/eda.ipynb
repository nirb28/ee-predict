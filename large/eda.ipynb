{
 "cells": [
  {
   "cell_type": "markdown",
   "metadata": {
    "id": "view-in-github",
    "colab_type": "text"
   },
   "source": [
    "<a href=\"https://colab.research.google.com/github/nirb28/ee-predict/blob/main/large/eda.ipynb\" target=\"_parent\"><img src=\"https://colab.research.google.com/assets/colab-badge.svg\" alt=\"Open In Colab\"/></a>"
   ],
   "id": "fa5f8d6a6bfb4c01"
  },
  {
   "cell_type": "code",
   "source": [
    "def resolve_path_gdrive(relativePath, localPathPrefix=\"\"):\n",
    "    if os.path.exists('/content/drive'):\n",
    "        return '/content/drive/MyDrive/work/gdrive-workspaces/git/ee-predict/' + relativePath\n",
    "    else:\n",
    "        return localPathPrefix + relativePath\n",
    "from google.colab import drive\n",
    "drive.mount('/content/drive', force_remount=False)"
   ],
   "metadata": {
    "colab": {
     "base_uri": "https://localhost:8080/"
    },
    "id": "Fu8JYE9kkLqM",
    "outputId": "99096bef-2229-4fc8-fbc9-14e2d6014781",
    "ExecuteTime": {
     "end_time": "2024-05-26T22:00:32.451937700Z",
     "start_time": "2024-05-26T22:00:32.353869300Z"
    }
   },
   "id": "Fu8JYE9kkLqM",
   "execution_count": 4,
   "outputs": [
    {
     "ename": "ModuleNotFoundError",
     "evalue": "No module named 'google'",
     "output_type": "error",
     "traceback": [
      "\u001B[1;31m---------------------------------------------------------------------------\u001B[0m",
      "\u001B[1;31mModuleNotFoundError\u001B[0m                       Traceback (most recent call last)",
      "Cell \u001B[1;32mIn[4], line 6\u001B[0m\n\u001B[0;32m      4\u001B[0m     \u001B[38;5;28;01melse\u001B[39;00m:\n\u001B[0;32m      5\u001B[0m         \u001B[38;5;28;01mreturn\u001B[39;00m localPathPrefix \u001B[38;5;241m+\u001B[39m relativePath\n\u001B[1;32m----> 6\u001B[0m \u001B[38;5;28;01mfrom\u001B[39;00m \u001B[38;5;21;01mgoogle\u001B[39;00m\u001B[38;5;21;01m.\u001B[39;00m\u001B[38;5;21;01mcolab\u001B[39;00m \u001B[38;5;28;01mimport\u001B[39;00m drive\n\u001B[0;32m      7\u001B[0m drive\u001B[38;5;241m.\u001B[39mmount(\u001B[38;5;124m'\u001B[39m\u001B[38;5;124m/content/drive\u001B[39m\u001B[38;5;124m'\u001B[39m, force_remount\u001B[38;5;241m=\u001B[39m\u001B[38;5;28;01mFalse\u001B[39;00m)\n",
      "\u001B[1;31mModuleNotFoundError\u001B[0m: No module named 'google'"
     ]
    }
   ]
  },
  {
   "cell_type": "code",
   "execution_count": 2,
   "outputs": [
    {
     "ename": "ModuleNotFoundError",
     "evalue": "No module named 'matplotlib'",
     "output_type": "error",
     "traceback": [
      "\u001B[1;31m---------------------------------------------------------------------------\u001B[0m",
      "\u001B[1;31mModuleNotFoundError\u001B[0m                       Traceback (most recent call last)",
      "Cell \u001B[1;32mIn[2], line 6\u001B[0m\n\u001B[0;32m      3\u001B[0m \u001B[38;5;28;01mimport\u001B[39;00m \u001B[38;5;21;01mnumpy\u001B[39;00m \u001B[38;5;28;01mas\u001B[39;00m \u001B[38;5;21;01mnp\u001B[39;00m\u001B[38;5;241m,\u001B[39m \u001B[38;5;21;01mos\u001B[39;00m\n\u001B[0;32m      5\u001B[0m \u001B[38;5;66;03m# import libraries for plotting\u001B[39;00m\n\u001B[1;32m----> 6\u001B[0m \u001B[38;5;28;01mimport\u001B[39;00m \u001B[38;5;21;01mmatplotlib\u001B[39;00m\u001B[38;5;21;01m.\u001B[39;00m\u001B[38;5;21;01mpyplot\u001B[39;00m \u001B[38;5;28;01mas\u001B[39;00m \u001B[38;5;21;01mplt\u001B[39;00m\n\u001B[0;32m      7\u001B[0m \u001B[38;5;28;01mimport\u001B[39;00m \u001B[38;5;21;01mseaborn\u001B[39;00m \u001B[38;5;28;01mas\u001B[39;00m \u001B[38;5;21;01msns\u001B[39;00m\n\u001B[0;32m      8\u001B[0m get_ipython()\u001B[38;5;241m.\u001B[39mrun_line_magic(\u001B[38;5;124m'\u001B[39m\u001B[38;5;124mmatplotlib\u001B[39m\u001B[38;5;124m'\u001B[39m, \u001B[38;5;124m'\u001B[39m\u001B[38;5;124minline\u001B[39m\u001B[38;5;124m'\u001B[39m)\n",
      "\u001B[1;31mModuleNotFoundError\u001B[0m: No module named 'matplotlib'"
     ]
    }
   ],
   "source": [
    "# importing modules and packages\n",
    "import pandas as pd\n",
    "import numpy as np, os\n",
    "\n",
    "# import libraries for plotting\n",
    "import matplotlib.pyplot as plt\n",
    "import seaborn as sns\n",
    "%matplotlib inline\n",
    "plt.style.use('ggplot')\n",
    "pd.set_option('display.max_columns', 200)\n",
    "\n",
    "# ignore warnings\n",
    "import warnings\n",
    "warnings.filterwarnings('ignore')"
   ],
   "metadata": {
    "id": "21adb13e725cc38d",
    "ExecuteTime": {
     "end_time": "2024-05-26T21:58:00.088152900Z",
     "start_time": "2024-05-26T21:57:58.723296900Z"
    }
   },
   "id": "21adb13e725cc38d"
  },
  {
   "cell_type": "code",
   "execution_count": 5,
   "outputs": [],
   "source": [
    "# Import the dataset from the csv file.\n",
    "df = pd.read_csv(resolve_path_gdrive('data/large_cat_desc_col_names.csv', localPathPrefix=\"../\"))"
   ],
   "metadata": {
    "id": "4673c4f52ebdb7bb",
    "ExecuteTime": {
     "end_time": "2024-05-26T22:00:39.418188500Z",
     "start_time": "2024-05-26T22:00:37.590999800Z"
    }
   },
   "id": "4673c4f52ebdb7bb"
  },
  {
   "cell_type": "code",
   "execution_count": 6,
   "outputs": [
    {
     "data": {
      "text/plain": "  Catalyst    1    2    3    4    5    6    7    8    9  ...      3965  \\\n0    1_1_1  0.0  0.0  0.0  0.0  0.0  0.0  0.0  0.0  0.0  ... -0.833714   \n1    1_1_2  0.0  0.0  0.0  0.0  0.0  0.0  0.0  0.0  0.0  ... -0.880495   \n2    1_1_3  0.0  0.0  0.0  0.0  0.0  0.0  0.0  0.0  0.0  ...  1.104378   \n3    1_1_4  0.0  0.0  0.0  0.0  0.0  0.0  0.0  0.0  0.0  ... -0.938972   \n4    1_1_5  0.0  0.0  0.0  0.0  0.0  0.0  0.0  0.0  0.0  ...  1.112732   \n\n       3966      3967      3968      3969      3970      3971      3972  \\\n0 -0.605952 -0.471700 -0.768480 -0.178536 -0.298590 -0.238640 -0.277510   \n1 -0.602624 -0.471616 -0.798242 -0.277709 -0.280445 -0.279338 -0.246094   \n2  1.789966  1.707972 -0.078629 -1.416062 -1.347984 -1.383415  0.492188   \n3 -0.643031 -0.505083 -0.825677 -0.297732 -0.236059 -0.267225  0.028798   \n4  0.601039  0.691527  1.360684  0.614598  0.524781  0.570340 -1.518452   \n\n       3973       ddG  \n0 -0.230633 -0.672194  \n1 -1.153164 -1.146684  \n2  0.691898  0.276786  \n3 -0.691898 -0.672194  \n4 -0.230633  1.463011  \n\n[5 rows x 3975 columns]",
      "text/html": "<div>\n<style scoped>\n    .dataframe tbody tr th:only-of-type {\n        vertical-align: middle;\n    }\n\n    .dataframe tbody tr th {\n        vertical-align: top;\n    }\n\n    .dataframe thead th {\n        text-align: right;\n    }\n</style>\n<table border=\"1\" class=\"dataframe\">\n  <thead>\n    <tr style=\"text-align: right;\">\n      <th></th>\n      <th>Catalyst</th>\n      <th>1</th>\n      <th>2</th>\n      <th>3</th>\n      <th>4</th>\n      <th>5</th>\n      <th>6</th>\n      <th>7</th>\n      <th>8</th>\n      <th>9</th>\n      <th>...</th>\n      <th>3965</th>\n      <th>3966</th>\n      <th>3967</th>\n      <th>3968</th>\n      <th>3969</th>\n      <th>3970</th>\n      <th>3971</th>\n      <th>3972</th>\n      <th>3973</th>\n      <th>ddG</th>\n    </tr>\n  </thead>\n  <tbody>\n    <tr>\n      <th>0</th>\n      <td>1_1_1</td>\n      <td>0.0</td>\n      <td>0.0</td>\n      <td>0.0</td>\n      <td>0.0</td>\n      <td>0.0</td>\n      <td>0.0</td>\n      <td>0.0</td>\n      <td>0.0</td>\n      <td>0.0</td>\n      <td>...</td>\n      <td>-0.833714</td>\n      <td>-0.605952</td>\n      <td>-0.471700</td>\n      <td>-0.768480</td>\n      <td>-0.178536</td>\n      <td>-0.298590</td>\n      <td>-0.238640</td>\n      <td>-0.277510</td>\n      <td>-0.230633</td>\n      <td>-0.672194</td>\n    </tr>\n    <tr>\n      <th>1</th>\n      <td>1_1_2</td>\n      <td>0.0</td>\n      <td>0.0</td>\n      <td>0.0</td>\n      <td>0.0</td>\n      <td>0.0</td>\n      <td>0.0</td>\n      <td>0.0</td>\n      <td>0.0</td>\n      <td>0.0</td>\n      <td>...</td>\n      <td>-0.880495</td>\n      <td>-0.602624</td>\n      <td>-0.471616</td>\n      <td>-0.798242</td>\n      <td>-0.277709</td>\n      <td>-0.280445</td>\n      <td>-0.279338</td>\n      <td>-0.246094</td>\n      <td>-1.153164</td>\n      <td>-1.146684</td>\n    </tr>\n    <tr>\n      <th>2</th>\n      <td>1_1_3</td>\n      <td>0.0</td>\n      <td>0.0</td>\n      <td>0.0</td>\n      <td>0.0</td>\n      <td>0.0</td>\n      <td>0.0</td>\n      <td>0.0</td>\n      <td>0.0</td>\n      <td>0.0</td>\n      <td>...</td>\n      <td>1.104378</td>\n      <td>1.789966</td>\n      <td>1.707972</td>\n      <td>-0.078629</td>\n      <td>-1.416062</td>\n      <td>-1.347984</td>\n      <td>-1.383415</td>\n      <td>0.492188</td>\n      <td>0.691898</td>\n      <td>0.276786</td>\n    </tr>\n    <tr>\n      <th>3</th>\n      <td>1_1_4</td>\n      <td>0.0</td>\n      <td>0.0</td>\n      <td>0.0</td>\n      <td>0.0</td>\n      <td>0.0</td>\n      <td>0.0</td>\n      <td>0.0</td>\n      <td>0.0</td>\n      <td>0.0</td>\n      <td>...</td>\n      <td>-0.938972</td>\n      <td>-0.643031</td>\n      <td>-0.505083</td>\n      <td>-0.825677</td>\n      <td>-0.297732</td>\n      <td>-0.236059</td>\n      <td>-0.267225</td>\n      <td>0.028798</td>\n      <td>-0.691898</td>\n      <td>-0.672194</td>\n    </tr>\n    <tr>\n      <th>4</th>\n      <td>1_1_5</td>\n      <td>0.0</td>\n      <td>0.0</td>\n      <td>0.0</td>\n      <td>0.0</td>\n      <td>0.0</td>\n      <td>0.0</td>\n      <td>0.0</td>\n      <td>0.0</td>\n      <td>0.0</td>\n      <td>...</td>\n      <td>1.112732</td>\n      <td>0.601039</td>\n      <td>0.691527</td>\n      <td>1.360684</td>\n      <td>0.614598</td>\n      <td>0.524781</td>\n      <td>0.570340</td>\n      <td>-1.518452</td>\n      <td>-0.230633</td>\n      <td>1.463011</td>\n    </tr>\n  </tbody>\n</table>\n<p>5 rows × 3975 columns</p>\n</div>"
     },
     "execution_count": 6,
     "metadata": {},
     "output_type": "execute_result"
    }
   ],
   "source": [
    "df.columns #= [*df.columns[:-1], 'ddG']\n",
    "df.head()"
   ],
   "metadata": {
    "colab": {
     "base_uri": "https://localhost:8080/",
     "height": 255
    },
    "id": "2010a5e21a9fc812",
    "outputId": "a70b56e4-a370-4ddf-cd96-67fe1247d1a7",
    "ExecuteTime": {
     "end_time": "2024-05-26T22:00:43.198105900Z",
     "start_time": "2024-05-26T22:00:43.123727800Z"
    }
   },
   "id": "2010a5e21a9fc812"
  },
  {
   "cell_type": "code",
   "execution_count": 7,
   "outputs": [
    {
     "data": {
      "text/plain": "(1903, 3975)"
     },
     "execution_count": 7,
     "metadata": {},
     "output_type": "execute_result"
    }
   ],
   "source": [
    "df.shape\n",
    "# This is a problem as our n << p\n",
    "# And if p > n, then there is no longer a unique least squares coefficient estimate.\n",
    "# Least squares will not be a"
   ],
   "metadata": {
    "colab": {
     "base_uri": "https://localhost:8080/"
    },
    "id": "33f7e47e361a2897",
    "outputId": "3a647935-ff1b-48d1-a619-8c9dfcb6a658",
    "ExecuteTime": {
     "end_time": "2024-05-26T22:00:45.282050Z",
     "start_time": "2024-05-26T22:00:45.273056700Z"
    }
   },
   "id": "33f7e47e361a2897"
  },
  {
   "cell_type": "code",
   "source": [
    "# Compute the correlation matrix for the first 20 features and the target variable to keep it manageable\n",
    "correlation_matrix = df.iloc[:, 1:21].join(df['ddG']).corr()\n",
    "\n",
    "# Plot the correlation matrix\n",
    "plt.figure(figsize=(15, 10))\n",
    "sns.heatmap(correlation_matrix, annot=True, fmt=\".2f\", cmap='coolwarm', vmin=-1, vmax=1)\n",
    "plt.title(\"Correlation Matrix of First 20 Features and Target Variable (ddG)\")\n",
    "plt.show()"
   ],
   "metadata": {
    "colab": {
     "base_uri": "https://localhost:8080/",
     "height": 854
    },
    "id": "kGSTRh6BmXKV",
    "outputId": "d47a28ea-cab1-4e09-b3f9-aa178c6023e0"
   },
   "id": "kGSTRh6BmXKV",
   "execution_count": null,
   "outputs": [
    {
     "output_type": "display_data",
     "data": {
      "text/plain": [
       "<Figure size 1500x1000 with 2 Axes>"
      ],
      "image/png": "[encoded data removed]"
     },
     "metadata": {}
    }
   ]
  },
  {
   "cell_type": "code",
   "source": [
    "# Compute the correlation matrix for the last 20 features and the target variable to keep it manageable\n",
    "correlation_matrix = df.iloc[:, 3953:3973].join(df['ddG']).corr()\n",
    "\n",
    "# Plot the correlation matrix\n",
    "plt.figure(figsize=(15, 10))\n",
    "sns.heatmap(correlation_matrix, annot=True, fmt=\".2f\", cmap='coolwarm', vmin=-1, vmax=1)\n",
    "plt.title(\"Correlation Matrix of Last 20 Features and Target Variable (ddG)\")\n",
    "plt.show()"
   ],
   "metadata": {
    "id": "DNM4GzmPXG1l",
    "outputId": "6a5f138b-7fab-43ca-de17-ce65b562fcc7",
    "colab": {
     "base_uri": "https://localhost:8080/",
     "height": 854
    },
    "ExecuteTime": {
     "end_time": "2024-05-26T22:01:09.598649400Z",
     "start_time": "2024-05-26T22:01:09.436047600Z"
    }
   },
   "id": "DNM4GzmPXG1l",
   "execution_count": 8,
   "outputs": [
    {
     "ename": "NameError",
     "evalue": "name 'plt' is not defined",
     "output_type": "error",
     "traceback": [
      "\u001B[1;31m---------------------------------------------------------------------------\u001B[0m",
      "\u001B[1;31mNameError\u001B[0m                                 Traceback (most recent call last)",
      "Cell \u001B[1;32mIn[8], line 5\u001B[0m\n\u001B[0;32m      2\u001B[0m correlation_matrix \u001B[38;5;241m=\u001B[39m df\u001B[38;5;241m.\u001B[39miloc[:, \u001B[38;5;241m3953\u001B[39m:\u001B[38;5;241m3973\u001B[39m]\u001B[38;5;241m.\u001B[39mjoin(df[\u001B[38;5;124m'\u001B[39m\u001B[38;5;124mddG\u001B[39m\u001B[38;5;124m'\u001B[39m])\u001B[38;5;241m.\u001B[39mcorr()\n\u001B[0;32m      4\u001B[0m \u001B[38;5;66;03m# Plot the correlation matrix\u001B[39;00m\n\u001B[1;32m----> 5\u001B[0m plt\u001B[38;5;241m.\u001B[39mfigure(figsize\u001B[38;5;241m=\u001B[39m(\u001B[38;5;241m15\u001B[39m, \u001B[38;5;241m10\u001B[39m))\n\u001B[0;32m      6\u001B[0m sns\u001B[38;5;241m.\u001B[39mheatmap(correlation_matrix, annot\u001B[38;5;241m=\u001B[39m\u001B[38;5;28;01mTrue\u001B[39;00m, fmt\u001B[38;5;241m=\u001B[39m\u001B[38;5;124m\"\u001B[39m\u001B[38;5;124m.2f\u001B[39m\u001B[38;5;124m\"\u001B[39m, cmap\u001B[38;5;241m=\u001B[39m\u001B[38;5;124m'\u001B[39m\u001B[38;5;124mcoolwarm\u001B[39m\u001B[38;5;124m'\u001B[39m, vmin\u001B[38;5;241m=\u001B[39m\u001B[38;5;241m-\u001B[39m\u001B[38;5;241m1\u001B[39m, vmax\u001B[38;5;241m=\u001B[39m\u001B[38;5;241m1\u001B[39m)\n\u001B[0;32m      7\u001B[0m plt\u001B[38;5;241m.\u001B[39mtitle(\u001B[38;5;124m\"\u001B[39m\u001B[38;5;124mCorrelation Matrix of Last 20 Features and Target Variable (ddG)\u001B[39m\u001B[38;5;124m\"\u001B[39m)\n",
      "\u001B[1;31mNameError\u001B[0m: name 'plt' is not defined"
     ]
    }
   ]
  },
  {
   "cell_type": "code",
   "source": [
    "corr_table = df[df.iloc[:, 1:3974].columns].corrwith(df['ddG'])\n",
    "corr_table"
   ],
   "metadata": {
    "colab": {
     "base_uri": "https://localhost:8080/"
    },
    "id": "pVBg551Ho73Y",
    "outputId": "cbc524b5-babf-4243-b795-d6743e21c8d9",
    "ExecuteTime": {
     "end_time": "2024-05-26T22:01:18.703505700Z",
     "start_time": "2024-05-26T22:01:16.801162Z"
    }
   },
   "id": "pVBg551Ho73Y",
   "execution_count": 9,
   "outputs": [
    {
     "data": {
      "text/plain": "1      -0.000086\n2      -0.000120\n3      -0.000112\n4      -0.000155\n5      -0.000171\n          ...   \n3969    0.466042\n3970    0.464271\n3971    0.465601\n3972   -0.099649\n3973    0.600778\nLength: 3973, dtype: float64"
     },
     "execution_count": 9,
     "metadata": {},
     "output_type": "execute_result"
    }
   ]
  },
  {
   "cell_type": "code",
   "source": [
    "# prompt: find rows in corr_table where corr > .4\n",
    "high_corr_rows = corr_table[abs(corr_table) > .01]\n",
    "print(high_corr_rows)\n",
    "print(high_corr_rows.keys())"
   ],
   "metadata": {
    "colab": {
     "base_uri": "https://localhost:8080/"
    },
    "id": "hejMITQMpSyV",
    "outputId": "5fd4e8e4-a5bb-4b7d-c05d-1d8128651304",
    "ExecuteTime": {
     "end_time": "2024-05-26T22:01:20.162771800Z",
     "start_time": "2024-05-26T22:01:20.094436400Z"
    }
   },
   "id": "hejMITQMpSyV",
   "execution_count": 10,
   "outputs": [
    {
     "name": "stdout",
     "output_type": "stream",
     "text": [
      "3954   -0.424288\n",
      "3955    0.150541\n",
      "3957   -0.227592\n",
      "3958   -0.027907\n",
      "3959    0.657974\n",
      "3960    0.571916\n",
      "3961    0.572095\n",
      "3962    0.573375\n",
      "3963   -0.014249\n",
      "3964    0.885165\n",
      "3965    0.893364\n",
      "3966    0.500519\n",
      "3967    0.393234\n",
      "3968    0.958238\n",
      "3969    0.466042\n",
      "3970    0.464271\n",
      "3971    0.465601\n",
      "3972   -0.099649\n",
      "3973    0.600778\n",
      "dtype: float64\n",
      "Index(['3954', '3955', '3957', '3958', '3959', '3960', '3961', '3962', '3963',\n",
      "       '3964', '3965', '3966', '3967', '3968', '3969', '3970', '3971', '3972',\n",
      "       '3973'],\n",
      "      dtype='object')\n"
     ]
    }
   ]
  },
  {
   "cell_type": "markdown",
   "source": [
    "## Subset Selection Methods\n",
    "Here we implement methods that reduce the number of parameters\n",
    "\n",
    "### Forward Selection\n",
    "We will  apply the forward-selection approach\n"
   ],
   "metadata": {
    "collapsed": false,
    "id": "e1133b03f1e1dec0"
   },
   "id": "e1133b03f1e1dec0"
  },
  {
   "cell_type": "code",
   "execution_count": null,
   "outputs": [
    {
     "output_type": "execute_result",
     "data": {
      "text/plain": [
       "0"
      ]
     },
     "metadata": {},
     "execution_count": 19
    }
   ],
   "source": [
    "!pip install ISLP\n",
    "import numpy as np\n",
    "import pandas as pd\n",
    "from matplotlib.pyplot import subplots\n",
    "from statsmodels.api import OLS\n",
    "import sklearn.model_selection as skm\n",
    "import sklearn.linear_model as skl\n",
    "from sklearn.preprocessing import StandardScaler\n",
    "from ISLP import load_data\n",
    "from ISLP.models import ModelSpec as MS\n",
    "from functools import partial\n",
    "\n",
    "from sklearn.pipeline import Pipeline\n",
    "from sklearn.decomposition import PCA\n",
    "from sklearn.cross_decomposition import PLSRegression\n",
    "from ISLP.models import \\\n",
    "     (Stepwise,\n",
    "      sklearn_selected,\n",
    "      sklearn_selection_path)"
   ],
   "metadata": {
    "ExecuteTime": {
     "end_time": "2024-05-11T22:19:03.335579800Z",
     "start_time": "2024-05-11T22:19:03.211584Z"
    },
    "colab": {
     "base_uri": "https://localhost:8080/"
    },
    "id": "e99f146e021cf452",
    "outputId": "2f63bf8d-1b7e-403e-ca5c-71ad0d6329c8"
   },
   "id": "e99f146e021cf452"
  },
  {
   "cell_type": "code",
   "execution_count": null,
   "outputs": [],
   "source": [
    "def nCp(sigma2, estimator, X, Y):\n",
    "    \"Negative Cp statistic\"\n",
    "    n, p = X.shape\n",
    "    Yhat = estimator.predict(X)\n",
    "    RSS = np.sum((Y - Yhat)**2)\n",
    "    return -(RSS + 2 * p * sigma2) / n"
   ],
   "metadata": {
    "ExecuteTime": {
     "end_time": "2024-05-11T22:19:05.605323Z",
     "start_time": "2024-05-11T22:19:05.525290200Z"
    },
    "id": "147741054fac9033"
   },
   "id": "147741054fac9033"
  },
  {
   "cell_type": "code",
   "execution_count": null,
   "outputs": [
    {
     "output_type": "execute_result",
     "data": {
      "text/plain": [
       "     1    2    3    4    5    6    7    8    9   10  ...      3965      3966   \n",
       "0  0.0  0.0  0.0  0.0  0.0  0.0  0.0  0.0  0.0  0.0  ... -0.833714 -0.605952  \\\n",
       "1  0.0  0.0  0.0  0.0  0.0  0.0  0.0  0.0  0.0  0.0  ... -0.880495 -0.602624   \n",
       "2  0.0  0.0  0.0  0.0  0.0  0.0  0.0  0.0  0.0  0.0  ...  1.104378  1.789966   \n",
       "3  0.0  0.0  0.0  0.0  0.0  0.0  0.0  0.0  0.0  0.0  ... -0.938972 -0.643031   \n",
       "4  0.0  0.0  0.0  0.0  0.0  0.0  0.0  0.0  0.0  0.0  ...  1.112732  0.601039   \n",
       "\n",
       "       3967      3968      3969      3970      3971      3972      3973   \n",
       "0 -0.471700 -0.768480 -0.178536 -0.298590 -0.238640 -0.277510 -0.230633  \\\n",
       "1 -0.471616 -0.798242 -0.277709 -0.280445 -0.279338 -0.246094 -1.153164   \n",
       "2  1.707972 -0.078629 -1.416062 -1.347984 -1.383415  0.492188  0.691898   \n",
       "3 -0.505083 -0.825677 -0.297732 -0.236059 -0.267225  0.028798 -0.691898   \n",
       "4  0.691527  1.360684  0.614598  0.524781  0.570340 -1.518452 -0.230633   \n",
       "\n",
       "        ddG  \n",
       "0 -0.672194  \n",
       "1 -1.146684  \n",
       "2  0.276786  \n",
       "3 -0.672194  \n",
       "4  1.463011  \n",
       "\n",
       "[5 rows x 3974 columns]"
      ],
      "text/html": [
       "\n",
       "  <div id=\"df-944862b8-08c4-4590-9a66-09c9288257d5\" class=\"colab-df-container\">\n",
       "    <div>\n",
       "<style scoped>\n",
       "    .dataframe tbody tr th:only-of-type {\n",
       "        vertical-align: middle;\n",
       "    }\n",
       "\n",
       "    .dataframe tbody tr th {\n",
       "        vertical-align: top;\n",
       "    }\n",
       "\n",
       "    .dataframe thead th {\n",
       "        text-align: right;\n",
       "    }\n",
       "</style>\n",
       "<table border=\"1\" class=\"dataframe\">\n",
       "  <thead>\n",
       "    <tr style=\"text-align: right;\">\n",
       "      <th></th>\n",
       "      <th>1</th>\n",
       "      <th>2</th>\n",
       "      <th>3</th>\n",
       "      <th>4</th>\n",
       "      <th>5</th>\n",
       "      <th>6</th>\n",
       "      <th>7</th>\n",
       "      <th>8</th>\n",
       "      <th>9</th>\n",
       "      <th>10</th>\n",
       "      <th>...</th>\n",
       "      <th>3965</th>\n",
       "      <th>3966</th>\n",
       "      <th>3967</th>\n",
       "      <th>3968</th>\n",
       "      <th>3969</th>\n",
       "      <th>3970</th>\n",
       "      <th>3971</th>\n",
       "      <th>3972</th>\n",
       "      <th>3973</th>\n",
       "      <th>ddG</th>\n",
       "    </tr>\n",
       "  </thead>\n",
       "  <tbody>\n",
       "    <tr>\n",
       "      <th>0</th>\n",
       "      <td>0.0</td>\n",
       "      <td>0.0</td>\n",
       "      <td>0.0</td>\n",
       "      <td>0.0</td>\n",
       "      <td>0.0</td>\n",
       "      <td>0.0</td>\n",
       "      <td>0.0</td>\n",
       "      <td>0.0</td>\n",
       "      <td>0.0</td>\n",
       "      <td>0.0</td>\n",
       "      <td>...</td>\n",
       "      <td>-0.833714</td>\n",
       "      <td>-0.605952</td>\n",
       "      <td>-0.471700</td>\n",
       "      <td>-0.768480</td>\n",
       "      <td>-0.178536</td>\n",
       "      <td>-0.298590</td>\n",
       "      <td>-0.238640</td>\n",
       "      <td>-0.277510</td>\n",
       "      <td>-0.230633</td>\n",
       "      <td>-0.672194</td>\n",
       "    </tr>\n",
       "    <tr>\n",
       "      <th>1</th>\n",
       "      <td>0.0</td>\n",
       "      <td>0.0</td>\n",
       "      <td>0.0</td>\n",
       "      <td>0.0</td>\n",
       "      <td>0.0</td>\n",
       "      <td>0.0</td>\n",
       "      <td>0.0</td>\n",
       "      <td>0.0</td>\n",
       "      <td>0.0</td>\n",
       "      <td>0.0</td>\n",
       "      <td>...</td>\n",
       "      <td>-0.880495</td>\n",
       "      <td>-0.602624</td>\n",
       "      <td>-0.471616</td>\n",
       "      <td>-0.798242</td>\n",
       "      <td>-0.277709</td>\n",
       "      <td>-0.280445</td>\n",
       "      <td>-0.279338</td>\n",
       "      <td>-0.246094</td>\n",
       "      <td>-1.153164</td>\n",
       "      <td>-1.146684</td>\n",
       "    </tr>\n",
       "    <tr>\n",
       "      <th>2</th>\n",
       "      <td>0.0</td>\n",
       "      <td>0.0</td>\n",
       "      <td>0.0</td>\n",
       "      <td>0.0</td>\n",
       "      <td>0.0</td>\n",
       "      <td>0.0</td>\n",
       "      <td>0.0</td>\n",
       "      <td>0.0</td>\n",
       "      <td>0.0</td>\n",
       "      <td>0.0</td>\n",
       "      <td>...</td>\n",
       "      <td>1.104378</td>\n",
       "      <td>1.789966</td>\n",
       "      <td>1.707972</td>\n",
       "      <td>-0.078629</td>\n",
       "      <td>-1.416062</td>\n",
       "      <td>-1.347984</td>\n",
       "      <td>-1.383415</td>\n",
       "      <td>0.492188</td>\n",
       "      <td>0.691898</td>\n",
       "      <td>0.276786</td>\n",
       "    </tr>\n",
       "    <tr>\n",
       "      <th>3</th>\n",
       "      <td>0.0</td>\n",
       "      <td>0.0</td>\n",
       "      <td>0.0</td>\n",
       "      <td>0.0</td>\n",
       "      <td>0.0</td>\n",
       "      <td>0.0</td>\n",
       "      <td>0.0</td>\n",
       "      <td>0.0</td>\n",
       "      <td>0.0</td>\n",
       "      <td>0.0</td>\n",
       "      <td>...</td>\n",
       "      <td>-0.938972</td>\n",
       "      <td>-0.643031</td>\n",
       "      <td>-0.505083</td>\n",
       "      <td>-0.825677</td>\n",
       "      <td>-0.297732</td>\n",
       "      <td>-0.236059</td>\n",
       "      <td>-0.267225</td>\n",
       "      <td>0.028798</td>\n",
       "      <td>-0.691898</td>\n",
       "      <td>-0.672194</td>\n",
       "    </tr>\n",
       "    <tr>\n",
       "      <th>4</th>\n",
       "      <td>0.0</td>\n",
       "      <td>0.0</td>\n",
       "      <td>0.0</td>\n",
       "      <td>0.0</td>\n",
       "      <td>0.0</td>\n",
       "      <td>0.0</td>\n",
       "      <td>0.0</td>\n",
       "      <td>0.0</td>\n",
       "      <td>0.0</td>\n",
       "      <td>0.0</td>\n",
       "      <td>...</td>\n",
       "      <td>1.112732</td>\n",
       "      <td>0.601039</td>\n",
       "      <td>0.691527</td>\n",
       "      <td>1.360684</td>\n",
       "      <td>0.614598</td>\n",
       "      <td>0.524781</td>\n",
       "      <td>0.570340</td>\n",
       "      <td>-1.518452</td>\n",
       "      <td>-0.230633</td>\n",
       "      <td>1.463011</td>\n",
       "    </tr>\n",
       "  </tbody>\n",
       "</table>\n",
       "<p>5 rows × 3974 columns</p>\n",
       "</div>\n",
       "    <div class=\"colab-df-buttons\">\n",
       "\n",
       "  <div class=\"colab-df-container\">\n",
       "    <button class=\"colab-df-convert\" onclick=\"convertToInteractive('df-944862b8-08c4-4590-9a66-09c9288257d5')\"\n",
       "            title=\"Convert this dataframe to an interactive table.\"\n",
       "            style=\"display:none;\">\n",
       "\n",
       "  <svg xmlns=\"http://www.w3.org/2000/svg\" height=\"24px\" viewBox=\"0 -960 960 960\">\n",
       "    <path d=\"M120-120v-720h720v720H120Zm60-500h600v-160H180v160Zm220 220h160v-160H400v160Zm0 220h160v-160H400v160ZM180-400h160v-160H180v160Zm440 0h160v-160H620v160ZM180-180h160v-160H180v160Zm440 0h160v-160H620v160Z\"/>\n",
       "  </svg>\n",
       "    </button>\n",
       "\n",
       "  <style>\n",
       "    .colab-df-container {\n",
       "      display:flex;\n",
       "      gap: 12px;\n",
       "    }\n",
       "\n",
       "    .colab-df-convert {\n",
       "      background-color: #E8F0FE;\n",
       "      border: none;\n",
       "      border-radius: 50%;\n",
       "      cursor: pointer;\n",
       "      display: none;\n",
       "      fill: #1967D2;\n",
       "      height: 32px;\n",
       "      padding: 0 0 0 0;\n",
       "      width: 32px;\n",
       "    }\n",
       "\n",
       "    .colab-df-convert:hover {\n",
       "      background-color: #E2EBFA;\n",
       "      box-shadow: 0px 1px 2px rgba(60, 64, 67, 0.3), 0px 1px 3px 1px rgba(60, 64, 67, 0.15);\n",
       "      fill: #174EA6;\n",
       "    }\n",
       "\n",
       "    .colab-df-buttons div {\n",
       "      margin-bottom: 4px;\n",
       "    }\n",
       "\n",
       "    [theme=dark] .colab-df-convert {\n",
       "      background-color: #3B4455;\n",
       "      fill: #D2E3FC;\n",
       "    }\n",
       "\n",
       "    [theme=dark] .colab-df-convert:hover {\n",
       "      background-color: #434B5C;\n",
       "      box-shadow: 0px 1px 3px 1px rgba(0, 0, 0, 0.15);\n",
       "      filter: drop-shadow(0px 1px 2px rgba(0, 0, 0, 0.3));\n",
       "      fill: #FFFFFF;\n",
       "    }\n",
       "  </style>\n",
       "\n",
       "    <script>\n",
       "      const buttonEl =\n",
       "        document.querySelector('#df-944862b8-08c4-4590-9a66-09c9288257d5 button.colab-df-convert');\n",
       "      buttonEl.style.display =\n",
       "        google.colab.kernel.accessAllowed ? 'block' : 'none';\n",
       "\n",
       "      async function convertToInteractive(key) {\n",
       "        const element = document.querySelector('#df-944862b8-08c4-4590-9a66-09c9288257d5');\n",
       "        const dataTable =\n",
       "          await google.colab.kernel.invokeFunction('convertToInteractive',\n",
       "                                                    [key], {});\n",
       "        if (!dataTable) return;\n",
       "\n",
       "        const docLinkHtml = 'Like what you see? Visit the ' +\n",
       "          '<a target=\"_blank\" href=https://colab.research.google.com/notebooks/data_table.ipynb>data table notebook</a>'\n",
       "          + ' to learn more about interactive tables.';\n",
       "        element.innerHTML = '';\n",
       "        dataTable['output_type'] = 'display_data';\n",
       "        await google.colab.output.renderOutput(dataTable, element);\n",
       "        const docLink = document.createElement('div');\n",
       "        docLink.innerHTML = docLinkHtml;\n",
       "        element.appendChild(docLink);\n",
       "      }\n",
       "    </script>\n",
       "  </div>\n",
       "\n",
       "\n",
       "<div id=\"df-4096eef4-9788-4881-92bf-d33f91ce1347\">\n",
       "  <button class=\"colab-df-quickchart\" onclick=\"quickchart('df-4096eef4-9788-4881-92bf-d33f91ce1347')\"\n",
       "            title=\"Suggest charts\"\n",
       "            style=\"display:none;\">\n",
       "\n",
       "<svg xmlns=\"http://www.w3.org/2000/svg\" height=\"24px\"viewBox=\"0 0 24 24\"\n",
       "     width=\"24px\">\n",
       "    <g>\n",
       "        <path d=\"M19 3H5c-1.1 0-2 .9-2 2v14c0 1.1.9 2 2 2h14c1.1 0 2-.9 2-2V5c0-1.1-.9-2-2-2zM9 17H7v-7h2v7zm4 0h-2V7h2v10zm4 0h-2v-4h2v4z\"/>\n",
       "    </g>\n",
       "</svg>\n",
       "  </button>\n",
       "\n",
       "<style>\n",
       "  .colab-df-quickchart {\n",
       "      --bg-color: #E8F0FE;\n",
       "      --fill-color: #1967D2;\n",
       "      --hover-bg-color: #E2EBFA;\n",
       "      --hover-fill-color: #174EA6;\n",
       "      --disabled-fill-color: #AAA;\n",
       "      --disabled-bg-color: #DDD;\n",
       "  }\n",
       "\n",
       "  [theme=dark] .colab-df-quickchart {\n",
       "      --bg-color: #3B4455;\n",
       "      --fill-color: #D2E3FC;\n",
       "      --hover-bg-color: #434B5C;\n",
       "      --hover-fill-color: #FFFFFF;\n",
       "      --disabled-bg-color: #3B4455;\n",
       "      --disabled-fill-color: #666;\n",
       "  }\n",
       "\n",
       "  .colab-df-quickchart {\n",
       "    background-color: var(--bg-color);\n",
       "    border: none;\n",
       "    border-radius: 50%;\n",
       "    cursor: pointer;\n",
       "    display: none;\n",
       "    fill: var(--fill-color);\n",
       "    height: 32px;\n",
       "    padding: 0;\n",
       "    width: 32px;\n",
       "  }\n",
       "\n",
       "  .colab-df-quickchart:hover {\n",
       "    background-color: var(--hover-bg-color);\n",
       "    box-shadow: 0 1px 2px rgba(60, 64, 67, 0.3), 0 1px 3px 1px rgba(60, 64, 67, 0.15);\n",
       "    fill: var(--button-hover-fill-color);\n",
       "  }\n",
       "\n",
       "  .colab-df-quickchart-complete:disabled,\n",
       "  .colab-df-quickchart-complete:disabled:hover {\n",
       "    background-color: var(--disabled-bg-color);\n",
       "    fill: var(--disabled-fill-color);\n",
       "    box-shadow: none;\n",
       "  }\n",
       "\n",
       "  .colab-df-spinner {\n",
       "    border: 2px solid var(--fill-color);\n",
       "    border-color: transparent;\n",
       "    border-bottom-color: var(--fill-color);\n",
       "    animation:\n",
       "      spin 1s steps(1) infinite;\n",
       "  }\n",
       "\n",
       "  @keyframes spin {\n",
       "    0% {\n",
       "      border-color: transparent;\n",
       "      border-bottom-color: var(--fill-color);\n",
       "      border-left-color: var(--fill-color);\n",
       "    }\n",
       "    20% {\n",
       "      border-color: transparent;\n",
       "      border-left-color: var(--fill-color);\n",
       "      border-top-color: var(--fill-color);\n",
       "    }\n",
       "    30% {\n",
       "      border-color: transparent;\n",
       "      border-left-color: var(--fill-color);\n",
       "      border-top-color: var(--fill-color);\n",
       "      border-right-color: var(--fill-color);\n",
       "    }\n",
       "    40% {\n",
       "      border-color: transparent;\n",
       "      border-right-color: var(--fill-color);\n",
       "      border-top-color: var(--fill-color);\n",
       "    }\n",
       "    60% {\n",
       "      border-color: transparent;\n",
       "      border-right-color: var(--fill-color);\n",
       "    }\n",
       "    80% {\n",
       "      border-color: transparent;\n",
       "      border-right-color: var(--fill-color);\n",
       "      border-bottom-color: var(--fill-color);\n",
       "    }\n",
       "    90% {\n",
       "      border-color: transparent;\n",
       "      border-bottom-color: var(--fill-color);\n",
       "    }\n",
       "  }\n",
       "</style>\n",
       "\n",
       "  <script>\n",
       "    async function quickchart(key) {\n",
       "      const quickchartButtonEl =\n",
       "        document.querySelector('#' + key + ' button');\n",
       "      quickchartButtonEl.disabled = true;  // To prevent multiple clicks.\n",
       "      quickchartButtonEl.classList.add('colab-df-spinner');\n",
       "      try {\n",
       "        const charts = await google.colab.kernel.invokeFunction(\n",
       "            'suggestCharts', [key], {});\n",
       "      } catch (error) {\n",
       "        console.error('Error during call to suggestCharts:', error);\n",
       "      }\n",
       "      quickchartButtonEl.classList.remove('colab-df-spinner');\n",
       "      quickchartButtonEl.classList.add('colab-df-quickchart-complete');\n",
       "    }\n",
       "    (() => {\n",
       "      let quickchartButtonEl =\n",
       "        document.querySelector('#df-4096eef4-9788-4881-92bf-d33f91ce1347 button');\n",
       "      quickchartButtonEl.style.display =\n",
       "        google.colab.kernel.accessAllowed ? 'block' : 'none';\n",
       "    })();\n",
       "  </script>\n",
       "</div>\n",
       "\n",
       "    </div>\n",
       "  </div>\n"
      ],
      "application/vnd.google.colaboratory.intrinsic+json": {
       "type": "dataframe",
       "variable_name": "df_cleaned"
      }
     },
     "metadata": {},
     "execution_count": 21
    }
   ],
   "source": [
    "df_cleaned.head()"
   ],
   "metadata": {
    "ExecuteTime": {
     "end_time": "2024-05-11T22:19:11.384969700Z",
     "start_time": "2024-05-11T22:19:11.211287400Z"
    },
    "colab": {
     "base_uri": "https://localhost:8080/",
     "height": 235
    },
    "id": "76e90585f9f40159",
    "outputId": "73e29d8e-874f-42d2-cfe6-a1949b5414b4"
   },
   "id": "76e90585f9f40159"
  },
  {
   "cell_type": "markdown",
   "source": [
    "We first choose the best model using forward selection based on $C_p$. We define a function to compute it as its not built in as a metric to `sklearn`. By default, `sklearn` tries to maximize a score, hence\n",
    "  our scoring function  computes the negative $C_p$ statistic."
   ],
   "metadata": {
    "collapsed": false,
    "id": "84bfb74116b7f5ff"
   },
   "id": "84bfb74116b7f5ff"
  },
  {
   "cell_type": "code",
   "execution_count": null,
   "outputs": [],
   "source": [
    "def nCp(sigma2, estimator, X, Y):\n",
    "    \"Negative Cp statistic\"\n",
    "    n, p = X.shape\n",
    "    Yhat = estimator.predict(X)\n",
    "    RSS = np.sum((Y - Yhat)**2)\n",
    "    return -(RSS + 2 * p * sigma2) / n\n"
   ],
   "metadata": {
    "ExecuteTime": {
     "end_time": "2024-05-11T22:19:30.370069100Z",
     "start_time": "2024-05-11T22:19:30.359070400Z"
    },
    "id": "74a1c39f3bf6c2ba"
   },
   "id": "74a1c39f3bf6c2ba"
  },
  {
   "cell_type": "code",
   "execution_count": null,
   "outputs": [],
   "source": [
    "design = MS(df_cleaned.columns.drop('ddG')).fit(df_cleaned)\n",
    "Y = np.array(df_cleaned['ddG'])\n",
    "X = design.transform(df_cleaned)\n",
    "sigma2 = OLS(Y,X).fit().scale"
   ],
   "metadata": {
    "ExecuteTime": {
     "end_time": "2024-05-11T22:19:59.770541Z",
     "start_time": "2024-05-11T22:19:30.372069300Z"
    },
    "id": "5afbbb24e6d51af5"
   },
   "id": "5afbbb24e6d51af5"
  },
  {
   "cell_type": "code",
   "execution_count": null,
   "outputs": [],
   "source": [
    "neg_Cp = partial(nCp, sigma2)"
   ],
   "metadata": {
    "ExecuteTime": {
     "end_time": "2024-05-11T22:19:59.812541200Z",
     "start_time": "2024-05-11T22:19:59.775545500Z"
    },
    "id": "9b2d89f2a697aa0b"
   },
   "id": "9b2d89f2a697aa0b"
  },
  {
   "cell_type": "markdown",
   "source": [
    "We can now use `neg_Cp()` as a scorer for model selection.\n",
    "\n",
    "Along with a score we need to specify the search strategy. This is done through the object\n",
    "`Stepwise()`  in the `ISLP.models` package. The method `Stepwise.first_peak()`\n",
    "runs forward stepwise until any further additions to the model do not result\n",
    "in an improvement in the evaluation score. Similarly, the method `Stepwise.fixed_steps()`\n",
    "runs a fixed number of steps of stepwise search."
   ],
   "metadata": {
    "collapsed": false,
    "id": "eb3361bb5c63658d"
   },
   "id": "eb3361bb5c63658d"
  },
  {
   "cell_type": "code",
   "execution_count": null,
   "outputs": [],
   "source": [
    "strategy = Stepwise.first_peak(design,\n",
    "                               direction='forward',\n",
    "                               max_terms=len(design.terms))\n"
   ],
   "metadata": {
    "ExecuteTime": {
     "end_time": "2024-05-11T22:19:59.823540600Z",
     "start_time": "2024-05-11T22:19:59.792539300Z"
    },
    "id": "848afb1d0a46242"
   },
   "id": "848afb1d0a46242"
  },
  {
   "cell_type": "markdown",
   "source": [
    "We now fit a linear regression model with `Salary` as outcome using forward\n",
    "selection. To do so, we use the function `sklearn_selected()`  from the `ISLP.models` package. This takes\n",
    "a model from `statsmodels` along with a search strategy and selects a model with its\n",
    "`fit` method. Without specifying a `scoring` argument, the score defaults to MSE, and so all 19 variables will be\n",
    "selected."
   ],
   "metadata": {
    "collapsed": false,
    "id": "a035dc5c859106bc"
   },
   "id": "a035dc5c859106bc"
  },
  {
   "cell_type": "code",
   "execution_count": null,
   "outputs": [
    {
     "output_type": "execute_result",
     "data": {
      "text/plain": [
       "('3954', '3955', '3964', '3968', '3970')"
      ]
     },
     "metadata": {},
     "execution_count": 26
    }
   ],
   "source": [
    "hitters_MSE = sklearn_selected(OLS,\n",
    "                               strategy)\n",
    "hitters_MSE.fit(df_cleaned, Y)\n",
    "hitters_MSE.selected_state_\n"
   ],
   "metadata": {
    "ExecuteTime": {
     "end_time": "2024-05-09T01:28:19.905487200Z",
     "start_time": "2024-05-09T01:22:44.415589Z"
    },
    "colab": {
     "base_uri": "https://localhost:8080/"
    },
    "id": "5900a71c0efe73de",
    "outputId": "c82a92db-1496-4374-8e90-3d9d873b7f86"
   },
   "id": "5900a71c0efe73de"
  },
  {
   "cell_type": "markdown",
   "source": [
    "Using `neg_Cp` results in a smaller model, as expected, with just 10 variables selected."
   ],
   "metadata": {
    "collapsed": false,
    "id": "e390f0e142fca72f"
   },
   "id": "e390f0e142fca72f"
  },
  {
   "cell_type": "code",
   "execution_count": null,
   "outputs": [
    {
     "output_type": "execute_result",
     "data": {
      "text/plain": [
       "('2595', '3489', '3955', '3960', '3964', '3968', '3970')"
      ]
     },
     "metadata": {},
     "execution_count": 27
    }
   ],
   "source": [
    "hitters_Cp = sklearn_selected(OLS,\n",
    "                               strategy,\n",
    "                               scoring=neg_Cp)\n",
    "hitters_Cp.fit(df_cleaned, Y)\n",
    "hitters_Cp.selected_state_\n"
   ],
   "metadata": {
    "ExecuteTime": {
     "end_time": "2024-05-09T01:36:02.903497600Z",
     "start_time": "2024-05-09T01:28:19.912509700Z"
    },
    "colab": {
     "base_uri": "https://localhost:8080/"
    },
    "id": "48853b8ee33f2c63",
    "outputId": "690002bc-a4cf-4edc-bfc7-92cc4aecea61"
   },
   "id": "48853b8ee33f2c63"
  },
  {
   "cell_type": "markdown",
   "source": [
    "### Choosing Among Models Using the Validation Set Approach and Cross-Validation\n",
    "\n",
    "As an  alternative to using $C_p$, we might try cross-validation to select a model in forward selection. For this, we need a\n",
    "method that stores the full path of models found in forward selection, and allows predictions for each of these. This can be done with the `sklearn_selection_path()`\n",
    "estimator from `ISLP.models`. The function `cross_val_predict()` from `ISLP.models`\n",
    "computes the cross-validated predictions for each of the models\n",
    "along the path, which we can use to evaluate the cross-validated MSE\n",
    "along the path."
   ],
   "metadata": {
    "collapsed": false,
    "id": "396a91f6d0ce6283"
   },
   "id": "396a91f6d0ce6283"
  },
  {
   "cell_type": "markdown",
   "source": [
    "Here we define a strategy that fits the full forward selection path.\n",
    "While there are various parameter choices for `sklearn_selection_path()`,\n",
    "we use the defaults here, which selects the model at each step based on the biggest reduction  in RSS."
   ],
   "metadata": {
    "collapsed": false,
    "id": "8c04fa80aecb601c"
   },
   "id": "8c04fa80aecb601c"
  },
  {
   "cell_type": "code",
   "execution_count": null,
   "outputs": [],
   "source": [
    "strategy = Stepwise.fixed_steps(design,\n",
    "                                len(design.terms),\n",
    "                                direction='forward')\n",
    "full_path = sklearn_selection_path(OLS, strategy)\n"
   ],
   "metadata": {
    "ExecuteTime": {
     "end_time": "2024-05-11T22:21:36.057900Z",
     "start_time": "2024-05-11T22:21:35.989656Z"
    },
    "id": "d46736d875a82b97"
   },
   "id": "d46736d875a82b97"
  },
  {
   "cell_type": "markdown",
   "source": [
    "We now fit the full forward-selection path on the `Hitters` data and compute the fitted values."
   ],
   "metadata": {
    "collapsed": false,
    "id": "a6b8900c4846c63a"
   },
   "id": "a6b8900c4846c63a"
  },
  {
   "cell_type": "code",
   "execution_count": null,
   "outputs": [],
   "source": [
    "full_path.fit(df_cleaned, Y)\n",
    "Yhat_in = full_path.predict(df_cleaned)\n",
    "Yhat_in.shape\n"
   ],
   "metadata": {
    "is_executing": true,
    "ExecuteTime": {
     "start_time": "2024-05-11T22:21:50.503839900Z"
    },
    "id": "7c647f43e4dbeb2"
   },
   "id": "7c647f43e4dbeb2"
  },
  {
   "cell_type": "markdown",
   "source": [
    "This gives us an array of fitted values --- 20 steps in all, including the fitted mean for the null model --- which we can use to evaluate\n",
    "in-sample MSE. As expected, the in-sample MSE improves each step we take,\n",
    "indicating we must use either the validation or cross-validation\n",
    "approach to select the number of steps. We fix the y-axis to range from\n",
    "50,000 to 250,000 to compare to the cross-validation and validation\n",
    "set MSE below, as well as other methods such as ridge regression, lasso and\n",
    "principal components regression."
   ],
   "metadata": {
    "collapsed": false,
    "id": "e3625bf7533d0931"
   },
   "id": "e3625bf7533d0931"
  },
  {
   "cell_type": "code",
   "execution_count": null,
   "outputs": [],
   "source": [
    "mse_fig, ax = subplots(figsize=(8,8))\n",
    "insample_mse = ((Yhat_in - Y[:,None])**2).mean(0)\n",
    "n_steps = insample_mse.shape[0]\n",
    "ax.plot(np.arange(n_steps),\n",
    "        insample_mse,\n",
    "        'k', # color black\n",
    "        label='In-sample')\n",
    "ax.set_ylabel('MSE',\n",
    "              fontsize=20)\n",
    "ax.set_xlabel('# steps of forward stepwise',\n",
    "              fontsize=20)\n",
    "ax.set_xticks(np.arange(n_steps)[::2])\n",
    "ax.legend()\n",
    "ax.set_ylim([50000,250000]);\n"
   ],
   "metadata": {
    "id": "e5a18c9def68fda5"
   },
   "id": "e5a18c9def68fda5"
  },
  {
   "cell_type": "markdown",
   "source": [
    "from sklearn.pipeline import Pipeline\n",
    "from sklearn.decomposition import PCA\n",
    "from sklearn.cross_decomposition import PLSRegression\n",
    "from ISLP.models import \\\n",
    "     (Stepwise,\n",
    "      sklearn_selected,\n",
    "      sklearn_selection_path)"
   ],
   "metadata": {
    "id": "658daef2fdcf3b1e"
   },
   "id": "658daef2fdcf3b1e"
  },
  {
   "cell_type": "markdown",
   "source": [
    "## PCA\n",
    "Here we implement methods that reduce the number of parameters\n"
   ],
   "metadata": {
    "id": "Wl1mloLIDDFB"
   },
   "id": "Wl1mloLIDDFB"
  },
  {
   "cell_type": "code",
   "source": [
    "X = df[high_corr_rows.keys()]\n",
    "y = df['ddG']"
   ],
   "metadata": {
    "id": "1D8utWYKEV98",
    "ExecuteTime": {
     "end_time": "2024-05-26T22:01:48.351709900Z",
     "start_time": "2024-05-26T22:01:48.323367100Z"
    }
   },
   "id": "1D8utWYKEV98",
   "execution_count": 11,
   "outputs": []
  },
  {
   "cell_type": "markdown",
   "source": [
    "Logistic Regression model with all features"
   ],
   "metadata": {
    "id": "0MbYs1GdF6Jk"
   },
   "id": "0MbYs1GdF6Jk"
  },
  {
   "cell_type": "code",
   "source": [
    "# import libraires needed to perform our Regression\n",
    "from sklearn.metrics import mean_squared_error, r2_score\n",
    "from sklearn.linear_model import LinearRegression\n",
    "from sklearn.decomposition import PCA\n",
    "from sklearn.model_selection import train_test_split\n",
    "\n",
    "pca = PCA()\n",
    "X_pca = pca.fit_transform(X)\n",
    "print(pca.explained_variance_ratio_)\n",
    "\n",
    "cumsum = np.cumsum(pca.explained_variance_ratio_)\n",
    "dim = np.argmax(cumsum >= 0.90) + 1\n",
    "print('The number of dimensions required to preserve 90% of variance is', dim)"
   ],
   "metadata": {
    "colab": {
     "base_uri": "https://localhost:8080/"
    },
    "id": "Ec8ME2lhF_Q2",
    "outputId": "68521ef8-9282-48b9-e52d-21d3b717a823",
    "ExecuteTime": {
     "end_time": "2024-05-26T22:01:51.554490600Z",
     "start_time": "2024-05-26T22:01:50.551259700Z"
    }
   },
   "id": "Ec8ME2lhF_Q2",
   "execution_count": 12,
   "outputs": [
    {
     "name": "stdout",
     "output_type": "stream",
     "text": [
      "[4.50095200e-01 2.94539193e-01 1.60838841e-01 9.18422737e-02\n",
      " 2.68449196e-03 2.90127303e-31 2.11352328e-31 1.52091917e-31\n",
      " 9.97100901e-32 1.51404659e-32 6.59530103e-34 8.91248399e-57\n",
      " 1.40242065e-58 5.73855817e-60 9.42256440e-61 6.67298428e-62\n",
      " 2.86166208e-63 7.14111097e-87 4.48123306e-92]\n",
      "The number of dimensions required to preserve 90% of variance is 3\n"
     ]
    }
   ]
  },
  {
   "cell_type": "code",
   "source": [
    "plt.figure(figsize=(8,6))\n",
    "plt.plot(np.cumsum(pca.explained_variance_ratio_))\n",
    "plt.xlim(0,14,1)\n",
    "plt.xlabel('Number of components')\n",
    "plt.ylabel('Cumulative explained variance')\n",
    "plt.show()"
   ],
   "metadata": {
    "colab": {
     "base_uri": "https://localhost:8080/",
     "height": 546
    },
    "id": "tNFaJlJrJisk",
    "outputId": "44516620-9dda-4b48-dff8-20adbffe4151",
    "ExecuteTime": {
     "end_time": "2024-05-26T22:01:53.094117800Z",
     "start_time": "2024-05-26T22:01:52.937508100Z"
    }
   },
   "id": "tNFaJlJrJisk",
   "execution_count": 13,
   "outputs": [
    {
     "ename": "NameError",
     "evalue": "name 'plt' is not defined",
     "output_type": "error",
     "traceback": [
      "\u001B[1;31m---------------------------------------------------------------------------\u001B[0m",
      "\u001B[1;31mNameError\u001B[0m                                 Traceback (most recent call last)",
      "Cell \u001B[1;32mIn[13], line 1\u001B[0m\n\u001B[1;32m----> 1\u001B[0m plt\u001B[38;5;241m.\u001B[39mfigure(figsize\u001B[38;5;241m=\u001B[39m(\u001B[38;5;241m8\u001B[39m,\u001B[38;5;241m6\u001B[39m))\n\u001B[0;32m      2\u001B[0m plt\u001B[38;5;241m.\u001B[39mplot(np\u001B[38;5;241m.\u001B[39mcumsum(pca\u001B[38;5;241m.\u001B[39mexplained_variance_ratio_))\n\u001B[0;32m      3\u001B[0m plt\u001B[38;5;241m.\u001B[39mxlim(\u001B[38;5;241m0\u001B[39m,\u001B[38;5;241m14\u001B[39m,\u001B[38;5;241m1\u001B[39m)\n",
      "\u001B[1;31mNameError\u001B[0m: name 'plt' is not defined"
     ]
    }
   ]
  },
  {
   "cell_type": "code",
   "source": [
    "pca = PCA(n_components=3)\n",
    "X_pca = pca.fit_transform(X)\n",
    "print(pca.explained_variance_ratio_)"
   ],
   "metadata": {
    "colab": {
     "base_uri": "https://localhost:8080/"
    },
    "id": "KgKCpgv7P8uH",
    "outputId": "89ef88d9-844e-404f-a123-34d59d030817",
    "ExecuteTime": {
     "end_time": "2024-05-26T22:01:55.608279Z",
     "start_time": "2024-05-26T22:01:55.555237400Z"
    }
   },
   "id": "KgKCpgv7P8uH",
   "execution_count": 14,
   "outputs": [
    {
     "name": "stdout",
     "output_type": "stream",
     "text": [
      "[0.4500952  0.29453919 0.16083884]\n"
     ]
    }
   ]
  },
  {
   "cell_type": "code",
   "source": [
    "df_pca = pd.DataFrame(X_pca,columns=['PCA1','PCA2','PCA3']) #,'PCA4','PCA5','PCA6','PCA7','PCA8','PCA9','PCA10','PCA11','PCA12','PCA13'])\n",
    "df_pca['ddG'] = df['ddG']"
   ],
   "metadata": {
    "id": "pVR-92IWT1KJ",
    "ExecuteTime": {
     "end_time": "2024-05-26T22:01:58.823450Z",
     "start_time": "2024-05-26T22:01:58.794943700Z"
    }
   },
   "id": "pVR-92IWT1KJ",
   "execution_count": 15,
   "outputs": []
  },
  {
   "cell_type": "code",
   "source": [
    "X_train,X_test,y_train,y_test = train_test_split(X_pca,y,test_size=0.2)\n",
    "for i in [X_train,X_test,y_train,y_test]:\n",
    "    print(\"Shape of Data is {}\".format(i.shape))"
   ],
   "metadata": {
    "colab": {
     "base_uri": "https://localhost:8080/"
    },
    "id": "XOCmtvXAS-wD",
    "outputId": "b196ae25-f832-4830-e8be-30b95821d455",
    "ExecuteTime": {
     "end_time": "2024-05-26T22:02:02.672349600Z",
     "start_time": "2024-05-26T22:02:02.636556100Z"
    }
   },
   "id": "XOCmtvXAS-wD",
   "execution_count": 16,
   "outputs": [
    {
     "name": "stdout",
     "output_type": "stream",
     "text": [
      "Shape of Data is (1522, 3)\n",
      "Shape of Data is (381, 3)\n",
      "Shape of Data is (1522,)\n",
      "Shape of Data is (381,)\n"
     ]
    }
   ]
  },
  {
   "cell_type": "code",
   "source": [
    "# Lets train our model on training data and predict also on training to see results\n",
    "lr = LinearRegression()\n",
    "lr.fit(X_train,y_train)\n",
    "y_pred = lr.predict(X_train)\n",
    "r2 = r2_score(y_train,y_pred)\n",
    "rmse = np.sqrt(mean_squared_error(y_train,y_pred))\n",
    "print('R-Squared Score is : {} | Root Mean Square Error is : {}'.format(r2,rmse))"
   ],
   "metadata": {
    "colab": {
     "base_uri": "https://localhost:8080/"
    },
    "id": "DD_Rqd3IV1kK",
    "outputId": "529c5bb7-8e3f-4f8d-a29c-b05d65966b05"
   },
   "id": "DD_Rqd3IV1kK",
   "execution_count": null,
   "outputs": [
    {
     "output_type": "stream",
     "name": "stdout",
     "text": [
      "R-Squared Score is : 0.8522871515375307 | Root Mean Square Error is : 0.3499595424260523\n"
     ]
    }
   ]
  },
  {
   "cell_type": "code",
   "source": [
    "# Lets train our model on training data and predict on testing to see results\n",
    "lr = LinearRegression()\n",
    "lr.fit(X_train,y_train)\n",
    "y_pred = lr.predict(X_test)\n",
    "r2 = r2_score(y_test,y_pred)\n",
    "rmse = np.sqrt(mean_squared_error(y_test,y_pred))\n",
    "print('R2 Score is : {} | Root Mean Square Error is : {}'.format(r2,rmse))"
   ],
   "metadata": {
    "colab": {
     "base_uri": "https://localhost:8080/"
    },
    "id": "H4NGxJ4bV-4G",
    "outputId": "0102fd6e-8dcf-4283-d0cc-8caf858952d2"
   },
   "id": "H4NGxJ4bV-4G",
   "execution_count": null,
   "outputs": [
    {
     "output_type": "stream",
     "name": "stdout",
     "text": [
      "R2 Score is : 0.8536151967447467 | Root Mean Square Error is : 0.35514056394594545\n"
     ]
    }
   ]
  },
  {
   "cell_type": "code",
   "source": [
    "X_train,X_test,y_train,y_test = train_test_split(X,y,test_size=0.2)\n",
    "for i in [X_train,X_test,y_train,y_test]:\n",
    "    print(\"Shape of Data is {}\".format(i.shape))"
   ],
   "metadata": {
    "id": "J7uV9Jd_zpTO",
    "outputId": "3a5014eb-a802-4082-ed3c-79be5f43f4db",
    "colab": {
     "base_uri": "https://localhost:8080/"
    },
    "ExecuteTime": {
     "end_time": "2024-05-26T22:02:37.039419300Z",
     "start_time": "2024-05-26T22:02:37.014609300Z"
    }
   },
   "id": "J7uV9Jd_zpTO",
   "execution_count": 17,
   "outputs": [
    {
     "name": "stdout",
     "output_type": "stream",
     "text": [
      "Shape of Data is (1522, 19)\n",
      "Shape of Data is (381, 19)\n",
      "Shape of Data is (1522,)\n",
      "Shape of Data is (381,)\n"
     ]
    }
   ]
  },
  {
   "cell_type": "code",
   "source": [
    "from sklearn.cross_decomposition import PLSRegression\n",
    "model = PLSRegression(n_components=3)\n",
    "# fitting the model\n",
    "model.fit(X_train, y_train)\n",
    "\n",
    "# making predictions\n",
    "y_pred = model.predict(X_test)\n",
    "\n",
    "r2 = r2_score(y_test,y_pred)\n",
    "rmse = np.sqrt(mean_squared_error(y_test,y_pred))\n",
    "print('R2 Score is : {} | Root Mean Square Error is : {}'.format(r2,rmse))"
   ],
   "metadata": {
    "id": "PzApLqSZzfnK",
    "outputId": "0365e2d5-9bbc-4375-a780-cb681d812d9e",
    "colab": {
     "base_uri": "https://localhost:8080/"
    },
    "ExecuteTime": {
     "end_time": "2024-05-26T22:02:38.616665600Z",
     "start_time": "2024-05-26T22:02:38.548976300Z"
    }
   },
   "id": "PzApLqSZzfnK",
   "execution_count": 18,
   "outputs": [
    {
     "name": "stdout",
     "output_type": "stream",
     "text": [
      "R2 Score is : 0.9943054162961907 | Root Mean Square Error is : 0.06994460216215306\n"
     ]
    }
   ]
  },
  {
   "cell_type": "code",
   "source": [
    "tmp_df = y_test.to_frame()\n",
    "tmp_df['pred'] = y_pred.tolist()\n",
    "tmp_df"
   ],
   "metadata": {
    "id": "iZ7KuhPc05Z-",
    "ExecuteTime": {
     "end_time": "2024-05-26T22:05:45.044207Z",
     "start_time": "2024-05-26T22:05:45.023314800Z"
    }
   },
   "id": "iZ7KuhPc05Z-",
   "execution_count": 20,
   "outputs": [
    {
     "data": {
      "text/plain": "           ddG      pred\n971  -1.146684 -1.110961\n1218  1.463011  1.390044\n55   -1.146684 -1.110961\n804   0.276786  0.341847\n982  -0.672194 -0.640297\n...        ...       ...\n1282  0.276786  0.341847\n611  -0.672194 -0.640297\n1587  1.463011  1.390044\n633   1.463011  1.390044\n321  -0.672194 -0.789702\n\n[381 rows x 2 columns]",
      "text/html": "<div>\n<style scoped>\n    .dataframe tbody tr th:only-of-type {\n        vertical-align: middle;\n    }\n\n    .dataframe tbody tr th {\n        vertical-align: top;\n    }\n\n    .dataframe thead th {\n        text-align: right;\n    }\n</style>\n<table border=\"1\" class=\"dataframe\">\n  <thead>\n    <tr style=\"text-align: right;\">\n      <th></th>\n      <th>ddG</th>\n      <th>pred</th>\n    </tr>\n  </thead>\n  <tbody>\n    <tr>\n      <th>971</th>\n      <td>-1.146684</td>\n      <td>-1.110961</td>\n    </tr>\n    <tr>\n      <th>1218</th>\n      <td>1.463011</td>\n      <td>1.390044</td>\n    </tr>\n    <tr>\n      <th>55</th>\n      <td>-1.146684</td>\n      <td>-1.110961</td>\n    </tr>\n    <tr>\n      <th>804</th>\n      <td>0.276786</td>\n      <td>0.341847</td>\n    </tr>\n    <tr>\n      <th>982</th>\n      <td>-0.672194</td>\n      <td>-0.640297</td>\n    </tr>\n    <tr>\n      <th>...</th>\n      <td>...</td>\n      <td>...</td>\n    </tr>\n    <tr>\n      <th>1282</th>\n      <td>0.276786</td>\n      <td>0.341847</td>\n    </tr>\n    <tr>\n      <th>611</th>\n      <td>-0.672194</td>\n      <td>-0.640297</td>\n    </tr>\n    <tr>\n      <th>1587</th>\n      <td>1.463011</td>\n      <td>1.390044</td>\n    </tr>\n    <tr>\n      <th>633</th>\n      <td>1.463011</td>\n      <td>1.390044</td>\n    </tr>\n    <tr>\n      <th>321</th>\n      <td>-0.672194</td>\n      <td>-0.789702</td>\n    </tr>\n  </tbody>\n</table>\n<p>381 rows × 2 columns</p>\n</div>"
     },
     "execution_count": 20,
     "metadata": {},
     "output_type": "execute_result"
    }
   ]
  },
  {
   "cell_type": "code",
   "source": [
    "from joblib import dump, load\n",
    "dump(model, 'pls_large.joblib')\n",
    "clf2 = load('pls_large.joblib')\n"
   ],
   "metadata": {
    "id": "gBVJpV7OWRci",
    "ExecuteTime": {
     "end_time": "2024-05-26T22:05:46.663745200Z",
     "start_time": "2024-05-26T22:05:46.643720500Z"
    }
   },
   "id": "gBVJpV7OWRci",
   "execution_count": 21,
   "outputs": []
  },
  {
   "cell_type": "code",
   "source": [
    "df_pred = df[1:5]\n",
    "X_pred = df_pred[high_corr_rows.keys()]\n",
    "y_pred = df_pred['ddG']\n",
    "y_pred2 = clf2.predict(X_pred)"
   ],
   "metadata": {
    "id": "MtUDV7g0xtrY",
    "ExecuteTime": {
     "end_time": "2024-05-26T22:05:47.347263300Z",
     "start_time": "2024-05-26T22:05:47.327874700Z"
    }
   },
   "id": "MtUDV7g0xtrY",
   "execution_count": 22,
   "outputs": []
  },
  {
   "cell_type": "code",
   "source": [
    "tmp_df = y_pred.to_frame()\n",
    "tmp_df['pred'] = y_pred2.tolist()\n",
    "tmp_df"
   ],
   "metadata": {
    "id": "NUwaWTuz4waO",
    "outputId": "77dfbb75-5c69-493e-f3c3-6c6a03f32707",
    "colab": {
     "base_uri": "https://localhost:8080/",
     "height": 175
    },
    "ExecuteTime": {
     "end_time": "2024-05-26T22:05:48.483874800Z",
     "start_time": "2024-05-26T22:05:48.445710Z"
    }
   },
   "id": "NUwaWTuz4waO",
   "execution_count": 23,
   "outputs": [
    {
     "data": {
      "text/plain": "        ddG      pred\n1 -1.146684 -1.110961\n2  0.276786  0.341847\n3 -0.672194 -0.789702\n4  1.463011  1.390044",
      "text/html": "<div>\n<style scoped>\n    .dataframe tbody tr th:only-of-type {\n        vertical-align: middle;\n    }\n\n    .dataframe tbody tr th {\n        vertical-align: top;\n    }\n\n    .dataframe thead th {\n        text-align: right;\n    }\n</style>\n<table border=\"1\" class=\"dataframe\">\n  <thead>\n    <tr style=\"text-align: right;\">\n      <th></th>\n      <th>ddG</th>\n      <th>pred</th>\n    </tr>\n  </thead>\n  <tbody>\n    <tr>\n      <th>1</th>\n      <td>-1.146684</td>\n      <td>-1.110961</td>\n    </tr>\n    <tr>\n      <th>2</th>\n      <td>0.276786</td>\n      <td>0.341847</td>\n    </tr>\n    <tr>\n      <th>3</th>\n      <td>-0.672194</td>\n      <td>-0.789702</td>\n    </tr>\n    <tr>\n      <th>4</th>\n      <td>1.463011</td>\n      <td>1.390044</td>\n    </tr>\n  </tbody>\n</table>\n</div>"
     },
     "execution_count": 23,
     "metadata": {},
     "output_type": "execute_result"
    }
   ]
  },
  {
   "cell_type": "code",
   "source": [
    "y_pred2 = clf2.predict(X_pred.iloc[2].to_numpy().reshape(1,-1))"
   ],
   "metadata": {
    "id": "oGkEgKpE5ITb",
    "ExecuteTime": {
     "end_time": "2024-05-26T22:09:06.162043300Z",
     "start_time": "2024-05-26T22:09:06.100082700Z"
    }
   },
   "id": "oGkEgKpE5ITb",
   "execution_count": 36,
   "outputs": [
    {
     "name": "stderr",
     "output_type": "stream",
     "text": [
      "C:\\work\\workspaces\\python\\miniconda3\\envs\\ml2\\Lib\\site-packages\\sklearn\\base.py:493: UserWarning: X does not have valid feature names, but PLSRegression was fitted with feature names\n",
      "  warnings.warn(\n"
     ]
    }
   ]
  },
  {
   "cell_type": "code",
   "execution_count": 37,
   "outputs": [
    {
     "data": {
      "text/plain": "array([-0.78970155])"
     },
     "execution_count": 37,
     "metadata": {},
     "output_type": "execute_result"
    }
   ],
   "source": [
    "y_pred2"
   ],
   "metadata": {
    "collapsed": false,
    "ExecuteTime": {
     "end_time": "2024-05-26T22:09:06.834016200Z",
     "start_time": "2024-05-26T22:09:06.804062400Z"
    }
   },
   "id": "f350b040c06ecb5c"
  },
  {
   "cell_type": "code",
   "execution_count": 39,
   "outputs": [
    {
     "data": {
      "text/plain": "array([[ 0.75812941,  0.67727654,  0.68692902,  0.57403813, -0.39901283,\n        -0.83317389, -0.69366434, -0.76423736, -0.18775295, -0.89697628,\n        -0.93897206, -0.64303136, -0.50508299, -0.82567658, -0.29773217,\n        -0.23605932, -0.26722481,  0.02879822, -0.69189841]])"
     },
     "execution_count": 39,
     "metadata": {},
     "output_type": "execute_result"
    }
   ],
   "source": [
    "X_pred.iloc[2].to_numpy().reshape(1,-1)"
   ],
   "metadata": {
    "collapsed": false,
    "ExecuteTime": {
     "end_time": "2024-05-26T22:37:36.268324700Z",
     "start_time": "2024-05-26T22:37:36.200264700Z"
    }
   },
   "id": "549874cb59298aa8"
  },
  {
   "cell_type": "code",
   "execution_count": null,
   "outputs": [],
   "source": [],
   "metadata": {
    "collapsed": false
   },
   "id": "ee76e973405cc580"
  }
 ],
 "metadata": {
  "kernelspec": {
   "display_name": "Python 3",
   "language": "python",
   "name": "python3"
  },
  "language_info": {
   "codemirror_mode": {
    "name": "ipython",
    "version": 2
   },
   "file_extension": ".py",
   "mimetype": "text/x-python",
   "name": "python",
   "nbconvert_exporter": "python",
   "pygments_lexer": "ipython2",
   "version": "2.7.6"
  },
  "colab": {
   "provenance": [],
   "include_colab_link": true
  }
 },
 "nbformat": 4,
 "nbformat_minor": 5
}
