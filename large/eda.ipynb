{
  "cells": [
    {
      "cell_type": "markdown",
      "metadata": {
        "id": "view-in-github",
        "colab_type": "text"
      },
      "source": [
        "<a href=\"https://colab.research.google.com/github/nirb28/ee-predict/blob/main/large/eda.ipynb\" target=\"_parent\"><img src=\"https://colab.research.google.com/assets/colab-badge.svg\" alt=\"Open In Colab\"/></a>"
      ]
    },
    {
      "cell_type": "code",
      "source": [
        "from google.colab import drive\n",
        "drive.mount('/content/drive')"
      ],
      "metadata": {
        "id": "Fu8JYE9kkLqM",
        "outputId": "f1d9ee95-c934-4cd5-d7da-1875cf437599",
        "colab": {
          "base_uri": "https://localhost:8080/"
        }
      },
      "id": "Fu8JYE9kkLqM",
      "execution_count": 1,
      "outputs": [
        {
          "output_type": "stream",
          "name": "stdout",
          "text": [
            "Mounted at /content/drive\n"
          ]
        }
      ]
    },
    {
      "cell_type": "code",
      "execution_count": 5,
      "outputs": [],
      "source": [
        "# importing modules and packages\n",
        "import pandas as pd\n",
        "import numpy as np, os\n",
        "from sklearn.model_selection import train_test_split\n",
        "from sklearn.linear_model import LinearRegression\n",
        "from sklearn.metrics import mean_squared_error, mean_absolute_error\n",
        "from sklearn import preprocessing"
      ],
      "metadata": {
        "ExecuteTime": {
          "end_time": "2024-05-21T01:59:05.851598Z",
          "start_time": "2024-05-21T01:59:04.447543800Z"
        },
        "id": "21adb13e725cc38d"
      },
      "id": "21adb13e725cc38d"
    },
    {
      "cell_type": "code",
      "execution_count": 12,
      "outputs": [],
      "source": [
        "# Import the dataset from the csv file.\n",
        "if os.path.exists('/content/drive'):\n",
        "  df = pd.read_csv('/content/drive/MyDrive/work/gdrive-workspaces/git/ee-predict/data/large_cat_desc_col_names.csv')\n",
        "else:\n",
        "  df = pd.read_csv('../data/large_cat_desc_col_names.csv')\n"
      ],
      "metadata": {
        "ExecuteTime": {
          "start_time": "2024-05-21T01:59:05.855605500Z"
        },
        "id": "4673c4f52ebdb7bb"
      },
      "id": "4673c4f52ebdb7bb"
    },
    {
      "cell_type": "code",
      "execution_count": 13,
      "outputs": [
        {
          "output_type": "execute_result",
          "data": {
            "text/plain": [
              "Index(['Identifier', '1', '2', '3', '4', '5', '6', '7', '8', '9',\n",
              "       ...\n",
              "       '3965', '3966', '3967', '3968', '3969', '3970', '3971', '3972', '3973',\n",
              "       'ddG'],\n",
              "      dtype='object', length=3975)"
            ]
          },
          "metadata": {},
          "execution_count": 13
        }
      ],
      "source": [
        "df.columns #= [*df.columns[:-1], 'ddG']\n",
        "#df.head()"
      ],
      "metadata": {
        "ExecuteTime": {
          "start_time": "2024-05-21T01:59:05.859599700Z"
        },
        "id": "2010a5e21a9fc812",
        "outputId": "5a36fa08-2833-452d-e5e9-35088eacabc2",
        "colab": {
          "base_uri": "https://localhost:8080/"
        }
      },
      "id": "2010a5e21a9fc812"
    },
    {
      "cell_type": "code",
      "execution_count": 14,
      "outputs": [
        {
          "output_type": "execute_result",
          "data": {
            "text/plain": [
              "(1903, 3975)"
            ]
          },
          "metadata": {},
          "execution_count": 14
        }
      ],
      "source": [
        "df.shape\n",
        "# This is a problem as our n << p\n",
        "# And if p > n, then there is no longer a unique least squares coefficient estimate.\n",
        "# Least squares will not be a"
      ],
      "metadata": {
        "ExecuteTime": {
          "start_time": "2024-05-21T01:59:05.861603700Z"
        },
        "id": "33f7e47e361a2897",
        "outputId": "c1dd4df0-0323-4875-c37d-6839d229cc3f",
        "colab": {
          "base_uri": "https://localhost:8080/"
        }
      },
      "id": "33f7e47e361a2897"
    },
    {
      "cell_type": "code",
      "execution_count": 15,
      "outputs": [
        {
          "output_type": "execute_result",
          "data": {
            "text/plain": [
              "(1903, 3974)"
            ]
          },
          "metadata": {},
          "execution_count": 15
        }
      ],
      "source": [
        "# We have lot of rows that have Enantiomeric Excess == 0. These ones we will exclude from the dataset.\n",
        "df_cleaned = df[df['ddG'] != 0]\n",
        "# remove the first column that has the identifier\n",
        "df_cleaned = df_cleaned.drop(df_cleaned.columns[[0]], axis=1)\n",
        "df_cleaned.shape"
      ],
      "metadata": {
        "ExecuteTime": {
          "end_time": "2024-05-21T01:59:05.885597700Z",
          "start_time": "2024-05-21T01:59:05.864605500Z"
        },
        "id": "690c7af7b390d264",
        "outputId": "de8fbf6c-bb1b-4055-9311-8455f1a6772f",
        "colab": {
          "base_uri": "https://localhost:8080/"
        }
      },
      "id": "690c7af7b390d264"
    },
    {
      "cell_type": "code",
      "execution_count": 17,
      "outputs": [
        {
          "output_type": "stream",
          "name": "stdout",
          "text": [
            "Collecting ISLP\n",
            "  Downloading ISLP-0.3.22-py3-none-any.whl (3.6 MB)\n",
            "\u001b[2K     \u001b[90m━━━━━━━━━━━━━━━━━━━━━━━━━━━━━━━━━━━━━━━━\u001b[0m \u001b[32m3.6/3.6 MB\u001b[0m \u001b[31m25.3 MB/s\u001b[0m eta \u001b[36m0:00:00\u001b[0m\n",
            "\u001b[?25hCollecting numpy<1.25,>=1.7.1 (from ISLP)\n",
            "  Downloading numpy-1.24.4-cp310-cp310-manylinux_2_17_x86_64.manylinux2014_x86_64.whl (17.3 MB)\n",
            "\u001b[2K     \u001b[90m━━━━━━━━━━━━━━━━━━━━━━━━━━━━━━━━━━━━━━━━\u001b[0m \u001b[32m17.3/17.3 MB\u001b[0m \u001b[31m49.9 MB/s\u001b[0m eta \u001b[36m0:00:00\u001b[0m\n",
            "\u001b[?25hRequirement already satisfied: scipy>=0.9 in /usr/local/lib/python3.10/dist-packages (from ISLP) (1.11.4)\n",
            "Collecting pandas<=1.9,>=0.20 (from ISLP)\n",
            "  Downloading pandas-1.5.3-cp310-cp310-manylinux_2_17_x86_64.manylinux2014_x86_64.whl (12.1 MB)\n",
            "\u001b[2K     \u001b[90m━━━━━━━━━━━━━━━━━━━━━━━━━━━━━━━━━━━━━━━━\u001b[0m \u001b[32m12.1/12.1 MB\u001b[0m \u001b[31m72.1 MB/s\u001b[0m eta \u001b[36m0:00:00\u001b[0m\n",
            "\u001b[?25hRequirement already satisfied: lxml in /usr/local/lib/python3.10/dist-packages (from ISLP) (4.9.4)\n",
            "Requirement already satisfied: scikit-learn>=1.2 in /usr/local/lib/python3.10/dist-packages (from ISLP) (1.2.2)\n",
            "Requirement already satisfied: joblib in /usr/local/lib/python3.10/dist-packages (from ISLP) (1.4.2)\n",
            "Requirement already satisfied: statsmodels>=0.13 in /usr/local/lib/python3.10/dist-packages (from ISLP) (0.14.2)\n",
            "Collecting lifelines (from ISLP)\n",
            "  Downloading lifelines-0.28.0-py3-none-any.whl (349 kB)\n",
            "\u001b[2K     \u001b[90m━━━━━━━━━━━━━━━━━━━━━━━━━━━━━━━━━━━━━━━━\u001b[0m \u001b[32m349.2/349.2 kB\u001b[0m \u001b[31m34.9 MB/s\u001b[0m eta \u001b[36m0:00:00\u001b[0m\n",
            "\u001b[?25hCollecting pygam (from ISLP)\n",
            "  Downloading pygam-0.9.1-py3-none-any.whl (522 kB)\n",
            "\u001b[2K     \u001b[90m━━━━━━━━━━━━━━━━━━━━━━━━━━━━━━━━━━━━━━━━\u001b[0m \u001b[32m522.0/522.0 kB\u001b[0m \u001b[31m45.2 MB/s\u001b[0m eta \u001b[36m0:00:00\u001b[0m\n",
            "\u001b[?25hRequirement already satisfied: torch in /usr/local/lib/python3.10/dist-packages (from ISLP) (2.3.0+cu121)\n",
            "Collecting pytorch-lightning (from ISLP)\n",
            "  Downloading pytorch_lightning-2.2.5-py3-none-any.whl (802 kB)\n",
            "\u001b[2K     \u001b[90m━━━━━━━━━━━━━━━━━━━━━━━━━━━━━━━━━━━━━━━━\u001b[0m \u001b[32m802.3/802.3 kB\u001b[0m \u001b[31m58.6 MB/s\u001b[0m eta \u001b[36m0:00:00\u001b[0m\n",
            "\u001b[?25hCollecting torchmetrics (from ISLP)\n",
            "  Downloading torchmetrics-1.4.0.post0-py3-none-any.whl (868 kB)\n",
            "\u001b[2K     \u001b[90m━━━━━━━━━━━━━━━━━━━━━━━━━━━━━━━━━━━━━━━━\u001b[0m \u001b[32m868.8/868.8 kB\u001b[0m \u001b[31m57.0 MB/s\u001b[0m eta \u001b[36m0:00:00\u001b[0m\n",
            "\u001b[?25hRequirement already satisfied: python-dateutil>=2.8.1 in /usr/local/lib/python3.10/dist-packages (from pandas<=1.9,>=0.20->ISLP) (2.8.2)\n",
            "Requirement already satisfied: pytz>=2020.1 in /usr/local/lib/python3.10/dist-packages (from pandas<=1.9,>=0.20->ISLP) (2023.4)\n",
            "Requirement already satisfied: threadpoolctl>=2.0.0 in /usr/local/lib/python3.10/dist-packages (from scikit-learn>=1.2->ISLP) (3.5.0)\n",
            "Requirement already satisfied: patsy>=0.5.6 in /usr/local/lib/python3.10/dist-packages (from statsmodels>=0.13->ISLP) (0.5.6)\n",
            "Requirement already satisfied: packaging>=21.3 in /usr/local/lib/python3.10/dist-packages (from statsmodels>=0.13->ISLP) (24.0)\n",
            "Requirement already satisfied: matplotlib>=3.0 in /usr/local/lib/python3.10/dist-packages (from lifelines->ISLP) (3.7.1)\n",
            "Requirement already satisfied: autograd>=1.5 in /usr/local/lib/python3.10/dist-packages (from lifelines->ISLP) (1.6.2)\n",
            "Collecting autograd-gamma>=0.3 (from lifelines->ISLP)\n",
            "  Downloading autograd-gamma-0.5.0.tar.gz (4.0 kB)\n",
            "  Preparing metadata (setup.py) ... \u001b[?25l\u001b[?25hdone\n",
            "Collecting formulaic>=0.2.2 (from lifelines->ISLP)\n",
            "  Downloading formulaic-1.0.1-py3-none-any.whl (94 kB)\n",
            "\u001b[2K     \u001b[90m━━━━━━━━━━━━━━━━━━━━━━━━━━━━━━━━━━━━━━━━\u001b[0m \u001b[32m94.2/94.2 kB\u001b[0m \u001b[31m14.2 MB/s\u001b[0m eta \u001b[36m0:00:00\u001b[0m\n",
            "\u001b[?25hINFO: pip is looking at multiple versions of pygam to determine which version is compatible with other requirements. This could take a while.\n",
            "Collecting pygam (from ISLP)\n",
            "  Downloading pygam-0.9.0-py3-none-any.whl (522 kB)\n",
            "\u001b[2K     \u001b[90m━━━━━━━━━━━━━━━━━━━━━━━━━━━━━━━━━━━━━━━━\u001b[0m \u001b[32m522.2/522.2 kB\u001b[0m \u001b[31m46.1 MB/s\u001b[0m eta \u001b[36m0:00:00\u001b[0m\n",
            "\u001b[?25hRequirement already satisfied: progressbar2<5.0.0,>=4.2.0 in /usr/local/lib/python3.10/dist-packages (from pygam->ISLP) (4.2.0)\n",
            "Requirement already satisfied: tqdm>=4.57.0 in /usr/local/lib/python3.10/dist-packages (from pytorch-lightning->ISLP) (4.66.4)\n",
            "Requirement already satisfied: PyYAML>=5.4 in /usr/local/lib/python3.10/dist-packages (from pytorch-lightning->ISLP) (6.0.1)\n",
            "Requirement already satisfied: fsspec[http]>=2022.5.0 in /usr/local/lib/python3.10/dist-packages (from pytorch-lightning->ISLP) (2023.6.0)\n",
            "Requirement already satisfied: typing-extensions>=4.4.0 in /usr/local/lib/python3.10/dist-packages (from pytorch-lightning->ISLP) (4.11.0)\n",
            "Collecting lightning-utilities>=0.8.0 (from pytorch-lightning->ISLP)\n",
            "  Downloading lightning_utilities-0.11.2-py3-none-any.whl (26 kB)\n",
            "Requirement already satisfied: filelock in /usr/local/lib/python3.10/dist-packages (from torch->ISLP) (3.14.0)\n",
            "Requirement already satisfied: sympy in /usr/local/lib/python3.10/dist-packages (from torch->ISLP) (1.12)\n",
            "Requirement already satisfied: networkx in /usr/local/lib/python3.10/dist-packages (from torch->ISLP) (3.3)\n",
            "Requirement already satisfied: jinja2 in /usr/local/lib/python3.10/dist-packages (from torch->ISLP) (3.1.4)\n",
            "Collecting nvidia-cuda-nvrtc-cu12==12.1.105 (from torch->ISLP)\n",
            "  Using cached nvidia_cuda_nvrtc_cu12-12.1.105-py3-none-manylinux1_x86_64.whl (23.7 MB)\n",
            "Collecting nvidia-cuda-runtime-cu12==12.1.105 (from torch->ISLP)\n",
            "  Using cached nvidia_cuda_runtime_cu12-12.1.105-py3-none-manylinux1_x86_64.whl (823 kB)\n",
            "Collecting nvidia-cuda-cupti-cu12==12.1.105 (from torch->ISLP)\n",
            "  Using cached nvidia_cuda_cupti_cu12-12.1.105-py3-none-manylinux1_x86_64.whl (14.1 MB)\n",
            "Collecting nvidia-cudnn-cu12==8.9.2.26 (from torch->ISLP)\n",
            "  Using cached nvidia_cudnn_cu12-8.9.2.26-py3-none-manylinux1_x86_64.whl (731.7 MB)\n",
            "Collecting nvidia-cublas-cu12==12.1.3.1 (from torch->ISLP)\n",
            "  Using cached nvidia_cublas_cu12-12.1.3.1-py3-none-manylinux1_x86_64.whl (410.6 MB)\n",
            "Collecting nvidia-cufft-cu12==11.0.2.54 (from torch->ISLP)\n",
            "  Using cached nvidia_cufft_cu12-11.0.2.54-py3-none-manylinux1_x86_64.whl (121.6 MB)\n",
            "Collecting nvidia-curand-cu12==10.3.2.106 (from torch->ISLP)\n",
            "  Using cached nvidia_curand_cu12-10.3.2.106-py3-none-manylinux1_x86_64.whl (56.5 MB)\n",
            "Collecting nvidia-cusolver-cu12==11.4.5.107 (from torch->ISLP)\n",
            "  Using cached nvidia_cusolver_cu12-11.4.5.107-py3-none-manylinux1_x86_64.whl (124.2 MB)\n",
            "Collecting nvidia-cusparse-cu12==12.1.0.106 (from torch->ISLP)\n",
            "  Using cached nvidia_cusparse_cu12-12.1.0.106-py3-none-manylinux1_x86_64.whl (196.0 MB)\n",
            "Collecting nvidia-nccl-cu12==2.20.5 (from torch->ISLP)\n",
            "  Using cached nvidia_nccl_cu12-2.20.5-py3-none-manylinux2014_x86_64.whl (176.2 MB)\n",
            "Collecting nvidia-nvtx-cu12==12.1.105 (from torch->ISLP)\n",
            "  Using cached nvidia_nvtx_cu12-12.1.105-py3-none-manylinux1_x86_64.whl (99 kB)\n",
            "Requirement already satisfied: triton==2.3.0 in /usr/local/lib/python3.10/dist-packages (from torch->ISLP) (2.3.0)\n",
            "Collecting nvidia-nvjitlink-cu12 (from nvidia-cusolver-cu12==11.4.5.107->torch->ISLP)\n",
            "  Downloading nvidia_nvjitlink_cu12-12.5.40-py3-none-manylinux2014_x86_64.whl (21.3 MB)\n",
            "\u001b[2K     \u001b[90m━━━━━━━━━━━━━━━━━━━━━━━━━━━━━━━━━━━━━━━━\u001b[0m \u001b[32m21.3/21.3 MB\u001b[0m \u001b[31m43.2 MB/s\u001b[0m eta \u001b[36m0:00:00\u001b[0m\n",
            "\u001b[?25hRequirement already satisfied: future>=0.15.2 in /usr/local/lib/python3.10/dist-packages (from autograd>=1.5->lifelines->ISLP) (0.18.3)\n",
            "Collecting interface-meta>=1.2.0 (from formulaic>=0.2.2->lifelines->ISLP)\n",
            "  Downloading interface_meta-1.3.0-py3-none-any.whl (14 kB)\n",
            "Requirement already satisfied: wrapt>=1.0 in /usr/local/lib/python3.10/dist-packages (from formulaic>=0.2.2->lifelines->ISLP) (1.14.1)\n",
            "Requirement already satisfied: requests in /usr/local/lib/python3.10/dist-packages (from fsspec[http]>=2022.5.0->pytorch-lightning->ISLP) (2.31.0)\n",
            "Requirement already satisfied: aiohttp!=4.0.0a0,!=4.0.0a1 in /usr/local/lib/python3.10/dist-packages (from fsspec[http]>=2022.5.0->pytorch-lightning->ISLP) (3.9.5)\n",
            "Requirement already satisfied: setuptools in /usr/local/lib/python3.10/dist-packages (from lightning-utilities>=0.8.0->pytorch-lightning->ISLP) (67.7.2)\n",
            "Requirement already satisfied: contourpy>=1.0.1 in /usr/local/lib/python3.10/dist-packages (from matplotlib>=3.0->lifelines->ISLP) (1.2.1)\n",
            "Requirement already satisfied: cycler>=0.10 in /usr/local/lib/python3.10/dist-packages (from matplotlib>=3.0->lifelines->ISLP) (0.12.1)\n",
            "Requirement already satisfied: fonttools>=4.22.0 in /usr/local/lib/python3.10/dist-packages (from matplotlib>=3.0->lifelines->ISLP) (4.51.0)\n",
            "Requirement already satisfied: kiwisolver>=1.0.1 in /usr/local/lib/python3.10/dist-packages (from matplotlib>=3.0->lifelines->ISLP) (1.4.5)\n",
            "Requirement already satisfied: pillow>=6.2.0 in /usr/local/lib/python3.10/dist-packages (from matplotlib>=3.0->lifelines->ISLP) (9.4.0)\n",
            "Requirement already satisfied: pyparsing>=2.3.1 in /usr/local/lib/python3.10/dist-packages (from matplotlib>=3.0->lifelines->ISLP) (3.1.2)\n",
            "Requirement already satisfied: six in /usr/local/lib/python3.10/dist-packages (from patsy>=0.5.6->statsmodels>=0.13->ISLP) (1.16.0)\n",
            "Requirement already satisfied: python-utils>=3.0.0 in /usr/local/lib/python3.10/dist-packages (from progressbar2<5.0.0,>=4.2.0->pygam->ISLP) (3.8.2)\n",
            "Requirement already satisfied: MarkupSafe>=2.0 in /usr/local/lib/python3.10/dist-packages (from jinja2->torch->ISLP) (2.1.5)\n",
            "Requirement already satisfied: mpmath>=0.19 in /usr/local/lib/python3.10/dist-packages (from sympy->torch->ISLP) (1.3.0)\n",
            "Requirement already satisfied: aiosignal>=1.1.2 in /usr/local/lib/python3.10/dist-packages (from aiohttp!=4.0.0a0,!=4.0.0a1->fsspec[http]>=2022.5.0->pytorch-lightning->ISLP) (1.3.1)\n",
            "Requirement already satisfied: attrs>=17.3.0 in /usr/local/lib/python3.10/dist-packages (from aiohttp!=4.0.0a0,!=4.0.0a1->fsspec[http]>=2022.5.0->pytorch-lightning->ISLP) (23.2.0)\n",
            "Requirement already satisfied: frozenlist>=1.1.1 in /usr/local/lib/python3.10/dist-packages (from aiohttp!=4.0.0a0,!=4.0.0a1->fsspec[http]>=2022.5.0->pytorch-lightning->ISLP) (1.4.1)\n",
            "Requirement already satisfied: multidict<7.0,>=4.5 in /usr/local/lib/python3.10/dist-packages (from aiohttp!=4.0.0a0,!=4.0.0a1->fsspec[http]>=2022.5.0->pytorch-lightning->ISLP) (6.0.5)\n",
            "Requirement already satisfied: yarl<2.0,>=1.0 in /usr/local/lib/python3.10/dist-packages (from aiohttp!=4.0.0a0,!=4.0.0a1->fsspec[http]>=2022.5.0->pytorch-lightning->ISLP) (1.9.4)\n",
            "Requirement already satisfied: async-timeout<5.0,>=4.0 in /usr/local/lib/python3.10/dist-packages (from aiohttp!=4.0.0a0,!=4.0.0a1->fsspec[http]>=2022.5.0->pytorch-lightning->ISLP) (4.0.3)\n",
            "Requirement already satisfied: charset-normalizer<4,>=2 in /usr/local/lib/python3.10/dist-packages (from requests->fsspec[http]>=2022.5.0->pytorch-lightning->ISLP) (3.3.2)\n",
            "Requirement already satisfied: idna<4,>=2.5 in /usr/local/lib/python3.10/dist-packages (from requests->fsspec[http]>=2022.5.0->pytorch-lightning->ISLP) (3.7)\n",
            "Requirement already satisfied: urllib3<3,>=1.21.1 in /usr/local/lib/python3.10/dist-packages (from requests->fsspec[http]>=2022.5.0->pytorch-lightning->ISLP) (2.0.7)\n",
            "Requirement already satisfied: certifi>=2017.4.17 in /usr/local/lib/python3.10/dist-packages (from requests->fsspec[http]>=2022.5.0->pytorch-lightning->ISLP) (2024.2.2)\n",
            "Building wheels for collected packages: autograd-gamma\n",
            "  Building wheel for autograd-gamma (setup.py) ... \u001b[?25l\u001b[?25hdone\n",
            "  Created wheel for autograd-gamma: filename=autograd_gamma-0.5.0-py3-none-any.whl size=4030 sha256=c0b02d053af79e4b1aca8555ad40df28bfeb53827746547766df370fe64d0876\n",
            "  Stored in directory: /root/.cache/pip/wheels/25/cc/e0/ef2969164144c899fedb22b338f6703e2b9cf46eeebf254991\n",
            "Successfully built autograd-gamma\n",
            "Installing collected packages: nvidia-nvtx-cu12, nvidia-nvjitlink-cu12, nvidia-nccl-cu12, nvidia-curand-cu12, nvidia-cufft-cu12, nvidia-cuda-runtime-cu12, nvidia-cuda-nvrtc-cu12, nvidia-cuda-cupti-cu12, nvidia-cublas-cu12, numpy, lightning-utilities, interface-meta, pandas, nvidia-cusparse-cu12, nvidia-cudnn-cu12, pygam, nvidia-cusolver-cu12, formulaic, autograd-gamma, lifelines, torchmetrics, pytorch-lightning, ISLP\n",
            "  Attempting uninstall: numpy\n",
            "    Found existing installation: numpy 1.25.2\n",
            "    Uninstalling numpy-1.25.2:\n",
            "      Successfully uninstalled numpy-1.25.2\n",
            "  Attempting uninstall: pandas\n",
            "    Found existing installation: pandas 2.0.3\n",
            "    Uninstalling pandas-2.0.3:\n",
            "      Successfully uninstalled pandas-2.0.3\n",
            "\u001b[31mERROR: pip's dependency resolver does not currently take into account all the packages that are installed. This behaviour is the source of the following dependency conflicts.\n",
            "cudf-cu12 24.4.1 requires pandas<2.2.2dev0,>=2.0, but you have pandas 1.5.3 which is incompatible.\n",
            "google-colab 1.0.0 requires pandas==2.0.3, but you have pandas 1.5.3 which is incompatible.\n",
            "pandas-stubs 2.0.3.230814 requires numpy>=1.25.0; python_version >= \"3.9\", but you have numpy 1.24.4 which is incompatible.\u001b[0m\u001b[31m\n",
            "\u001b[0mSuccessfully installed ISLP-0.3.22 autograd-gamma-0.5.0 formulaic-1.0.1 interface-meta-1.3.0 lifelines-0.28.0 lightning-utilities-0.11.2 numpy-1.24.4 nvidia-cublas-cu12-12.1.3.1 nvidia-cuda-cupti-cu12-12.1.105 nvidia-cuda-nvrtc-cu12-12.1.105 nvidia-cuda-runtime-cu12-12.1.105 nvidia-cudnn-cu12-8.9.2.26 nvidia-cufft-cu12-11.0.2.54 nvidia-curand-cu12-10.3.2.106 nvidia-cusolver-cu12-11.4.5.107 nvidia-cusparse-cu12-12.1.0.106 nvidia-nccl-cu12-2.20.5 nvidia-nvjitlink-cu12-12.5.40 nvidia-nvtx-cu12-12.1.105 pandas-1.5.3 pygam-0.9.0 pytorch-lightning-2.2.5 torchmetrics-1.4.0.post0\n"
          ]
        },
        {
          "output_type": "display_data",
          "data": {
            "application/vnd.colab-display-data+json": {
              "pip_warning": {
                "packages": [
                  "numpy",
                  "pandas"
                ]
              },
              "id": "56b4bff0bbc743b0a41fe0a80e8b7a0e"
            }
          },
          "metadata": {}
        }
      ],
      "source": [
        "!pip install ISLP\n",
        "import numpy as np\n",
        "import pandas as pd\n",
        "from matplotlib.pyplot import subplots\n",
        "from statsmodels.api import OLS\n",
        "import sklearn.model_selection as skm\n",
        "import sklearn.linear_model as skl\n",
        "from sklearn.preprocessing import StandardScaler\n",
        "from ISLP import load_data\n",
        "from ISLP.models import ModelSpec as MS\n",
        "from functools import partial"
      ],
      "metadata": {
        "ExecuteTime": {
          "end_time": "2024-05-21T01:59:18.141374500Z",
          "start_time": "2024-05-21T01:59:17.964561800Z"
        },
        "id": "82eac0759c0a81e6",
        "outputId": "ca599660-691d-4a2a-dc58-162311f3294b",
        "colab": {
          "base_uri": "https://localhost:8080/",
          "height": 1000
        }
      },
      "id": "82eac0759c0a81e6"
    },
    {
      "cell_type": "code",
      "execution_count": 18,
      "outputs": [],
      "source": [
        "from sklearn.pipeline import Pipeline\n",
        "from sklearn.decomposition import PCA\n",
        "from sklearn.cross_decomposition import PLSRegression\n",
        "from ISLP.models import \\\n",
        "     (Stepwise,\n",
        "      sklearn_selected,\n",
        "      sklearn_selection_path)"
      ],
      "metadata": {
        "ExecuteTime": {
          "end_time": "2024-05-11T22:19:02.139042Z",
          "start_time": "2024-05-11T22:19:02.088038700Z"
        },
        "id": "658daef2fdcf3b1e"
      },
      "id": "658daef2fdcf3b1e"
    },
    {
      "cell_type": "markdown",
      "source": [
        "## Subset Selection Methods\n",
        "Here we implement methods that reduce the number of parameters\n",
        "\n",
        "### Forward Selection\n",
        "We will  apply the forward-selection approach\n"
      ],
      "metadata": {
        "collapsed": false,
        "id": "e1133b03f1e1dec0"
      },
      "id": "e1133b03f1e1dec0"
    },
    {
      "cell_type": "code",
      "execution_count": 19,
      "outputs": [
        {
          "output_type": "execute_result",
          "data": {
            "text/plain": [
              "0"
            ]
          },
          "metadata": {},
          "execution_count": 19
        }
      ],
      "source": [
        "np.isnan(df_cleaned['ddG']).sum()"
      ],
      "metadata": {
        "ExecuteTime": {
          "end_time": "2024-05-11T22:19:03.335579800Z",
          "start_time": "2024-05-11T22:19:03.211584Z"
        },
        "id": "e99f146e021cf452",
        "outputId": "2f63bf8d-1b7e-403e-ca5c-71ad0d6329c8",
        "colab": {
          "base_uri": "https://localhost:8080/"
        }
      },
      "id": "e99f146e021cf452"
    },
    {
      "cell_type": "code",
      "execution_count": 20,
      "outputs": [],
      "source": [
        "def nCp(sigma2, estimator, X, Y):\n",
        "    \"Negative Cp statistic\"\n",
        "    n, p = X.shape\n",
        "    Yhat = estimator.predict(X)\n",
        "    RSS = np.sum((Y - Yhat)**2)\n",
        "    return -(RSS + 2 * p * sigma2) / n"
      ],
      "metadata": {
        "ExecuteTime": {
          "end_time": "2024-05-11T22:19:05.605323Z",
          "start_time": "2024-05-11T22:19:05.525290200Z"
        },
        "id": "147741054fac9033"
      },
      "id": "147741054fac9033"
    },
    {
      "cell_type": "code",
      "execution_count": 21,
      "outputs": [
        {
          "output_type": "execute_result",
          "data": {
            "text/plain": [
              "     1    2    3    4    5    6    7    8    9   10  ...      3965      3966   \n",
              "0  0.0  0.0  0.0  0.0  0.0  0.0  0.0  0.0  0.0  0.0  ... -0.833714 -0.605952  \\\n",
              "1  0.0  0.0  0.0  0.0  0.0  0.0  0.0  0.0  0.0  0.0  ... -0.880495 -0.602624   \n",
              "2  0.0  0.0  0.0  0.0  0.0  0.0  0.0  0.0  0.0  0.0  ...  1.104378  1.789966   \n",
              "3  0.0  0.0  0.0  0.0  0.0  0.0  0.0  0.0  0.0  0.0  ... -0.938972 -0.643031   \n",
              "4  0.0  0.0  0.0  0.0  0.0  0.0  0.0  0.0  0.0  0.0  ...  1.112732  0.601039   \n",
              "\n",
              "       3967      3968      3969      3970      3971      3972      3973   \n",
              "0 -0.471700 -0.768480 -0.178536 -0.298590 -0.238640 -0.277510 -0.230633  \\\n",
              "1 -0.471616 -0.798242 -0.277709 -0.280445 -0.279338 -0.246094 -1.153164   \n",
              "2  1.707972 -0.078629 -1.416062 -1.347984 -1.383415  0.492188  0.691898   \n",
              "3 -0.505083 -0.825677 -0.297732 -0.236059 -0.267225  0.028798 -0.691898   \n",
              "4  0.691527  1.360684  0.614598  0.524781  0.570340 -1.518452 -0.230633   \n",
              "\n",
              "        ddG  \n",
              "0 -0.672194  \n",
              "1 -1.146684  \n",
              "2  0.276786  \n",
              "3 -0.672194  \n",
              "4  1.463011  \n",
              "\n",
              "[5 rows x 3974 columns]"
            ],
            "text/html": [
              "\n",
              "  <div id=\"df-944862b8-08c4-4590-9a66-09c9288257d5\" class=\"colab-df-container\">\n",
              "    <div>\n",
              "<style scoped>\n",
              "    .dataframe tbody tr th:only-of-type {\n",
              "        vertical-align: middle;\n",
              "    }\n",
              "\n",
              "    .dataframe tbody tr th {\n",
              "        vertical-align: top;\n",
              "    }\n",
              "\n",
              "    .dataframe thead th {\n",
              "        text-align: right;\n",
              "    }\n",
              "</style>\n",
              "<table border=\"1\" class=\"dataframe\">\n",
              "  <thead>\n",
              "    <tr style=\"text-align: right;\">\n",
              "      <th></th>\n",
              "      <th>1</th>\n",
              "      <th>2</th>\n",
              "      <th>3</th>\n",
              "      <th>4</th>\n",
              "      <th>5</th>\n",
              "      <th>6</th>\n",
              "      <th>7</th>\n",
              "      <th>8</th>\n",
              "      <th>9</th>\n",
              "      <th>10</th>\n",
              "      <th>...</th>\n",
              "      <th>3965</th>\n",
              "      <th>3966</th>\n",
              "      <th>3967</th>\n",
              "      <th>3968</th>\n",
              "      <th>3969</th>\n",
              "      <th>3970</th>\n",
              "      <th>3971</th>\n",
              "      <th>3972</th>\n",
              "      <th>3973</th>\n",
              "      <th>ddG</th>\n",
              "    </tr>\n",
              "  </thead>\n",
              "  <tbody>\n",
              "    <tr>\n",
              "      <th>0</th>\n",
              "      <td>0.0</td>\n",
              "      <td>0.0</td>\n",
              "      <td>0.0</td>\n",
              "      <td>0.0</td>\n",
              "      <td>0.0</td>\n",
              "      <td>0.0</td>\n",
              "      <td>0.0</td>\n",
              "      <td>0.0</td>\n",
              "      <td>0.0</td>\n",
              "      <td>0.0</td>\n",
              "      <td>...</td>\n",
              "      <td>-0.833714</td>\n",
              "      <td>-0.605952</td>\n",
              "      <td>-0.471700</td>\n",
              "      <td>-0.768480</td>\n",
              "      <td>-0.178536</td>\n",
              "      <td>-0.298590</td>\n",
              "      <td>-0.238640</td>\n",
              "      <td>-0.277510</td>\n",
              "      <td>-0.230633</td>\n",
              "      <td>-0.672194</td>\n",
              "    </tr>\n",
              "    <tr>\n",
              "      <th>1</th>\n",
              "      <td>0.0</td>\n",
              "      <td>0.0</td>\n",
              "      <td>0.0</td>\n",
              "      <td>0.0</td>\n",
              "      <td>0.0</td>\n",
              "      <td>0.0</td>\n",
              "      <td>0.0</td>\n",
              "      <td>0.0</td>\n",
              "      <td>0.0</td>\n",
              "      <td>0.0</td>\n",
              "      <td>...</td>\n",
              "      <td>-0.880495</td>\n",
              "      <td>-0.602624</td>\n",
              "      <td>-0.471616</td>\n",
              "      <td>-0.798242</td>\n",
              "      <td>-0.277709</td>\n",
              "      <td>-0.280445</td>\n",
              "      <td>-0.279338</td>\n",
              "      <td>-0.246094</td>\n",
              "      <td>-1.153164</td>\n",
              "      <td>-1.146684</td>\n",
              "    </tr>\n",
              "    <tr>\n",
              "      <th>2</th>\n",
              "      <td>0.0</td>\n",
              "      <td>0.0</td>\n",
              "      <td>0.0</td>\n",
              "      <td>0.0</td>\n",
              "      <td>0.0</td>\n",
              "      <td>0.0</td>\n",
              "      <td>0.0</td>\n",
              "      <td>0.0</td>\n",
              "      <td>0.0</td>\n",
              "      <td>0.0</td>\n",
              "      <td>...</td>\n",
              "      <td>1.104378</td>\n",
              "      <td>1.789966</td>\n",
              "      <td>1.707972</td>\n",
              "      <td>-0.078629</td>\n",
              "      <td>-1.416062</td>\n",
              "      <td>-1.347984</td>\n",
              "      <td>-1.383415</td>\n",
              "      <td>0.492188</td>\n",
              "      <td>0.691898</td>\n",
              "      <td>0.276786</td>\n",
              "    </tr>\n",
              "    <tr>\n",
              "      <th>3</th>\n",
              "      <td>0.0</td>\n",
              "      <td>0.0</td>\n",
              "      <td>0.0</td>\n",
              "      <td>0.0</td>\n",
              "      <td>0.0</td>\n",
              "      <td>0.0</td>\n",
              "      <td>0.0</td>\n",
              "      <td>0.0</td>\n",
              "      <td>0.0</td>\n",
              "      <td>0.0</td>\n",
              "      <td>...</td>\n",
              "      <td>-0.938972</td>\n",
              "      <td>-0.643031</td>\n",
              "      <td>-0.505083</td>\n",
              "      <td>-0.825677</td>\n",
              "      <td>-0.297732</td>\n",
              "      <td>-0.236059</td>\n",
              "      <td>-0.267225</td>\n",
              "      <td>0.028798</td>\n",
              "      <td>-0.691898</td>\n",
              "      <td>-0.672194</td>\n",
              "    </tr>\n",
              "    <tr>\n",
              "      <th>4</th>\n",
              "      <td>0.0</td>\n",
              "      <td>0.0</td>\n",
              "      <td>0.0</td>\n",
              "      <td>0.0</td>\n",
              "      <td>0.0</td>\n",
              "      <td>0.0</td>\n",
              "      <td>0.0</td>\n",
              "      <td>0.0</td>\n",
              "      <td>0.0</td>\n",
              "      <td>0.0</td>\n",
              "      <td>...</td>\n",
              "      <td>1.112732</td>\n",
              "      <td>0.601039</td>\n",
              "      <td>0.691527</td>\n",
              "      <td>1.360684</td>\n",
              "      <td>0.614598</td>\n",
              "      <td>0.524781</td>\n",
              "      <td>0.570340</td>\n",
              "      <td>-1.518452</td>\n",
              "      <td>-0.230633</td>\n",
              "      <td>1.463011</td>\n",
              "    </tr>\n",
              "  </tbody>\n",
              "</table>\n",
              "<p>5 rows × 3974 columns</p>\n",
              "</div>\n",
              "    <div class=\"colab-df-buttons\">\n",
              "\n",
              "  <div class=\"colab-df-container\">\n",
              "    <button class=\"colab-df-convert\" onclick=\"convertToInteractive('df-944862b8-08c4-4590-9a66-09c9288257d5')\"\n",
              "            title=\"Convert this dataframe to an interactive table.\"\n",
              "            style=\"display:none;\">\n",
              "\n",
              "  <svg xmlns=\"http://www.w3.org/2000/svg\" height=\"24px\" viewBox=\"0 -960 960 960\">\n",
              "    <path d=\"M120-120v-720h720v720H120Zm60-500h600v-160H180v160Zm220 220h160v-160H400v160Zm0 220h160v-160H400v160ZM180-400h160v-160H180v160Zm440 0h160v-160H620v160ZM180-180h160v-160H180v160Zm440 0h160v-160H620v160Z\"/>\n",
              "  </svg>\n",
              "    </button>\n",
              "\n",
              "  <style>\n",
              "    .colab-df-container {\n",
              "      display:flex;\n",
              "      gap: 12px;\n",
              "    }\n",
              "\n",
              "    .colab-df-convert {\n",
              "      background-color: #E8F0FE;\n",
              "      border: none;\n",
              "      border-radius: 50%;\n",
              "      cursor: pointer;\n",
              "      display: none;\n",
              "      fill: #1967D2;\n",
              "      height: 32px;\n",
              "      padding: 0 0 0 0;\n",
              "      width: 32px;\n",
              "    }\n",
              "\n",
              "    .colab-df-convert:hover {\n",
              "      background-color: #E2EBFA;\n",
              "      box-shadow: 0px 1px 2px rgba(60, 64, 67, 0.3), 0px 1px 3px 1px rgba(60, 64, 67, 0.15);\n",
              "      fill: #174EA6;\n",
              "    }\n",
              "\n",
              "    .colab-df-buttons div {\n",
              "      margin-bottom: 4px;\n",
              "    }\n",
              "\n",
              "    [theme=dark] .colab-df-convert {\n",
              "      background-color: #3B4455;\n",
              "      fill: #D2E3FC;\n",
              "    }\n",
              "\n",
              "    [theme=dark] .colab-df-convert:hover {\n",
              "      background-color: #434B5C;\n",
              "      box-shadow: 0px 1px 3px 1px rgba(0, 0, 0, 0.15);\n",
              "      filter: drop-shadow(0px 1px 2px rgba(0, 0, 0, 0.3));\n",
              "      fill: #FFFFFF;\n",
              "    }\n",
              "  </style>\n",
              "\n",
              "    <script>\n",
              "      const buttonEl =\n",
              "        document.querySelector('#df-944862b8-08c4-4590-9a66-09c9288257d5 button.colab-df-convert');\n",
              "      buttonEl.style.display =\n",
              "        google.colab.kernel.accessAllowed ? 'block' : 'none';\n",
              "\n",
              "      async function convertToInteractive(key) {\n",
              "        const element = document.querySelector('#df-944862b8-08c4-4590-9a66-09c9288257d5');\n",
              "        const dataTable =\n",
              "          await google.colab.kernel.invokeFunction('convertToInteractive',\n",
              "                                                    [key], {});\n",
              "        if (!dataTable) return;\n",
              "\n",
              "        const docLinkHtml = 'Like what you see? Visit the ' +\n",
              "          '<a target=\"_blank\" href=https://colab.research.google.com/notebooks/data_table.ipynb>data table notebook</a>'\n",
              "          + ' to learn more about interactive tables.';\n",
              "        element.innerHTML = '';\n",
              "        dataTable['output_type'] = 'display_data';\n",
              "        await google.colab.output.renderOutput(dataTable, element);\n",
              "        const docLink = document.createElement('div');\n",
              "        docLink.innerHTML = docLinkHtml;\n",
              "        element.appendChild(docLink);\n",
              "      }\n",
              "    </script>\n",
              "  </div>\n",
              "\n",
              "\n",
              "<div id=\"df-4096eef4-9788-4881-92bf-d33f91ce1347\">\n",
              "  <button class=\"colab-df-quickchart\" onclick=\"quickchart('df-4096eef4-9788-4881-92bf-d33f91ce1347')\"\n",
              "            title=\"Suggest charts\"\n",
              "            style=\"display:none;\">\n",
              "\n",
              "<svg xmlns=\"http://www.w3.org/2000/svg\" height=\"24px\"viewBox=\"0 0 24 24\"\n",
              "     width=\"24px\">\n",
              "    <g>\n",
              "        <path d=\"M19 3H5c-1.1 0-2 .9-2 2v14c0 1.1.9 2 2 2h14c1.1 0 2-.9 2-2V5c0-1.1-.9-2-2-2zM9 17H7v-7h2v7zm4 0h-2V7h2v10zm4 0h-2v-4h2v4z\"/>\n",
              "    </g>\n",
              "</svg>\n",
              "  </button>\n",
              "\n",
              "<style>\n",
              "  .colab-df-quickchart {\n",
              "      --bg-color: #E8F0FE;\n",
              "      --fill-color: #1967D2;\n",
              "      --hover-bg-color: #E2EBFA;\n",
              "      --hover-fill-color: #174EA6;\n",
              "      --disabled-fill-color: #AAA;\n",
              "      --disabled-bg-color: #DDD;\n",
              "  }\n",
              "\n",
              "  [theme=dark] .colab-df-quickchart {\n",
              "      --bg-color: #3B4455;\n",
              "      --fill-color: #D2E3FC;\n",
              "      --hover-bg-color: #434B5C;\n",
              "      --hover-fill-color: #FFFFFF;\n",
              "      --disabled-bg-color: #3B4455;\n",
              "      --disabled-fill-color: #666;\n",
              "  }\n",
              "\n",
              "  .colab-df-quickchart {\n",
              "    background-color: var(--bg-color);\n",
              "    border: none;\n",
              "    border-radius: 50%;\n",
              "    cursor: pointer;\n",
              "    display: none;\n",
              "    fill: var(--fill-color);\n",
              "    height: 32px;\n",
              "    padding: 0;\n",
              "    width: 32px;\n",
              "  }\n",
              "\n",
              "  .colab-df-quickchart:hover {\n",
              "    background-color: var(--hover-bg-color);\n",
              "    box-shadow: 0 1px 2px rgba(60, 64, 67, 0.3), 0 1px 3px 1px rgba(60, 64, 67, 0.15);\n",
              "    fill: var(--button-hover-fill-color);\n",
              "  }\n",
              "\n",
              "  .colab-df-quickchart-complete:disabled,\n",
              "  .colab-df-quickchart-complete:disabled:hover {\n",
              "    background-color: var(--disabled-bg-color);\n",
              "    fill: var(--disabled-fill-color);\n",
              "    box-shadow: none;\n",
              "  }\n",
              "\n",
              "  .colab-df-spinner {\n",
              "    border: 2px solid var(--fill-color);\n",
              "    border-color: transparent;\n",
              "    border-bottom-color: var(--fill-color);\n",
              "    animation:\n",
              "      spin 1s steps(1) infinite;\n",
              "  }\n",
              "\n",
              "  @keyframes spin {\n",
              "    0% {\n",
              "      border-color: transparent;\n",
              "      border-bottom-color: var(--fill-color);\n",
              "      border-left-color: var(--fill-color);\n",
              "    }\n",
              "    20% {\n",
              "      border-color: transparent;\n",
              "      border-left-color: var(--fill-color);\n",
              "      border-top-color: var(--fill-color);\n",
              "    }\n",
              "    30% {\n",
              "      border-color: transparent;\n",
              "      border-left-color: var(--fill-color);\n",
              "      border-top-color: var(--fill-color);\n",
              "      border-right-color: var(--fill-color);\n",
              "    }\n",
              "    40% {\n",
              "      border-color: transparent;\n",
              "      border-right-color: var(--fill-color);\n",
              "      border-top-color: var(--fill-color);\n",
              "    }\n",
              "    60% {\n",
              "      border-color: transparent;\n",
              "      border-right-color: var(--fill-color);\n",
              "    }\n",
              "    80% {\n",
              "      border-color: transparent;\n",
              "      border-right-color: var(--fill-color);\n",
              "      border-bottom-color: var(--fill-color);\n",
              "    }\n",
              "    90% {\n",
              "      border-color: transparent;\n",
              "      border-bottom-color: var(--fill-color);\n",
              "    }\n",
              "  }\n",
              "</style>\n",
              "\n",
              "  <script>\n",
              "    async function quickchart(key) {\n",
              "      const quickchartButtonEl =\n",
              "        document.querySelector('#' + key + ' button');\n",
              "      quickchartButtonEl.disabled = true;  // To prevent multiple clicks.\n",
              "      quickchartButtonEl.classList.add('colab-df-spinner');\n",
              "      try {\n",
              "        const charts = await google.colab.kernel.invokeFunction(\n",
              "            'suggestCharts', [key], {});\n",
              "      } catch (error) {\n",
              "        console.error('Error during call to suggestCharts:', error);\n",
              "      }\n",
              "      quickchartButtonEl.classList.remove('colab-df-spinner');\n",
              "      quickchartButtonEl.classList.add('colab-df-quickchart-complete');\n",
              "    }\n",
              "    (() => {\n",
              "      let quickchartButtonEl =\n",
              "        document.querySelector('#df-4096eef4-9788-4881-92bf-d33f91ce1347 button');\n",
              "      quickchartButtonEl.style.display =\n",
              "        google.colab.kernel.accessAllowed ? 'block' : 'none';\n",
              "    })();\n",
              "  </script>\n",
              "</div>\n",
              "\n",
              "    </div>\n",
              "  </div>\n"
            ],
            "application/vnd.google.colaboratory.intrinsic+json": {
              "type": "dataframe",
              "variable_name": "df_cleaned"
            }
          },
          "metadata": {},
          "execution_count": 21
        }
      ],
      "source": [
        "df_cleaned.head()"
      ],
      "metadata": {
        "ExecuteTime": {
          "end_time": "2024-05-11T22:19:11.384969700Z",
          "start_time": "2024-05-11T22:19:11.211287400Z"
        },
        "id": "76e90585f9f40159",
        "outputId": "73e29d8e-874f-42d2-cfe6-a1949b5414b4",
        "colab": {
          "base_uri": "https://localhost:8080/",
          "height": 235
        }
      },
      "id": "76e90585f9f40159"
    },
    {
      "cell_type": "markdown",
      "source": [
        "We first choose the best model using forward selection based on $C_p$. We define a function to compute it as its not built in as a metric to `sklearn`. By default, `sklearn` tries to maximize a score, hence\n",
        "  our scoring function  computes the negative $C_p$ statistic."
      ],
      "metadata": {
        "collapsed": false,
        "id": "84bfb74116b7f5ff"
      },
      "id": "84bfb74116b7f5ff"
    },
    {
      "cell_type": "code",
      "execution_count": 22,
      "outputs": [],
      "source": [
        "def nCp(sigma2, estimator, X, Y):\n",
        "    \"Negative Cp statistic\"\n",
        "    n, p = X.shape\n",
        "    Yhat = estimator.predict(X)\n",
        "    RSS = np.sum((Y - Yhat)**2)\n",
        "    return -(RSS + 2 * p * sigma2) / n\n"
      ],
      "metadata": {
        "ExecuteTime": {
          "end_time": "2024-05-11T22:19:30.370069100Z",
          "start_time": "2024-05-11T22:19:30.359070400Z"
        },
        "id": "74a1c39f3bf6c2ba"
      },
      "id": "74a1c39f3bf6c2ba"
    },
    {
      "cell_type": "code",
      "execution_count": 23,
      "outputs": [],
      "source": [
        "design = MS(df_cleaned.columns.drop('ddG')).fit(df_cleaned)\n",
        "Y = np.array(df_cleaned['ddG'])\n",
        "X = design.transform(df_cleaned)\n",
        "sigma2 = OLS(Y,X).fit().scale"
      ],
      "metadata": {
        "ExecuteTime": {
          "end_time": "2024-05-11T22:19:59.770541Z",
          "start_time": "2024-05-11T22:19:30.372069300Z"
        },
        "id": "5afbbb24e6d51af5"
      },
      "id": "5afbbb24e6d51af5"
    },
    {
      "cell_type": "code",
      "execution_count": 24,
      "outputs": [],
      "source": [
        "neg_Cp = partial(nCp, sigma2)"
      ],
      "metadata": {
        "ExecuteTime": {
          "end_time": "2024-05-11T22:19:59.812541200Z",
          "start_time": "2024-05-11T22:19:59.775545500Z"
        },
        "id": "9b2d89f2a697aa0b"
      },
      "id": "9b2d89f2a697aa0b"
    },
    {
      "cell_type": "markdown",
      "source": [
        "We can now use `neg_Cp()` as a scorer for model selection.\n",
        "\n",
        "Along with a score we need to specify the search strategy. This is done through the object\n",
        "`Stepwise()`  in the `ISLP.models` package. The method `Stepwise.first_peak()`\n",
        "runs forward stepwise until any further additions to the model do not result\n",
        "in an improvement in the evaluation score. Similarly, the method `Stepwise.fixed_steps()`\n",
        "runs a fixed number of steps of stepwise search."
      ],
      "metadata": {
        "collapsed": false,
        "id": "eb3361bb5c63658d"
      },
      "id": "eb3361bb5c63658d"
    },
    {
      "cell_type": "code",
      "execution_count": 25,
      "outputs": [],
      "source": [
        "strategy = Stepwise.first_peak(design,\n",
        "                               direction='forward',\n",
        "                               max_terms=len(design.terms))\n"
      ],
      "metadata": {
        "ExecuteTime": {
          "end_time": "2024-05-11T22:19:59.823540600Z",
          "start_time": "2024-05-11T22:19:59.792539300Z"
        },
        "id": "848afb1d0a46242"
      },
      "id": "848afb1d0a46242"
    },
    {
      "cell_type": "markdown",
      "source": [
        "We now fit a linear regression model with `Salary` as outcome using forward\n",
        "selection. To do so, we use the function `sklearn_selected()`  from the `ISLP.models` package. This takes\n",
        "a model from `statsmodels` along with a search strategy and selects a model with its\n",
        "`fit` method. Without specifying a `scoring` argument, the score defaults to MSE, and so all 19 variables will be\n",
        "selected."
      ],
      "metadata": {
        "collapsed": false,
        "id": "a035dc5c859106bc"
      },
      "id": "a035dc5c859106bc"
    },
    {
      "cell_type": "code",
      "execution_count": null,
      "outputs": [],
      "source": [
        "hitters_MSE = sklearn_selected(OLS,\n",
        "                               strategy)\n",
        "hitters_MSE.fit(df_cleaned, Y)\n",
        "hitters_MSE.selected_state_\n"
      ],
      "metadata": {
        "ExecuteTime": {
          "end_time": "2024-05-09T01:28:19.905487200Z",
          "start_time": "2024-05-09T01:22:44.415589Z"
        },
        "id": "5900a71c0efe73de"
      },
      "id": "5900a71c0efe73de"
    },
    {
      "cell_type": "markdown",
      "source": [
        "Using `neg_Cp` results in a smaller model, as expected, with just 10 variables selected."
      ],
      "metadata": {
        "collapsed": false,
        "id": "e390f0e142fca72f"
      },
      "id": "e390f0e142fca72f"
    },
    {
      "cell_type": "code",
      "execution_count": null,
      "outputs": [
        {
          "data": {
            "text/plain": "('3316', '3955', '3957', '3964', '3968', '3970', '95')"
          },
          "execution_count": 68,
          "metadata": {},
          "output_type": "execute_result"
        }
      ],
      "source": [
        "hitters_Cp = sklearn_selected(OLS,\n",
        "                               strategy,\n",
        "                               scoring=neg_Cp)\n",
        "hitters_Cp.fit(df_cleaned, Y)\n",
        "hitters_Cp.selected_state_\n"
      ],
      "metadata": {
        "ExecuteTime": {
          "end_time": "2024-05-09T01:36:02.903497600Z",
          "start_time": "2024-05-09T01:28:19.912509700Z"
        },
        "id": "48853b8ee33f2c63",
        "outputId": "7231eef1-742b-489c-bd75-d4b1f417c069"
      },
      "id": "48853b8ee33f2c63"
    },
    {
      "cell_type": "markdown",
      "source": [
        "### Choosing Among Models Using the Validation Set Approach and Cross-Validation\n",
        "\n",
        "As an  alternative to using $C_p$, we might try cross-validation to select a model in forward selection. For this, we need a\n",
        "method that stores the full path of models found in forward selection, and allows predictions for each of these. This can be done with the `sklearn_selection_path()`\n",
        "estimator from `ISLP.models`. The function `cross_val_predict()` from `ISLP.models`\n",
        "computes the cross-validated predictions for each of the models\n",
        "along the path, which we can use to evaluate the cross-validated MSE\n",
        "along the path."
      ],
      "metadata": {
        "collapsed": false,
        "id": "396a91f6d0ce6283"
      },
      "id": "396a91f6d0ce6283"
    },
    {
      "cell_type": "markdown",
      "source": [
        "Here we define a strategy that fits the full forward selection path.\n",
        "While there are various parameter choices for `sklearn_selection_path()`,\n",
        "we use the defaults here, which selects the model at each step based on the biggest reduction  in RSS."
      ],
      "metadata": {
        "collapsed": false,
        "id": "8c04fa80aecb601c"
      },
      "id": "8c04fa80aecb601c"
    },
    {
      "cell_type": "code",
      "execution_count": null,
      "outputs": [],
      "source": [
        "strategy = Stepwise.fixed_steps(design,\n",
        "                                len(design.terms),\n",
        "                                direction='forward')\n",
        "full_path = sklearn_selection_path(OLS, strategy)\n"
      ],
      "metadata": {
        "ExecuteTime": {
          "end_time": "2024-05-11T22:21:36.057900Z",
          "start_time": "2024-05-11T22:21:35.989656Z"
        },
        "id": "d46736d875a82b97"
      },
      "id": "d46736d875a82b97"
    },
    {
      "cell_type": "markdown",
      "source": [
        "We now fit the full forward-selection path on the `Hitters` data and compute the fitted values."
      ],
      "metadata": {
        "collapsed": false,
        "id": "a6b8900c4846c63a"
      },
      "id": "a6b8900c4846c63a"
    },
    {
      "cell_type": "code",
      "execution_count": null,
      "outputs": [],
      "source": [
        "full_path.fit(df_cleaned, Y)\n",
        "Yhat_in = full_path.predict(df_cleaned)\n",
        "Yhat_in.shape\n"
      ],
      "metadata": {
        "is_executing": true,
        "ExecuteTime": {
          "start_time": "2024-05-11T22:21:50.503839900Z"
        },
        "id": "7c647f43e4dbeb2"
      },
      "id": "7c647f43e4dbeb2"
    },
    {
      "cell_type": "markdown",
      "source": [
        "This gives us an array of fitted values --- 20 steps in all, including the fitted mean for the null model --- which we can use to evaluate\n",
        "in-sample MSE. As expected, the in-sample MSE improves each step we take,\n",
        "indicating we must use either the validation or cross-validation\n",
        "approach to select the number of steps. We fix the y-axis to range from\n",
        "50,000 to 250,000 to compare to the cross-validation and validation\n",
        "set MSE below, as well as other methods such as ridge regression, lasso and\n",
        "principal components regression."
      ],
      "metadata": {
        "collapsed": false,
        "id": "e3625bf7533d0931"
      },
      "id": "e3625bf7533d0931"
    },
    {
      "cell_type": "code",
      "execution_count": null,
      "outputs": [],
      "source": [
        "mse_fig, ax = subplots(figsize=(8,8))\n",
        "insample_mse = ((Yhat_in - Y[:,None])**2).mean(0)\n",
        "n_steps = insample_mse.shape[0]\n",
        "ax.plot(np.arange(n_steps),\n",
        "        insample_mse,\n",
        "        'k', # color black\n",
        "        label='In-sample')\n",
        "ax.set_ylabel('MSE',\n",
        "              fontsize=20)\n",
        "ax.set_xlabel('# steps of forward stepwise',\n",
        "              fontsize=20)\n",
        "ax.set_xticks(np.arange(n_steps)[::2])\n",
        "ax.legend()\n",
        "ax.set_ylim([50000,250000]);\n"
      ],
      "metadata": {
        "id": "e5a18c9def68fda5"
      },
      "id": "e5a18c9def68fda5"
    },
    {
      "cell_type": "markdown",
      "source": [],
      "metadata": {
        "collapsed": false,
        "id": "46075c3ab1922f4e"
      },
      "id": "46075c3ab1922f4e"
    },
    {
      "cell_type": "markdown",
      "source": [],
      "metadata": {
        "collapsed": false,
        "id": "b3ab339299dafe36"
      },
      "id": "b3ab339299dafe36"
    },
    {
      "cell_type": "markdown",
      "source": [],
      "metadata": {
        "collapsed": false,
        "id": "891df68afae4ad07"
      },
      "id": "891df68afae4ad07"
    }
  ],
  "metadata": {
    "kernelspec": {
      "display_name": "Python 3",
      "language": "python",
      "name": "python3"
    },
    "language_info": {
      "codemirror_mode": {
        "name": "ipython",
        "version": 2
      },
      "file_extension": ".py",
      "mimetype": "text/x-python",
      "name": "python",
      "nbconvert_exporter": "python",
      "pygments_lexer": "ipython2",
      "version": "2.7.6"
    },
    "colab": {
      "provenance": [],
      "include_colab_link": true
    }
  },
  "nbformat": 4,
  "nbformat_minor": 5
}