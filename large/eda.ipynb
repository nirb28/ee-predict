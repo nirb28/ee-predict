{
 "cells": [
  {
   "cell_type": "code",
   "execution_count": 1,
   "outputs": [
    {
     "ename": "ValueError",
     "evalue": "numpy.dtype size changed, may indicate binary incompatibility. Expected 96 from C header, got 88 from PyObject",
     "output_type": "error",
     "traceback": [
      "\u001B[1;31m---------------------------------------------------------------------------\u001B[0m",
      "\u001B[1;31mValueError\u001B[0m                                Traceback (most recent call last)",
      "Cell \u001B[1;32mIn[1], line 2\u001B[0m\n\u001B[0;32m      1\u001B[0m \u001B[38;5;66;03m# importing modules and packages\u001B[39;00m\n\u001B[1;32m----> 2\u001B[0m \u001B[38;5;28;01mimport\u001B[39;00m \u001B[38;5;21;01mpandas\u001B[39;00m \u001B[38;5;28;01mas\u001B[39;00m \u001B[38;5;21;01mpd\u001B[39;00m\n\u001B[0;32m      3\u001B[0m \u001B[38;5;28;01mimport\u001B[39;00m \u001B[38;5;21;01mnumpy\u001B[39;00m \u001B[38;5;28;01mas\u001B[39;00m \u001B[38;5;21;01mnp\u001B[39;00m\n\u001B[0;32m      4\u001B[0m \u001B[38;5;28;01mfrom\u001B[39;00m \u001B[38;5;21;01msklearn\u001B[39;00m\u001B[38;5;21;01m.\u001B[39;00m\u001B[38;5;21;01mmodel_selection\u001B[39;00m \u001B[38;5;28;01mimport\u001B[39;00m train_test_split\n",
      "File \u001B[1;32mC:\\work\\workspaces\\python\\miniconda3\\envs\\ml\\Lib\\site-packages\\pandas\\__init__.py:49\u001B[0m\n\u001B[0;32m     46\u001B[0m \u001B[38;5;66;03m# let init-time option registration happen\u001B[39;00m\n\u001B[0;32m     47\u001B[0m \u001B[38;5;28;01mimport\u001B[39;00m \u001B[38;5;21;01mpandas\u001B[39;00m\u001B[38;5;21;01m.\u001B[39;00m\u001B[38;5;21;01mcore\u001B[39;00m\u001B[38;5;21;01m.\u001B[39;00m\u001B[38;5;21;01mconfig_init\u001B[39;00m  \u001B[38;5;66;03m# pyright: ignore[reportUnusedImport] # noqa: F401\u001B[39;00m\n\u001B[1;32m---> 49\u001B[0m \u001B[38;5;28;01mfrom\u001B[39;00m \u001B[38;5;21;01mpandas\u001B[39;00m\u001B[38;5;21;01m.\u001B[39;00m\u001B[38;5;21;01mcore\u001B[39;00m\u001B[38;5;21;01m.\u001B[39;00m\u001B[38;5;21;01mapi\u001B[39;00m \u001B[38;5;28;01mimport\u001B[39;00m (\n\u001B[0;32m     50\u001B[0m     \u001B[38;5;66;03m# dtype\u001B[39;00m\n\u001B[0;32m     51\u001B[0m     ArrowDtype,\n\u001B[0;32m     52\u001B[0m     Int8Dtype,\n\u001B[0;32m     53\u001B[0m     Int16Dtype,\n\u001B[0;32m     54\u001B[0m     Int32Dtype,\n\u001B[0;32m     55\u001B[0m     Int64Dtype,\n\u001B[0;32m     56\u001B[0m     UInt8Dtype,\n\u001B[0;32m     57\u001B[0m     UInt16Dtype,\n\u001B[0;32m     58\u001B[0m     UInt32Dtype,\n\u001B[0;32m     59\u001B[0m     UInt64Dtype,\n\u001B[0;32m     60\u001B[0m     Float32Dtype,\n\u001B[0;32m     61\u001B[0m     Float64Dtype,\n\u001B[0;32m     62\u001B[0m     CategoricalDtype,\n\u001B[0;32m     63\u001B[0m     PeriodDtype,\n\u001B[0;32m     64\u001B[0m     IntervalDtype,\n\u001B[0;32m     65\u001B[0m     DatetimeTZDtype,\n\u001B[0;32m     66\u001B[0m     StringDtype,\n\u001B[0;32m     67\u001B[0m     BooleanDtype,\n\u001B[0;32m     68\u001B[0m     \u001B[38;5;66;03m# missing\u001B[39;00m\n\u001B[0;32m     69\u001B[0m     NA,\n\u001B[0;32m     70\u001B[0m     isna,\n\u001B[0;32m     71\u001B[0m     isnull,\n\u001B[0;32m     72\u001B[0m     notna,\n\u001B[0;32m     73\u001B[0m     notnull,\n\u001B[0;32m     74\u001B[0m     \u001B[38;5;66;03m# indexes\u001B[39;00m\n\u001B[0;32m     75\u001B[0m     Index,\n\u001B[0;32m     76\u001B[0m     CategoricalIndex,\n\u001B[0;32m     77\u001B[0m     RangeIndex,\n\u001B[0;32m     78\u001B[0m     MultiIndex,\n\u001B[0;32m     79\u001B[0m     IntervalIndex,\n\u001B[0;32m     80\u001B[0m     TimedeltaIndex,\n\u001B[0;32m     81\u001B[0m     DatetimeIndex,\n\u001B[0;32m     82\u001B[0m     PeriodIndex,\n\u001B[0;32m     83\u001B[0m     IndexSlice,\n\u001B[0;32m     84\u001B[0m     \u001B[38;5;66;03m# tseries\u001B[39;00m\n\u001B[0;32m     85\u001B[0m     NaT,\n\u001B[0;32m     86\u001B[0m     Period,\n\u001B[0;32m     87\u001B[0m     period_range,\n\u001B[0;32m     88\u001B[0m     Timedelta,\n\u001B[0;32m     89\u001B[0m     timedelta_range,\n\u001B[0;32m     90\u001B[0m     Timestamp,\n\u001B[0;32m     91\u001B[0m     date_range,\n\u001B[0;32m     92\u001B[0m     bdate_range,\n\u001B[0;32m     93\u001B[0m     Interval,\n\u001B[0;32m     94\u001B[0m     interval_range,\n\u001B[0;32m     95\u001B[0m     DateOffset,\n\u001B[0;32m     96\u001B[0m     \u001B[38;5;66;03m# conversion\u001B[39;00m\n\u001B[0;32m     97\u001B[0m     to_numeric,\n\u001B[0;32m     98\u001B[0m     to_datetime,\n\u001B[0;32m     99\u001B[0m     to_timedelta,\n\u001B[0;32m    100\u001B[0m     \u001B[38;5;66;03m# misc\u001B[39;00m\n\u001B[0;32m    101\u001B[0m     Flags,\n\u001B[0;32m    102\u001B[0m     Grouper,\n\u001B[0;32m    103\u001B[0m     factorize,\n\u001B[0;32m    104\u001B[0m     unique,\n\u001B[0;32m    105\u001B[0m     value_counts,\n\u001B[0;32m    106\u001B[0m     NamedAgg,\n\u001B[0;32m    107\u001B[0m     array,\n\u001B[0;32m    108\u001B[0m     Categorical,\n\u001B[0;32m    109\u001B[0m     set_eng_float_format,\n\u001B[0;32m    110\u001B[0m     Series,\n\u001B[0;32m    111\u001B[0m     DataFrame,\n\u001B[0;32m    112\u001B[0m )\n\u001B[0;32m    114\u001B[0m \u001B[38;5;28;01mfrom\u001B[39;00m \u001B[38;5;21;01mpandas\u001B[39;00m\u001B[38;5;21;01m.\u001B[39;00m\u001B[38;5;21;01mcore\u001B[39;00m\u001B[38;5;21;01m.\u001B[39;00m\u001B[38;5;21;01mdtypes\u001B[39;00m\u001B[38;5;21;01m.\u001B[39;00m\u001B[38;5;21;01mdtypes\u001B[39;00m \u001B[38;5;28;01mimport\u001B[39;00m SparseDtype\n\u001B[0;32m    116\u001B[0m \u001B[38;5;28;01mfrom\u001B[39;00m \u001B[38;5;21;01mpandas\u001B[39;00m\u001B[38;5;21;01m.\u001B[39;00m\u001B[38;5;21;01mtseries\u001B[39;00m\u001B[38;5;21;01m.\u001B[39;00m\u001B[38;5;21;01mapi\u001B[39;00m \u001B[38;5;28;01mimport\u001B[39;00m infer_freq\n",
      "File \u001B[1;32mC:\\work\\workspaces\\python\\miniconda3\\envs\\ml\\Lib\\site-packages\\pandas\\core\\api.py:1\u001B[0m\n\u001B[1;32m----> 1\u001B[0m \u001B[38;5;28;01mfrom\u001B[39;00m \u001B[38;5;21;01mpandas\u001B[39;00m\u001B[38;5;21;01m.\u001B[39;00m\u001B[38;5;21;01m_libs\u001B[39;00m \u001B[38;5;28;01mimport\u001B[39;00m (\n\u001B[0;32m      2\u001B[0m     NaT,\n\u001B[0;32m      3\u001B[0m     Period,\n\u001B[0;32m      4\u001B[0m     Timedelta,\n\u001B[0;32m      5\u001B[0m     Timestamp,\n\u001B[0;32m      6\u001B[0m )\n\u001B[0;32m      7\u001B[0m \u001B[38;5;28;01mfrom\u001B[39;00m \u001B[38;5;21;01mpandas\u001B[39;00m\u001B[38;5;21;01m.\u001B[39;00m\u001B[38;5;21;01m_libs\u001B[39;00m\u001B[38;5;21;01m.\u001B[39;00m\u001B[38;5;21;01mmissing\u001B[39;00m \u001B[38;5;28;01mimport\u001B[39;00m NA\n\u001B[0;32m      9\u001B[0m \u001B[38;5;28;01mfrom\u001B[39;00m \u001B[38;5;21;01mpandas\u001B[39;00m\u001B[38;5;21;01m.\u001B[39;00m\u001B[38;5;21;01mcore\u001B[39;00m\u001B[38;5;21;01m.\u001B[39;00m\u001B[38;5;21;01mdtypes\u001B[39;00m\u001B[38;5;21;01m.\u001B[39;00m\u001B[38;5;21;01mdtypes\u001B[39;00m \u001B[38;5;28;01mimport\u001B[39;00m (\n\u001B[0;32m     10\u001B[0m     ArrowDtype,\n\u001B[0;32m     11\u001B[0m     CategoricalDtype,\n\u001B[1;32m   (...)\u001B[0m\n\u001B[0;32m     14\u001B[0m     PeriodDtype,\n\u001B[0;32m     15\u001B[0m )\n",
      "File \u001B[1;32mC:\\work\\workspaces\\python\\miniconda3\\envs\\ml\\Lib\\site-packages\\pandas\\_libs\\__init__.py:18\u001B[0m\n\u001B[0;32m     16\u001B[0m \u001B[38;5;28;01mimport\u001B[39;00m \u001B[38;5;21;01mpandas\u001B[39;00m\u001B[38;5;21;01m.\u001B[39;00m\u001B[38;5;21;01m_libs\u001B[39;00m\u001B[38;5;21;01m.\u001B[39;00m\u001B[38;5;21;01mpandas_parser\u001B[39;00m  \u001B[38;5;66;03m# isort: skip # type: ignore[reportUnusedImport]\u001B[39;00m\n\u001B[0;32m     17\u001B[0m \u001B[38;5;28;01mimport\u001B[39;00m \u001B[38;5;21;01mpandas\u001B[39;00m\u001B[38;5;21;01m.\u001B[39;00m\u001B[38;5;21;01m_libs\u001B[39;00m\u001B[38;5;21;01m.\u001B[39;00m\u001B[38;5;21;01mpandas_datetime\u001B[39;00m  \u001B[38;5;66;03m# noqa: F401 # isort: skip # type: ignore[reportUnusedImport]\u001B[39;00m\n\u001B[1;32m---> 18\u001B[0m \u001B[38;5;28;01mfrom\u001B[39;00m \u001B[38;5;21;01mpandas\u001B[39;00m\u001B[38;5;21;01m.\u001B[39;00m\u001B[38;5;21;01m_libs\u001B[39;00m\u001B[38;5;21;01m.\u001B[39;00m\u001B[38;5;21;01minterval\u001B[39;00m \u001B[38;5;28;01mimport\u001B[39;00m Interval\n\u001B[0;32m     19\u001B[0m \u001B[38;5;28;01mfrom\u001B[39;00m \u001B[38;5;21;01mpandas\u001B[39;00m\u001B[38;5;21;01m.\u001B[39;00m\u001B[38;5;21;01m_libs\u001B[39;00m\u001B[38;5;21;01m.\u001B[39;00m\u001B[38;5;21;01mtslibs\u001B[39;00m \u001B[38;5;28;01mimport\u001B[39;00m (\n\u001B[0;32m     20\u001B[0m     NaT,\n\u001B[0;32m     21\u001B[0m     NaTType,\n\u001B[1;32m   (...)\u001B[0m\n\u001B[0;32m     26\u001B[0m     iNaT,\n\u001B[0;32m     27\u001B[0m )\n",
      "File \u001B[1;32minterval.pyx:1\u001B[0m, in \u001B[0;36minit pandas._libs.interval\u001B[1;34m()\u001B[0m\n",
      "\u001B[1;31mValueError\u001B[0m: numpy.dtype size changed, may indicate binary incompatibility. Expected 96 from C header, got 88 from PyObject"
     ]
    }
   ],
   "source": [
    "# importing modules and packages\n",
    "import pandas as pd\n",
    "import numpy as np\n",
    "from sklearn.model_selection import train_test_split\n",
    "from sklearn.linear_model import LinearRegression\n",
    "from sklearn.metrics import mean_squared_error, mean_absolute_error\n",
    "from sklearn import preprocessing"
   ],
   "metadata": {
    "collapsed": false,
    "ExecuteTime": {
     "end_time": "2024-05-21T01:59:05.851598Z",
     "start_time": "2024-05-21T01:59:04.447543800Z"
    }
   },
   "id": "21adb13e725cc38d"
  },
  {
   "cell_type": "code",
   "execution_count": null,
   "outputs": [],
   "source": [
    "# Import the dataset from the csv file.\n",
    "import pandas as pd\n",
    "df = pd.read_csv('../data/large_cat_desc_col_names.csv')"
   ],
   "metadata": {
    "collapsed": false,
    "ExecuteTime": {
     "start_time": "2024-05-21T01:59:05.855605500Z"
    }
   },
   "id": "4673c4f52ebdb7bb"
  },
  {
   "cell_type": "code",
   "execution_count": null,
   "outputs": [],
   "source": [
    "df.columns #= [*df.columns[:-1], 'ddG']\n",
    "#df.head()"
   ],
   "metadata": {
    "collapsed": false,
    "ExecuteTime": {
     "start_time": "2024-05-21T01:59:05.859599700Z"
    }
   },
   "id": "2010a5e21a9fc812"
  },
  {
   "cell_type": "code",
   "execution_count": null,
   "outputs": [],
   "source": [
    "df.shape\n",
    "# This is a problem as our n << p\n",
    "# And if p > n, then there is no longer a unique least squares coefficient estimate. \n",
    "# Least squares will not be a "
   ],
   "metadata": {
    "collapsed": false,
    "ExecuteTime": {
     "start_time": "2024-05-21T01:59:05.861603700Z"
    }
   },
   "id": "33f7e47e361a2897"
  },
  {
   "cell_type": "code",
   "execution_count": null,
   "outputs": [],
   "source": [
    "# We have lot of rows that have Enantiomeric Excess == 0. These ones we will exclude from the dataset.\n",
    "df_cleaned = df[df['ddG'] != 0]\n",
    "# remove the first column that has the identifier\n",
    "df_cleaned = df_cleaned.drop(df_cleaned.columns[[0]], axis=1)\n",
    "df_cleaned.shape"
   ],
   "metadata": {
    "collapsed": false,
    "ExecuteTime": {
     "end_time": "2024-05-21T01:59:05.885597700Z",
     "start_time": "2024-05-21T01:59:05.864605500Z"
    }
   },
   "id": "690c7af7b390d264"
  },
  {
   "cell_type": "code",
   "execution_count": 3,
   "outputs": [
    {
     "ename": "ValueError",
     "evalue": "numpy.dtype size changed, may indicate binary incompatibility. Expected 96 from C header, got 88 from PyObject",
     "output_type": "error",
     "traceback": [
      "\u001B[1;31m---------------------------------------------------------------------------\u001B[0m",
      "\u001B[1;31mValueError\u001B[0m                                Traceback (most recent call last)",
      "Cell \u001B[1;32mIn[3], line 2\u001B[0m\n\u001B[0;32m      1\u001B[0m \u001B[38;5;28;01mimport\u001B[39;00m \u001B[38;5;21;01mnumpy\u001B[39;00m \u001B[38;5;28;01mas\u001B[39;00m \u001B[38;5;21;01mnp\u001B[39;00m\n\u001B[1;32m----> 2\u001B[0m \u001B[38;5;28;01mimport\u001B[39;00m \u001B[38;5;21;01mpandas\u001B[39;00m \u001B[38;5;28;01mas\u001B[39;00m \u001B[38;5;21;01mpd\u001B[39;00m\n\u001B[0;32m      3\u001B[0m \u001B[38;5;28;01mfrom\u001B[39;00m \u001B[38;5;21;01mmatplotlib\u001B[39;00m\u001B[38;5;21;01m.\u001B[39;00m\u001B[38;5;21;01mpyplot\u001B[39;00m \u001B[38;5;28;01mimport\u001B[39;00m subplots\n\u001B[0;32m      4\u001B[0m \u001B[38;5;28;01mfrom\u001B[39;00m \u001B[38;5;21;01mstatsmodels\u001B[39;00m\u001B[38;5;21;01m.\u001B[39;00m\u001B[38;5;21;01mapi\u001B[39;00m \u001B[38;5;28;01mimport\u001B[39;00m OLS\n",
      "File \u001B[1;32mC:\\work\\workspaces\\python\\miniconda3\\envs\\ml\\Lib\\site-packages\\pandas\\__init__.py:49\u001B[0m\n\u001B[0;32m     46\u001B[0m \u001B[38;5;66;03m# let init-time option registration happen\u001B[39;00m\n\u001B[0;32m     47\u001B[0m \u001B[38;5;28;01mimport\u001B[39;00m \u001B[38;5;21;01mpandas\u001B[39;00m\u001B[38;5;21;01m.\u001B[39;00m\u001B[38;5;21;01mcore\u001B[39;00m\u001B[38;5;21;01m.\u001B[39;00m\u001B[38;5;21;01mconfig_init\u001B[39;00m  \u001B[38;5;66;03m# pyright: ignore[reportUnusedImport] # noqa: F401\u001B[39;00m\n\u001B[1;32m---> 49\u001B[0m \u001B[38;5;28;01mfrom\u001B[39;00m \u001B[38;5;21;01mpandas\u001B[39;00m\u001B[38;5;21;01m.\u001B[39;00m\u001B[38;5;21;01mcore\u001B[39;00m\u001B[38;5;21;01m.\u001B[39;00m\u001B[38;5;21;01mapi\u001B[39;00m \u001B[38;5;28;01mimport\u001B[39;00m (\n\u001B[0;32m     50\u001B[0m     \u001B[38;5;66;03m# dtype\u001B[39;00m\n\u001B[0;32m     51\u001B[0m     ArrowDtype,\n\u001B[0;32m     52\u001B[0m     Int8Dtype,\n\u001B[0;32m     53\u001B[0m     Int16Dtype,\n\u001B[0;32m     54\u001B[0m     Int32Dtype,\n\u001B[0;32m     55\u001B[0m     Int64Dtype,\n\u001B[0;32m     56\u001B[0m     UInt8Dtype,\n\u001B[0;32m     57\u001B[0m     UInt16Dtype,\n\u001B[0;32m     58\u001B[0m     UInt32Dtype,\n\u001B[0;32m     59\u001B[0m     UInt64Dtype,\n\u001B[0;32m     60\u001B[0m     Float32Dtype,\n\u001B[0;32m     61\u001B[0m     Float64Dtype,\n\u001B[0;32m     62\u001B[0m     CategoricalDtype,\n\u001B[0;32m     63\u001B[0m     PeriodDtype,\n\u001B[0;32m     64\u001B[0m     IntervalDtype,\n\u001B[0;32m     65\u001B[0m     DatetimeTZDtype,\n\u001B[0;32m     66\u001B[0m     StringDtype,\n\u001B[0;32m     67\u001B[0m     BooleanDtype,\n\u001B[0;32m     68\u001B[0m     \u001B[38;5;66;03m# missing\u001B[39;00m\n\u001B[0;32m     69\u001B[0m     NA,\n\u001B[0;32m     70\u001B[0m     isna,\n\u001B[0;32m     71\u001B[0m     isnull,\n\u001B[0;32m     72\u001B[0m     notna,\n\u001B[0;32m     73\u001B[0m     notnull,\n\u001B[0;32m     74\u001B[0m     \u001B[38;5;66;03m# indexes\u001B[39;00m\n\u001B[0;32m     75\u001B[0m     Index,\n\u001B[0;32m     76\u001B[0m     CategoricalIndex,\n\u001B[0;32m     77\u001B[0m     RangeIndex,\n\u001B[0;32m     78\u001B[0m     MultiIndex,\n\u001B[0;32m     79\u001B[0m     IntervalIndex,\n\u001B[0;32m     80\u001B[0m     TimedeltaIndex,\n\u001B[0;32m     81\u001B[0m     DatetimeIndex,\n\u001B[0;32m     82\u001B[0m     PeriodIndex,\n\u001B[0;32m     83\u001B[0m     IndexSlice,\n\u001B[0;32m     84\u001B[0m     \u001B[38;5;66;03m# tseries\u001B[39;00m\n\u001B[0;32m     85\u001B[0m     NaT,\n\u001B[0;32m     86\u001B[0m     Period,\n\u001B[0;32m     87\u001B[0m     period_range,\n\u001B[0;32m     88\u001B[0m     Timedelta,\n\u001B[0;32m     89\u001B[0m     timedelta_range,\n\u001B[0;32m     90\u001B[0m     Timestamp,\n\u001B[0;32m     91\u001B[0m     date_range,\n\u001B[0;32m     92\u001B[0m     bdate_range,\n\u001B[0;32m     93\u001B[0m     Interval,\n\u001B[0;32m     94\u001B[0m     interval_range,\n\u001B[0;32m     95\u001B[0m     DateOffset,\n\u001B[0;32m     96\u001B[0m     \u001B[38;5;66;03m# conversion\u001B[39;00m\n\u001B[0;32m     97\u001B[0m     to_numeric,\n\u001B[0;32m     98\u001B[0m     to_datetime,\n\u001B[0;32m     99\u001B[0m     to_timedelta,\n\u001B[0;32m    100\u001B[0m     \u001B[38;5;66;03m# misc\u001B[39;00m\n\u001B[0;32m    101\u001B[0m     Flags,\n\u001B[0;32m    102\u001B[0m     Grouper,\n\u001B[0;32m    103\u001B[0m     factorize,\n\u001B[0;32m    104\u001B[0m     unique,\n\u001B[0;32m    105\u001B[0m     value_counts,\n\u001B[0;32m    106\u001B[0m     NamedAgg,\n\u001B[0;32m    107\u001B[0m     array,\n\u001B[0;32m    108\u001B[0m     Categorical,\n\u001B[0;32m    109\u001B[0m     set_eng_float_format,\n\u001B[0;32m    110\u001B[0m     Series,\n\u001B[0;32m    111\u001B[0m     DataFrame,\n\u001B[0;32m    112\u001B[0m )\n\u001B[0;32m    114\u001B[0m \u001B[38;5;28;01mfrom\u001B[39;00m \u001B[38;5;21;01mpandas\u001B[39;00m\u001B[38;5;21;01m.\u001B[39;00m\u001B[38;5;21;01mcore\u001B[39;00m\u001B[38;5;21;01m.\u001B[39;00m\u001B[38;5;21;01mdtypes\u001B[39;00m\u001B[38;5;21;01m.\u001B[39;00m\u001B[38;5;21;01mdtypes\u001B[39;00m \u001B[38;5;28;01mimport\u001B[39;00m SparseDtype\n\u001B[0;32m    116\u001B[0m \u001B[38;5;28;01mfrom\u001B[39;00m \u001B[38;5;21;01mpandas\u001B[39;00m\u001B[38;5;21;01m.\u001B[39;00m\u001B[38;5;21;01mtseries\u001B[39;00m\u001B[38;5;21;01m.\u001B[39;00m\u001B[38;5;21;01mapi\u001B[39;00m \u001B[38;5;28;01mimport\u001B[39;00m infer_freq\n",
      "File \u001B[1;32mC:\\work\\workspaces\\python\\miniconda3\\envs\\ml\\Lib\\site-packages\\pandas\\core\\api.py:1\u001B[0m\n\u001B[1;32m----> 1\u001B[0m \u001B[38;5;28;01mfrom\u001B[39;00m \u001B[38;5;21;01mpandas\u001B[39;00m\u001B[38;5;21;01m.\u001B[39;00m\u001B[38;5;21;01m_libs\u001B[39;00m \u001B[38;5;28;01mimport\u001B[39;00m (\n\u001B[0;32m      2\u001B[0m     NaT,\n\u001B[0;32m      3\u001B[0m     Period,\n\u001B[0;32m      4\u001B[0m     Timedelta,\n\u001B[0;32m      5\u001B[0m     Timestamp,\n\u001B[0;32m      6\u001B[0m )\n\u001B[0;32m      7\u001B[0m \u001B[38;5;28;01mfrom\u001B[39;00m \u001B[38;5;21;01mpandas\u001B[39;00m\u001B[38;5;21;01m.\u001B[39;00m\u001B[38;5;21;01m_libs\u001B[39;00m\u001B[38;5;21;01m.\u001B[39;00m\u001B[38;5;21;01mmissing\u001B[39;00m \u001B[38;5;28;01mimport\u001B[39;00m NA\n\u001B[0;32m      9\u001B[0m \u001B[38;5;28;01mfrom\u001B[39;00m \u001B[38;5;21;01mpandas\u001B[39;00m\u001B[38;5;21;01m.\u001B[39;00m\u001B[38;5;21;01mcore\u001B[39;00m\u001B[38;5;21;01m.\u001B[39;00m\u001B[38;5;21;01mdtypes\u001B[39;00m\u001B[38;5;21;01m.\u001B[39;00m\u001B[38;5;21;01mdtypes\u001B[39;00m \u001B[38;5;28;01mimport\u001B[39;00m (\n\u001B[0;32m     10\u001B[0m     ArrowDtype,\n\u001B[0;32m     11\u001B[0m     CategoricalDtype,\n\u001B[1;32m   (...)\u001B[0m\n\u001B[0;32m     14\u001B[0m     PeriodDtype,\n\u001B[0;32m     15\u001B[0m )\n",
      "File \u001B[1;32mC:\\work\\workspaces\\python\\miniconda3\\envs\\ml\\Lib\\site-packages\\pandas\\_libs\\__init__.py:18\u001B[0m\n\u001B[0;32m     16\u001B[0m \u001B[38;5;28;01mimport\u001B[39;00m \u001B[38;5;21;01mpandas\u001B[39;00m\u001B[38;5;21;01m.\u001B[39;00m\u001B[38;5;21;01m_libs\u001B[39;00m\u001B[38;5;21;01m.\u001B[39;00m\u001B[38;5;21;01mpandas_parser\u001B[39;00m  \u001B[38;5;66;03m# isort: skip # type: ignore[reportUnusedImport]\u001B[39;00m\n\u001B[0;32m     17\u001B[0m \u001B[38;5;28;01mimport\u001B[39;00m \u001B[38;5;21;01mpandas\u001B[39;00m\u001B[38;5;21;01m.\u001B[39;00m\u001B[38;5;21;01m_libs\u001B[39;00m\u001B[38;5;21;01m.\u001B[39;00m\u001B[38;5;21;01mpandas_datetime\u001B[39;00m  \u001B[38;5;66;03m# noqa: F401 # isort: skip # type: ignore[reportUnusedImport]\u001B[39;00m\n\u001B[1;32m---> 18\u001B[0m \u001B[38;5;28;01mfrom\u001B[39;00m \u001B[38;5;21;01mpandas\u001B[39;00m\u001B[38;5;21;01m.\u001B[39;00m\u001B[38;5;21;01m_libs\u001B[39;00m\u001B[38;5;21;01m.\u001B[39;00m\u001B[38;5;21;01minterval\u001B[39;00m \u001B[38;5;28;01mimport\u001B[39;00m Interval\n\u001B[0;32m     19\u001B[0m \u001B[38;5;28;01mfrom\u001B[39;00m \u001B[38;5;21;01mpandas\u001B[39;00m\u001B[38;5;21;01m.\u001B[39;00m\u001B[38;5;21;01m_libs\u001B[39;00m\u001B[38;5;21;01m.\u001B[39;00m\u001B[38;5;21;01mtslibs\u001B[39;00m \u001B[38;5;28;01mimport\u001B[39;00m (\n\u001B[0;32m     20\u001B[0m     NaT,\n\u001B[0;32m     21\u001B[0m     NaTType,\n\u001B[1;32m   (...)\u001B[0m\n\u001B[0;32m     26\u001B[0m     iNaT,\n\u001B[0;32m     27\u001B[0m )\n",
      "File \u001B[1;32minterval.pyx:1\u001B[0m, in \u001B[0;36minit pandas._libs.interval\u001B[1;34m()\u001B[0m\n",
      "\u001B[1;31mValueError\u001B[0m: numpy.dtype size changed, may indicate binary incompatibility. Expected 96 from C header, got 88 from PyObject"
     ]
    }
   ],
   "source": [
    "import numpy as np\n",
    "import pandas as pd\n",
    "from matplotlib.pyplot import subplots\n",
    "from statsmodels.api import OLS\n",
    "import sklearn.model_selection as skm\n",
    "import sklearn.linear_model as skl\n",
    "from sklearn.preprocessing import StandardScaler\n",
    "from ISLP import load_data\n",
    "from ISLP.models import ModelSpec as MS\n",
    "from functools import partial"
   ],
   "metadata": {
    "collapsed": false,
    "ExecuteTime": {
     "end_time": "2024-05-21T01:59:18.141374500Z",
     "start_time": "2024-05-21T01:59:17.964561800Z"
    }
   },
   "id": "82eac0759c0a81e6"
  },
  {
   "cell_type": "code",
   "execution_count": 8,
   "outputs": [],
   "source": [
    "from sklearn.pipeline import Pipeline\n",
    "from sklearn.decomposition import PCA\n",
    "from sklearn.cross_decomposition import PLSRegression\n",
    "from ISLP.models import \\\n",
    "     (Stepwise,\n",
    "      sklearn_selected,\n",
    "      sklearn_selection_path)"
   ],
   "metadata": {
    "collapsed": false,
    "ExecuteTime": {
     "end_time": "2024-05-11T22:19:02.139042Z",
     "start_time": "2024-05-11T22:19:02.088038700Z"
    }
   },
   "id": "658daef2fdcf3b1e"
  },
  {
   "cell_type": "markdown",
   "source": [
    "## Subset Selection Methods\n",
    "Here we implement methods that reduce the number of parameters \n",
    "\n",
    "### Forward Selection \n",
    "We will  apply the forward-selection approach \n"
   ],
   "metadata": {
    "collapsed": false
   },
   "id": "e1133b03f1e1dec0"
  },
  {
   "cell_type": "code",
   "execution_count": 9,
   "outputs": [
    {
     "data": {
      "text/plain": "0"
     },
     "execution_count": 9,
     "metadata": {},
     "output_type": "execute_result"
    }
   ],
   "source": [
    "np.isnan(df_cleaned['ddG']).sum()"
   ],
   "metadata": {
    "collapsed": false,
    "ExecuteTime": {
     "end_time": "2024-05-11T22:19:03.335579800Z",
     "start_time": "2024-05-11T22:19:03.211584Z"
    }
   },
   "id": "e99f146e021cf452"
  },
  {
   "cell_type": "code",
   "execution_count": 10,
   "outputs": [],
   "source": [
    "def nCp(sigma2, estimator, X, Y):\n",
    "    \"Negative Cp statistic\"\n",
    "    n, p = X.shape\n",
    "    Yhat = estimator.predict(X)\n",
    "    RSS = np.sum((Y - Yhat)**2)\n",
    "    return -(RSS + 2 * p * sigma2) / n "
   ],
   "metadata": {
    "collapsed": false,
    "ExecuteTime": {
     "end_time": "2024-05-11T22:19:05.605323Z",
     "start_time": "2024-05-11T22:19:05.525290200Z"
    }
   },
   "id": "147741054fac9033"
  },
  {
   "cell_type": "code",
   "execution_count": 11,
   "outputs": [
    {
     "data": {
      "text/plain": "     1    2    3    4    5    6    7    8    9   10  ...      3965      3966  \\\n0  0.0  0.0  0.0  0.0  0.0  0.0  0.0  0.0  0.0  0.0  ... -0.833714 -0.605952   \n1  0.0  0.0  0.0  0.0  0.0  0.0  0.0  0.0  0.0  0.0  ... -0.880495 -0.602624   \n2  0.0  0.0  0.0  0.0  0.0  0.0  0.0  0.0  0.0  0.0  ...  1.104378  1.789966   \n3  0.0  0.0  0.0  0.0  0.0  0.0  0.0  0.0  0.0  0.0  ... -0.938972 -0.643031   \n4  0.0  0.0  0.0  0.0  0.0  0.0  0.0  0.0  0.0  0.0  ...  1.112732  0.601039   \n\n       3967      3968      3969      3970      3971      3972      3973  \\\n0 -0.471700 -0.768480 -0.178536 -0.298590 -0.238640 -0.277510 -0.230633   \n1 -0.471616 -0.798242 -0.277709 -0.280445 -0.279338 -0.246094 -1.153164   \n2  1.707972 -0.078629 -1.416062 -1.347984 -1.383415  0.492188  0.691898   \n3 -0.505083 -0.825677 -0.297732 -0.236059 -0.267225  0.028798 -0.691898   \n4  0.691527  1.360684  0.614598  0.524781  0.570340 -1.518452 -0.230633   \n\n        ddG  \n0 -0.672194  \n1 -1.146684  \n2  0.276786  \n3 -0.672194  \n4  1.463011  \n\n[5 rows x 3974 columns]",
      "text/html": "<div>\n<style scoped>\n    .dataframe tbody tr th:only-of-type {\n        vertical-align: middle;\n    }\n\n    .dataframe tbody tr th {\n        vertical-align: top;\n    }\n\n    .dataframe thead th {\n        text-align: right;\n    }\n</style>\n<table border=\"1\" class=\"dataframe\">\n  <thead>\n    <tr style=\"text-align: right;\">\n      <th></th>\n      <th>1</th>\n      <th>2</th>\n      <th>3</th>\n      <th>4</th>\n      <th>5</th>\n      <th>6</th>\n      <th>7</th>\n      <th>8</th>\n      <th>9</th>\n      <th>10</th>\n      <th>...</th>\n      <th>3965</th>\n      <th>3966</th>\n      <th>3967</th>\n      <th>3968</th>\n      <th>3969</th>\n      <th>3970</th>\n      <th>3971</th>\n      <th>3972</th>\n      <th>3973</th>\n      <th>ddG</th>\n    </tr>\n  </thead>\n  <tbody>\n    <tr>\n      <th>0</th>\n      <td>0.0</td>\n      <td>0.0</td>\n      <td>0.0</td>\n      <td>0.0</td>\n      <td>0.0</td>\n      <td>0.0</td>\n      <td>0.0</td>\n      <td>0.0</td>\n      <td>0.0</td>\n      <td>0.0</td>\n      <td>...</td>\n      <td>-0.833714</td>\n      <td>-0.605952</td>\n      <td>-0.471700</td>\n      <td>-0.768480</td>\n      <td>-0.178536</td>\n      <td>-0.298590</td>\n      <td>-0.238640</td>\n      <td>-0.277510</td>\n      <td>-0.230633</td>\n      <td>-0.672194</td>\n    </tr>\n    <tr>\n      <th>1</th>\n      <td>0.0</td>\n      <td>0.0</td>\n      <td>0.0</td>\n      <td>0.0</td>\n      <td>0.0</td>\n      <td>0.0</td>\n      <td>0.0</td>\n      <td>0.0</td>\n      <td>0.0</td>\n      <td>0.0</td>\n      <td>...</td>\n      <td>-0.880495</td>\n      <td>-0.602624</td>\n      <td>-0.471616</td>\n      <td>-0.798242</td>\n      <td>-0.277709</td>\n      <td>-0.280445</td>\n      <td>-0.279338</td>\n      <td>-0.246094</td>\n      <td>-1.153164</td>\n      <td>-1.146684</td>\n    </tr>\n    <tr>\n      <th>2</th>\n      <td>0.0</td>\n      <td>0.0</td>\n      <td>0.0</td>\n      <td>0.0</td>\n      <td>0.0</td>\n      <td>0.0</td>\n      <td>0.0</td>\n      <td>0.0</td>\n      <td>0.0</td>\n      <td>0.0</td>\n      <td>...</td>\n      <td>1.104378</td>\n      <td>1.789966</td>\n      <td>1.707972</td>\n      <td>-0.078629</td>\n      <td>-1.416062</td>\n      <td>-1.347984</td>\n      <td>-1.383415</td>\n      <td>0.492188</td>\n      <td>0.691898</td>\n      <td>0.276786</td>\n    </tr>\n    <tr>\n      <th>3</th>\n      <td>0.0</td>\n      <td>0.0</td>\n      <td>0.0</td>\n      <td>0.0</td>\n      <td>0.0</td>\n      <td>0.0</td>\n      <td>0.0</td>\n      <td>0.0</td>\n      <td>0.0</td>\n      <td>0.0</td>\n      <td>...</td>\n      <td>-0.938972</td>\n      <td>-0.643031</td>\n      <td>-0.505083</td>\n      <td>-0.825677</td>\n      <td>-0.297732</td>\n      <td>-0.236059</td>\n      <td>-0.267225</td>\n      <td>0.028798</td>\n      <td>-0.691898</td>\n      <td>-0.672194</td>\n    </tr>\n    <tr>\n      <th>4</th>\n      <td>0.0</td>\n      <td>0.0</td>\n      <td>0.0</td>\n      <td>0.0</td>\n      <td>0.0</td>\n      <td>0.0</td>\n      <td>0.0</td>\n      <td>0.0</td>\n      <td>0.0</td>\n      <td>0.0</td>\n      <td>...</td>\n      <td>1.112732</td>\n      <td>0.601039</td>\n      <td>0.691527</td>\n      <td>1.360684</td>\n      <td>0.614598</td>\n      <td>0.524781</td>\n      <td>0.570340</td>\n      <td>-1.518452</td>\n      <td>-0.230633</td>\n      <td>1.463011</td>\n    </tr>\n  </tbody>\n</table>\n<p>5 rows × 3974 columns</p>\n</div>"
     },
     "execution_count": 11,
     "metadata": {},
     "output_type": "execute_result"
    }
   ],
   "source": [
    "df_cleaned.head()"
   ],
   "metadata": {
    "collapsed": false,
    "ExecuteTime": {
     "end_time": "2024-05-11T22:19:11.384969700Z",
     "start_time": "2024-05-11T22:19:11.211287400Z"
    }
   },
   "id": "76e90585f9f40159"
  },
  {
   "cell_type": "markdown",
   "source": [
    "We first choose the best model using forward selection based on $C_p$. We define a function to compute it as its not built in as a metric to `sklearn`. By default, `sklearn` tries to maximize a score, hence\n",
    "  our scoring function  computes the negative $C_p$ statistic."
   ],
   "metadata": {
    "collapsed": false
   },
   "id": "84bfb74116b7f5ff"
  },
  {
   "cell_type": "code",
   "execution_count": 12,
   "outputs": [],
   "source": [
    "def nCp(sigma2, estimator, X, Y):\n",
    "    \"Negative Cp statistic\"\n",
    "    n, p = X.shape\n",
    "    Yhat = estimator.predict(X)\n",
    "    RSS = np.sum((Y - Yhat)**2)\n",
    "    return -(RSS + 2 * p * sigma2) / n \n"
   ],
   "metadata": {
    "collapsed": false,
    "ExecuteTime": {
     "end_time": "2024-05-11T22:19:30.370069100Z",
     "start_time": "2024-05-11T22:19:30.359070400Z"
    }
   },
   "id": "74a1c39f3bf6c2ba"
  },
  {
   "cell_type": "code",
   "execution_count": 13,
   "outputs": [],
   "source": [
    "design = MS(df_cleaned.columns.drop('ddG')).fit(df_cleaned)\n",
    "Y = np.array(df_cleaned['ddG'])\n",
    "X = design.transform(df_cleaned)\n",
    "sigma2 = OLS(Y,X).fit().scale"
   ],
   "metadata": {
    "collapsed": false,
    "ExecuteTime": {
     "end_time": "2024-05-11T22:19:59.770541Z",
     "start_time": "2024-05-11T22:19:30.372069300Z"
    }
   },
   "id": "5afbbb24e6d51af5"
  },
  {
   "cell_type": "code",
   "execution_count": 14,
   "outputs": [],
   "source": [
    "neg_Cp = partial(nCp, sigma2)"
   ],
   "metadata": {
    "collapsed": false,
    "ExecuteTime": {
     "end_time": "2024-05-11T22:19:59.812541200Z",
     "start_time": "2024-05-11T22:19:59.775545500Z"
    }
   },
   "id": "9b2d89f2a697aa0b"
  },
  {
   "cell_type": "markdown",
   "source": [
    "We can now use `neg_Cp()` as a scorer for model selection.\n",
    "\n",
    "Along with a score we need to specify the search strategy. This is done through the object\n",
    "`Stepwise()`  in the `ISLP.models` package. The method `Stepwise.first_peak()`\n",
    "runs forward stepwise until any further additions to the model do not result\n",
    "in an improvement in the evaluation score. Similarly, the method `Stepwise.fixed_steps()`\n",
    "runs a fixed number of steps of stepwise search."
   ],
   "metadata": {
    "collapsed": false
   },
   "id": "eb3361bb5c63658d"
  },
  {
   "cell_type": "code",
   "execution_count": 15,
   "outputs": [],
   "source": [
    "strategy = Stepwise.first_peak(design,\n",
    "                               direction='forward',\n",
    "                               max_terms=len(design.terms))\n"
   ],
   "metadata": {
    "collapsed": false,
    "ExecuteTime": {
     "end_time": "2024-05-11T22:19:59.823540600Z",
     "start_time": "2024-05-11T22:19:59.792539300Z"
    }
   },
   "id": "848afb1d0a46242"
  },
  {
   "cell_type": "markdown",
   "source": [
    "We now fit a linear regression model with `Salary` as outcome using forward\n",
    "selection. To do so, we use the function `sklearn_selected()`  from the `ISLP.models` package. This takes\n",
    "a model from `statsmodels` along with a search strategy and selects a model with its\n",
    "`fit` method. Without specifying a `scoring` argument, the score defaults to MSE, and so all 19 variables will be\n",
    "selected."
   ],
   "metadata": {
    "collapsed": false
   },
   "id": "a035dc5c859106bc"
  },
  {
   "cell_type": "code",
   "execution_count": 67,
   "outputs": [
    {
     "data": {
      "text/plain": "('3954', '3955', '3964', '3968', '3970')"
     },
     "execution_count": 67,
     "metadata": {},
     "output_type": "execute_result"
    }
   ],
   "source": [
    "hitters_MSE = sklearn_selected(OLS,\n",
    "                               strategy)\n",
    "hitters_MSE.fit(df_cleaned, Y)\n",
    "hitters_MSE.selected_state_\n"
   ],
   "metadata": {
    "collapsed": false,
    "ExecuteTime": {
     "end_time": "2024-05-09T01:28:19.905487200Z",
     "start_time": "2024-05-09T01:22:44.415589Z"
    }
   },
   "id": "5900a71c0efe73de"
  },
  {
   "cell_type": "markdown",
   "source": [
    "Using `neg_Cp` results in a smaller model, as expected, with just 10 variables selected."
   ],
   "metadata": {
    "collapsed": false
   },
   "id": "e390f0e142fca72f"
  },
  {
   "cell_type": "code",
   "execution_count": 68,
   "outputs": [
    {
     "data": {
      "text/plain": "('3316', '3955', '3957', '3964', '3968', '3970', '95')"
     },
     "execution_count": 68,
     "metadata": {},
     "output_type": "execute_result"
    }
   ],
   "source": [
    "hitters_Cp = sklearn_selected(OLS,\n",
    "                               strategy,\n",
    "                               scoring=neg_Cp)\n",
    "hitters_Cp.fit(df_cleaned, Y)\n",
    "hitters_Cp.selected_state_\n"
   ],
   "metadata": {
    "collapsed": false,
    "ExecuteTime": {
     "end_time": "2024-05-09T01:36:02.903497600Z",
     "start_time": "2024-05-09T01:28:19.912509700Z"
    }
   },
   "id": "48853b8ee33f2c63"
  },
  {
   "cell_type": "markdown",
   "source": [
    "### Choosing Among Models Using the Validation Set Approach and Cross-Validation\n",
    " \n",
    "As an  alternative to using $C_p$, we might try cross-validation to select a model in forward selection. For this, we need a\n",
    "method that stores the full path of models found in forward selection, and allows predictions for each of these. This can be done with the `sklearn_selection_path()` \n",
    "estimator from `ISLP.models`. The function `cross_val_predict()` from `ISLP.models`\n",
    "computes the cross-validated predictions for each of the models\n",
    "along the path, which we can use to evaluate the cross-validated MSE\n",
    "along the path."
   ],
   "metadata": {
    "collapsed": false
   },
   "id": "396a91f6d0ce6283"
  },
  {
   "cell_type": "markdown",
   "source": [
    "Here we define a strategy that fits the full forward selection path.\n",
    "While there are various parameter choices for `sklearn_selection_path()`,\n",
    "we use the defaults here, which selects the model at each step based on the biggest reduction  in RSS."
   ],
   "metadata": {
    "collapsed": false
   },
   "id": "8c04fa80aecb601c"
  },
  {
   "cell_type": "code",
   "execution_count": 16,
   "outputs": [],
   "source": [
    "strategy = Stepwise.fixed_steps(design,\n",
    "                                len(design.terms),\n",
    "                                direction='forward')\n",
    "full_path = sklearn_selection_path(OLS, strategy)\n"
   ],
   "metadata": {
    "collapsed": false,
    "ExecuteTime": {
     "end_time": "2024-05-11T22:21:36.057900Z",
     "start_time": "2024-05-11T22:21:35.989656Z"
    }
   },
   "id": "d46736d875a82b97"
  },
  {
   "cell_type": "markdown",
   "source": [
    "We now fit the full forward-selection path on the `Hitters` data and compute the fitted values."
   ],
   "metadata": {
    "collapsed": false
   },
   "id": "a6b8900c4846c63a"
  },
  {
   "cell_type": "code",
   "execution_count": null,
   "outputs": [],
   "source": [
    "full_path.fit(df_cleaned, Y)\n",
    "Yhat_in = full_path.predict(df_cleaned)\n",
    "Yhat_in.shape\n"
   ],
   "metadata": {
    "collapsed": false,
    "is_executing": true,
    "ExecuteTime": {
     "start_time": "2024-05-11T22:21:50.503839900Z"
    }
   },
   "id": "7c647f43e4dbeb2"
  },
  {
   "cell_type": "markdown",
   "source": [
    "This gives us an array of fitted values --- 20 steps in all, including the fitted mean for the null model --- which we can use to evaluate\n",
    "in-sample MSE. As expected, the in-sample MSE improves each step we take,\n",
    "indicating we must use either the validation or cross-validation\n",
    "approach to select the number of steps. We fix the y-axis to range from\n",
    "50,000 to 250,000 to compare to the cross-validation and validation\n",
    "set MSE below, as well as other methods such as ridge regression, lasso and\n",
    "principal components regression."
   ],
   "metadata": {
    "collapsed": false
   },
   "id": "e3625bf7533d0931"
  },
  {
   "cell_type": "code",
   "execution_count": null,
   "outputs": [],
   "source": [
    "mse_fig, ax = subplots(figsize=(8,8))\n",
    "insample_mse = ((Yhat_in - Y[:,None])**2).mean(0)\n",
    "n_steps = insample_mse.shape[0]\n",
    "ax.plot(np.arange(n_steps),\n",
    "        insample_mse,\n",
    "        'k', # color black\n",
    "        label='In-sample')\n",
    "ax.set_ylabel('MSE',\n",
    "              fontsize=20)\n",
    "ax.set_xlabel('# steps of forward stepwise',\n",
    "              fontsize=20)\n",
    "ax.set_xticks(np.arange(n_steps)[::2])\n",
    "ax.legend()\n",
    "ax.set_ylim([50000,250000]);\n"
   ],
   "metadata": {
    "collapsed": false
   },
   "id": "e5a18c9def68fda5"
  },
  {
   "cell_type": "markdown",
   "source": [],
   "metadata": {
    "collapsed": false
   },
   "id": "46075c3ab1922f4e"
  },
  {
   "cell_type": "markdown",
   "source": [],
   "metadata": {
    "collapsed": false
   },
   "id": "b3ab339299dafe36"
  },
  {
   "cell_type": "markdown",
   "source": [],
   "metadata": {
    "collapsed": false
   },
   "id": "891df68afae4ad07"
  }
 ],
 "metadata": {
  "kernelspec": {
   "display_name": "Python 3",
   "language": "python",
   "name": "python3"
  },
  "language_info": {
   "codemirror_mode": {
    "name": "ipython",
    "version": 2
   },
   "file_extension": ".py",
   "mimetype": "text/x-python",
   "name": "python",
   "nbconvert_exporter": "python",
   "pygments_lexer": "ipython2",
   "version": "2.7.6"
  }
 },
 "nbformat": 4,
 "nbformat_minor": 5
}
