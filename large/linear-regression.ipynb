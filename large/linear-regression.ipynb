{
 "cells": [
  {
   "cell_type": "code",
   "execution_count": 1,
   "outputs": [],
   "source": [
    "# importing modules and packages\n",
    "import pandas as pd\n",
    "import numpy as np\n",
    "from sklearn.model_selection import train_test_split\n",
    "from sklearn.linear_model import LinearRegression\n",
    "from sklearn.metrics import mean_squared_error, mean_absolute_error\n",
    "from sklearn import preprocessing"
   ],
   "metadata": {
    "collapsed": false,
    "ExecuteTime": {
     "end_time": "2024-05-04T20:50:12.055045400Z",
     "start_time": "2024-05-04T20:50:05.139687200Z"
    }
   },
   "id": "21adb13e725cc38d"
  },
  {
   "cell_type": "code",
   "execution_count": 5,
   "outputs": [],
   "source": [
    "# Import the dataset from the csv file.\n",
    "import pandas as pd\n",
    "df = pd.read_csv('../data/large_cat_desc.csv', header=None)"
   ],
   "metadata": {
    "collapsed": false,
    "ExecuteTime": {
     "end_time": "2024-05-04T20:51:23.443475Z",
     "start_time": "2024-05-04T20:51:22.113565400Z"
    }
   },
   "id": "4673c4f52ebdb7bb"
  },
  {
   "cell_type": "code",
   "execution_count": 8,
   "outputs": [
    {
     "data": {
      "text/plain": "       0    1    2    3    4    5    6    7    8    9  ...      3965  \\\n0  1_1_1  0.0  0.0  0.0  0.0  0.0  0.0  0.0  0.0  0.0  ... -0.833714   \n1  1_1_2  0.0  0.0  0.0  0.0  0.0  0.0  0.0  0.0  0.0  ... -0.880495   \n2  1_1_3  0.0  0.0  0.0  0.0  0.0  0.0  0.0  0.0  0.0  ...  1.104378   \n3  1_1_4  0.0  0.0  0.0  0.0  0.0  0.0  0.0  0.0  0.0  ... -0.938972   \n4  1_1_5  0.0  0.0  0.0  0.0  0.0  0.0  0.0  0.0  0.0  ...  1.112732   \n\n       3966      3967      3968      3969      3970      3971      3972  \\\n0 -0.605952 -0.471700 -0.768480 -0.178536 -0.298590 -0.238640 -0.277510   \n1 -0.602624 -0.471616 -0.798242 -0.277709 -0.280445 -0.279338 -0.246094   \n2  1.789966  1.707972 -0.078629 -1.416062 -1.347984 -1.383415  0.492188   \n3 -0.643031 -0.505083 -0.825677 -0.297732 -0.236059 -0.267225  0.028798   \n4  0.601039  0.691527  1.360684  0.614598  0.524781  0.570340 -1.518452   \n\n       3973  ddG (% ee)  \n0 -0.230633   -0.672194  \n1 -1.153164   -1.146684  \n2  0.691898    0.276786  \n3 -0.691898   -0.672194  \n4 -0.230633    1.463011  \n\n[5 rows x 3975 columns]",
      "text/html": "<div>\n<style scoped>\n    .dataframe tbody tr th:only-of-type {\n        vertical-align: middle;\n    }\n\n    .dataframe tbody tr th {\n        vertical-align: top;\n    }\n\n    .dataframe thead th {\n        text-align: right;\n    }\n</style>\n<table border=\"1\" class=\"dataframe\">\n  <thead>\n    <tr style=\"text-align: right;\">\n      <th></th>\n      <th>0</th>\n      <th>1</th>\n      <th>2</th>\n      <th>3</th>\n      <th>4</th>\n      <th>5</th>\n      <th>6</th>\n      <th>7</th>\n      <th>8</th>\n      <th>9</th>\n      <th>...</th>\n      <th>3965</th>\n      <th>3966</th>\n      <th>3967</th>\n      <th>3968</th>\n      <th>3969</th>\n      <th>3970</th>\n      <th>3971</th>\n      <th>3972</th>\n      <th>3973</th>\n      <th>ddG (% ee)</th>\n    </tr>\n  </thead>\n  <tbody>\n    <tr>\n      <th>0</th>\n      <td>1_1_1</td>\n      <td>0.0</td>\n      <td>0.0</td>\n      <td>0.0</td>\n      <td>0.0</td>\n      <td>0.0</td>\n      <td>0.0</td>\n      <td>0.0</td>\n      <td>0.0</td>\n      <td>0.0</td>\n      <td>...</td>\n      <td>-0.833714</td>\n      <td>-0.605952</td>\n      <td>-0.471700</td>\n      <td>-0.768480</td>\n      <td>-0.178536</td>\n      <td>-0.298590</td>\n      <td>-0.238640</td>\n      <td>-0.277510</td>\n      <td>-0.230633</td>\n      <td>-0.672194</td>\n    </tr>\n    <tr>\n      <th>1</th>\n      <td>1_1_2</td>\n      <td>0.0</td>\n      <td>0.0</td>\n      <td>0.0</td>\n      <td>0.0</td>\n      <td>0.0</td>\n      <td>0.0</td>\n      <td>0.0</td>\n      <td>0.0</td>\n      <td>0.0</td>\n      <td>...</td>\n      <td>-0.880495</td>\n      <td>-0.602624</td>\n      <td>-0.471616</td>\n      <td>-0.798242</td>\n      <td>-0.277709</td>\n      <td>-0.280445</td>\n      <td>-0.279338</td>\n      <td>-0.246094</td>\n      <td>-1.153164</td>\n      <td>-1.146684</td>\n    </tr>\n    <tr>\n      <th>2</th>\n      <td>1_1_3</td>\n      <td>0.0</td>\n      <td>0.0</td>\n      <td>0.0</td>\n      <td>0.0</td>\n      <td>0.0</td>\n      <td>0.0</td>\n      <td>0.0</td>\n      <td>0.0</td>\n      <td>0.0</td>\n      <td>...</td>\n      <td>1.104378</td>\n      <td>1.789966</td>\n      <td>1.707972</td>\n      <td>-0.078629</td>\n      <td>-1.416062</td>\n      <td>-1.347984</td>\n      <td>-1.383415</td>\n      <td>0.492188</td>\n      <td>0.691898</td>\n      <td>0.276786</td>\n    </tr>\n    <tr>\n      <th>3</th>\n      <td>1_1_4</td>\n      <td>0.0</td>\n      <td>0.0</td>\n      <td>0.0</td>\n      <td>0.0</td>\n      <td>0.0</td>\n      <td>0.0</td>\n      <td>0.0</td>\n      <td>0.0</td>\n      <td>0.0</td>\n      <td>...</td>\n      <td>-0.938972</td>\n      <td>-0.643031</td>\n      <td>-0.505083</td>\n      <td>-0.825677</td>\n      <td>-0.297732</td>\n      <td>-0.236059</td>\n      <td>-0.267225</td>\n      <td>0.028798</td>\n      <td>-0.691898</td>\n      <td>-0.672194</td>\n    </tr>\n    <tr>\n      <th>4</th>\n      <td>1_1_5</td>\n      <td>0.0</td>\n      <td>0.0</td>\n      <td>0.0</td>\n      <td>0.0</td>\n      <td>0.0</td>\n      <td>0.0</td>\n      <td>0.0</td>\n      <td>0.0</td>\n      <td>0.0</td>\n      <td>...</td>\n      <td>1.112732</td>\n      <td>0.601039</td>\n      <td>0.691527</td>\n      <td>1.360684</td>\n      <td>0.614598</td>\n      <td>0.524781</td>\n      <td>0.570340</td>\n      <td>-1.518452</td>\n      <td>-0.230633</td>\n      <td>1.463011</td>\n    </tr>\n  </tbody>\n</table>\n<p>5 rows × 3975 columns</p>\n</div>"
     },
     "execution_count": 8,
     "metadata": {},
     "output_type": "execute_result"
    }
   ],
   "source": [
    "df.columns = [*df.columns[:-1], 'ddG (% ee)']\n",
    "df.head()"
   ],
   "metadata": {
    "collapsed": false,
    "ExecuteTime": {
     "end_time": "2024-05-04T20:56:00.291509100Z",
     "start_time": "2024-05-04T20:56:00.235509200Z"
    }
   },
   "id": "2010a5e21a9fc812"
  },
  {
   "cell_type": "code",
   "execution_count": 11,
   "outputs": [
    {
     "data": {
      "text/plain": "(1903, 3975)"
     },
     "execution_count": 11,
     "metadata": {},
     "output_type": "execute_result"
    }
   ],
   "source": [
    "df.shape\n",
    "# This is a problem as our n << p\n",
    "# And if p > n, then there is no longer a unique least squares coefficient estimate. \n",
    "# Leat squares will not be a "
   ],
   "metadata": {
    "collapsed": false,
    "ExecuteTime": {
     "end_time": "2024-05-05T21:02:26.303075200Z",
     "start_time": "2024-05-05T21:02:26.230920500Z"
    }
   },
   "id": "33f7e47e361a2897"
  },
  {
   "cell_type": "code",
   "execution_count": 9,
   "outputs": [
    {
     "data": {
      "text/plain": "          0    1    2    3    4    5    6    7    8    9  ...      3965  \\\n0     1_1_1  0.0  0.0  0.0  0.0  0.0  0.0  0.0  0.0  0.0  ... -0.833714   \n1     1_1_2  0.0  0.0  0.0  0.0  0.0  0.0  0.0  0.0  0.0  ... -0.880495   \n2     1_1_3  0.0  0.0  0.0  0.0  0.0  0.0  0.0  0.0  0.0  ...  1.104378   \n3     1_1_4  0.0  0.0  0.0  0.0  0.0  0.0  0.0  0.0  0.0  ... -0.938972   \n4     1_1_5  0.0  0.0  0.0  0.0  0.0  0.0  0.0  0.0  0.0  ...  1.112732   \n...     ...  ...  ...  ...  ...  ...  ...  ...  ...  ...  ...       ...   \n1898  9_9_2  0.0  0.0  0.0  0.0  0.0  0.0  0.0  0.0  0.0  ... -0.880495   \n1899  9_9_3  0.0  0.0  0.0  0.0  0.0  0.0  0.0  0.0  0.0  ...  1.104378   \n1900  9_9_4  0.0  0.0  0.0  0.0  0.0  0.0  0.0  0.0  0.0  ... -0.938972   \n1901  9_9_5  0.0  0.0  0.0  0.0  0.0  0.0  0.0  0.0  0.0  ...  1.112732   \n1902  9_9_6  0.0  0.0  0.0  0.0  0.0  0.0  0.0  0.0  0.0  ...  0.436071   \n\n          3966      3967      3968      3969      3970      3971      3972  \\\n0    -0.605952 -0.471700 -0.768480 -0.178536 -0.298590 -0.238640 -0.277510   \n1    -0.602624 -0.471616 -0.798242 -0.277709 -0.280445 -0.279338 -0.246094   \n2     1.789966  1.707972 -0.078629 -1.416062 -1.347984 -1.383415  0.492188   \n3    -0.643031 -0.505083 -0.825677 -0.297732 -0.236059 -0.267225  0.028798   \n4     0.601039  0.691527  1.360684  0.614598  0.524781  0.570340 -1.518452   \n...        ...       ...       ...       ...       ...       ...       ...   \n1898 -0.602624 -0.471616 -0.798242 -0.277709 -0.280445 -0.279338 -0.246094   \n1899  1.789966  1.707972 -0.078629 -1.416062 -1.347984 -1.383415  0.492188   \n1900 -0.643031 -0.505083 -0.825677 -0.297732 -0.236059 -0.267225  0.028798   \n1901  0.601039  0.691527  1.360684  0.614598  0.524781  0.570340 -1.518452   \n1902 -0.539398 -0.951100  1.110344  1.555441  1.638297  1.598277  1.521070   \n\n          3973  ddG (% ee)  \n0    -0.230633   -0.672194  \n1    -1.153164   -1.146684  \n2     0.691898    0.276786  \n3    -0.691898   -0.672194  \n4    -0.230633    1.463011  \n...        ...         ...  \n1898 -1.153164   -1.146684  \n1899  0.691898    0.276786  \n1900 -0.691898   -0.672194  \n1901 -0.230633    1.463011  \n1902  1.614430    0.751276  \n\n[1903 rows x 3975 columns]",
      "text/html": "<div>\n<style scoped>\n    .dataframe tbody tr th:only-of-type {\n        vertical-align: middle;\n    }\n\n    .dataframe tbody tr th {\n        vertical-align: top;\n    }\n\n    .dataframe thead th {\n        text-align: right;\n    }\n</style>\n<table border=\"1\" class=\"dataframe\">\n  <thead>\n    <tr style=\"text-align: right;\">\n      <th></th>\n      <th>0</th>\n      <th>1</th>\n      <th>2</th>\n      <th>3</th>\n      <th>4</th>\n      <th>5</th>\n      <th>6</th>\n      <th>7</th>\n      <th>8</th>\n      <th>9</th>\n      <th>...</th>\n      <th>3965</th>\n      <th>3966</th>\n      <th>3967</th>\n      <th>3968</th>\n      <th>3969</th>\n      <th>3970</th>\n      <th>3971</th>\n      <th>3972</th>\n      <th>3973</th>\n      <th>ddG (% ee)</th>\n    </tr>\n  </thead>\n  <tbody>\n    <tr>\n      <th>0</th>\n      <td>1_1_1</td>\n      <td>0.0</td>\n      <td>0.0</td>\n      <td>0.0</td>\n      <td>0.0</td>\n      <td>0.0</td>\n      <td>0.0</td>\n      <td>0.0</td>\n      <td>0.0</td>\n      <td>0.0</td>\n      <td>...</td>\n      <td>-0.833714</td>\n      <td>-0.605952</td>\n      <td>-0.471700</td>\n      <td>-0.768480</td>\n      <td>-0.178536</td>\n      <td>-0.298590</td>\n      <td>-0.238640</td>\n      <td>-0.277510</td>\n      <td>-0.230633</td>\n      <td>-0.672194</td>\n    </tr>\n    <tr>\n      <th>1</th>\n      <td>1_1_2</td>\n      <td>0.0</td>\n      <td>0.0</td>\n      <td>0.0</td>\n      <td>0.0</td>\n      <td>0.0</td>\n      <td>0.0</td>\n      <td>0.0</td>\n      <td>0.0</td>\n      <td>0.0</td>\n      <td>...</td>\n      <td>-0.880495</td>\n      <td>-0.602624</td>\n      <td>-0.471616</td>\n      <td>-0.798242</td>\n      <td>-0.277709</td>\n      <td>-0.280445</td>\n      <td>-0.279338</td>\n      <td>-0.246094</td>\n      <td>-1.153164</td>\n      <td>-1.146684</td>\n    </tr>\n    <tr>\n      <th>2</th>\n      <td>1_1_3</td>\n      <td>0.0</td>\n      <td>0.0</td>\n      <td>0.0</td>\n      <td>0.0</td>\n      <td>0.0</td>\n      <td>0.0</td>\n      <td>0.0</td>\n      <td>0.0</td>\n      <td>0.0</td>\n      <td>...</td>\n      <td>1.104378</td>\n      <td>1.789966</td>\n      <td>1.707972</td>\n      <td>-0.078629</td>\n      <td>-1.416062</td>\n      <td>-1.347984</td>\n      <td>-1.383415</td>\n      <td>0.492188</td>\n      <td>0.691898</td>\n      <td>0.276786</td>\n    </tr>\n    <tr>\n      <th>3</th>\n      <td>1_1_4</td>\n      <td>0.0</td>\n      <td>0.0</td>\n      <td>0.0</td>\n      <td>0.0</td>\n      <td>0.0</td>\n      <td>0.0</td>\n      <td>0.0</td>\n      <td>0.0</td>\n      <td>0.0</td>\n      <td>...</td>\n      <td>-0.938972</td>\n      <td>-0.643031</td>\n      <td>-0.505083</td>\n      <td>-0.825677</td>\n      <td>-0.297732</td>\n      <td>-0.236059</td>\n      <td>-0.267225</td>\n      <td>0.028798</td>\n      <td>-0.691898</td>\n      <td>-0.672194</td>\n    </tr>\n    <tr>\n      <th>4</th>\n      <td>1_1_5</td>\n      <td>0.0</td>\n      <td>0.0</td>\n      <td>0.0</td>\n      <td>0.0</td>\n      <td>0.0</td>\n      <td>0.0</td>\n      <td>0.0</td>\n      <td>0.0</td>\n      <td>0.0</td>\n      <td>...</td>\n      <td>1.112732</td>\n      <td>0.601039</td>\n      <td>0.691527</td>\n      <td>1.360684</td>\n      <td>0.614598</td>\n      <td>0.524781</td>\n      <td>0.570340</td>\n      <td>-1.518452</td>\n      <td>-0.230633</td>\n      <td>1.463011</td>\n    </tr>\n    <tr>\n      <th>...</th>\n      <td>...</td>\n      <td>...</td>\n      <td>...</td>\n      <td>...</td>\n      <td>...</td>\n      <td>...</td>\n      <td>...</td>\n      <td>...</td>\n      <td>...</td>\n      <td>...</td>\n      <td>...</td>\n      <td>...</td>\n      <td>...</td>\n      <td>...</td>\n      <td>...</td>\n      <td>...</td>\n      <td>...</td>\n      <td>...</td>\n      <td>...</td>\n      <td>...</td>\n      <td>...</td>\n    </tr>\n    <tr>\n      <th>1898</th>\n      <td>9_9_2</td>\n      <td>0.0</td>\n      <td>0.0</td>\n      <td>0.0</td>\n      <td>0.0</td>\n      <td>0.0</td>\n      <td>0.0</td>\n      <td>0.0</td>\n      <td>0.0</td>\n      <td>0.0</td>\n      <td>...</td>\n      <td>-0.880495</td>\n      <td>-0.602624</td>\n      <td>-0.471616</td>\n      <td>-0.798242</td>\n      <td>-0.277709</td>\n      <td>-0.280445</td>\n      <td>-0.279338</td>\n      <td>-0.246094</td>\n      <td>-1.153164</td>\n      <td>-1.146684</td>\n    </tr>\n    <tr>\n      <th>1899</th>\n      <td>9_9_3</td>\n      <td>0.0</td>\n      <td>0.0</td>\n      <td>0.0</td>\n      <td>0.0</td>\n      <td>0.0</td>\n      <td>0.0</td>\n      <td>0.0</td>\n      <td>0.0</td>\n      <td>0.0</td>\n      <td>...</td>\n      <td>1.104378</td>\n      <td>1.789966</td>\n      <td>1.707972</td>\n      <td>-0.078629</td>\n      <td>-1.416062</td>\n      <td>-1.347984</td>\n      <td>-1.383415</td>\n      <td>0.492188</td>\n      <td>0.691898</td>\n      <td>0.276786</td>\n    </tr>\n    <tr>\n      <th>1900</th>\n      <td>9_9_4</td>\n      <td>0.0</td>\n      <td>0.0</td>\n      <td>0.0</td>\n      <td>0.0</td>\n      <td>0.0</td>\n      <td>0.0</td>\n      <td>0.0</td>\n      <td>0.0</td>\n      <td>0.0</td>\n      <td>...</td>\n      <td>-0.938972</td>\n      <td>-0.643031</td>\n      <td>-0.505083</td>\n      <td>-0.825677</td>\n      <td>-0.297732</td>\n      <td>-0.236059</td>\n      <td>-0.267225</td>\n      <td>0.028798</td>\n      <td>-0.691898</td>\n      <td>-0.672194</td>\n    </tr>\n    <tr>\n      <th>1901</th>\n      <td>9_9_5</td>\n      <td>0.0</td>\n      <td>0.0</td>\n      <td>0.0</td>\n      <td>0.0</td>\n      <td>0.0</td>\n      <td>0.0</td>\n      <td>0.0</td>\n      <td>0.0</td>\n      <td>0.0</td>\n      <td>...</td>\n      <td>1.112732</td>\n      <td>0.601039</td>\n      <td>0.691527</td>\n      <td>1.360684</td>\n      <td>0.614598</td>\n      <td>0.524781</td>\n      <td>0.570340</td>\n      <td>-1.518452</td>\n      <td>-0.230633</td>\n      <td>1.463011</td>\n    </tr>\n    <tr>\n      <th>1902</th>\n      <td>9_9_6</td>\n      <td>0.0</td>\n      <td>0.0</td>\n      <td>0.0</td>\n      <td>0.0</td>\n      <td>0.0</td>\n      <td>0.0</td>\n      <td>0.0</td>\n      <td>0.0</td>\n      <td>0.0</td>\n      <td>...</td>\n      <td>0.436071</td>\n      <td>-0.539398</td>\n      <td>-0.951100</td>\n      <td>1.110344</td>\n      <td>1.555441</td>\n      <td>1.638297</td>\n      <td>1.598277</td>\n      <td>1.521070</td>\n      <td>1.614430</td>\n      <td>0.751276</td>\n    </tr>\n  </tbody>\n</table>\n<p>1903 rows × 3975 columns</p>\n</div>"
     },
     "execution_count": 9,
     "metadata": {},
     "output_type": "execute_result"
    }
   ],
   "source": [
    "# We have lot of rows that have Enantiomeric Excess == 0. These ones we will exclude from the dataset.\n",
    "df_cleaned = df[df['ddG (% ee)'] != 0]\n",
    "df_cleaned"
   ],
   "metadata": {
    "collapsed": false,
    "ExecuteTime": {
     "end_time": "2024-05-04T20:56:02.441706500Z",
     "start_time": "2024-05-04T20:56:02.130313100Z"
    }
   },
   "id": "690c7af7b390d264"
  },
  {
   "cell_type": "code",
   "execution_count": 4,
   "outputs": [],
   "source": [
    "# Lets separate out the x and y \n",
    "X = df_cleaned[['x','y','z']]\n",
    "y = df_cleaned['ddG (% ee)']"
   ],
   "metadata": {
    "collapsed": false,
    "ExecuteTime": {
     "end_time": "2023-09-04T20:10:59.232607700Z",
     "start_time": "2023-09-04T20:10:59.107616300Z"
    }
   },
   "id": "fc921754515c9513"
  },
  {
   "cell_type": "code",
   "execution_count": 5,
   "outputs": [],
   "source": [
    "X_train, X_test, y_train, y_test = train_test_split(\n",
    "    X, y, test_size=0.3, random_state=101)"
   ],
   "metadata": {
    "collapsed": false,
    "ExecuteTime": {
     "end_time": "2023-09-04T20:10:59.341987700Z",
     "start_time": "2023-09-04T20:10:59.170111300Z"
    }
   },
   "id": "3ba5a34b2d5f1c9c"
  },
  {
   "cell_type": "code",
   "execution_count": 6,
   "outputs": [
    {
     "name": "stdout",
     "output_type": "stream",
     "text": [
      "mean_squared_error :  0.10686574075223941\n",
      "mean_absolute_error :  0.275571383948475\n"
     ]
    }
   ],
   "source": [
    "# with sklearn\n",
    "# creating a regression model\n",
    "model = LinearRegression()\n",
    "  \n",
    "# fitting the model\n",
    "model.fit(X_train, y_train)\n",
    "  \n",
    "# making predictions\n",
    "predictions = model.predict(X_test)\n",
    "\n",
    "# model evaluation\n",
    "print('mean_squared_error : ', mean_squared_error(y_test, predictions))\n",
    "print('mean_absolute_error : ', mean_absolute_error(y_test, predictions))"
   ],
   "metadata": {
    "collapsed": false,
    "ExecuteTime": {
     "end_time": "2023-09-04T20:10:59.341987700Z",
     "start_time": "2023-09-04T20:10:59.201351300Z"
    }
   },
   "id": "b20b90c0aea021b"
  },
  {
   "cell_type": "code",
   "execution_count": 7,
   "outputs": [
    {
     "name": "stdout",
     "output_type": "stream",
     "text": [
      "Intercept: \n",
      " 0.4323468984662589\n",
      "Coefficients: \n",
      " [-0.00122995 -0.00340784 -0.00199706]\n"
     ]
    }
   ],
   "source": [
    "print('Intercept: \\n', model.intercept_)\n",
    "print('Coefficients: \\n', model.coef_)"
   ],
   "metadata": {
    "collapsed": false,
    "ExecuteTime": {
     "end_time": "2023-09-04T20:10:59.529477500Z",
     "start_time": "2023-09-04T20:10:59.279487Z"
    }
   },
   "id": "a7e52cab5f686c1d"
  },
  {
   "cell_type": "code",
   "execution_count": 8,
   "outputs": [
    {
     "name": "stderr",
     "output_type": "stream",
     "text": [
      "C:\\Users\\dalje\\PycharmProjects\\ee-predict\\venv\\lib\\site-packages\\sklearn\\base.py:464: UserWarning: X does not have valid feature names, but LinearRegression was fitted with feature names\n",
      "  warnings.warn(\n"
     ]
    },
    {
     "data": {
      "text/plain": "array([0.29092283])"
     },
     "execution_count": 8,
     "metadata": {},
     "output_type": "execute_result"
    }
   ],
   "source": [
    "sample_predict = np.array([-48.68710019,27.57547822,53.74597739])\n",
    "model.predict(sample_predict.reshape(1, -1))"
   ],
   "metadata": {
    "collapsed": false,
    "ExecuteTime": {
     "end_time": "2023-09-04T20:10:59.685738900Z",
     "start_time": "2023-09-04T20:10:59.326358800Z"
    }
   },
   "id": "6d8d569129c2ce43"
  },
  {
   "cell_type": "code",
   "execution_count": 9,
   "outputs": [
    {
     "data": {
      "text/plain": "0.2909228380412312"
     },
     "execution_count": 9,
     "metadata": {},
     "output_type": "execute_result"
    }
   ],
   "source": [
    "coef =  [-0.00122995, -0.00340784, -0.00199706]\n",
    "intercept = 0.4323468984662589\n",
    "np.dot(sample_predict, coef) + model.intercept_"
   ],
   "metadata": {
    "collapsed": false,
    "ExecuteTime": {
     "end_time": "2023-09-04T20:10:59.987368900Z",
     "start_time": "2023-09-04T20:10:59.373227800Z"
    }
   },
   "id": "251631daa8086c01"
  },
  {
   "cell_type": "code",
   "execution_count": 10,
   "outputs": [
    {
     "name": "stdout",
     "output_type": "stream",
     "text": [
      "mean_squared_error :  0.1063480698362802\n",
      "mean_absolute_error :  0.27497913508936606\n"
     ]
    }
   ],
   "source": [
    "from sklearn.cross_decomposition import PLSRegression\n",
    "model = PLSRegression(n_components=2)\n",
    "# fitting the model\n",
    "model.fit(X_train, y_train)\n",
    "  \n",
    "# making predictions\n",
    "predictions = model.predict(X_test)\n",
    "\n",
    "# model evaluation\n",
    "print('mean_squared_error : ', mean_squared_error(y_test, predictions))\n",
    "print('mean_absolute_error : ', mean_absolute_error(y_test, predictions))"
   ],
   "metadata": {
    "collapsed": false,
    "ExecuteTime": {
     "end_time": "2023-09-04T20:11:00.111789100Z",
     "start_time": "2023-09-04T20:10:59.420107300Z"
    }
   },
   "id": "9e0ad3c3ab4e9a95"
  },
  {
   "cell_type": "code",
   "execution_count": 11,
   "outputs": [
    {
     "data": {
      "text/plain": "array([[0.55539496]])"
     },
     "execution_count": 11,
     "metadata": {},
     "output_type": "execute_result"
    }
   ],
   "source": [
    "from joblib import dump, load\n",
    "dump(model, 'pls.joblib') \n",
    "clf2 = load('pls.joblib') \n",
    "clf2.predict(X[0:1])"
   ],
   "metadata": {
    "collapsed": false,
    "ExecuteTime": {
     "end_time": "2023-09-04T20:18:33.427560100Z",
     "start_time": "2023-09-04T20:18:33.208820300Z"
    }
   },
   "id": "f39e8df7a48a04d9"
  },
  {
   "cell_type": "code",
   "execution_count": null,
   "outputs": [],
   "source": [],
   "metadata": {
    "collapsed": false
   },
   "id": "677055bdd471a51c"
  }
 ],
 "metadata": {
  "kernelspec": {
   "display_name": "Python 3",
   "language": "python",
   "name": "python3"
  },
  "language_info": {
   "codemirror_mode": {
    "name": "ipython",
    "version": 2
   },
   "file_extension": ".py",
   "mimetype": "text/x-python",
   "name": "python",
   "nbconvert_exporter": "python",
   "pygments_lexer": "ipython2",
   "version": "2.7.6"
  }
 },
 "nbformat": 4,
 "nbformat_minor": 5
}
