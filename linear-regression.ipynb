{
 "cells": [
  {
   "cell_type": "code",
   "execution_count": 1,
   "outputs": [],
   "source": [
    "# importing modules and packages\n",
    "import pandas as pd\n",
    "import numpy as np\n",
    "from sklearn.model_selection import train_test_split\n",
    "from sklearn.linear_model import LinearRegression\n",
    "from sklearn.metrics import mean_squared_error, mean_absolute_error\n",
    "from sklearn import preprocessing"
   ],
   "metadata": {
    "collapsed": false,
    "ExecuteTime": {
     "end_time": "2023-09-04T20:10:58.935766600Z",
     "start_time": "2023-09-04T20:10:52.645225500Z"
    }
   },
   "id": "21adb13e725cc38d"
  },
  {
   "cell_type": "code",
   "execution_count": 2,
   "outputs": [],
   "source": [
    "# Import the dataset from the csv file.\n",
    "import pandas as pd\n",
    "df = pd.read_csv('reduced_dim_space_ddG.csv')"
   ],
   "metadata": {
    "collapsed": false,
    "ExecuteTime": {
     "end_time": "2023-09-04T20:10:59.013858900Z",
     "start_time": "2023-09-04T20:10:58.951351800Z"
    }
   },
   "id": "4673c4f52ebdb7bb"
  },
  {
   "cell_type": "code",
   "execution_count": 3,
   "outputs": [
    {
     "data": {
      "text/plain": "     Catalyst          x          y          z  ddG (% ee)\n0       1_1_1   5.100125 -27.742489 -17.922393    1.226289\n1       1_1_2   5.153813 -27.571266 -17.950507    0.719002\n10     1_11_1  24.913739  -0.494436  -8.842801    0.631877\n16      1_2_1  12.039033 -10.467777  -6.094131    0.216792\n17      1_2_2  11.859191 -10.604692  -6.049362    0.111677\n...       ...        ...        ...        ...         ...\n1810    9_3_4  36.077375  -7.875347 -14.939623    0.128432\n1813    9_4_1  25.574518 -17.376362   4.663637    0.912247\n1831    9_7_1  22.777582 -19.792283   2.750864    0.056902\n1834    9_7_4  22.721846 -19.736566   2.713267    0.408758\n1843    9_9_1  25.400782 -23.623595   6.083554    0.476662\n\n[318 rows x 5 columns]",
      "text/html": "<div>\n<style scoped>\n    .dataframe tbody tr th:only-of-type {\n        vertical-align: middle;\n    }\n\n    .dataframe tbody tr th {\n        vertical-align: top;\n    }\n\n    .dataframe thead th {\n        text-align: right;\n    }\n</style>\n<table border=\"1\" class=\"dataframe\">\n  <thead>\n    <tr style=\"text-align: right;\">\n      <th></th>\n      <th>Catalyst</th>\n      <th>x</th>\n      <th>y</th>\n      <th>z</th>\n      <th>ddG (% ee)</th>\n    </tr>\n  </thead>\n  <tbody>\n    <tr>\n      <th>0</th>\n      <td>1_1_1</td>\n      <td>5.100125</td>\n      <td>-27.742489</td>\n      <td>-17.922393</td>\n      <td>1.226289</td>\n    </tr>\n    <tr>\n      <th>1</th>\n      <td>1_1_2</td>\n      <td>5.153813</td>\n      <td>-27.571266</td>\n      <td>-17.950507</td>\n      <td>0.719002</td>\n    </tr>\n    <tr>\n      <th>10</th>\n      <td>1_11_1</td>\n      <td>24.913739</td>\n      <td>-0.494436</td>\n      <td>-8.842801</td>\n      <td>0.631877</td>\n    </tr>\n    <tr>\n      <th>16</th>\n      <td>1_2_1</td>\n      <td>12.039033</td>\n      <td>-10.467777</td>\n      <td>-6.094131</td>\n      <td>0.216792</td>\n    </tr>\n    <tr>\n      <th>17</th>\n      <td>1_2_2</td>\n      <td>11.859191</td>\n      <td>-10.604692</td>\n      <td>-6.049362</td>\n      <td>0.111677</td>\n    </tr>\n    <tr>\n      <th>...</th>\n      <td>...</td>\n      <td>...</td>\n      <td>...</td>\n      <td>...</td>\n      <td>...</td>\n    </tr>\n    <tr>\n      <th>1810</th>\n      <td>9_3_4</td>\n      <td>36.077375</td>\n      <td>-7.875347</td>\n      <td>-14.939623</td>\n      <td>0.128432</td>\n    </tr>\n    <tr>\n      <th>1813</th>\n      <td>9_4_1</td>\n      <td>25.574518</td>\n      <td>-17.376362</td>\n      <td>4.663637</td>\n      <td>0.912247</td>\n    </tr>\n    <tr>\n      <th>1831</th>\n      <td>9_7_1</td>\n      <td>22.777582</td>\n      <td>-19.792283</td>\n      <td>2.750864</td>\n      <td>0.056902</td>\n    </tr>\n    <tr>\n      <th>1834</th>\n      <td>9_7_4</td>\n      <td>22.721846</td>\n      <td>-19.736566</td>\n      <td>2.713267</td>\n      <td>0.408758</td>\n    </tr>\n    <tr>\n      <th>1843</th>\n      <td>9_9_1</td>\n      <td>25.400782</td>\n      <td>-23.623595</td>\n      <td>6.083554</td>\n      <td>0.476662</td>\n    </tr>\n  </tbody>\n</table>\n<p>318 rows × 5 columns</p>\n</div>"
     },
     "execution_count": 3,
     "metadata": {},
     "output_type": "execute_result"
    }
   ],
   "source": [
    "# We have lot of rows that have Enantiomeric Excess == 0. These ones we will exclude from the dataset.\n",
    "df_cleaned = df[df['ddG (% ee)'] != 0]\n",
    "df_cleaned"
   ],
   "metadata": {
    "collapsed": false,
    "ExecuteTime": {
     "end_time": "2023-09-04T20:10:59.185730200Z",
     "start_time": "2023-09-04T20:10:59.013858900Z"
    }
   },
   "id": "690c7af7b390d264"
  },
  {
   "cell_type": "code",
   "execution_count": 4,
   "outputs": [],
   "source": [
    "# Lets separate out the x and y \n",
    "X = df_cleaned[['x','y','z']]\n",
    "y = df_cleaned['ddG (% ee)']"
   ],
   "metadata": {
    "collapsed": false,
    "ExecuteTime": {
     "end_time": "2023-09-04T20:10:59.232607700Z",
     "start_time": "2023-09-04T20:10:59.107616300Z"
    }
   },
   "id": "fc921754515c9513"
  },
  {
   "cell_type": "code",
   "execution_count": 5,
   "outputs": [],
   "source": [
    "X_train, X_test, y_train, y_test = train_test_split(\n",
    "    X, y, test_size=0.3, random_state=101)"
   ],
   "metadata": {
    "collapsed": false,
    "ExecuteTime": {
     "end_time": "2023-09-04T20:10:59.341987700Z",
     "start_time": "2023-09-04T20:10:59.170111300Z"
    }
   },
   "id": "3ba5a34b2d5f1c9c"
  },
  {
   "cell_type": "code",
   "execution_count": 6,
   "outputs": [
    {
     "name": "stdout",
     "output_type": "stream",
     "text": [
      "mean_squared_error :  0.10686574075223941\n",
      "mean_absolute_error :  0.275571383948475\n"
     ]
    }
   ],
   "source": [
    "# with sklearn\n",
    "# creating a regression model\n",
    "model = LinearRegression()\n",
    "  \n",
    "# fitting the model\n",
    "model.fit(X_train, y_train)\n",
    "  \n",
    "# making predictions\n",
    "predictions = model.predict(X_test)\n",
    "\n",
    "# model evaluation\n",
    "print('mean_squared_error : ', mean_squared_error(y_test, predictions))\n",
    "print('mean_absolute_error : ', mean_absolute_error(y_test, predictions))"
   ],
   "metadata": {
    "collapsed": false,
    "ExecuteTime": {
     "end_time": "2023-09-04T20:10:59.341987700Z",
     "start_time": "2023-09-04T20:10:59.201351300Z"
    }
   },
   "id": "b20b90c0aea021b"
  },
  {
   "cell_type": "code",
   "execution_count": 7,
   "outputs": [
    {
     "name": "stdout",
     "output_type": "stream",
     "text": [
      "Intercept: \n",
      " 0.4323468984662589\n",
      "Coefficients: \n",
      " [-0.00122995 -0.00340784 -0.00199706]\n"
     ]
    }
   ],
   "source": [
    "print('Intercept: \\n', model.intercept_)\n",
    "print('Coefficients: \\n', model.coef_)"
   ],
   "metadata": {
    "collapsed": false,
    "ExecuteTime": {
     "end_time": "2023-09-04T20:10:59.529477500Z",
     "start_time": "2023-09-04T20:10:59.279487Z"
    }
   },
   "id": "a7e52cab5f686c1d"
  },
  {
   "cell_type": "code",
   "execution_count": 8,
   "outputs": [
    {
     "name": "stderr",
     "output_type": "stream",
     "text": [
      "C:\\Users\\dalje\\PycharmProjects\\ee-predict\\venv\\lib\\site-packages\\sklearn\\base.py:464: UserWarning: X does not have valid feature names, but LinearRegression was fitted with feature names\n",
      "  warnings.warn(\n"
     ]
    },
    {
     "data": {
      "text/plain": "array([0.29092283])"
     },
     "execution_count": 8,
     "metadata": {},
     "output_type": "execute_result"
    }
   ],
   "source": [
    "sample_predict = np.array([-48.68710019,27.57547822,53.74597739])\n",
    "model.predict(sample_predict.reshape(1, -1))"
   ],
   "metadata": {
    "collapsed": false,
    "ExecuteTime": {
     "end_time": "2023-09-04T20:10:59.685738900Z",
     "start_time": "2023-09-04T20:10:59.326358800Z"
    }
   },
   "id": "6d8d569129c2ce43"
  },
  {
   "cell_type": "code",
   "execution_count": 9,
   "outputs": [
    {
     "data": {
      "text/plain": "0.2909228380412312"
     },
     "execution_count": 9,
     "metadata": {},
     "output_type": "execute_result"
    }
   ],
   "source": [
    "coef =  [-0.00122995, -0.00340784, -0.00199706]\n",
    "intercept = 0.4323468984662589\n",
    "np.dot(sample_predict, coef) + model.intercept_"
   ],
   "metadata": {
    "collapsed": false,
    "ExecuteTime": {
     "end_time": "2023-09-04T20:10:59.987368900Z",
     "start_time": "2023-09-04T20:10:59.373227800Z"
    }
   },
   "id": "251631daa8086c01"
  },
  {
   "cell_type": "code",
   "execution_count": 10,
   "outputs": [
    {
     "name": "stdout",
     "output_type": "stream",
     "text": [
      "mean_squared_error :  0.1063480698362802\n",
      "mean_absolute_error :  0.27497913508936606\n"
     ]
    }
   ],
   "source": [
    "from sklearn.cross_decomposition import PLSRegression\n",
    "model = PLSRegression(n_components=2)\n",
    "# fitting the model\n",
    "model.fit(X_train, y_train)\n",
    "  \n",
    "# making predictions\n",
    "predictions = model.predict(X_test)\n",
    "\n",
    "# model evaluation\n",
    "print('mean_squared_error : ', mean_squared_error(y_test, predictions))\n",
    "print('mean_absolute_error : ', mean_absolute_error(y_test, predictions))"
   ],
   "metadata": {
    "collapsed": false,
    "ExecuteTime": {
     "end_time": "2023-09-04T20:11:00.111789100Z",
     "start_time": "2023-09-04T20:10:59.420107300Z"
    }
   },
   "id": "9e0ad3c3ab4e9a95"
  },
  {
   "cell_type": "code",
   "execution_count": 11,
   "outputs": [
    {
     "data": {
      "text/plain": "array([[0.55539496]])"
     },
     "execution_count": 11,
     "metadata": {},
     "output_type": "execute_result"
    }
   ],
   "source": [
    "from joblib import dump, load\n",
    "dump(model, 'pls.joblib') \n",
    "clf2 = load('pls.joblib') \n",
    "clf2.predict(X[0:1])"
   ],
   "metadata": {
    "collapsed": false,
    "ExecuteTime": {
     "end_time": "2023-09-04T20:18:33.427560100Z",
     "start_time": "2023-09-04T20:18:33.208820300Z"
    }
   },
   "id": "f39e8df7a48a04d9"
  },
  {
   "cell_type": "code",
   "execution_count": null,
   "outputs": [],
   "source": [],
   "metadata": {
    "collapsed": false
   },
   "id": "677055bdd471a51c"
  }
 ],
 "metadata": {
  "kernelspec": {
   "display_name": "Python 3",
   "language": "python",
   "name": "python3"
  },
  "language_info": {
   "codemirror_mode": {
    "name": "ipython",
    "version": 2
   },
   "file_extension": ".py",
   "mimetype": "text/x-python",
   "name": "python",
   "nbconvert_exporter": "python",
   "pygments_lexer": "ipython2",
   "version": "2.7.6"
  }
 },
 "nbformat": 4,
 "nbformat_minor": 5
}
