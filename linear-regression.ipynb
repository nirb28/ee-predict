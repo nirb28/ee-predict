{
 "cells": [
  {
   "cell_type": "code",
   "execution_count": 5,
   "outputs": [
    {
     "data": {
      "text/plain": "     Catalyst          x          y          z  ddG (% ee)\n0       1_1_1   5.100125 -27.742489 -17.922393    1.226289\n1       1_1_2   5.153813 -27.571266 -17.950507    0.719002\n2       1_1_5   5.152788 -27.598759 -17.955535    0.000000\n3       1_1_6   5.165622 -27.892380 -18.100201    0.000000\n4      1_10_1  33.313791  -4.891048  29.252912    0.000000\n...       ...        ...        ...        ...         ...\n1844    9_9_2  25.333407 -23.646411   5.833764    0.000000\n1845    9_9_3  25.433601 -23.674885   6.156243    0.000000\n1846    9_9_4  25.360759 -23.579587   6.046853    0.000000\n1847    9_9_5  25.368488 -23.743857   5.801636    0.000000\n1848    9_9_6  25.539803 -23.995130   5.719818    0.000000\n\n[1849 rows x 5 columns]",
      "text/html": "<div>\n<style scoped>\n    .dataframe tbody tr th:only-of-type {\n        vertical-align: middle;\n    }\n\n    .dataframe tbody tr th {\n        vertical-align: top;\n    }\n\n    .dataframe thead th {\n        text-align: right;\n    }\n</style>\n<table border=\"1\" class=\"dataframe\">\n  <thead>\n    <tr style=\"text-align: right;\">\n      <th></th>\n      <th>Catalyst</th>\n      <th>x</th>\n      <th>y</th>\n      <th>z</th>\n      <th>ddG (% ee)</th>\n    </tr>\n  </thead>\n  <tbody>\n    <tr>\n      <th>0</th>\n      <td>1_1_1</td>\n      <td>5.100125</td>\n      <td>-27.742489</td>\n      <td>-17.922393</td>\n      <td>1.226289</td>\n    </tr>\n    <tr>\n      <th>1</th>\n      <td>1_1_2</td>\n      <td>5.153813</td>\n      <td>-27.571266</td>\n      <td>-17.950507</td>\n      <td>0.719002</td>\n    </tr>\n    <tr>\n      <th>2</th>\n      <td>1_1_5</td>\n      <td>5.152788</td>\n      <td>-27.598759</td>\n      <td>-17.955535</td>\n      <td>0.000000</td>\n    </tr>\n    <tr>\n      <th>3</th>\n      <td>1_1_6</td>\n      <td>5.165622</td>\n      <td>-27.892380</td>\n      <td>-18.100201</td>\n      <td>0.000000</td>\n    </tr>\n    <tr>\n      <th>4</th>\n      <td>1_10_1</td>\n      <td>33.313791</td>\n      <td>-4.891048</td>\n      <td>29.252912</td>\n      <td>0.000000</td>\n    </tr>\n    <tr>\n      <th>...</th>\n      <td>...</td>\n      <td>...</td>\n      <td>...</td>\n      <td>...</td>\n      <td>...</td>\n    </tr>\n    <tr>\n      <th>1844</th>\n      <td>9_9_2</td>\n      <td>25.333407</td>\n      <td>-23.646411</td>\n      <td>5.833764</td>\n      <td>0.000000</td>\n    </tr>\n    <tr>\n      <th>1845</th>\n      <td>9_9_3</td>\n      <td>25.433601</td>\n      <td>-23.674885</td>\n      <td>6.156243</td>\n      <td>0.000000</td>\n    </tr>\n    <tr>\n      <th>1846</th>\n      <td>9_9_4</td>\n      <td>25.360759</td>\n      <td>-23.579587</td>\n      <td>6.046853</td>\n      <td>0.000000</td>\n    </tr>\n    <tr>\n      <th>1847</th>\n      <td>9_9_5</td>\n      <td>25.368488</td>\n      <td>-23.743857</td>\n      <td>5.801636</td>\n      <td>0.000000</td>\n    </tr>\n    <tr>\n      <th>1848</th>\n      <td>9_9_6</td>\n      <td>25.539803</td>\n      <td>-23.995130</td>\n      <td>5.719818</td>\n      <td>0.000000</td>\n    </tr>\n  </tbody>\n</table>\n<p>1849 rows × 5 columns</p>\n</div>"
     },
     "execution_count": 5,
     "metadata": {},
     "output_type": "execute_result"
    }
   ],
   "source": [
    "import pandas as pd\n",
    "pd.read_csv('reduced_dim_space_ddG.csv')"
   ],
   "metadata": {
    "collapsed": false,
    "ExecuteTime": {
     "end_time": "2023-08-23T01:33:04.060911200Z",
     "start_time": "2023-08-23T01:33:02.231433300Z"
    }
   },
   "id": "21adb13e725cc38d"
  }
 ],
 "metadata": {
  "kernelspec": {
   "display_name": "Python 3",
   "language": "python",
   "name": "python3"
  },
  "language_info": {
   "codemirror_mode": {
    "name": "ipython",
    "version": 2
   },
   "file_extension": ".py",
   "mimetype": "text/x-python",
   "name": "python",
   "nbconvert_exporter": "python",
   "pygments_lexer": "ipython2",
   "version": "2.7.6"
  }
 },
 "nbformat": 4,
 "nbformat_minor": 5
}
