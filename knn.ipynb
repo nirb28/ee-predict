{
 "cells": [
  {
   "cell_type": "code",
   "execution_count": 6,
   "outputs": [],
   "source": [
    "# Import necessary modules\n",
    "from sklearn.neighbors import KNeighborsClassifier\n",
    "from sklearn.model_selection import train_test_split\n",
    "import pandas as pd\n",
    "import numpy as np"
   ],
   "metadata": {
    "collapsed": false,
    "ExecuteTime": {
     "end_time": "2023-08-23T22:57:12.895613400Z",
     "start_time": "2023-08-23T22:57:12.866090700Z"
    }
   },
   "id": "f97115e836599b7e"
  },
  {
   "cell_type": "code",
   "execution_count": 2,
   "outputs": [
    {
     "data": {
      "text/plain": "     Catalyst          x          y          z  ddG (% ee)\n0       1_1_1   5.100125 -27.742489 -17.922393    1.226289\n1       1_1_2   5.153813 -27.571266 -17.950507    0.719002\n10     1_11_1  24.913739  -0.494436  -8.842801    0.631877\n16      1_2_1  12.039033 -10.467777  -6.094131    0.216792\n17      1_2_2  11.859191 -10.604692  -6.049362    0.111677\n...       ...        ...        ...        ...         ...\n1810    9_3_4  36.077375  -7.875347 -14.939623    0.128432\n1813    9_4_1  25.574518 -17.376362   4.663637    0.912247\n1831    9_7_1  22.777582 -19.792283   2.750864    0.056902\n1834    9_7_4  22.721846 -19.736566   2.713267    0.408758\n1843    9_9_1  25.400782 -23.623595   6.083554    0.476662\n\n[318 rows x 5 columns]",
      "text/html": "<div>\n<style scoped>\n    .dataframe tbody tr th:only-of-type {\n        vertical-align: middle;\n    }\n\n    .dataframe tbody tr th {\n        vertical-align: top;\n    }\n\n    .dataframe thead th {\n        text-align: right;\n    }\n</style>\n<table border=\"1\" class=\"dataframe\">\n  <thead>\n    <tr style=\"text-align: right;\">\n      <th></th>\n      <th>Catalyst</th>\n      <th>x</th>\n      <th>y</th>\n      <th>z</th>\n      <th>ddG (% ee)</th>\n    </tr>\n  </thead>\n  <tbody>\n    <tr>\n      <th>0</th>\n      <td>1_1_1</td>\n      <td>5.100125</td>\n      <td>-27.742489</td>\n      <td>-17.922393</td>\n      <td>1.226289</td>\n    </tr>\n    <tr>\n      <th>1</th>\n      <td>1_1_2</td>\n      <td>5.153813</td>\n      <td>-27.571266</td>\n      <td>-17.950507</td>\n      <td>0.719002</td>\n    </tr>\n    <tr>\n      <th>10</th>\n      <td>1_11_1</td>\n      <td>24.913739</td>\n      <td>-0.494436</td>\n      <td>-8.842801</td>\n      <td>0.631877</td>\n    </tr>\n    <tr>\n      <th>16</th>\n      <td>1_2_1</td>\n      <td>12.039033</td>\n      <td>-10.467777</td>\n      <td>-6.094131</td>\n      <td>0.216792</td>\n    </tr>\n    <tr>\n      <th>17</th>\n      <td>1_2_2</td>\n      <td>11.859191</td>\n      <td>-10.604692</td>\n      <td>-6.049362</td>\n      <td>0.111677</td>\n    </tr>\n    <tr>\n      <th>...</th>\n      <td>...</td>\n      <td>...</td>\n      <td>...</td>\n      <td>...</td>\n      <td>...</td>\n    </tr>\n    <tr>\n      <th>1810</th>\n      <td>9_3_4</td>\n      <td>36.077375</td>\n      <td>-7.875347</td>\n      <td>-14.939623</td>\n      <td>0.128432</td>\n    </tr>\n    <tr>\n      <th>1813</th>\n      <td>9_4_1</td>\n      <td>25.574518</td>\n      <td>-17.376362</td>\n      <td>4.663637</td>\n      <td>0.912247</td>\n    </tr>\n    <tr>\n      <th>1831</th>\n      <td>9_7_1</td>\n      <td>22.777582</td>\n      <td>-19.792283</td>\n      <td>2.750864</td>\n      <td>0.056902</td>\n    </tr>\n    <tr>\n      <th>1834</th>\n      <td>9_7_4</td>\n      <td>22.721846</td>\n      <td>-19.736566</td>\n      <td>2.713267</td>\n      <td>0.408758</td>\n    </tr>\n    <tr>\n      <th>1843</th>\n      <td>9_9_1</td>\n      <td>25.400782</td>\n      <td>-23.623595</td>\n      <td>6.083554</td>\n      <td>0.476662</td>\n    </tr>\n  </tbody>\n</table>\n<p>318 rows × 5 columns</p>\n</div>"
     },
     "execution_count": 2,
     "metadata": {},
     "output_type": "execute_result"
    }
   ],
   "source": [
    "# Import the dataset from the csv file.\n",
    "df = pd.read_csv('reduced_dim_space_ddG.csv')\n",
    "# We have lot of rows that have Enantiomeric Excess == 0. These ones we will exclude from the dataset.\n",
    "df_cleaned = df[df['ddG (% ee)'] != 0]\n",
    "df_cleaned"
   ],
   "metadata": {
    "collapsed": false,
    "ExecuteTime": {
     "end_time": "2023-08-23T22:50:24.229558Z",
     "start_time": "2023-08-23T22:50:23.673619300Z"
    }
   },
   "id": "df5f2e551a2d5b93"
  },
  {
   "cell_type": "code",
   "execution_count": 4,
   "outputs": [
    {
     "name": "stdout",
     "output_type": "stream",
     "text": [
      "['15_1_2' '1_11_1' '11_1_4' '1_7_2' '1_7_1' '18_1_1' '21_7_4' '11_3_4'\n",
      " '13_2_2' '18_6_1' '3_3_1' '15_3_1' '11_10_4' '21_6_2' '11_7_1' '15_1_2'\n",
      " '11_3_4' '2_2_4' '8_3_1' '3_2_1' '14_2_1' '21_7_4' '10_3_1' '18_2_1'\n",
      " '12_3_1' '18_6_1' '6_2_1' '11_3_2' '18_6_1' '11_1_4' '11_2_1' '1_3_2'\n",
      " '21_11_2' '2_2_4' '8_3_1' '11_10_4' '21_6_2' '16_3_4' '2_4_4' '11_2_1'\n",
      " '1_3_2' '20_11_2' '6_3_2' '6_2_1' '12_2_4' '1_2_2' '1_4_4' '6_2_1'\n",
      " '11_3_4' '15_11_1' '13_3_4' '3_1_1' '14_2_1' '12_2_4' '10_3_1' '11_3_2'\n",
      " '18_10_1' '13_2_2' '11_1_4' '14_3_1' '14_7_1' '18_2_1' '16_3_1' '19_3_1']\n"
     ]
    }
   ],
   "source": [
    "# Lets separate out the x and y \n",
    "X = df_cleaned[['x', 'y', 'z']]\n",
    "y = df_cleaned['Catalyst']\n",
    "X_train, X_test, y_train, y_test = train_test_split(\n",
    "\tX, y, test_size=0.2, random_state=42)\n",
    "\n",
    "model = KNeighborsClassifier(n_neighbors=3)\n",
    "model.fit(X_train, y_train)\n",
    "# Predict on dataset which model has not seen before\n",
    "print(model.predict(X_test))\n"
   ],
   "metadata": {
    "collapsed": false,
    "ExecuteTime": {
     "end_time": "2023-08-23T22:52:45.267717300Z",
     "start_time": "2023-08-23T22:52:45.231493Z"
    }
   },
   "id": "2f2cc04b945a9385"
  },
  {
   "cell_type": "code",
   "execution_count": 5,
   "outputs": [
    {
     "data": {
      "text/plain": "              x          y          z\n383  -23.772215 -51.613680 -40.179666\n1669  24.712875  -4.042858  -7.723960\n128  -11.894843 -19.947321 -27.690067\n1510   7.010431 -16.284663  -5.604646\n39     4.944523 -25.110828  -5.624117\n...         ...        ...        ...\n1305   1.692297  21.651371 -44.835876\n1075 -15.725111   8.426645   8.126115\n597    7.617200 -24.462511  17.664039\n471   15.003737  80.703096 -30.510123\n668    7.372543  12.477858 -28.754394\n\n[64 rows x 3 columns]",
      "text/html": "<div>\n<style scoped>\n    .dataframe tbody tr th:only-of-type {\n        vertical-align: middle;\n    }\n\n    .dataframe tbody tr th {\n        vertical-align: top;\n    }\n\n    .dataframe thead th {\n        text-align: right;\n    }\n</style>\n<table border=\"1\" class=\"dataframe\">\n  <thead>\n    <tr style=\"text-align: right;\">\n      <th></th>\n      <th>x</th>\n      <th>y</th>\n      <th>z</th>\n    </tr>\n  </thead>\n  <tbody>\n    <tr>\n      <th>383</th>\n      <td>-23.772215</td>\n      <td>-51.613680</td>\n      <td>-40.179666</td>\n    </tr>\n    <tr>\n      <th>1669</th>\n      <td>24.712875</td>\n      <td>-4.042858</td>\n      <td>-7.723960</td>\n    </tr>\n    <tr>\n      <th>128</th>\n      <td>-11.894843</td>\n      <td>-19.947321</td>\n      <td>-27.690067</td>\n    </tr>\n    <tr>\n      <th>1510</th>\n      <td>7.010431</td>\n      <td>-16.284663</td>\n      <td>-5.604646</td>\n    </tr>\n    <tr>\n      <th>39</th>\n      <td>4.944523</td>\n      <td>-25.110828</td>\n      <td>-5.624117</td>\n    </tr>\n    <tr>\n      <th>...</th>\n      <td>...</td>\n      <td>...</td>\n      <td>...</td>\n    </tr>\n    <tr>\n      <th>1305</th>\n      <td>1.692297</td>\n      <td>21.651371</td>\n      <td>-44.835876</td>\n    </tr>\n    <tr>\n      <th>1075</th>\n      <td>-15.725111</td>\n      <td>8.426645</td>\n      <td>8.126115</td>\n    </tr>\n    <tr>\n      <th>597</th>\n      <td>7.617200</td>\n      <td>-24.462511</td>\n      <td>17.664039</td>\n    </tr>\n    <tr>\n      <th>471</th>\n      <td>15.003737</td>\n      <td>80.703096</td>\n      <td>-30.510123</td>\n    </tr>\n    <tr>\n      <th>668</th>\n      <td>7.372543</td>\n      <td>12.477858</td>\n      <td>-28.754394</td>\n    </tr>\n  </tbody>\n</table>\n<p>64 rows × 3 columns</p>\n</div>"
     },
     "execution_count": 5,
     "metadata": {},
     "output_type": "execute_result"
    }
   ],
   "source": [
    "X_test"
   ],
   "metadata": {
    "collapsed": false,
    "ExecuteTime": {
     "end_time": "2023-08-23T22:53:02.902740700Z",
     "start_time": "2023-08-23T22:53:02.852822500Z"
    }
   },
   "id": "2765d4fbb2b6af3d"
  },
  {
   "cell_type": "code",
   "execution_count": 8,
   "outputs": [
    {
     "name": "stderr",
     "output_type": "stream",
     "text": [
      "C:\\Users\\dalje\\PycharmProjects\\ee-predict\\venv\\lib\\site-packages\\sklearn\\base.py:464: UserWarning: X does not have valid feature names, but KNeighborsClassifier was fitted with feature names\n",
      "  warnings.warn(\n"
     ]
    },
    {
     "data": {
      "text/plain": "array(['12_3_2'], dtype=object)"
     },
     "execution_count": 8,
     "metadata": {},
     "output_type": "execute_result"
    }
   ],
   "source": [
    "sample_predict = np.array([-48.68710019,27.57547822,53.74597739])\n",
    "model.predict(sample_predict.reshape(1, -1))"
   ],
   "metadata": {
    "collapsed": false,
    "ExecuteTime": {
     "end_time": "2023-08-23T22:57:27.915705400Z",
     "start_time": "2023-08-23T22:57:27.889817300Z"
    }
   },
   "id": "c712bb8d1b44dff2"
  },
  {
   "cell_type": "code",
   "execution_count": null,
   "outputs": [],
   "source": [],
   "metadata": {
    "collapsed": false
   },
   "id": "4bf3bc048b82c867"
  }
 ],
 "metadata": {
  "kernelspec": {
   "display_name": "Python 3",
   "language": "python",
   "name": "python3"
  },
  "language_info": {
   "codemirror_mode": {
    "name": "ipython",
    "version": 2
   },
   "file_extension": ".py",
   "mimetype": "text/x-python",
   "name": "python",
   "nbconvert_exporter": "python",
   "pygments_lexer": "ipython2",
   "version": "2.7.6"
  }
 },
 "nbformat": 4,
 "nbformat_minor": 5
}
