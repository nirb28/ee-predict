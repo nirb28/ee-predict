{
 "cells": [
  {
   "cell_type": "code",
   "execution_count": 2,
   "id": "initial_id",
   "metadata": {
    "collapsed": true,
    "ExecuteTime": {
     "end_time": "2024-05-03T21:14:24.122592900Z",
     "start_time": "2024-05-03T21:14:18.997921300Z"
    }
   },
   "outputs": [
    {
     "name": "stderr",
     "output_type": "stream",
     "text": [
      "C:\\Users\\ds\\.conda\\envs\\ml\\lib\\site-packages\\sklearn\\base.py:376: InconsistentVersionWarning: Trying to unpickle estimator PLSRegression from version 1.3.0 when using version 1.4.2. This might lead to breaking code or invalid results. Use at your own risk. For more info please refer to:\n",
      "https://scikit-learn.org/stable/model_persistence.html#security-maintainability-limitations\n",
      "  warnings.warn(\n"
     ]
    }
   ],
   "source": [
    "from sklearn.neighbors import NearestNeighbors\n",
    "import pandas as pd\n",
    "import numpy as np\n",
    "from sklearn.model_selection import train_test_split\n",
    "from sklearn.linear_model import LinearRegression\n",
    "from sklearn.metrics import mean_squared_error, mean_absolute_error\n",
    "\n",
    "# Function to optimize catalyst properties using coordinate descent\n",
    "def optimize_catalysts(catalysts, iterations=100, cd_iterations=10, step_size=0.01):\n",
    "    optimized_catalysts = np.copy(catalysts)\n",
    "    for _ in range(iterations):\n",
    "        for i in range(len(optimized_catalysts)):\n",
    "            original_ee = pls_predict_ee(optimized_catalysts[i])  # Use your regression model\n",
    "            for x in range(len(optimized_catalysts[i])):\n",
    "                for cd in range(cd_iterations):\n",
    "                    old_value = optimized_catalysts[i, x]\n",
    "                    optimized_catalysts[i, x] = old_value + step_size\n",
    "                    new_ee = pls_predict_ee(optimized_catalysts[i])\n",
    "                    if new_ee < original_ee:\n",
    "                        optimized_catalysts[i, x] = old_value - step_size\n",
    "                        new_ee = pls_predict_ee(optimized_catalysts[i])\n",
    "                    if new_ee < original_ee:\n",
    "                        optimized_catalysts[i, x] = old_value\n",
    "    return optimized_catalysts\n",
    "\n",
    "\n",
    "# Function to predict enantiomeric excess using regression model\n",
    "def predict_ee(properties):\n",
    "    # Use your regression model to predict EE based on properties\n",
    "    coef =  [-0.00122995, -0.00340784, -0.00199706]\n",
    "    intercept = 0.4323468984662589\n",
    "    return np.dot(properties, coef) + intercept\n",
    "\n",
    "from joblib import dump, load\n",
    "pls = load('pls.joblib') \n",
    "def pls_predict_ee(properties):\n",
    "    return pls.predict(properties.reshape(1,-1))\n",
    "# Further analysis and interpretation can be added here"
   ]
  },
  {
   "cell_type": "code",
   "execution_count": 3,
   "outputs": [],
   "source": [
    "df = pd.read_csv('reduced_dim_space_ddG.csv')\n",
    "# We have lot of rows that have Enantiomeric Excess == 0. These ones we will exclude from the dataset.\n",
    "df_cleaned = df[df['ddG (% ee)'] != 0]\n",
    "df_cleaned\n",
    "# Lets separate out the x and y \n",
    "X = df_cleaned[['x', 'y', 'z']]\n",
    "y = df_cleaned['ddG (% ee)']\n",
    "X_train, X_test, y_train, y_test = train_test_split(\n",
    "    X, y, test_size=0.3, random_state=101)\n",
    "\n",
    "catalyst_data = X_train\n",
    "original_ee = y_train\n"
   ],
   "metadata": {
    "collapsed": false,
    "ExecuteTime": {
     "end_time": "2024-05-03T21:14:26.698170100Z",
     "start_time": "2024-05-03T21:14:26.616507400Z"
    }
   },
   "id": "c075973461d01b2e"
  },
  {
   "cell_type": "code",
   "execution_count": 4,
   "outputs": [],
   "source": [
    "#original_ee[original_ee.index[2]]"
   ],
   "metadata": {
    "collapsed": false,
    "ExecuteTime": {
     "end_time": "2024-05-03T21:14:28.294280300Z",
     "start_time": "2024-05-03T21:14:28.253209Z"
    }
   },
   "id": "54f4d89d57e6abce"
  },
  {
   "cell_type": "code",
   "execution_count": 5,
   "outputs": [
    {
     "name": "stderr",
     "output_type": "stream",
     "text": [
      "C:\\Users\\ds\\.conda\\envs\\ml\\lib\\site-packages\\sklearn\\base.py:493: UserWarning: X does not have valid feature names, but PLSRegression was fitted with feature names\n",
      "  warnings.warn(\n"
     ]
    },
    {
     "ename": "AttributeError",
     "evalue": "'PLSRegression' object has no attribute '_predict_1d'",
     "output_type": "error",
     "traceback": [
      "\u001B[1;31m---------------------------------------------------------------------------\u001B[0m",
      "\u001B[1;31mAttributeError\u001B[0m                            Traceback (most recent call last)",
      "Cell \u001B[1;32mIn[5], line 2\u001B[0m\n\u001B[0;32m      1\u001B[0m \u001B[38;5;66;03m# Perform optimization on the first 150 catalysts\u001B[39;00m\n\u001B[1;32m----> 2\u001B[0m optimized_catalysts \u001B[38;5;241m=\u001B[39m \u001B[43moptimize_catalysts\u001B[49m\u001B[43m(\u001B[49m\u001B[43mcatalyst_data\u001B[49m\u001B[43m)\u001B[49m\n\u001B[0;32m      4\u001B[0m \u001B[38;5;66;03m# Perform k-nearest neighbors analysis\u001B[39;00m\n\u001B[0;32m      5\u001B[0m num_neighbors \u001B[38;5;241m=\u001B[39m \u001B[38;5;241m1\u001B[39m  \u001B[38;5;66;03m# Number of neighbors to consider\u001B[39;00m\n",
      "Cell \u001B[1;32mIn[2], line 13\u001B[0m, in \u001B[0;36moptimize_catalysts\u001B[1;34m(catalysts, iterations, cd_iterations, step_size)\u001B[0m\n\u001B[0;32m     11\u001B[0m \u001B[38;5;28;01mfor\u001B[39;00m _ \u001B[38;5;129;01min\u001B[39;00m \u001B[38;5;28mrange\u001B[39m(iterations):\n\u001B[0;32m     12\u001B[0m     \u001B[38;5;28;01mfor\u001B[39;00m i \u001B[38;5;129;01min\u001B[39;00m \u001B[38;5;28mrange\u001B[39m(\u001B[38;5;28mlen\u001B[39m(optimized_catalysts)):\n\u001B[1;32m---> 13\u001B[0m         original_ee \u001B[38;5;241m=\u001B[39m \u001B[43mpls_predict_ee\u001B[49m\u001B[43m(\u001B[49m\u001B[43moptimized_catalysts\u001B[49m\u001B[43m[\u001B[49m\u001B[43mi\u001B[49m\u001B[43m]\u001B[49m\u001B[43m)\u001B[49m  \u001B[38;5;66;03m# Use your regression model\u001B[39;00m\n\u001B[0;32m     14\u001B[0m         \u001B[38;5;28;01mfor\u001B[39;00m x \u001B[38;5;129;01min\u001B[39;00m \u001B[38;5;28mrange\u001B[39m(\u001B[38;5;28mlen\u001B[39m(optimized_catalysts[i])):\n\u001B[0;32m     15\u001B[0m             \u001B[38;5;28;01mfor\u001B[39;00m cd \u001B[38;5;129;01min\u001B[39;00m \u001B[38;5;28mrange\u001B[39m(cd_iterations):\n",
      "Cell \u001B[1;32mIn[2], line 37\u001B[0m, in \u001B[0;36mpls_predict_ee\u001B[1;34m(properties)\u001B[0m\n\u001B[0;32m     36\u001B[0m \u001B[38;5;28;01mdef\u001B[39;00m \u001B[38;5;21mpls_predict_ee\u001B[39m(properties):\n\u001B[1;32m---> 37\u001B[0m     \u001B[38;5;28;01mreturn\u001B[39;00m \u001B[43mpls\u001B[49m\u001B[38;5;241;43m.\u001B[39;49m\u001B[43mpredict\u001B[49m\u001B[43m(\u001B[49m\u001B[43mproperties\u001B[49m\u001B[38;5;241;43m.\u001B[39;49m\u001B[43mreshape\u001B[49m\u001B[43m(\u001B[49m\u001B[38;5;241;43m1\u001B[39;49m\u001B[43m,\u001B[49m\u001B[38;5;241;43m-\u001B[39;49m\u001B[38;5;241;43m1\u001B[39;49m\u001B[43m)\u001B[49m\u001B[43m)\u001B[49m\n",
      "File \u001B[1;32m~\\.conda\\envs\\ml\\lib\\site-packages\\sklearn\\cross_decomposition\\_pls.py:476\u001B[0m, in \u001B[0;36m_PLS.predict\u001B[1;34m(self, X, copy)\u001B[0m\n\u001B[0;32m    474\u001B[0m X \u001B[38;5;241m/\u001B[39m\u001B[38;5;241m=\u001B[39m \u001B[38;5;28mself\u001B[39m\u001B[38;5;241m.\u001B[39m_x_std\n\u001B[0;32m    475\u001B[0m Ypred \u001B[38;5;241m=\u001B[39m X \u001B[38;5;241m@\u001B[39m \u001B[38;5;28mself\u001B[39m\u001B[38;5;241m.\u001B[39mcoef_\u001B[38;5;241m.\u001B[39mT \u001B[38;5;241m+\u001B[39m \u001B[38;5;28mself\u001B[39m\u001B[38;5;241m.\u001B[39mintercept_\n\u001B[1;32m--> 476\u001B[0m \u001B[38;5;28;01mreturn\u001B[39;00m Ypred\u001B[38;5;241m.\u001B[39mravel() \u001B[38;5;28;01mif\u001B[39;00m \u001B[38;5;28;43mself\u001B[39;49m\u001B[38;5;241;43m.\u001B[39;49m\u001B[43m_predict_1d\u001B[49m \u001B[38;5;28;01melse\u001B[39;00m Ypred\n",
      "\u001B[1;31mAttributeError\u001B[0m: 'PLSRegression' object has no attribute '_predict_1d'"
     ]
    }
   ],
   "source": [
    "# Perform optimization on the first 150 catalysts\n",
    "optimized_catalysts = optimize_catalysts(catalyst_data)\n",
    "\n",
    "# Perform k-nearest neighbors analysis\n",
    "num_neighbors = 1  # Number of neighbors to consider\n",
    "knn = NearestNeighbors(n_neighbors=num_neighbors)\n",
    "knn.fit(catalyst_data)  # Using the remaining 150 catalysts for validation\n",
    "\n",
    "# Validate optimized catalysts using KNN\n",
    "for i in range(len(optimized_catalysts)):\n",
    "    distances, indices = knn.kneighbors([optimized_catalysts[i]])\n",
    "    print(indices)\n",
    "    neighbors_ee = [original_ee[original_ee.index[idx]] for idx in indices[0]]\n",
    "    optimized_ee = pls_predict_ee(optimized_catalysts[i])\n",
    "    average_neighbors_ee = np.mean(neighbors_ee)\n",
    "    print(f\"Original EE: {original_ee[original_ee.index[i]]:.4f} vs. Average Neighbors' EE: {average_neighbors_ee:.4f}\")\n"
   ],
   "metadata": {
    "collapsed": false,
    "ExecuteTime": {
     "end_time": "2024-05-03T21:14:31.317625600Z",
     "start_time": "2024-05-03T21:14:29.518010600Z"
    }
   },
   "id": "f1f4eb27d238ad33"
  },
  {
   "cell_type": "code",
   "execution_count": null,
   "outputs": [],
   "source": [
    "catalyst_data[:1]"
   ],
   "metadata": {
    "collapsed": false,
    "ExecuteTime": {
     "end_time": "2024-05-03T21:01:31.755708100Z",
     "start_time": "2024-05-03T21:01:31.690956200Z"
    }
   },
   "id": "96c72b22e3cd12e0"
  },
  {
   "cell_type": "code",
   "execution_count": 6,
   "outputs": [
    {
     "name": "stderr",
     "output_type": "stream",
     "text": [
      "C:\\Users\\ds\\.conda\\envs\\naive-2\\lib\\site-packages\\sklearn\\base.py:493: UserWarning: X does not have valid feature names, but PLSRegression was fitted with feature names\n",
      "  warnings.warn(\n"
     ]
    },
    {
     "ename": "AttributeError",
     "evalue": "'PLSRegression' object has no attribute '_predict_1d'",
     "output_type": "error",
     "traceback": [
      "\u001B[1;31m---------------------------------------------------------------------------\u001B[0m",
      "\u001B[1;31mAttributeError\u001B[0m                            Traceback (most recent call last)",
      "Cell \u001B[1;32mIn[6], line 1\u001B[0m\n\u001B[1;32m----> 1\u001B[0m optimized_catalysts \u001B[38;5;241m=\u001B[39m \u001B[43moptimize_catalysts\u001B[49m\u001B[43m(\u001B[49m\u001B[43mcatalyst_data\u001B[49m\u001B[43m[\u001B[49m\u001B[43m:\u001B[49m\u001B[38;5;241;43m1\u001B[39;49m\u001B[43m]\u001B[49m\u001B[43m)\u001B[49m\n\u001B[0;32m      2\u001B[0m optimized_catalysts\n",
      "Cell \u001B[1;32mIn[1], line 13\u001B[0m, in \u001B[0;36moptimize_catalysts\u001B[1;34m(catalysts, iterations, cd_iterations, step_size)\u001B[0m\n\u001B[0;32m     11\u001B[0m \u001B[38;5;28;01mfor\u001B[39;00m _ \u001B[38;5;129;01min\u001B[39;00m \u001B[38;5;28mrange\u001B[39m(iterations):\n\u001B[0;32m     12\u001B[0m     \u001B[38;5;28;01mfor\u001B[39;00m i \u001B[38;5;129;01min\u001B[39;00m \u001B[38;5;28mrange\u001B[39m(\u001B[38;5;28mlen\u001B[39m(optimized_catalysts)):\n\u001B[1;32m---> 13\u001B[0m         original_ee \u001B[38;5;241m=\u001B[39m \u001B[43mpls_predict_ee\u001B[49m\u001B[43m(\u001B[49m\u001B[43moptimized_catalysts\u001B[49m\u001B[43m[\u001B[49m\u001B[43mi\u001B[49m\u001B[43m]\u001B[49m\u001B[43m)\u001B[49m  \u001B[38;5;66;03m# Use your regression model\u001B[39;00m\n\u001B[0;32m     14\u001B[0m         \u001B[38;5;28;01mfor\u001B[39;00m x \u001B[38;5;129;01min\u001B[39;00m \u001B[38;5;28mrange\u001B[39m(\u001B[38;5;28mlen\u001B[39m(optimized_catalysts[i])):\n\u001B[0;32m     15\u001B[0m             \u001B[38;5;28;01mfor\u001B[39;00m cd \u001B[38;5;129;01min\u001B[39;00m \u001B[38;5;28mrange\u001B[39m(cd_iterations):\n",
      "Cell \u001B[1;32mIn[1], line 37\u001B[0m, in \u001B[0;36mpls_predict_ee\u001B[1;34m(properties)\u001B[0m\n\u001B[0;32m     36\u001B[0m \u001B[38;5;28;01mdef\u001B[39;00m \u001B[38;5;21mpls_predict_ee\u001B[39m(properties):\n\u001B[1;32m---> 37\u001B[0m     \u001B[38;5;28;01mreturn\u001B[39;00m \u001B[43mpls\u001B[49m\u001B[38;5;241;43m.\u001B[39;49m\u001B[43mpredict\u001B[49m\u001B[43m(\u001B[49m\u001B[43mproperties\u001B[49m\u001B[38;5;241;43m.\u001B[39;49m\u001B[43mreshape\u001B[49m\u001B[43m(\u001B[49m\u001B[38;5;241;43m1\u001B[39;49m\u001B[43m,\u001B[49m\u001B[38;5;241;43m-\u001B[39;49m\u001B[38;5;241;43m1\u001B[39;49m\u001B[43m)\u001B[49m\u001B[43m)\u001B[49m\n",
      "File \u001B[1;32m~\\.conda\\envs\\naive-2\\lib\\site-packages\\sklearn\\cross_decomposition\\_pls.py:476\u001B[0m, in \u001B[0;36m_PLS.predict\u001B[1;34m(self, X, copy)\u001B[0m\n\u001B[0;32m    474\u001B[0m X \u001B[38;5;241m/\u001B[39m\u001B[38;5;241m=\u001B[39m \u001B[38;5;28mself\u001B[39m\u001B[38;5;241m.\u001B[39m_x_std\n\u001B[0;32m    475\u001B[0m Ypred \u001B[38;5;241m=\u001B[39m X \u001B[38;5;241m@\u001B[39m \u001B[38;5;28mself\u001B[39m\u001B[38;5;241m.\u001B[39mcoef_\u001B[38;5;241m.\u001B[39mT \u001B[38;5;241m+\u001B[39m \u001B[38;5;28mself\u001B[39m\u001B[38;5;241m.\u001B[39mintercept_\n\u001B[1;32m--> 476\u001B[0m \u001B[38;5;28;01mreturn\u001B[39;00m Ypred\u001B[38;5;241m.\u001B[39mravel() \u001B[38;5;28;01mif\u001B[39;00m \u001B[38;5;28;43mself\u001B[39;49m\u001B[38;5;241;43m.\u001B[39;49m\u001B[43m_predict_1d\u001B[49m \u001B[38;5;28;01melse\u001B[39;00m Ypred\n",
      "\u001B[1;31mAttributeError\u001B[0m: 'PLSRegression' object has no attribute '_predict_1d'"
     ]
    }
   ],
   "source": [
    "optimized_catalysts = optimize_catalysts(catalyst_data[:1])\n",
    "optimized_catalysts"
   ],
   "metadata": {
    "collapsed": false,
    "ExecuteTime": {
     "end_time": "2024-05-03T21:01:38.781643900Z",
     "start_time": "2024-05-03T21:01:38.633349800Z"
    }
   },
   "id": "e416ae592399db7f"
  },
  {
   "cell_type": "code",
   "execution_count": null,
   "outputs": [],
   "source": [],
   "metadata": {
    "collapsed": false
   },
   "id": "770562325fd199a0"
  }
 ],
 "metadata": {
  "kernelspec": {
   "display_name": "Python 3",
   "language": "python",
   "name": "python3"
  },
  "language_info": {
   "codemirror_mode": {
    "name": "ipython",
    "version": 2
   },
   "file_extension": ".py",
   "mimetype": "text/x-python",
   "name": "python",
   "nbconvert_exporter": "python",
   "pygments_lexer": "ipython2",
   "version": "2.7.6"
  }
 },
 "nbformat": 4,
 "nbformat_minor": 5
}
