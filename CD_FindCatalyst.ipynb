{
 "cells": [
  {
   "cell_type": "code",
   "execution_count": 51,
   "id": "initial_id",
   "metadata": {
    "collapsed": true,
    "ExecuteTime": {
     "end_time": "2023-09-04T23:37:52.050743500Z",
     "start_time": "2023-09-04T23:37:51.690048Z"
    }
   },
   "outputs": [],
   "source": [
    "from sklearn.neighbors import NearestNeighbors\n",
    "import pandas as pd\n",
    "import numpy as np\n",
    "from sklearn.model_selection import train_test_split\n",
    "from sklearn.linear_model import LinearRegression\n",
    "from sklearn.metrics import mean_squared_error, mean_absolute_error\n",
    "\n",
    "# Function to optimize catalyst properties using coordinate descent\n",
    "def optimize_catalysts(catalysts, iterations=100, cd_iterations=10, step_size=0.01):\n",
    "    optimized_catalysts = np.copy(catalysts)\n",
    "    for _ in range(iterations):\n",
    "        for i in range(len(optimized_catalysts)):\n",
    "            original_ee = pls_predict_ee(optimized_catalysts[i])  # Use your regression model\n",
    "            for x in range(len(optimized_catalysts[i])):\n",
    "                for cd in range(cd_iterations):\n",
    "                    old_value = optimized_catalysts[i, x]\n",
    "                    optimized_catalysts[i, x] = old_value + step_size\n",
    "                    new_ee = pls_predict_ee(optimized_catalysts[i])\n",
    "                    if new_ee < original_ee:\n",
    "                        optimized_catalysts[i, x] = old_value - step_size\n",
    "                        new_ee = pls_predict_ee(optimized_catalysts[i])\n",
    "                    if new_ee < original_ee:\n",
    "                        optimized_catalysts[i, x] = old_value\n",
    "    return optimized_catalysts\n",
    "\n",
    "\n",
    "# Function to predict enantiomeric excess using regression model\n",
    "def predict_ee(properties):\n",
    "    # Use your regression model to predict EE based on properties\n",
    "    coef =  [-0.00122995, -0.00340784, -0.00199706]\n",
    "    intercept = 0.4323468984662589\n",
    "    return np.dot(properties, coef) + intercept\n",
    "\n",
    "from joblib import dump, load\n",
    "pls = load('pls.joblib') \n",
    "def pls_predict_ee(properties):\n",
    "    return pls.predict(properties.reshape(1,-1))\n",
    "# Further analysis and interpretation can be added here"
   ]
  },
  {
   "cell_type": "code",
   "execution_count": 52,
   "outputs": [],
   "source": [
    "df = pd.read_csv('reduced_dim_space_ddG.csv')\n",
    "# We have lot of rows that have Enantiomeric Excess == 0. These ones we will exclude from the dataset.\n",
    "df_cleaned = df[df['ddG (% ee)'] != 0]\n",
    "df_cleaned\n",
    "# Lets separate out the x and y \n",
    "X = df_cleaned[['x', 'y', 'z']]\n",
    "y = df_cleaned['ddG (% ee)']\n",
    "X_train, X_test, y_train, y_test = train_test_split(\n",
    "    X, y, test_size=0.3, random_state=101)\n",
    "\n",
    "catalyst_data = X_train\n",
    "original_ee = y_train\n"
   ],
   "metadata": {
    "collapsed": false,
    "ExecuteTime": {
     "end_time": "2023-09-04T23:38:02.854837500Z",
     "start_time": "2023-09-04T23:38:02.398915Z"
    }
   },
   "id": "c075973461d01b2e"
  },
  {
   "cell_type": "code",
   "execution_count": null,
   "outputs": [],
   "source": [
    "#original_ee[original_ee.index[2]]"
   ],
   "metadata": {
    "collapsed": false
   },
   "id": "54f4d89d57e6abce"
  },
  {
   "cell_type": "code",
   "execution_count": null,
   "outputs": [],
   "source": [
    "# Perform optimization on the first 150 catalysts\n",
    "optimized_catalysts = optimize_catalysts(catalyst_data)\n",
    "\n",
    "# Perform k-nearest neighbors analysis\n",
    "num_neighbors = 1  # Number of neighbors to consider\n",
    "knn = NearestNeighbors(n_neighbors=num_neighbors)\n",
    "knn.fit(catalyst_data)  # Using the remaining 150 catalysts for validation\n",
    "\n",
    "# Validate optimized catalysts using KNN\n",
    "for i in range(len(optimized_catalysts)):\n",
    "    distances, indices = knn.kneighbors([optimized_catalysts[i]])\n",
    "    print(indices)\n",
    "    neighbors_ee = [original_ee[original_ee.index[idx]] for idx in indices[0]]\n",
    "    optimized_ee = pls_predict_ee(optimized_catalysts[i])\n",
    "    average_neighbors_ee = np.mean(neighbors_ee)\n",
    "    print(f\"Original EE: {original_ee[original_ee.index[i]]:.4f} vs. Average Neighbors' EE: {average_neighbors_ee:.4f}\")\n"
   ],
   "metadata": {
    "collapsed": false
   },
   "id": "f1f4eb27d238ad33"
  },
  {
   "cell_type": "code",
   "execution_count": null,
   "outputs": [],
   "source": [
    "catalyst_data[:1]"
   ],
   "metadata": {
    "collapsed": false
   },
   "id": "96c72b22e3cd12e0"
  },
  {
   "cell_type": "code",
   "execution_count": 53,
   "outputs": [
    {
     "name": "stderr",
     "output_type": "stream",
     "text": [
      "C:\\Users\\dalje\\PycharmProjects\\ee-predict\\venv\\lib\\site-packages\\sklearn\\base.py:464: UserWarning: X does not have valid feature names, but PLSRegression was fitted with feature names\n",
      "  warnings.warn(\n",
      "C:\\Users\\dalje\\PycharmProjects\\ee-predict\\venv\\lib\\site-packages\\sklearn\\base.py:464: UserWarning: X does not have valid feature names, but PLSRegression was fitted with feature names\n",
      "  warnings.warn(\n",
      "C:\\Users\\dalje\\PycharmProjects\\ee-predict\\venv\\lib\\site-packages\\sklearn\\base.py:464: UserWarning: X does not have valid feature names, but PLSRegression was fitted with feature names\n",
      "  warnings.warn(\n",
      "C:\\Users\\dalje\\PycharmProjects\\ee-predict\\venv\\lib\\site-packages\\sklearn\\base.py:464: UserWarning: X does not have valid feature names, but PLSRegression was fitted with feature names\n",
      "  warnings.warn(\n",
      "C:\\Users\\dalje\\PycharmProjects\\ee-predict\\venv\\lib\\site-packages\\sklearn\\base.py:464: UserWarning: X does not have valid feature names, but PLSRegression was fitted with feature names\n",
      "  warnings.warn(\n",
      "C:\\Users\\dalje\\PycharmProjects\\ee-predict\\venv\\lib\\site-packages\\sklearn\\base.py:464: UserWarning: X does not have valid feature names, but PLSRegression was fitted with feature names\n",
      "  warnings.warn(\n"
     ]
    },
    {
     "ename": "KeyboardInterrupt",
     "evalue": "",
     "output_type": "error",
     "traceback": [
      "\u001B[1;31m---------------------------------------------------------------------------\u001B[0m",
      "\u001B[1;31mKeyboardInterrupt\u001B[0m                         Traceback (most recent call last)",
      "Cell \u001B[1;32mIn[53], line 1\u001B[0m\n\u001B[1;32m----> 1\u001B[0m optimized_catalysts \u001B[38;5;241m=\u001B[39m \u001B[43moptimize_catalysts\u001B[49m\u001B[43m(\u001B[49m\u001B[43mcatalyst_data\u001B[49m\u001B[43m[\u001B[49m\u001B[43m:\u001B[49m\u001B[38;5;241;43m1\u001B[39;49m\u001B[43m]\u001B[49m\u001B[43m)\u001B[49m\n\u001B[0;32m      2\u001B[0m optimized_catalysts\n",
      "Cell \u001B[1;32mIn[51], line 18\u001B[0m, in \u001B[0;36moptimize_catalysts\u001B[1;34m(catalysts, iterations, cd_iterations, step_size)\u001B[0m\n\u001B[0;32m     16\u001B[0m old_value \u001B[38;5;241m=\u001B[39m optimized_catalysts[i, x]\n\u001B[0;32m     17\u001B[0m optimized_catalysts[i, x] \u001B[38;5;241m=\u001B[39m old_value \u001B[38;5;241m+\u001B[39m step_size\n\u001B[1;32m---> 18\u001B[0m new_ee \u001B[38;5;241m=\u001B[39m \u001B[43mpls_predict_ee\u001B[49m(optimized_catalysts[i])\n\u001B[0;32m     19\u001B[0m \u001B[38;5;28;01mif\u001B[39;00m new_ee \u001B[38;5;241m<\u001B[39m original_ee:\n\u001B[0;32m     20\u001B[0m     optimized_catalysts[i, x] \u001B[38;5;241m=\u001B[39m old_value \u001B[38;5;241m-\u001B[39m step_size\n",
      "Cell \u001B[1;32mIn[51], line 18\u001B[0m, in \u001B[0;36moptimize_catalysts\u001B[1;34m(catalysts, iterations, cd_iterations, step_size)\u001B[0m\n\u001B[0;32m     16\u001B[0m old_value \u001B[38;5;241m=\u001B[39m optimized_catalysts[i, x]\n\u001B[0;32m     17\u001B[0m optimized_catalysts[i, x] \u001B[38;5;241m=\u001B[39m old_value \u001B[38;5;241m+\u001B[39m step_size\n\u001B[1;32m---> 18\u001B[0m new_ee \u001B[38;5;241m=\u001B[39m \u001B[43mpls_predict_ee\u001B[49m(optimized_catalysts[i])\n\u001B[0;32m     19\u001B[0m \u001B[38;5;28;01mif\u001B[39;00m new_ee \u001B[38;5;241m<\u001B[39m original_ee:\n\u001B[0;32m     20\u001B[0m     optimized_catalysts[i, x] \u001B[38;5;241m=\u001B[39m old_value \u001B[38;5;241m-\u001B[39m step_size\n",
      "File \u001B[1;32m_pydevd_bundle\\pydevd_cython_win32_39_64.pyx:1179\u001B[0m, in \u001B[0;36m_pydevd_bundle.pydevd_cython_win32_39_64.SafeCallWrapper.__call__\u001B[1;34m()\u001B[0m\n",
      "File \u001B[1;32m_pydevd_bundle\\pydevd_cython_win32_39_64.pyx:620\u001B[0m, in \u001B[0;36m_pydevd_bundle.pydevd_cython_win32_39_64.PyDBFrame.trace_dispatch\u001B[1;34m()\u001B[0m\n",
      "File \u001B[1;32m_pydevd_bundle\\pydevd_cython_win32_39_64.pyx:1095\u001B[0m, in \u001B[0;36m_pydevd_bundle.pydevd_cython_win32_39_64.PyDBFrame.trace_dispatch\u001B[1;34m()\u001B[0m\n",
      "File \u001B[1;32m_pydevd_bundle\\pydevd_cython_win32_39_64.pyx:1053\u001B[0m, in \u001B[0;36m_pydevd_bundle.pydevd_cython_win32_39_64.PyDBFrame.trace_dispatch\u001B[1;34m()\u001B[0m\n",
      "File \u001B[1;32mC:\\Program Files\\JetBrains\\PyCharm 2023.2\\plugins\\python\\helpers-pro\\jupyter_debug\\pydev_jupyter_plugin.py:169\u001B[0m, in \u001B[0;36mstop\u001B[1;34m(plugin, pydb, frame, event, args, stop_info, arg, step_cmd)\u001B[0m\n\u001B[0;32m    167\u001B[0m     frame \u001B[38;5;241m=\u001B[39m suspend_jupyter(main_debugger, thread, frame, step_cmd)\n\u001B[0;32m    168\u001B[0m     \u001B[38;5;28;01mif\u001B[39;00m frame:\n\u001B[1;32m--> 169\u001B[0m         \u001B[43mmain_debugger\u001B[49m\u001B[38;5;241;43m.\u001B[39;49m\u001B[43mdo_wait_suspend\u001B[49m\u001B[43m(\u001B[49m\u001B[43mthread\u001B[49m\u001B[43m,\u001B[49m\u001B[43m \u001B[49m\u001B[43mframe\u001B[49m\u001B[43m,\u001B[49m\u001B[43m \u001B[49m\u001B[43mevent\u001B[49m\u001B[43m,\u001B[49m\u001B[43m \u001B[49m\u001B[43marg\u001B[49m\u001B[43m)\u001B[49m\n\u001B[0;32m    170\u001B[0m         \u001B[38;5;28;01mreturn\u001B[39;00m \u001B[38;5;28;01mTrue\u001B[39;00m\n\u001B[0;32m    171\u001B[0m \u001B[38;5;28;01mreturn\u001B[39;00m \u001B[38;5;28;01mFalse\u001B[39;00m\n",
      "File \u001B[1;32mC:\\Program Files\\JetBrains\\PyCharm 2023.2\\plugins\\python\\helpers\\pydev\\pydevd.py:1160\u001B[0m, in \u001B[0;36mPyDB.do_wait_suspend\u001B[1;34m(self, thread, frame, event, arg, send_suspend_message, is_unhandled_exception)\u001B[0m\n\u001B[0;32m   1157\u001B[0m         from_this_thread\u001B[38;5;241m.\u001B[39mappend(frame_id)\n\u001B[0;32m   1159\u001B[0m \u001B[38;5;28;01mwith\u001B[39;00m \u001B[38;5;28mself\u001B[39m\u001B[38;5;241m.\u001B[39m_threads_suspended_single_notification\u001B[38;5;241m.\u001B[39mnotify_thread_suspended(thread_id, stop_reason):\n\u001B[1;32m-> 1160\u001B[0m     \u001B[38;5;28;43mself\u001B[39;49m\u001B[38;5;241;43m.\u001B[39;49m\u001B[43m_do_wait_suspend\u001B[49m\u001B[43m(\u001B[49m\u001B[43mthread\u001B[49m\u001B[43m,\u001B[49m\u001B[43m \u001B[49m\u001B[43mframe\u001B[49m\u001B[43m,\u001B[49m\u001B[43m \u001B[49m\u001B[43mevent\u001B[49m\u001B[43m,\u001B[49m\u001B[43m \u001B[49m\u001B[43marg\u001B[49m\u001B[43m,\u001B[49m\u001B[43m \u001B[49m\u001B[43msuspend_type\u001B[49m\u001B[43m,\u001B[49m\u001B[43m \u001B[49m\u001B[43mfrom_this_thread\u001B[49m\u001B[43m)\u001B[49m\n",
      "File \u001B[1;32mC:\\Program Files\\JetBrains\\PyCharm 2023.2\\plugins\\python\\helpers\\pydev\\pydevd.py:1175\u001B[0m, in \u001B[0;36mPyDB._do_wait_suspend\u001B[1;34m(self, thread, frame, event, arg, suspend_type, from_this_thread)\u001B[0m\n\u001B[0;32m   1172\u001B[0m             \u001B[38;5;28mself\u001B[39m\u001B[38;5;241m.\u001B[39m_call_mpl_hook()\n\u001B[0;32m   1174\u001B[0m         \u001B[38;5;28mself\u001B[39m\u001B[38;5;241m.\u001B[39mprocess_internal_commands()\n\u001B[1;32m-> 1175\u001B[0m         \u001B[43mtime\u001B[49m\u001B[38;5;241;43m.\u001B[39;49m\u001B[43msleep\u001B[49m\u001B[43m(\u001B[49m\u001B[38;5;241;43m0.01\u001B[39;49m\u001B[43m)\u001B[49m\n\u001B[0;32m   1177\u001B[0m \u001B[38;5;28mself\u001B[39m\u001B[38;5;241m.\u001B[39mcancel_async_evaluation(get_current_thread_id(thread), \u001B[38;5;28mstr\u001B[39m(\u001B[38;5;28mid\u001B[39m(frame)))\n\u001B[0;32m   1179\u001B[0m \u001B[38;5;66;03m# process any stepping instructions\u001B[39;00m\n",
      "\u001B[1;31mKeyboardInterrupt\u001B[0m: "
     ]
    }
   ],
   "source": [
    "optimized_catalysts = optimize_catalysts(catalyst_data[:1])\n",
    "optimized_catalysts"
   ],
   "metadata": {
    "collapsed": false,
    "ExecuteTime": {
     "end_time": "2023-09-04T23:40:11.849897200Z",
     "start_time": "2023-09-04T23:38:12.106318300Z"
    }
   },
   "id": "e416ae592399db7f"
  }
 ],
 "metadata": {
  "kernelspec": {
   "display_name": "Python 3",
   "language": "python",
   "name": "python3"
  },
  "language_info": {
   "codemirror_mode": {
    "name": "ipython",
    "version": 2
   },
   "file_extension": ".py",
   "mimetype": "text/x-python",
   "name": "python",
   "nbconvert_exporter": "python",
   "pygments_lexer": "ipython2",
   "version": "2.7.6"
  }
 },
 "nbformat": 4,
 "nbformat_minor": 5
}
